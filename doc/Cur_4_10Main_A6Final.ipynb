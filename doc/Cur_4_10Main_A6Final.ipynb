{
  "cells": [
    {
      "cell_type": "markdown",
      "metadata": {
        "id": "UFUug9k05Sxq"
      },
      "source": [
        "Algorithm A4 and A6:"
      ]
    },
    {
      "cell_type": "markdown",
      "metadata": {
        "id": "b-qOMrij5gl3"
      },
      "source": [
        "1.Fairness Beyond Disparate Treatment & Disparate Impact: Learning Classification without Disparate Mistreatment (DM and DM-sen)"
      ]
    },
    {
      "cell_type": "markdown",
      "metadata": {
        "id": "MSRBJUrHJx-J"
      },
      "source": [
        "2.Handling Conditional Discrimination (LM and LPS)"
      ]
    },
    {
      "cell_type": "markdown",
      "metadata": {
        "id": "VSvDf6alzT-V"
      },
      "source": [
        "Reference: https://ieeexplore.ieee.org/document/6137304"
      ]
    },
    {
      "cell_type": "code",
      "source": [
        "import warnings\n",
        "warnings.filterwarnings('ignore')"
      ],
      "metadata": {
        "id": "LQzZpaGUTU1P"
      },
      "execution_count": 34,
      "outputs": []
    },
    {
      "cell_type": "markdown",
      "metadata": {
        "id": "tiGFOdKPxtSG"
      },
      "source": [
        "## Data Processing"
      ]
    },
    {
      "cell_type": "code",
      "execution_count": 35,
      "metadata": {
        "id": "oH4F4ViKvGbP"
      },
      "outputs": [],
      "source": [
        "import pandas as pd\n",
        "import numpy as np\n",
        "import random\n",
        "import matplotlib.pyplot as plt\n",
        "from tqdm import tqdm\n",
        "from sklearn.tree import DecisionTreeClassifier\n",
        "from sklearn.preprocessing import OneHotEncoder\n",
        "from sklearn.model_selection import cross_val_score\n",
        "from sklearn.model_selection import GridSearchCV\n",
        "from sklearn.linear_model import LogisticRegression\n",
        "from sklearn.model_selection import train_test_split\n",
        "from sklearn.metrics import recall_score"
      ]
    },
    {
      "cell_type": "code",
      "execution_count": 36,
      "metadata": {
        "id": "Y5rgRW8FT2pa"
      },
      "outputs": [],
      "source": [
        "from sklearn.model_selection import train_test_split\n",
        "from sklearn.metrics import f1_score, accuracy_score, confusion_matrix\n",
        "from sklearn.ensemble import RandomForestClassifier\n",
        "from sklearn.preprocessing import OneHotEncoder\n",
        "from sklearn.calibration import CalibratedClassifierCV"
      ]
    },
    {
      "cell_type": "code",
      "execution_count": 37,
      "metadata": {
        "colab": {
          "base_uri": "https://localhost:8080/",
          "height": 0
        },
        "id": "njDNgTVwpe73",
        "outputId": "d73a1e6f-e89a-4c4f-f572-55cdf01fb70f"
      },
      "outputs": [
        {
          "output_type": "stream",
          "name": "stdout",
          "text": [
            "Mounted at /content/drive\n"
          ]
        }
      ],
      "source": [
        "from google.colab import drive\n",
        "drive.mount('/content/drive')"
      ]
    },
    {
      "cell_type": "code",
      "execution_count": 38,
      "metadata": {
        "id": "WoCptThyEVfC"
      },
      "outputs": [],
      "source": [
        "import pandas as pd\n",
        "\n",
        "# Load the CSV file into a pandas DataFrame\n",
        "# full_data = pd.read_csv('../data/compas-scores-two-years.csv')\n",
        "full_data = pd.read_csv('/content/drive/MyDrive/ADS-hw4/data/compas-scores-two-years.csv')\n",
        "full_data = pd.DataFrame(full_data)"
      ]
    },
    {
      "cell_type": "markdown",
      "metadata": {
        "id": "1U9hLR8Rx2zI"
      },
      "source": [
        "### Prepare data"
      ]
    },
    {
      "cell_type": "code",
      "execution_count": 39,
      "metadata": {
        "colab": {
          "base_uri": "https://localhost:8080/",
          "height": 0
        },
        "id": "WsrXu04csZG6",
        "outputId": "59c7e152-0cee-40e6-f2ca-409406ca4aab"
      },
      "outputs": [
        {
          "output_type": "execute_result",
          "data": {
            "text/plain": [
              "violent_recid              6150\n",
              "vr_charge_degree           5433\n",
              "vr_case_number             5433\n",
              "vr_offense_date            5433\n",
              "vr_charge_desc             5433\n",
              "c_arrest_date              5165\n",
              "r_jail_out                 4087\n",
              "r_jail_in                  4087\n",
              "r_days_from_arrest         4087\n",
              "r_charge_desc              3141\n",
              "r_offense_date             3089\n",
              "r_case_number              3089\n",
              "r_charge_degree            3089\n",
              "c_offense_date              999\n",
              "c_jail_out                  235\n",
              "days_b_screening_arrest     235\n",
              "c_jail_in                   235\n",
              "out_custody                 180\n",
              "in_custody                  180\n",
              "c_charge_desc                21\n",
              "c_days_from_compas           14\n",
              "c_case_number                14\n",
              "v_type_of_assessment          0\n",
              "type_of_assessment            0\n",
              "decile_score.1                0\n",
              "v_decile_score                0\n",
              "v_score_text                  0\n",
              "v_screening_date              0\n",
              "screening_date                0\n",
              "priors_count.1                0\n",
              "start                         0\n",
              "end                           0\n",
              "event                         0\n",
              "score_text                    0\n",
              "id                            0\n",
              "is_violent_recid              0\n",
              "name                          0\n",
              "first                         0\n",
              "last                          0\n",
              "compas_screening_date         0\n",
              "sex                           0\n",
              "dob                           0\n",
              "age                           0\n",
              "age_cat                       0\n",
              "race                          0\n",
              "juv_fel_count                 0\n",
              "decile_score                  0\n",
              "juv_misd_count                0\n",
              "juv_other_count               0\n",
              "priors_count                  0\n",
              "c_charge_degree               0\n",
              "is_recid                      0\n",
              "two_year_recid                0\n",
              "dtype: int64"
            ]
          },
          "metadata": {},
          "execution_count": 39
        }
      ],
      "source": [
        "data = full_data.copy()\n",
        "# Include only required two races\n",
        "data = data[(data['race']=='African-American')|(data['race']=='Caucasian')]\n",
        "data.isna().sum().sort_values(ascending=False)"
      ]
    },
    {
      "cell_type": "code",
      "execution_count": 40,
      "metadata": {
        "id": "ZMLFshMNUtOX"
      },
      "outputs": [],
      "source": [
        "data.drop(['violent_recid','vr_charge_degree','vr_case_number','vr_offense_date','vr_charge_desc',\n",
        "         'c_arrest_date','r_jail_out','r_jail_in','r_days_from_arrest','r_charge_desc',\n",
        "         'r_offense_date','r_case_number','r_charge_degree'], axis=1,inplace=True)"
      ]
    },
    {
      "cell_type": "code",
      "execution_count": 41,
      "metadata": {
        "colab": {
          "base_uri": "https://localhost:8080/",
          "height": 0
        },
        "id": "4_6zjsS-LzzS",
        "outputId": "d5db7dfb-5460-4ee1-ecde-449639caaca4"
      },
      "outputs": [
        {
          "output_type": "execute_result",
          "data": {
            "text/plain": [
              "array(['African-American', 'Caucasian'], dtype=object)"
            ]
          },
          "metadata": {},
          "execution_count": 41
        }
      ],
      "source": [
        "data.race.unique()"
      ]
    },
    {
      "cell_type": "code",
      "execution_count": 42,
      "metadata": {
        "colab": {
          "base_uri": "https://localhost:8080/",
          "height": 386
        },
        "id": "gSU68sgQLTT1",
        "outputId": "f7c9b5cb-a50b-4987-ac49-9f3535f8c790"
      },
      "outputs": [
        {
          "output_type": "execute_result",
          "data": {
            "text/plain": [
              "   id              name      first    last compas_screening_date     sex  \\\n",
              "1   3       kevon dixon      kevon   dixon            2013-01-27    Male   \n",
              "2   4          ed philo         ed   philo            2013-04-14    Male   \n",
              "3   5       marcu brown      marcu   brown            2013-01-13    Male   \n",
              "6   8     edward riddle     edward  riddle            2014-02-19    Male   \n",
              "8  10  elizabeth thieme  elizabeth  thieme            2014-03-16  Female   \n",
              "\n",
              "          dob  age       age_cat              race  ...  v_decile_score  \\\n",
              "1  1982-01-22   34       25 - 45  African-American  ...               1   \n",
              "2  1991-05-14   24  Less than 25  African-American  ...               3   \n",
              "3  1993-01-21   23  Less than 25  African-American  ...               6   \n",
              "6  1974-07-23   41       25 - 45         Caucasian  ...               2   \n",
              "8  1976-06-03   39       25 - 45         Caucasian  ...               1   \n",
              "\n",
              "   v_score_text  v_screening_date  in_custody  out_custody  priors_count.1  \\\n",
              "1           Low        2013-01-27  2013-01-26   2013-02-05               0   \n",
              "2           Low        2013-04-14  2013-06-16   2013-06-16               4   \n",
              "3        Medium        2013-01-13         NaN          NaN               1   \n",
              "6           Low        2014-02-19  2014-03-31   2014-04-18              14   \n",
              "8           Low        2014-03-16  2014-03-15   2014-03-18               0   \n",
              "\n",
              "  start   end event two_year_recid  \n",
              "1     9   159     1              1  \n",
              "2     0    63     0              1  \n",
              "3     0  1174     0              0  \n",
              "6     5    40     1              1  \n",
              "8     2   747     0              0  \n",
              "\n",
              "[5 rows x 40 columns]"
            ],
            "text/html": [
              "\n",
              "  <div id=\"df-f87deff0-81ae-404b-b237-fa7b3bafb3fd\">\n",
              "    <div class=\"colab-df-container\">\n",
              "      <div>\n",
              "<style scoped>\n",
              "    .dataframe tbody tr th:only-of-type {\n",
              "        vertical-align: middle;\n",
              "    }\n",
              "\n",
              "    .dataframe tbody tr th {\n",
              "        vertical-align: top;\n",
              "    }\n",
              "\n",
              "    .dataframe thead th {\n",
              "        text-align: right;\n",
              "    }\n",
              "</style>\n",
              "<table border=\"1\" class=\"dataframe\">\n",
              "  <thead>\n",
              "    <tr style=\"text-align: right;\">\n",
              "      <th></th>\n",
              "      <th>id</th>\n",
              "      <th>name</th>\n",
              "      <th>first</th>\n",
              "      <th>last</th>\n",
              "      <th>compas_screening_date</th>\n",
              "      <th>sex</th>\n",
              "      <th>dob</th>\n",
              "      <th>age</th>\n",
              "      <th>age_cat</th>\n",
              "      <th>race</th>\n",
              "      <th>...</th>\n",
              "      <th>v_decile_score</th>\n",
              "      <th>v_score_text</th>\n",
              "      <th>v_screening_date</th>\n",
              "      <th>in_custody</th>\n",
              "      <th>out_custody</th>\n",
              "      <th>priors_count.1</th>\n",
              "      <th>start</th>\n",
              "      <th>end</th>\n",
              "      <th>event</th>\n",
              "      <th>two_year_recid</th>\n",
              "    </tr>\n",
              "  </thead>\n",
              "  <tbody>\n",
              "    <tr>\n",
              "      <th>1</th>\n",
              "      <td>3</td>\n",
              "      <td>kevon dixon</td>\n",
              "      <td>kevon</td>\n",
              "      <td>dixon</td>\n",
              "      <td>2013-01-27</td>\n",
              "      <td>Male</td>\n",
              "      <td>1982-01-22</td>\n",
              "      <td>34</td>\n",
              "      <td>25 - 45</td>\n",
              "      <td>African-American</td>\n",
              "      <td>...</td>\n",
              "      <td>1</td>\n",
              "      <td>Low</td>\n",
              "      <td>2013-01-27</td>\n",
              "      <td>2013-01-26</td>\n",
              "      <td>2013-02-05</td>\n",
              "      <td>0</td>\n",
              "      <td>9</td>\n",
              "      <td>159</td>\n",
              "      <td>1</td>\n",
              "      <td>1</td>\n",
              "    </tr>\n",
              "    <tr>\n",
              "      <th>2</th>\n",
              "      <td>4</td>\n",
              "      <td>ed philo</td>\n",
              "      <td>ed</td>\n",
              "      <td>philo</td>\n",
              "      <td>2013-04-14</td>\n",
              "      <td>Male</td>\n",
              "      <td>1991-05-14</td>\n",
              "      <td>24</td>\n",
              "      <td>Less than 25</td>\n",
              "      <td>African-American</td>\n",
              "      <td>...</td>\n",
              "      <td>3</td>\n",
              "      <td>Low</td>\n",
              "      <td>2013-04-14</td>\n",
              "      <td>2013-06-16</td>\n",
              "      <td>2013-06-16</td>\n",
              "      <td>4</td>\n",
              "      <td>0</td>\n",
              "      <td>63</td>\n",
              "      <td>0</td>\n",
              "      <td>1</td>\n",
              "    </tr>\n",
              "    <tr>\n",
              "      <th>3</th>\n",
              "      <td>5</td>\n",
              "      <td>marcu brown</td>\n",
              "      <td>marcu</td>\n",
              "      <td>brown</td>\n",
              "      <td>2013-01-13</td>\n",
              "      <td>Male</td>\n",
              "      <td>1993-01-21</td>\n",
              "      <td>23</td>\n",
              "      <td>Less than 25</td>\n",
              "      <td>African-American</td>\n",
              "      <td>...</td>\n",
              "      <td>6</td>\n",
              "      <td>Medium</td>\n",
              "      <td>2013-01-13</td>\n",
              "      <td>NaN</td>\n",
              "      <td>NaN</td>\n",
              "      <td>1</td>\n",
              "      <td>0</td>\n",
              "      <td>1174</td>\n",
              "      <td>0</td>\n",
              "      <td>0</td>\n",
              "    </tr>\n",
              "    <tr>\n",
              "      <th>6</th>\n",
              "      <td>8</td>\n",
              "      <td>edward riddle</td>\n",
              "      <td>edward</td>\n",
              "      <td>riddle</td>\n",
              "      <td>2014-02-19</td>\n",
              "      <td>Male</td>\n",
              "      <td>1974-07-23</td>\n",
              "      <td>41</td>\n",
              "      <td>25 - 45</td>\n",
              "      <td>Caucasian</td>\n",
              "      <td>...</td>\n",
              "      <td>2</td>\n",
              "      <td>Low</td>\n",
              "      <td>2014-02-19</td>\n",
              "      <td>2014-03-31</td>\n",
              "      <td>2014-04-18</td>\n",
              "      <td>14</td>\n",
              "      <td>5</td>\n",
              "      <td>40</td>\n",
              "      <td>1</td>\n",
              "      <td>1</td>\n",
              "    </tr>\n",
              "    <tr>\n",
              "      <th>8</th>\n",
              "      <td>10</td>\n",
              "      <td>elizabeth thieme</td>\n",
              "      <td>elizabeth</td>\n",
              "      <td>thieme</td>\n",
              "      <td>2014-03-16</td>\n",
              "      <td>Female</td>\n",
              "      <td>1976-06-03</td>\n",
              "      <td>39</td>\n",
              "      <td>25 - 45</td>\n",
              "      <td>Caucasian</td>\n",
              "      <td>...</td>\n",
              "      <td>1</td>\n",
              "      <td>Low</td>\n",
              "      <td>2014-03-16</td>\n",
              "      <td>2014-03-15</td>\n",
              "      <td>2014-03-18</td>\n",
              "      <td>0</td>\n",
              "      <td>2</td>\n",
              "      <td>747</td>\n",
              "      <td>0</td>\n",
              "      <td>0</td>\n",
              "    </tr>\n",
              "  </tbody>\n",
              "</table>\n",
              "<p>5 rows × 40 columns</p>\n",
              "</div>\n",
              "      <button class=\"colab-df-convert\" onclick=\"convertToInteractive('df-f87deff0-81ae-404b-b237-fa7b3bafb3fd')\"\n",
              "              title=\"Convert this dataframe to an interactive table.\"\n",
              "              style=\"display:none;\">\n",
              "        \n",
              "  <svg xmlns=\"http://www.w3.org/2000/svg\" height=\"24px\"viewBox=\"0 0 24 24\"\n",
              "       width=\"24px\">\n",
              "    <path d=\"M0 0h24v24H0V0z\" fill=\"none\"/>\n",
              "    <path d=\"M18.56 5.44l.94 2.06.94-2.06 2.06-.94-2.06-.94-.94-2.06-.94 2.06-2.06.94zm-11 1L8.5 8.5l.94-2.06 2.06-.94-2.06-.94L8.5 2.5l-.94 2.06-2.06.94zm10 10l.94 2.06.94-2.06 2.06-.94-2.06-.94-.94-2.06-.94 2.06-2.06.94z\"/><path d=\"M17.41 7.96l-1.37-1.37c-.4-.4-.92-.59-1.43-.59-.52 0-1.04.2-1.43.59L10.3 9.45l-7.72 7.72c-.78.78-.78 2.05 0 2.83L4 21.41c.39.39.9.59 1.41.59.51 0 1.02-.2 1.41-.59l7.78-7.78 2.81-2.81c.8-.78.8-2.07 0-2.86zM5.41 20L4 18.59l7.72-7.72 1.47 1.35L5.41 20z\"/>\n",
              "  </svg>\n",
              "      </button>\n",
              "      \n",
              "  <style>\n",
              "    .colab-df-container {\n",
              "      display:flex;\n",
              "      flex-wrap:wrap;\n",
              "      gap: 12px;\n",
              "    }\n",
              "\n",
              "    .colab-df-convert {\n",
              "      background-color: #E8F0FE;\n",
              "      border: none;\n",
              "      border-radius: 50%;\n",
              "      cursor: pointer;\n",
              "      display: none;\n",
              "      fill: #1967D2;\n",
              "      height: 32px;\n",
              "      padding: 0 0 0 0;\n",
              "      width: 32px;\n",
              "    }\n",
              "\n",
              "    .colab-df-convert:hover {\n",
              "      background-color: #E2EBFA;\n",
              "      box-shadow: 0px 1px 2px rgba(60, 64, 67, 0.3), 0px 1px 3px 1px rgba(60, 64, 67, 0.15);\n",
              "      fill: #174EA6;\n",
              "    }\n",
              "\n",
              "    [theme=dark] .colab-df-convert {\n",
              "      background-color: #3B4455;\n",
              "      fill: #D2E3FC;\n",
              "    }\n",
              "\n",
              "    [theme=dark] .colab-df-convert:hover {\n",
              "      background-color: #434B5C;\n",
              "      box-shadow: 0px 1px 3px 1px rgba(0, 0, 0, 0.15);\n",
              "      filter: drop-shadow(0px 1px 2px rgba(0, 0, 0, 0.3));\n",
              "      fill: #FFFFFF;\n",
              "    }\n",
              "  </style>\n",
              "\n",
              "      <script>\n",
              "        const buttonEl =\n",
              "          document.querySelector('#df-f87deff0-81ae-404b-b237-fa7b3bafb3fd button.colab-df-convert');\n",
              "        buttonEl.style.display =\n",
              "          google.colab.kernel.accessAllowed ? 'block' : 'none';\n",
              "\n",
              "        async function convertToInteractive(key) {\n",
              "          const element = document.querySelector('#df-f87deff0-81ae-404b-b237-fa7b3bafb3fd');\n",
              "          const dataTable =\n",
              "            await google.colab.kernel.invokeFunction('convertToInteractive',\n",
              "                                                     [key], {});\n",
              "          if (!dataTable) return;\n",
              "\n",
              "          const docLinkHtml = 'Like what you see? Visit the ' +\n",
              "            '<a target=\"_blank\" href=https://colab.research.google.com/notebooks/data_table.ipynb>data table notebook</a>'\n",
              "            + ' to learn more about interactive tables.';\n",
              "          element.innerHTML = '';\n",
              "          dataTable['output_type'] = 'display_data';\n",
              "          await google.colab.output.renderOutput(dataTable, element);\n",
              "          const docLink = document.createElement('div');\n",
              "          docLink.innerHTML = docLinkHtml;\n",
              "          element.appendChild(docLink);\n",
              "        }\n",
              "      </script>\n",
              "    </div>\n",
              "  </div>\n",
              "  "
            ]
          },
          "metadata": {},
          "execution_count": 42
        }
      ],
      "source": [
        "data.head()"
      ]
    },
    {
      "cell_type": "code",
      "execution_count": 43,
      "metadata": {
        "colab": {
          "base_uri": "https://localhost:8080/",
          "height": 0
        },
        "id": "l77hcdRxXwQ6",
        "outputId": "1c17d690-cc5f-46f6-df03-96591f4530fa"
      },
      "outputs": [
        {
          "output_type": "stream",
          "name": "stdout",
          "text": [
            "<class 'pandas.core.frame.DataFrame'>\n",
            "Int64Index: 6150 entries, 1 to 7212\n",
            "Data columns (total 40 columns):\n",
            " #   Column                   Non-Null Count  Dtype  \n",
            "---  ------                   --------------  -----  \n",
            " 0   id                       6150 non-null   int64  \n",
            " 1   name                     6150 non-null   object \n",
            " 2   first                    6150 non-null   object \n",
            " 3   last                     6150 non-null   object \n",
            " 4   compas_screening_date    6150 non-null   object \n",
            " 5   sex                      6150 non-null   object \n",
            " 6   dob                      6150 non-null   object \n",
            " 7   age                      6150 non-null   int64  \n",
            " 8   age_cat                  6150 non-null   object \n",
            " 9   race                     6150 non-null   object \n",
            " 10  juv_fel_count            6150 non-null   int64  \n",
            " 11  decile_score             6150 non-null   int64  \n",
            " 12  juv_misd_count           6150 non-null   int64  \n",
            " 13  juv_other_count          6150 non-null   int64  \n",
            " 14  priors_count             6150 non-null   int64  \n",
            " 15  days_b_screening_arrest  5915 non-null   float64\n",
            " 16  c_jail_in                5915 non-null   object \n",
            " 17  c_jail_out               5915 non-null   object \n",
            " 18  c_case_number            6136 non-null   object \n",
            " 19  c_offense_date           5151 non-null   object \n",
            " 20  c_days_from_compas       6136 non-null   float64\n",
            " 21  c_charge_degree          6150 non-null   object \n",
            " 22  c_charge_desc            6129 non-null   object \n",
            " 23  is_recid                 6150 non-null   int64  \n",
            " 24  is_violent_recid         6150 non-null   int64  \n",
            " 25  type_of_assessment       6150 non-null   object \n",
            " 26  decile_score.1           6150 non-null   int64  \n",
            " 27  score_text               6150 non-null   object \n",
            " 28  screening_date           6150 non-null   object \n",
            " 29  v_type_of_assessment     6150 non-null   object \n",
            " 30  v_decile_score           6150 non-null   int64  \n",
            " 31  v_score_text             6150 non-null   object \n",
            " 32  v_screening_date         6150 non-null   object \n",
            " 33  in_custody               5970 non-null   object \n",
            " 34  out_custody              5970 non-null   object \n",
            " 35  priors_count.1           6150 non-null   int64  \n",
            " 36  start                    6150 non-null   int64  \n",
            " 37  end                      6150 non-null   int64  \n",
            " 38  event                    6150 non-null   int64  \n",
            " 39  two_year_recid           6150 non-null   int64  \n",
            "dtypes: float64(2), int64(16), object(22)\n",
            "memory usage: 1.9+ MB\n"
          ]
        }
      ],
      "source": [
        "data.info()"
      ]
    },
    {
      "cell_type": "markdown",
      "metadata": {
        "id": "eCTFj0zPx84v"
      },
      "source": [
        "### Construct each variable"
      ]
    },
    {
      "cell_type": "code",
      "execution_count": 44,
      "metadata": {
        "id": "S0wUoFNfbVCz"
      },
      "outputs": [],
      "source": [
        "categorical_features = ['id','first','last','age_cat','race','c_charge_degree','c_charge_desc','type_of_assessment',\n",
        "                        'score_text','v_type_of_assessment','v_score_text']"
      ]
    },
    {
      "cell_type": "code",
      "execution_count": 45,
      "metadata": {
        "id": "33NkkHrvbXsB"
      },
      "outputs": [],
      "source": [
        "X = data.copy() # an instance in p dimensional space\n",
        "selected_column= X[categorical_features]\n",
        "categorical_df = selected_column.copy()"
      ]
    },
    {
      "cell_type": "code",
      "execution_count": 46,
      "metadata": {
        "colab": {
          "base_uri": "https://localhost:8080/",
          "height": 424
        },
        "id": "qrkfYNOWdMZL",
        "outputId": "d3df469f-6b43-4f15-abb7-8b489eb11a2e"
      },
      "outputs": [
        {
          "output_type": "execute_result",
          "data": {
            "text/plain": [
              "         id      first     last       age_cat              race  \\\n",
              "1         3      kevon    dixon       25 - 45  African-American   \n",
              "2         4         ed    philo  Less than 25  African-American   \n",
              "3         5      marcu    brown  Less than 25  African-American   \n",
              "6         8     edward   riddle       25 - 45         Caucasian   \n",
              "8        10  elizabeth   thieme       25 - 45         Caucasian   \n",
              "...     ...        ...      ...           ...               ...   \n",
              "7207  10994     jarred    payne       25 - 45  African-American   \n",
              "7208  10995     raheem    smith  Less than 25  African-American   \n",
              "7209  10996     steven   butler  Less than 25  African-American   \n",
              "7210  10997    malcolm  simmons  Less than 25  African-American   \n",
              "7212  11000     farrah     jean       25 - 45  African-American   \n",
              "\n",
              "     c_charge_degree                      c_charge_desc  type_of_assessment  \\\n",
              "1                  F     Felony Battery w/Prior Convict  Risk of Recidivism   \n",
              "2                  F              Possession of Cocaine  Risk of Recidivism   \n",
              "3                  F             Possession of Cannabis  Risk of Recidivism   \n",
              "6                  F          Possession Burglary Tools  Risk of Recidivism   \n",
              "8                  M                            Battery  Risk of Recidivism   \n",
              "...              ...                                ...                 ...   \n",
              "7207               M  Possess Cannabis/20 Grams Or Less  Risk of Recidivism   \n",
              "7208               F              Possession of Cocaine  Risk of Recidivism   \n",
              "7209               F                   Deliver Cannabis  Risk of Recidivism   \n",
              "7210               F      Leaving the Scene of Accident  Risk of Recidivism   \n",
              "7212               M      Battery on Law Enforc Officer  Risk of Recidivism   \n",
              "\n",
              "     score_text v_type_of_assessment v_score_text  \n",
              "1           Low     Risk of Violence          Low  \n",
              "2           Low     Risk of Violence          Low  \n",
              "3          High     Risk of Violence       Medium  \n",
              "6        Medium     Risk of Violence          Low  \n",
              "8           Low     Risk of Violence          Low  \n",
              "...         ...                  ...          ...  \n",
              "7207        Low     Risk of Violence          Low  \n",
              "7208       High     Risk of Violence         High  \n",
              "7209     Medium     Risk of Violence       Medium  \n",
              "7210        Low     Risk of Violence       Medium  \n",
              "7212        Low     Risk of Violence          Low  \n",
              "\n",
              "[6150 rows x 11 columns]"
            ],
            "text/html": [
              "\n",
              "  <div id=\"df-d2280fde-94ba-4b22-81cb-a46e5886f80e\">\n",
              "    <div class=\"colab-df-container\">\n",
              "      <div>\n",
              "<style scoped>\n",
              "    .dataframe tbody tr th:only-of-type {\n",
              "        vertical-align: middle;\n",
              "    }\n",
              "\n",
              "    .dataframe tbody tr th {\n",
              "        vertical-align: top;\n",
              "    }\n",
              "\n",
              "    .dataframe thead th {\n",
              "        text-align: right;\n",
              "    }\n",
              "</style>\n",
              "<table border=\"1\" class=\"dataframe\">\n",
              "  <thead>\n",
              "    <tr style=\"text-align: right;\">\n",
              "      <th></th>\n",
              "      <th>id</th>\n",
              "      <th>first</th>\n",
              "      <th>last</th>\n",
              "      <th>age_cat</th>\n",
              "      <th>race</th>\n",
              "      <th>c_charge_degree</th>\n",
              "      <th>c_charge_desc</th>\n",
              "      <th>type_of_assessment</th>\n",
              "      <th>score_text</th>\n",
              "      <th>v_type_of_assessment</th>\n",
              "      <th>v_score_text</th>\n",
              "    </tr>\n",
              "  </thead>\n",
              "  <tbody>\n",
              "    <tr>\n",
              "      <th>1</th>\n",
              "      <td>3</td>\n",
              "      <td>kevon</td>\n",
              "      <td>dixon</td>\n",
              "      <td>25 - 45</td>\n",
              "      <td>African-American</td>\n",
              "      <td>F</td>\n",
              "      <td>Felony Battery w/Prior Convict</td>\n",
              "      <td>Risk of Recidivism</td>\n",
              "      <td>Low</td>\n",
              "      <td>Risk of Violence</td>\n",
              "      <td>Low</td>\n",
              "    </tr>\n",
              "    <tr>\n",
              "      <th>2</th>\n",
              "      <td>4</td>\n",
              "      <td>ed</td>\n",
              "      <td>philo</td>\n",
              "      <td>Less than 25</td>\n",
              "      <td>African-American</td>\n",
              "      <td>F</td>\n",
              "      <td>Possession of Cocaine</td>\n",
              "      <td>Risk of Recidivism</td>\n",
              "      <td>Low</td>\n",
              "      <td>Risk of Violence</td>\n",
              "      <td>Low</td>\n",
              "    </tr>\n",
              "    <tr>\n",
              "      <th>3</th>\n",
              "      <td>5</td>\n",
              "      <td>marcu</td>\n",
              "      <td>brown</td>\n",
              "      <td>Less than 25</td>\n",
              "      <td>African-American</td>\n",
              "      <td>F</td>\n",
              "      <td>Possession of Cannabis</td>\n",
              "      <td>Risk of Recidivism</td>\n",
              "      <td>High</td>\n",
              "      <td>Risk of Violence</td>\n",
              "      <td>Medium</td>\n",
              "    </tr>\n",
              "    <tr>\n",
              "      <th>6</th>\n",
              "      <td>8</td>\n",
              "      <td>edward</td>\n",
              "      <td>riddle</td>\n",
              "      <td>25 - 45</td>\n",
              "      <td>Caucasian</td>\n",
              "      <td>F</td>\n",
              "      <td>Possession Burglary Tools</td>\n",
              "      <td>Risk of Recidivism</td>\n",
              "      <td>Medium</td>\n",
              "      <td>Risk of Violence</td>\n",
              "      <td>Low</td>\n",
              "    </tr>\n",
              "    <tr>\n",
              "      <th>8</th>\n",
              "      <td>10</td>\n",
              "      <td>elizabeth</td>\n",
              "      <td>thieme</td>\n",
              "      <td>25 - 45</td>\n",
              "      <td>Caucasian</td>\n",
              "      <td>M</td>\n",
              "      <td>Battery</td>\n",
              "      <td>Risk of Recidivism</td>\n",
              "      <td>Low</td>\n",
              "      <td>Risk of Violence</td>\n",
              "      <td>Low</td>\n",
              "    </tr>\n",
              "    <tr>\n",
              "      <th>...</th>\n",
              "      <td>...</td>\n",
              "      <td>...</td>\n",
              "      <td>...</td>\n",
              "      <td>...</td>\n",
              "      <td>...</td>\n",
              "      <td>...</td>\n",
              "      <td>...</td>\n",
              "      <td>...</td>\n",
              "      <td>...</td>\n",
              "      <td>...</td>\n",
              "      <td>...</td>\n",
              "    </tr>\n",
              "    <tr>\n",
              "      <th>7207</th>\n",
              "      <td>10994</td>\n",
              "      <td>jarred</td>\n",
              "      <td>payne</td>\n",
              "      <td>25 - 45</td>\n",
              "      <td>African-American</td>\n",
              "      <td>M</td>\n",
              "      <td>Possess Cannabis/20 Grams Or Less</td>\n",
              "      <td>Risk of Recidivism</td>\n",
              "      <td>Low</td>\n",
              "      <td>Risk of Violence</td>\n",
              "      <td>Low</td>\n",
              "    </tr>\n",
              "    <tr>\n",
              "      <th>7208</th>\n",
              "      <td>10995</td>\n",
              "      <td>raheem</td>\n",
              "      <td>smith</td>\n",
              "      <td>Less than 25</td>\n",
              "      <td>African-American</td>\n",
              "      <td>F</td>\n",
              "      <td>Possession of Cocaine</td>\n",
              "      <td>Risk of Recidivism</td>\n",
              "      <td>High</td>\n",
              "      <td>Risk of Violence</td>\n",
              "      <td>High</td>\n",
              "    </tr>\n",
              "    <tr>\n",
              "      <th>7209</th>\n",
              "      <td>10996</td>\n",
              "      <td>steven</td>\n",
              "      <td>butler</td>\n",
              "      <td>Less than 25</td>\n",
              "      <td>African-American</td>\n",
              "      <td>F</td>\n",
              "      <td>Deliver Cannabis</td>\n",
              "      <td>Risk of Recidivism</td>\n",
              "      <td>Medium</td>\n",
              "      <td>Risk of Violence</td>\n",
              "      <td>Medium</td>\n",
              "    </tr>\n",
              "    <tr>\n",
              "      <th>7210</th>\n",
              "      <td>10997</td>\n",
              "      <td>malcolm</td>\n",
              "      <td>simmons</td>\n",
              "      <td>Less than 25</td>\n",
              "      <td>African-American</td>\n",
              "      <td>F</td>\n",
              "      <td>Leaving the Scene of Accident</td>\n",
              "      <td>Risk of Recidivism</td>\n",
              "      <td>Low</td>\n",
              "      <td>Risk of Violence</td>\n",
              "      <td>Medium</td>\n",
              "    </tr>\n",
              "    <tr>\n",
              "      <th>7212</th>\n",
              "      <td>11000</td>\n",
              "      <td>farrah</td>\n",
              "      <td>jean</td>\n",
              "      <td>25 - 45</td>\n",
              "      <td>African-American</td>\n",
              "      <td>M</td>\n",
              "      <td>Battery on Law Enforc Officer</td>\n",
              "      <td>Risk of Recidivism</td>\n",
              "      <td>Low</td>\n",
              "      <td>Risk of Violence</td>\n",
              "      <td>Low</td>\n",
              "    </tr>\n",
              "  </tbody>\n",
              "</table>\n",
              "<p>6150 rows × 11 columns</p>\n",
              "</div>\n",
              "      <button class=\"colab-df-convert\" onclick=\"convertToInteractive('df-d2280fde-94ba-4b22-81cb-a46e5886f80e')\"\n",
              "              title=\"Convert this dataframe to an interactive table.\"\n",
              "              style=\"display:none;\">\n",
              "        \n",
              "  <svg xmlns=\"http://www.w3.org/2000/svg\" height=\"24px\"viewBox=\"0 0 24 24\"\n",
              "       width=\"24px\">\n",
              "    <path d=\"M0 0h24v24H0V0z\" fill=\"none\"/>\n",
              "    <path d=\"M18.56 5.44l.94 2.06.94-2.06 2.06-.94-2.06-.94-.94-2.06-.94 2.06-2.06.94zm-11 1L8.5 8.5l.94-2.06 2.06-.94-2.06-.94L8.5 2.5l-.94 2.06-2.06.94zm10 10l.94 2.06.94-2.06 2.06-.94-2.06-.94-.94-2.06-.94 2.06-2.06.94z\"/><path d=\"M17.41 7.96l-1.37-1.37c-.4-.4-.92-.59-1.43-.59-.52 0-1.04.2-1.43.59L10.3 9.45l-7.72 7.72c-.78.78-.78 2.05 0 2.83L4 21.41c.39.39.9.59 1.41.59.51 0 1.02-.2 1.41-.59l7.78-7.78 2.81-2.81c.8-.78.8-2.07 0-2.86zM5.41 20L4 18.59l7.72-7.72 1.47 1.35L5.41 20z\"/>\n",
              "  </svg>\n",
              "      </button>\n",
              "      \n",
              "  <style>\n",
              "    .colab-df-container {\n",
              "      display:flex;\n",
              "      flex-wrap:wrap;\n",
              "      gap: 12px;\n",
              "    }\n",
              "\n",
              "    .colab-df-convert {\n",
              "      background-color: #E8F0FE;\n",
              "      border: none;\n",
              "      border-radius: 50%;\n",
              "      cursor: pointer;\n",
              "      display: none;\n",
              "      fill: #1967D2;\n",
              "      height: 32px;\n",
              "      padding: 0 0 0 0;\n",
              "      width: 32px;\n",
              "    }\n",
              "\n",
              "    .colab-df-convert:hover {\n",
              "      background-color: #E2EBFA;\n",
              "      box-shadow: 0px 1px 2px rgba(60, 64, 67, 0.3), 0px 1px 3px 1px rgba(60, 64, 67, 0.15);\n",
              "      fill: #174EA6;\n",
              "    }\n",
              "\n",
              "    [theme=dark] .colab-df-convert {\n",
              "      background-color: #3B4455;\n",
              "      fill: #D2E3FC;\n",
              "    }\n",
              "\n",
              "    [theme=dark] .colab-df-convert:hover {\n",
              "      background-color: #434B5C;\n",
              "      box-shadow: 0px 1px 3px 1px rgba(0, 0, 0, 0.15);\n",
              "      filter: drop-shadow(0px 1px 2px rgba(0, 0, 0, 0.3));\n",
              "      fill: #FFFFFF;\n",
              "    }\n",
              "  </style>\n",
              "\n",
              "      <script>\n",
              "        const buttonEl =\n",
              "          document.querySelector('#df-d2280fde-94ba-4b22-81cb-a46e5886f80e button.colab-df-convert');\n",
              "        buttonEl.style.display =\n",
              "          google.colab.kernel.accessAllowed ? 'block' : 'none';\n",
              "\n",
              "        async function convertToInteractive(key) {\n",
              "          const element = document.querySelector('#df-d2280fde-94ba-4b22-81cb-a46e5886f80e');\n",
              "          const dataTable =\n",
              "            await google.colab.kernel.invokeFunction('convertToInteractive',\n",
              "                                                     [key], {});\n",
              "          if (!dataTable) return;\n",
              "\n",
              "          const docLinkHtml = 'Like what you see? Visit the ' +\n",
              "            '<a target=\"_blank\" href=https://colab.research.google.com/notebooks/data_table.ipynb>data table notebook</a>'\n",
              "            + ' to learn more about interactive tables.';\n",
              "          element.innerHTML = '';\n",
              "          dataTable['output_type'] = 'display_data';\n",
              "          await google.colab.output.renderOutput(dataTable, element);\n",
              "          const docLink = document.createElement('div');\n",
              "          docLink.innerHTML = docLinkHtml;\n",
              "          element.appendChild(docLink);\n",
              "        }\n",
              "      </script>\n",
              "    </div>\n",
              "  </div>\n",
              "  "
            ]
          },
          "metadata": {},
          "execution_count": 46
        }
      ],
      "source": [
        "categorical_df"
      ]
    },
    {
      "cell_type": "code",
      "execution_count": 47,
      "metadata": {
        "id": "Yy7Cb200d5hr"
      },
      "outputs": [],
      "source": [
        "corr = categorical_df.corr()"
      ]
    },
    {
      "cell_type": "code",
      "execution_count": 48,
      "metadata": {
        "id": "bB8weDaDfol8"
      },
      "outputs": [],
      "source": [
        "X = data.copy() # an instance in p dimensional space\n",
        "selected_column= X[categorical_features]"
      ]
    },
    {
      "cell_type": "code",
      "execution_count": 49,
      "metadata": {
        "colab": {
          "base_uri": "https://localhost:8080/",
          "height": 1000
        },
        "id": "Xtaknbc4bZoC",
        "outputId": "3c77ed39-64e3-404b-b94c-4a4b1011b03d"
      },
      "outputs": [
        {
          "output_type": "display_data",
          "data": {
            "text/plain": [
              "<Figure size 1500x1200 with 2 Axes>"
            ],
            "image/png": "[encoded data removed]"
          },
          "metadata": {}
        }
      ],
      "source": [
        "# categorical_correlation= associations(categorical_df, filename= 'categorical_correlation.png', figsize=(10,10))\n",
        "\n",
        "import seaborn as sns\n",
        "corr = X.corr()\n",
        "fig,ax = plt.subplots(figsize=(15,12))\n",
        "sns.heatmap(corr, annot=True)\n",
        "plt.show()"
      ]
    },
    {
      "cell_type": "code",
      "execution_count": 50,
      "metadata": {
        "id": "Vf5xEDW4uecn"
      },
      "outputs": [],
      "source": [
        "e_list = ['first', 'last', 'sex','age','race','priors_count','juv_fel_count','decile_score']\n",
        "exclude_e_s = ['compas_screening_date',\n",
        "               'age',\n",
        "               'age_cat',\n",
        "               'juv_misd_count',\n",
        "               'juv_other_count',\n",
        "               'priors_count',\n",
        "               'days_b_screening_arrest',\n",
        "               'c_jail_in',\n",
        "               'c_jail_out',\n",
        "               'c_offense_date',\n",
        "               'c_days_from_compas',\n",
        "               'is_recid',\n",
        "               'is_violent_recid',\n",
        "               'type_of_assessment',\n",
        "               'decile_score.1',\n",
        "               'screening_date',\n",
        "               'v_type_of_assessment',\n",
        "               'v_decile_score',\n",
        "               'v_screening_date',\n",
        "               'in_custody',\n",
        "               'out_custody',\n",
        "               'priors_count.1',\n",
        "               'start',\n",
        "               'end',\n",
        "               'event']"
      ]
    },
    {
      "cell_type": "code",
      "execution_count": 51,
      "metadata": {
        "id": "pMKXD3lbYL6N"
      },
      "outputs": [],
      "source": [
        "X = data # an instance in p dimensional space\n",
        "new_X = data[exclude_e_s]\n",
        "\n",
        "s = data[['race']] # sensitive attribute\n",
        "\n",
        "e = data[e_list] # explanatory attribute \n",
        "\n",
        "y = data[['two_year_recid']] # label: if a particular person will re-offend in the next two years"
      ]
    },
    {
      "cell_type": "code",
      "execution_count": 52,
      "metadata": {
        "colab": {
          "base_uri": "https://localhost:8080/",
          "height": 0
        },
        "id": "Eycc51RXYk6X",
        "outputId": "b2510103-39e5-41f8-9390-13542d637262"
      },
      "outputs": [
        {
          "output_type": "stream",
          "name": "stdout",
          "text": [
            "(6150, 40)\n"
          ]
        }
      ],
      "source": [
        "print(X.shape)"
      ]
    },
    {
      "cell_type": "markdown",
      "metadata": {
        "id": "GvZuuO7AEWBY"
      },
      "source": [
        "### Prep - subroutine PARTITION (Algorithm 3)"
      ]
    },
    {
      "cell_type": "code",
      "execution_count": 53,
      "metadata": {
        "id": "aDZhqIrcEesU"
      },
      "outputs": [],
      "source": [
        "def partition(X,e):\n",
        "    e_list = list(e.keys())\n",
        "    X_i = []\n",
        "    for i in range(len(e_list)):\n",
        "        X[e_list[i]] = e[e_list[i]]\n",
        "        X_i.append(X)\n",
        "    return X_i"
      ]
    },
    {
      "cell_type": "code",
      "execution_count": 54,
      "metadata": {
        "id": "dupaTCkRGFbU"
      },
      "outputs": [],
      "source": [
        "temp = partition(new_X,e)"
      ]
    },
    {
      "cell_type": "code",
      "execution_count": 55,
      "metadata": {
        "colab": {
          "base_uri": "https://localhost:8080/",
          "height": 0
        },
        "id": "S-O2bgFgGHaI",
        "outputId": "973ea786-6355-4c42-d920-329d2eed2fc8"
      },
      "outputs": [
        {
          "output_type": "execute_result",
          "data": {
            "text/plain": [
              "(6150, 31)"
            ]
          },
          "metadata": {},
          "execution_count": 55
        }
      ],
      "source": [
        "temp[0].shape"
      ]
    },
    {
      "cell_type": "markdown",
      "metadata": {
        "id": "7TozMj-EQl5X"
      },
      "source": [
        "Local Massaging (LM) algorithm and Local Preferential Sampling (LPS) algorithm have different approaches for handling the sensitive attribute.\n",
        "\n",
        "LM considers the sensitive attribute as a binary classification problem; LPS divides the sensitive attribute into two groups."
      ]
    },
    {
      "cell_type": "code",
      "execution_count": 56,
      "metadata": {
        "id": "rH2LMQQZDl2K"
      },
      "outputs": [],
      "source": [
        "from sklearn.model_selection import train_test_split\n",
        "from sklearn.metrics import f1_score, accuracy_score, confusion_matrix\n",
        "from sklearn.ensemble import RandomForestClassifier\n",
        "from sklearn.preprocessing import OneHotEncoder\n",
        "from sklearn.calibration import CalibratedClassifierCV"
      ]
    },
    {
      "cell_type": "markdown",
      "metadata": {
        "id": "X7V9iS_BeyQZ"
      },
      "source": [
        "### Baseline Model"
      ]
    },
    {
      "cell_type": "code",
      "execution_count": 58,
      "metadata": {
        "colab": {
          "base_uri": "https://localhost:8080/",
          "height": 0
        },
        "id": "TyxKhrOe3guQ",
        "outputId": "7c99230a-62c0-4e72-d169-e2a4a208be62"
      },
      "outputs": [
        {
          "output_type": "execute_result",
          "data": {
            "text/plain": [
              "Index(['id', 'name', 'first', 'last', 'compas_screening_date', 'sex', 'dob',\n",
              "       'age', 'age_cat', 'race', 'juv_fel_count', 'decile_score',\n",
              "       'juv_misd_count', 'juv_other_count', 'priors_count', 'c_charge_degree',\n",
              "       'is_recid', 'is_violent_recid', 'type_of_assessment', 'decile_score.1',\n",
              "       'score_text', 'screening_date', 'v_type_of_assessment',\n",
              "       'v_decile_score', 'v_score_text', 'v_screening_date', 'priors_count.1',\n",
              "       'start', 'end', 'event', 'two_year_recid'],\n",
              "      dtype='object')"
            ]
          },
          "metadata": {},
          "execution_count": 58
        }
      ],
      "source": [
        "# df = pd.read_csv('../data/compas-scores-two-years.csv')\n",
        "df = pd.read_csv('/content/drive/MyDrive/ADS-hw4/data/compas-scores-two-years.csv')\n",
        "df.columns[df.isna().any()==False]"
      ]
    },
    {
      "cell_type": "code",
      "execution_count": 59,
      "metadata": {
        "id": "-rwddAlC3jsv"
      },
      "outputs": [],
      "source": [
        "selected_features = ['first', 'last', 'sex','age','race','priors_count','juv_fel_count','decile_score','two_year_recid']"
      ]
    },
    {
      "cell_type": "code",
      "execution_count": 60,
      "metadata": {
        "colab": {
          "base_uri": "https://localhost:8080/",
          "height": 424
        },
        "id": "jHLTF_1s3aM6",
        "outputId": "4d280611-6eed-4d43-ac45-ba39c5c619c4"
      },
      "outputs": [
        {
          "output_type": "execute_result",
          "data": {
            "text/plain": [
              "          first     last     sex  age              race  priors_count  \\\n",
              "0         kevon    dixon    Male   34  African-American             0   \n",
              "1            ed    philo    Male   24  African-American             4   \n",
              "2         marcu    brown    Male   23  African-American             1   \n",
              "3        edward   riddle    Male   41         Caucasian            14   \n",
              "4     elizabeth   thieme  Female   39         Caucasian             0   \n",
              "...         ...      ...     ...  ...               ...           ...   \n",
              "6145     jarred    payne    Male   30  African-American             0   \n",
              "6146     raheem    smith    Male   20  African-American             0   \n",
              "6147     steven   butler    Male   23  African-American             0   \n",
              "6148    malcolm  simmons    Male   23  African-American             0   \n",
              "6149     farrah     jean  Female   33  African-American             3   \n",
              "\n",
              "      juv_fel_count  decile_score  two_year_recid  \n",
              "0                 0             3               1  \n",
              "1                 0             4               1  \n",
              "2                 0             8               0  \n",
              "3                 0             6               1  \n",
              "4                 0             1               0  \n",
              "...             ...           ...             ...  \n",
              "6145              0             2               1  \n",
              "6146              0             9               0  \n",
              "6147              0             7               0  \n",
              "6148              0             3               0  \n",
              "6149              0             2               0  \n",
              "\n",
              "[6150 rows x 9 columns]"
            ],
            "text/html": [
              "\n",
              "  <div id=\"df-8cb7c362-0914-494b-862e-1ac99640e174\">\n",
              "    <div class=\"colab-df-container\">\n",
              "      <div>\n",
              "<style scoped>\n",
              "    .dataframe tbody tr th:only-of-type {\n",
              "        vertical-align: middle;\n",
              "    }\n",
              "\n",
              "    .dataframe tbody tr th {\n",
              "        vertical-align: top;\n",
              "    }\n",
              "\n",
              "    .dataframe thead th {\n",
              "        text-align: right;\n",
              "    }\n",
              "</style>\n",
              "<table border=\"1\" class=\"dataframe\">\n",
              "  <thead>\n",
              "    <tr style=\"text-align: right;\">\n",
              "      <th></th>\n",
              "      <th>first</th>\n",
              "      <th>last</th>\n",
              "      <th>sex</th>\n",
              "      <th>age</th>\n",
              "      <th>race</th>\n",
              "      <th>priors_count</th>\n",
              "      <th>juv_fel_count</th>\n",
              "      <th>decile_score</th>\n",
              "      <th>two_year_recid</th>\n",
              "    </tr>\n",
              "  </thead>\n",
              "  <tbody>\n",
              "    <tr>\n",
              "      <th>0</th>\n",
              "      <td>kevon</td>\n",
              "      <td>dixon</td>\n",
              "      <td>Male</td>\n",
              "      <td>34</td>\n",
              "      <td>African-American</td>\n",
              "      <td>0</td>\n",
              "      <td>0</td>\n",
              "      <td>3</td>\n",
              "      <td>1</td>\n",
              "    </tr>\n",
              "    <tr>\n",
              "      <th>1</th>\n",
              "      <td>ed</td>\n",
              "      <td>philo</td>\n",
              "      <td>Male</td>\n",
              "      <td>24</td>\n",
              "      <td>African-American</td>\n",
              "      <td>4</td>\n",
              "      <td>0</td>\n",
              "      <td>4</td>\n",
              "      <td>1</td>\n",
              "    </tr>\n",
              "    <tr>\n",
              "      <th>2</th>\n",
              "      <td>marcu</td>\n",
              "      <td>brown</td>\n",
              "      <td>Male</td>\n",
              "      <td>23</td>\n",
              "      <td>African-American</td>\n",
              "      <td>1</td>\n",
              "      <td>0</td>\n",
              "      <td>8</td>\n",
              "      <td>0</td>\n",
              "    </tr>\n",
              "    <tr>\n",
              "      <th>3</th>\n",
              "      <td>edward</td>\n",
              "      <td>riddle</td>\n",
              "      <td>Male</td>\n",
              "      <td>41</td>\n",
              "      <td>Caucasian</td>\n",
              "      <td>14</td>\n",
              "      <td>0</td>\n",
              "      <td>6</td>\n",
              "      <td>1</td>\n",
              "    </tr>\n",
              "    <tr>\n",
              "      <th>4</th>\n",
              "      <td>elizabeth</td>\n",
              "      <td>thieme</td>\n",
              "      <td>Female</td>\n",
              "      <td>39</td>\n",
              "      <td>Caucasian</td>\n",
              "      <td>0</td>\n",
              "      <td>0</td>\n",
              "      <td>1</td>\n",
              "      <td>0</td>\n",
              "    </tr>\n",
              "    <tr>\n",
              "      <th>...</th>\n",
              "      <td>...</td>\n",
              "      <td>...</td>\n",
              "      <td>...</td>\n",
              "      <td>...</td>\n",
              "      <td>...</td>\n",
              "      <td>...</td>\n",
              "      <td>...</td>\n",
              "      <td>...</td>\n",
              "      <td>...</td>\n",
              "    </tr>\n",
              "    <tr>\n",
              "      <th>6145</th>\n",
              "      <td>jarred</td>\n",
              "      <td>payne</td>\n",
              "      <td>Male</td>\n",
              "      <td>30</td>\n",
              "      <td>African-American</td>\n",
              "      <td>0</td>\n",
              "      <td>0</td>\n",
              "      <td>2</td>\n",
              "      <td>1</td>\n",
              "    </tr>\n",
              "    <tr>\n",
              "      <th>6146</th>\n",
              "      <td>raheem</td>\n",
              "      <td>smith</td>\n",
              "      <td>Male</td>\n",
              "      <td>20</td>\n",
              "      <td>African-American</td>\n",
              "      <td>0</td>\n",
              "      <td>0</td>\n",
              "      <td>9</td>\n",
              "      <td>0</td>\n",
              "    </tr>\n",
              "    <tr>\n",
              "      <th>6147</th>\n",
              "      <td>steven</td>\n",
              "      <td>butler</td>\n",
              "      <td>Male</td>\n",
              "      <td>23</td>\n",
              "      <td>African-American</td>\n",
              "      <td>0</td>\n",
              "      <td>0</td>\n",
              "      <td>7</td>\n",
              "      <td>0</td>\n",
              "    </tr>\n",
              "    <tr>\n",
              "      <th>6148</th>\n",
              "      <td>malcolm</td>\n",
              "      <td>simmons</td>\n",
              "      <td>Male</td>\n",
              "      <td>23</td>\n",
              "      <td>African-American</td>\n",
              "      <td>0</td>\n",
              "      <td>0</td>\n",
              "      <td>3</td>\n",
              "      <td>0</td>\n",
              "    </tr>\n",
              "    <tr>\n",
              "      <th>6149</th>\n",
              "      <td>farrah</td>\n",
              "      <td>jean</td>\n",
              "      <td>Female</td>\n",
              "      <td>33</td>\n",
              "      <td>African-American</td>\n",
              "      <td>3</td>\n",
              "      <td>0</td>\n",
              "      <td>2</td>\n",
              "      <td>0</td>\n",
              "    </tr>\n",
              "  </tbody>\n",
              "</table>\n",
              "<p>6150 rows × 9 columns</p>\n",
              "</div>\n",
              "      <button class=\"colab-df-convert\" onclick=\"convertToInteractive('df-8cb7c362-0914-494b-862e-1ac99640e174')\"\n",
              "              title=\"Convert this dataframe to an interactive table.\"\n",
              "              style=\"display:none;\">\n",
              "        \n",
              "  <svg xmlns=\"http://www.w3.org/2000/svg\" height=\"24px\"viewBox=\"0 0 24 24\"\n",
              "       width=\"24px\">\n",
              "    <path d=\"M0 0h24v24H0V0z\" fill=\"none\"/>\n",
              "    <path d=\"M18.56 5.44l.94 2.06.94-2.06 2.06-.94-2.06-.94-.94-2.06-.94 2.06-2.06.94zm-11 1L8.5 8.5l.94-2.06 2.06-.94-2.06-.94L8.5 2.5l-.94 2.06-2.06.94zm10 10l.94 2.06.94-2.06 2.06-.94-2.06-.94-.94-2.06-.94 2.06-2.06.94z\"/><path d=\"M17.41 7.96l-1.37-1.37c-.4-.4-.92-.59-1.43-.59-.52 0-1.04.2-1.43.59L10.3 9.45l-7.72 7.72c-.78.78-.78 2.05 0 2.83L4 21.41c.39.39.9.59 1.41.59.51 0 1.02-.2 1.41-.59l7.78-7.78 2.81-2.81c.8-.78.8-2.07 0-2.86zM5.41 20L4 18.59l7.72-7.72 1.47 1.35L5.41 20z\"/>\n",
              "  </svg>\n",
              "      </button>\n",
              "      \n",
              "  <style>\n",
              "    .colab-df-container {\n",
              "      display:flex;\n",
              "      flex-wrap:wrap;\n",
              "      gap: 12px;\n",
              "    }\n",
              "\n",
              "    .colab-df-convert {\n",
              "      background-color: #E8F0FE;\n",
              "      border: none;\n",
              "      border-radius: 50%;\n",
              "      cursor: pointer;\n",
              "      display: none;\n",
              "      fill: #1967D2;\n",
              "      height: 32px;\n",
              "      padding: 0 0 0 0;\n",
              "      width: 32px;\n",
              "    }\n",
              "\n",
              "    .colab-df-convert:hover {\n",
              "      background-color: #E2EBFA;\n",
              "      box-shadow: 0px 1px 2px rgba(60, 64, 67, 0.3), 0px 1px 3px 1px rgba(60, 64, 67, 0.15);\n",
              "      fill: #174EA6;\n",
              "    }\n",
              "\n",
              "    [theme=dark] .colab-df-convert {\n",
              "      background-color: #3B4455;\n",
              "      fill: #D2E3FC;\n",
              "    }\n",
              "\n",
              "    [theme=dark] .colab-df-convert:hover {\n",
              "      background-color: #434B5C;\n",
              "      box-shadow: 0px 1px 3px 1px rgba(0, 0, 0, 0.15);\n",
              "      filter: drop-shadow(0px 1px 2px rgba(0, 0, 0, 0.3));\n",
              "      fill: #FFFFFF;\n",
              "    }\n",
              "  </style>\n",
              "\n",
              "      <script>\n",
              "        const buttonEl =\n",
              "          document.querySelector('#df-8cb7c362-0914-494b-862e-1ac99640e174 button.colab-df-convert');\n",
              "        buttonEl.style.display =\n",
              "          google.colab.kernel.accessAllowed ? 'block' : 'none';\n",
              "\n",
              "        async function convertToInteractive(key) {\n",
              "          const element = document.querySelector('#df-8cb7c362-0914-494b-862e-1ac99640e174');\n",
              "          const dataTable =\n",
              "            await google.colab.kernel.invokeFunction('convertToInteractive',\n",
              "                                                     [key], {});\n",
              "          if (!dataTable) return;\n",
              "\n",
              "          const docLinkHtml = 'Like what you see? Visit the ' +\n",
              "            '<a target=\"_blank\" href=https://colab.research.google.com/notebooks/data_table.ipynb>data table notebook</a>'\n",
              "            + ' to learn more about interactive tables.';\n",
              "          element.innerHTML = '';\n",
              "          dataTable['output_type'] = 'display_data';\n",
              "          await google.colab.output.renderOutput(dataTable, element);\n",
              "          const docLink = document.createElement('div');\n",
              "          docLink.innerHTML = docLinkHtml;\n",
              "          element.appendChild(docLink);\n",
              "        }\n",
              "      </script>\n",
              "    </div>\n",
              "  </div>\n",
              "  "
            ]
          },
          "metadata": {},
          "execution_count": 60
        }
      ],
      "source": [
        "df_cleaned = df[selected_features][(df['race']=='Caucasian') | (df['race']=='African-American')].copy()\n",
        "df_cleaned.head()\n",
        "df_cleaned.index = np.arange(0,len(df_cleaned))\n",
        "df_cleaned"
      ]
    },
    {
      "cell_type": "code",
      "execution_count": 61,
      "metadata": {
        "id": "wkWfm6Lr3YIZ"
      },
      "outputs": [],
      "source": [
        "numerical = ['priors_count']\n",
        "enc = OneHotEncoder(drop='if_binary',sparse=False)\n",
        "X_1 = enc.fit_transform(df_cleaned.drop(['two_year_recid'],axis=1))\n",
        "X_1 = np.hstack((X_1,df_cleaned[numerical].to_numpy()))\n",
        "y_1 = df_cleaned['two_year_recid'].to_numpy()\n",
        "X_train, X_test, y_train, y_test = train_test_split(X_1, y_1, test_size=0.15, random_state=0)"
      ]
    },
    {
      "cell_type": "code",
      "execution_count": 62,
      "metadata": {
        "id": "PTRL3CpRlL01"
      },
      "outputs": [],
      "source": [
        "enc = OneHotEncoder(handle_unknown='ignore')\n",
        "X_new = enc.fit(X_1)\n",
        "X_new = enc.transform(X_1)\n",
        "X_train, X_test, y_train, y_test = train_test_split(X_new,y,test_size=0.3, random_state=44)"
      ]
    },
    {
      "cell_type": "code",
      "execution_count": 63,
      "metadata": {
        "colab": {
          "base_uri": "https://localhost:8080/",
          "height": 75
        },
        "id": "ZUdvlvHh3NYk",
        "outputId": "994d435a-4964-41e5-b002-be5ff1e3e916"
      },
      "outputs": [
        {
          "output_type": "execute_result",
          "data": {
            "text/plain": [
              "RandomForestClassifier(random_state=44)"
            ],
            "text/html": [
              "<style>#sk-container-id-1 {color: black;background-color: white;}#sk-container-id-1 pre{padding: 0;}#sk-container-id-1 div.sk-toggleable {background-color: white;}#sk-container-id-1 label.sk-toggleable__label {cursor: pointer;display: block;width: 100%;margin-bottom: 0;padding: 0.3em;box-sizing: border-box;text-align: center;}#sk-container-id-1 label.sk-toggleable__label-arrow:before {content: \"▸\";float: left;margin-right: 0.25em;color: #696969;}#sk-container-id-1 label.sk-toggleable__label-arrow:hover:before {color: black;}#sk-container-id-1 div.sk-estimator:hover label.sk-toggleable__label-arrow:before {color: black;}#sk-container-id-1 div.sk-toggleable__content {max-height: 0;max-width: 0;overflow: hidden;text-align: left;background-color: #f0f8ff;}#sk-container-id-1 div.sk-toggleable__content pre {margin: 0.2em;color: black;border-radius: 0.25em;background-color: #f0f8ff;}#sk-container-id-1 input.sk-toggleable__control:checked~div.sk-toggleable__content {max-height: 200px;max-width: 100%;overflow: auto;}#sk-container-id-1 input.sk-toggleable__control:checked~label.sk-toggleable__label-arrow:before {content: \"▾\";}#sk-container-id-1 div.sk-estimator input.sk-toggleable__control:checked~label.sk-toggleable__label {background-color: #d4ebff;}#sk-container-id-1 div.sk-label input.sk-toggleable__control:checked~label.sk-toggleable__label {background-color: #d4ebff;}#sk-container-id-1 input.sk-hidden--visually {border: 0;clip: rect(1px 1px 1px 1px);clip: rect(1px, 1px, 1px, 1px);height: 1px;margin: -1px;overflow: hidden;padding: 0;position: absolute;width: 1px;}#sk-container-id-1 div.sk-estimator {font-family: monospace;background-color: #f0f8ff;border: 1px dotted black;border-radius: 0.25em;box-sizing: border-box;margin-bottom: 0.5em;}#sk-container-id-1 div.sk-estimator:hover {background-color: #d4ebff;}#sk-container-id-1 div.sk-parallel-item::after {content: \"\";width: 100%;border-bottom: 1px solid gray;flex-grow: 1;}#sk-container-id-1 div.sk-label:hover label.sk-toggleable__label {background-color: #d4ebff;}#sk-container-id-1 div.sk-serial::before {content: \"\";position: absolute;border-left: 1px solid gray;box-sizing: border-box;top: 0;bottom: 0;left: 50%;z-index: 0;}#sk-container-id-1 div.sk-serial {display: flex;flex-direction: column;align-items: center;background-color: white;padding-right: 0.2em;padding-left: 0.2em;position: relative;}#sk-container-id-1 div.sk-item {position: relative;z-index: 1;}#sk-container-id-1 div.sk-parallel {display: flex;align-items: stretch;justify-content: center;background-color: white;position: relative;}#sk-container-id-1 div.sk-item::before, #sk-container-id-1 div.sk-parallel-item::before {content: \"\";position: absolute;border-left: 1px solid gray;box-sizing: border-box;top: 0;bottom: 0;left: 50%;z-index: -1;}#sk-container-id-1 div.sk-parallel-item {display: flex;flex-direction: column;z-index: 1;position: relative;background-color: white;}#sk-container-id-1 div.sk-parallel-item:first-child::after {align-self: flex-end;width: 50%;}#sk-container-id-1 div.sk-parallel-item:last-child::after {align-self: flex-start;width: 50%;}#sk-container-id-1 div.sk-parallel-item:only-child::after {width: 0;}#sk-container-id-1 div.sk-dashed-wrapped {border: 1px dashed gray;margin: 0 0.4em 0.5em 0.4em;box-sizing: border-box;padding-bottom: 0.4em;background-color: white;}#sk-container-id-1 div.sk-label label {font-family: monospace;font-weight: bold;display: inline-block;line-height: 1.2em;}#sk-container-id-1 div.sk-label-container {text-align: center;}#sk-container-id-1 div.sk-container {/* jupyter's `normalize.less` sets `[hidden] { display: none; }` but bootstrap.min.css set `[hidden] { display: none !important; }` so we also need the `!important` here to be able to override the default hidden behavior on the sphinx rendered scikit-learn.org. See: https://github.com/scikit-learn/scikit-learn/issues/21755 */display: inline-block !important;position: relative;}#sk-container-id-1 div.sk-text-repr-fallback {display: none;}</style><div id=\"sk-container-id-1\" class=\"sk-top-container\"><div class=\"sk-text-repr-fallback\"><pre>RandomForestClassifier(random_state=44)</pre><b>In a Jupyter environment, please rerun this cell to show the HTML representation or trust the notebook. <br />On GitHub, the HTML representation is unable to render, please try loading this page with nbviewer.org.</b></div><div class=\"sk-container\" hidden><div class=\"sk-item\"><div class=\"sk-estimator sk-toggleable\"><input class=\"sk-toggleable__control sk-hidden--visually\" id=\"sk-estimator-id-1\" type=\"checkbox\" checked><label for=\"sk-estimator-id-1\" class=\"sk-toggleable__label sk-toggleable__label-arrow\">RandomForestClassifier</label><div class=\"sk-toggleable__content\"><pre>RandomForestClassifier(random_state=44)</pre></div></div></div></div></div>"
            ]
          },
          "metadata": {},
          "execution_count": 63
        }
      ],
      "source": [
        "clf = RandomForestClassifier(random_state=44)\n",
        "clf.fit(X_train, y_train)"
      ]
    },
    {
      "cell_type": "code",
      "execution_count": 64,
      "metadata": {
        "colab": {
          "base_uri": "https://localhost:8080/",
          "height": 0
        },
        "id": "dWSn0Px9hrNC",
        "outputId": "9a43922d-bf0b-47d5-b81d-fea58e397a13"
      },
      "outputs": [
        {
          "output_type": "stream",
          "name": "stdout",
          "text": [
            "0.6720867208672087\n",
            "[[737 238]\n",
            " [367 503]]\n"
          ]
        }
      ],
      "source": [
        "y_pred_test = clf.predict(X_test)\n",
        "print(accuracy_score(y_test, y_pred_test))\n",
        "print(confusion_matrix(y_test, y_pred_test))"
      ]
    },
    {
      "cell_type": "code",
      "execution_count": 65,
      "metadata": {
        "id": "MMoZEuIfXhO6"
      },
      "outputs": [],
      "source": [
        "confusion_matrix = confusion_matrix(y_test, y_pred_test)\n",
        "tp = confusion_matrix[1, 1]\n",
        "fp = confusion_matrix[0, 1]\n",
        "fn = confusion_matrix[1, 0]\n",
        "import numpy as np\n",
        "\n",
        "def calculate_f1_recall(tp, fp, fn ):\n",
        "    # Calculate the precision and recall\n",
        "    precision = tp / (tp + fp)\n",
        "    recall = tp / (tp + fn)\n",
        "    \n",
        "    # Calculate the F1 score\n",
        "    f1_score = 2 * (precision * recall) / (precision + recall)\n",
        "    \n",
        "    return f1_score, recall\n"
      ]
    },
    {
      "cell_type": "code",
      "execution_count": 66,
      "metadata": {
        "colab": {
          "base_uri": "https://localhost:8080/",
          "height": 0
        },
        "id": "VWXp9Di2X9E2",
        "outputId": "082f87cd-b4d8-4b26-c548-fbce7cb08a7a"
      },
      "outputs": [
        {
          "output_type": "execute_result",
          "data": {
            "text/plain": [
              "(0.6244568590937306, 0.5781609195402299)"
            ]
          },
          "metadata": {},
          "execution_count": 66
        }
      ],
      "source": [
        "calculate_f1_recall(tp, fp, fn )"
      ]
    },
    {
      "cell_type": "code",
      "execution_count": 67,
      "metadata": {
        "colab": {
          "base_uri": "https://localhost:8080/",
          "height": 0
        },
        "id": "dCwdKKXdYMa1",
        "outputId": "9b05ebd9-1ec2-40c5-e998-88bd8a7f9b38"
      },
      "outputs": [
        {
          "output_type": "stream",
          "name": "stdout",
          "text": [
            "Caliberation of African American and Caucasian: 0.029932885906040263\n"
          ]
        }
      ],
      "source": [
        "cali_X = X.loc[y_test.index]\n",
        "cali_X['label'] = y_test\n",
        "cali_X['pred'] = y_pred_test\n",
        "af_X = cali_X[cali_X.race=='African-American']\n",
        "ca_X =  cali_X[cali_X.race=='Caucasian']\n",
        "\n",
        "print(\"Caliberation of African American and Caucasian:\", np.abs(accuracy_score(af_X.label, af_X.pred)-accuracy_score(ca_X.label, ca_X.pred)))"
      ]
    },
    {
      "cell_type": "markdown",
      "metadata": {
        "id": "QPo13AjJ6pEJ"
      },
      "source": [
        "###A6-Algorithm 1: Local Massaging (LM)"
      ]
    },
    {
      "cell_type": "code",
      "execution_count": 68,
      "metadata": {
        "id": "bVnUmqpekgBp"
      },
      "outputs": [],
      "source": [
        "X = data # an instance in p dimensional space\n",
        "new_X = data[exclude_e_s]\n",
        "\n",
        "s = data[['race']] # sensitive attribute\n",
        "\n",
        "e = data[e_list] # explanatory attribute \n",
        "\n",
        "y = data[['two_year_recid']] # label: if a particular person will re-offend in the next two years"
      ]
    },
    {
      "cell_type": "markdown",
      "metadata": {
        "id": "YsoE5UvdffXX"
      },
      "source": [
        "#### DELTA for LM"
      ]
    },
    {
      "cell_type": "code",
      "execution_count": 69,
      "metadata": {
        "id": "L8DY9Lw7udRu"
      },
      "outputs": [],
      "source": [
        "def delta(item, y_pred, y_prob):\n",
        "    \n",
        "    item_copy = item.copy()\n",
        "    item_copy['label'] = y_pred\n",
        "    af = item_copy[item_copy.race=='African-American']\n",
        "    ca = item_copy[item_copy.race =='Caucasian']\n",
        "    rate_af = round(af[af['label']==1].shape[0]/af.shape[0],2)\n",
        "    rate_ca = round(ca[ca['label']==1].shape[0]/ca.shape[0],2)\n",
        "    p_star = (rate_af+rate_ca)/2\n",
        "    threshold = np.abs(rate_af-p_star)\n",
        "    \n",
        "    test_df = pd.DataFrame(y_prob, columns=['No', 'Yes'], index=item.index)\n",
        "    test_df['race'] = item['race']\n",
        "    test_df['label'] = y_pred\n",
        "    race = 'African-American'\n",
        "    if (test_df['race'] == race).any():\n",
        "        G_i = (test_df['race'] == race).sum()\n",
        "        temp = test_df[(np.abs(test_df.Yes - test_df.No) <= G_i*threshold)].copy()\n",
        "        temp.loc[(temp.race == race) & (temp.Yes > temp.No), 'label'] = 0\n",
        "    race = 'Caucasian'\n",
        "    if (test_df['race'] == race).any():\n",
        "        G_i = 13\n",
        "        temp = test_df[(np.abs(test_df.Yes - test_df.No) <= G_i*threshold)].copy()\n",
        "        temp.loc[(temp.race == race) & (temp.Yes < temp.No), 'label'] = 1\n",
        "    \n",
        "    item_copy['label'].loc[temp.index] = temp.label\n",
        "    \n",
        "    return item_copy\n"
      ]
    },
    {
      "cell_type": "markdown",
      "metadata": {
        "id": "hf6zSogNgP2E"
      },
      "source": [
        "#### Local Massaging"
      ]
    },
    {
      "cell_type": "code",
      "execution_count": 70,
      "metadata": {
        "id": "Mb2SNZqhcCgS"
      },
      "outputs": [],
      "source": [
        "def local_massaging(X,s,e,y):\n",
        "    X['race'] = s\n",
        "    X_i_list =partition(X,e)\n",
        "    df_list = []\n",
        "    pd_list = []\n",
        "    for item in X_i_list:\n",
        "        enc = OneHotEncoder(handle_unknown='ignore')\n",
        "        X_new = enc.fit(item)\n",
        "        X_new = enc.transform(item)\n",
        "        X_train, X_test, y_train, y_test = train_test_split(X_new,y,test_size=.3,random_state=5)\n",
        "        logreg = RandomForestClassifier(random_state=44).fit(X_train, y_train)\n",
        "        y_pred = logreg.predict(X_new)\n",
        "        y_prob = logreg.predict_proba(X_new)\n",
        "        temp_df = delta(item,y_pred,y_prob)\n",
        "        pd_list.append(temp_df)\n",
        "        df_list.append(temp_df[['label']])\n",
        "    result = pd.concat(df_list,axis = 1)\n",
        "    result.loc[result.sum(axis=1)<=2,'new_label'] = 0\n",
        "    result.loc[result.sum(axis=1)>=3,'new_label'] = 1\n",
        "    X['new_label'] = result.new_label\n",
        "    return X\n"
      ]
    },
    {
      "cell_type": "code",
      "execution_count": 71,
      "metadata": {
        "id": "xq5KX_NXGfxb"
      },
      "outputs": [],
      "source": [
        "New_X = local_massaging(new_X,s,e,y)"
      ]
    },
    {
      "cell_type": "code",
      "execution_count": 72,
      "metadata": {
        "id": "1NWQV3hCY-6E"
      },
      "outputs": [],
      "source": [
        "af = New_X[New_X.race=='African-American']\n",
        "ca = New_X[New_X.race =='Caucasian']\n",
        "rate_af = round(af[af['new_label']==1].shape[0]/af.shape[0],2)\n",
        "rate_ca = round(ca[ca['new_label']==1].shape[0]/ca.shape[0],2)"
      ]
    },
    {
      "cell_type": "code",
      "execution_count": 73,
      "metadata": {
        "colab": {
          "base_uri": "https://localhost:8080/",
          "height": 0
        },
        "id": "ZIbC-qTpZBX0",
        "outputId": "36139dc3-bed5-4acc-e560-eb8b412aa3ba"
      },
      "outputs": [
        {
          "output_type": "execute_result",
          "data": {
            "text/plain": [
              "(0.52, 0.44)"
            ]
          },
          "metadata": {},
          "execution_count": 73
        }
      ],
      "source": [
        "rate_af,rate_ca "
      ]
    },
    {
      "cell_type": "code",
      "execution_count": 74,
      "metadata": {
        "id": "XZlw9EX9ZJda"
      },
      "outputs": [],
      "source": [
        "New_y = New_X.new_label\n",
        "New_X_copy = New_X.copy()\n",
        "New_X_copy.drop(['new_label'],axis=1,inplace=True)"
      ]
    },
    {
      "cell_type": "code",
      "execution_count": 75,
      "metadata": {
        "id": "xF6RSHkCZRDP"
      },
      "outputs": [],
      "source": [
        "# enc = OneHotEncoder(handle_unknown='ignore')\n",
        "\n",
        "enc =OneHotEncoder(drop='if_binary',sparse=False)"
      ]
    },
    {
      "cell_type": "code",
      "execution_count": 76,
      "metadata": {
        "id": "VRyvX-k0ZYiJ"
      },
      "outputs": [],
      "source": [
        "X_new = enc.fit(New_X_copy)\n",
        "X_new = enc.transform(New_X_copy)"
      ]
    },
    {
      "cell_type": "code",
      "execution_count": 77,
      "metadata": {
        "id": "WF0J1GpLZatN"
      },
      "outputs": [],
      "source": [
        "X_train, X_test, y_train, y_test = train_test_split(X_new,New_y,test_size=.3,random_state=42)"
      ]
    },
    {
      "cell_type": "code",
      "execution_count": 78,
      "metadata": {
        "id": "af6_oXzNZcyz"
      },
      "outputs": [],
      "source": [
        "forest = RandomForestClassifier(random_state=42).fit(X_train, y_train) "
      ]
    },
    {
      "cell_type": "code",
      "execution_count": 79,
      "metadata": {
        "id": "uISRF0wKa2lR"
      },
      "outputs": [],
      "source": [
        "y_pred_test = forest.predict(X_test)"
      ]
    },
    {
      "cell_type": "code",
      "execution_count": 80,
      "metadata": {
        "colab": {
          "base_uri": "https://localhost:8080/",
          "height": 0
        },
        "id": "neexgPrsa5Dn",
        "outputId": "d37a3550-d7cc-48b6-fbe9-577ce6d6f86c"
      },
      "outputs": [
        {
          "output_type": "execute_result",
          "data": {
            "text/plain": [
              "0.964769647696477"
            ]
          },
          "metadata": {},
          "execution_count": 80
        }
      ],
      "source": [
        "accuracy_score(y_test, y_pred_test)"
      ]
    },
    {
      "cell_type": "code",
      "execution_count": null,
      "metadata": {
        "id": "F5owVKrDa-zL"
      },
      "outputs": [],
      "source": [
        "# confusion_matrix(y_test, y_pred_test)"
      ]
    },
    {
      "cell_type": "code",
      "execution_count": 81,
      "metadata": {
        "id": "yZgvqsp8aYRB"
      },
      "outputs": [],
      "source": [
        "confusion_matrix =np.array([[894,  41],\n",
        "                            [ 24, 886]])"
      ]
    },
    {
      "cell_type": "code",
      "execution_count": 82,
      "metadata": {
        "colab": {
          "base_uri": "https://localhost:8080/",
          "height": 0
        },
        "id": "ES5j74u4YcZg",
        "outputId": "2436118c-ae55-4045-ce01-9d39b1b4a50b"
      },
      "outputs": [
        {
          "output_type": "execute_result",
          "data": {
            "text/plain": [
              "(0.9646162221012521, 0.9736263736263736)"
            ]
          },
          "metadata": {},
          "execution_count": 82
        }
      ],
      "source": [
        "tp = confusion_matrix[1, 1]\n",
        "fp = confusion_matrix[0, 1]\n",
        "fn = confusion_matrix[1, 0]\n",
        "calculate_f1_recall(tp, fp, fn )"
      ]
    },
    {
      "cell_type": "markdown",
      "metadata": {
        "id": "0mnzcRKNeKIa"
      },
      "source": [
        "Caliberation of African American and Caucasian"
      ]
    },
    {
      "cell_type": "code",
      "execution_count": 83,
      "metadata": {
        "colab": {
          "base_uri": "https://localhost:8080/",
          "height": 0
        },
        "id": "Se8cjkrYd5E0",
        "outputId": "3a228f6f-220a-4b7d-b3e9-9df18ee09394"
      },
      "outputs": [
        {
          "output_type": "stream",
          "name": "stdout",
          "text": [
            "Caliberation of African American and Caucasian: 0.01559110130538699\n"
          ]
        }
      ],
      "source": [
        "cali_X = New_X.loc[y_test.index]\n",
        "cali_X['label'] = y_test\n",
        "cali_X['pred'] = y_pred_test\n",
        "\n",
        "af_X = cali_X[cali_X.race=='African-American']\n",
        "ca_X =  cali_X[cali_X.race=='Caucasian']\n",
        "\n",
        "print(\"Caliberation of African American and Caucasian:\", np.abs(accuracy_score(af_X.label, af_X.pred)-accuracy_score(ca_X.label, ca_X.pred)))"
      ]
    },
    {
      "cell_type": "markdown",
      "metadata": {
        "id": "gFtkscPd9ho3"
      },
      "source": [
        "### A6-Algorithm 2: Local Preferential Sampling (LPS)"
      ]
    },
    {
      "cell_type": "markdown",
      "metadata": {
        "id": "XDVdwJ75fizO"
      },
      "source": [
        "#### DELTA for LPS"
      ]
    },
    {
      "cell_type": "code",
      "execution_count": 84,
      "metadata": {
        "id": "hSvUL8d2zHw-"
      },
      "outputs": [],
      "source": [
        "def delta_lps(item, y_pred, y_prob):\n",
        "    item_copy = item.copy()\n",
        "    item_copy['label'] = y_pred\n",
        "    af = item_copy[item_copy.race == 'African-American']\n",
        "    ca = item_copy[item_copy.race == 'Caucasian']\n",
        "    rate_af = round(af[af['label'] == 1].shape[0]/af.shape[0], 2) # two-year recid rate of African-American\n",
        "    rate_ca = round(ca[ca['label'] == 1].shape[0]/ca.shape[0], 2) # two-year recid rate of Caucasian\n",
        "    p_star = (rate_af + rate_ca)/2 # Equation 4\n",
        "    threshold = np.abs(rate_af - p_star)\n",
        "    \n",
        "    test_df = pd.DataFrame(y_prob, columns=['No', 'Yes'], index=item.index)\n",
        "    test_df['race'] = item['race']\n",
        "    test_df['label'] = y_pred\n",
        "    \n",
        "    race = 'African-American'\n",
        "    if (test_df['race'] == race).any():\n",
        "        G_i = (test_df['race'] == race).sum()\n",
        "        temp = test_df.copy()\n",
        "        temp = temp[temp['race'] == race]\n",
        "\n",
        "        # Delete 1/2 African-American + that are the closest to the threshold\n",
        "        temp_del = temp.copy()\n",
        "        temp_del['distance'] = np.abs(temp_del['Yes'] - temp_del['No'] - threshold)\n",
        "        temp_del = temp_del.sort_values('distance', ascending=True)\n",
        "        temp_del = temp_del.iloc[G_i // 2:]\n",
        "        temp_del.loc[(temp_del.race == race) & (temp_del.Yes < temp_del.No), 'label'] = 0\n",
        "        item_copy['label'].loc[temp_del.index] = temp_del.label\n",
        "\n",
        "        # Duplicate 1/2 African-American − that are the closest to the threshold\n",
        "        temp_dup = temp.copy()\n",
        "        temp_dup['distance'] = np.abs(temp_dup['Yes'] - temp_dup['No'] + threshold)\n",
        "        temp_dup = temp_dup.sort_values('distance', ascending=True)\n",
        "        temp_dup = temp_dup.iloc[:G_i // 2]\n",
        "        temp_dup.loc[(temp_dup.race == race) & (temp_dup.Yes > temp_dup.No), 'label'] = 1\n",
        "        item_copy['label'].loc[temp_dup.index] = temp_dup.label\n",
        "    \n",
        "    race = 'Caucasian'\n",
        "    if (test_df['race'] == race).any():\n",
        "        G_i = (test_df['race'] == race).sum()\n",
        "        temp = test_df.copy()\n",
        "        temp = temp[temp['race'] == race]\n",
        "\n",
        "        # Delete 1/2 Caucasian + that are the closest to the threshold\n",
        "        temp_del = temp.copy()\n",
        "        temp_del['distance'] = np.abs(temp_del['Yes'] - temp_del['No'] + threshold)\n",
        "        temp_del = temp_del.sort_values('distance', ascending=True)\n",
        "        temp_del = temp_del.iloc[G_i // 2:]\n",
        "        temp_del.loc[(temp_del.race == race) & (temp_del.Yes > temp_del.No), 'label'] = 0\n",
        "        item_copy['label'].loc[temp_del.index] = temp_del.label\n",
        "\n",
        "        # Duplicate 1/2 Caucasian − that are the closest to the threshold\n",
        "        temp_dup = temp.copy()\n",
        "        temp_dup['distance'] = np.abs(temp_dup['Yes'] - temp_dup['No'] - threshold)\n",
        "        temp_dup = temp_dup.sort_values('distance', ascending=True)\n",
        "        temp_dup = temp_dup.iloc[:G_i // 2]\n",
        "        temp_dup.loc[(temp_dup.race == race) & (temp_dup.Yes < temp_dup.No), 'label'] = 1\n",
        "        item_copy['label'].loc[temp_dup.index] = temp_dup.label\n",
        "    \n",
        "    return item_copy\n"
      ]
    },
    {
      "cell_type": "markdown",
      "metadata": {
        "id": "rrcGY84EgWCa"
      },
      "source": [
        "#### Local Preferential Sampling"
      ]
    },
    {
      "cell_type": "code",
      "execution_count": 85,
      "metadata": {
        "id": "rYyfStsElK36"
      },
      "outputs": [],
      "source": [
        "def local_preferential_sampling(X,s,e,y):\n",
        "    X['race'] = s\n",
        "    X_i_list = partition(X,e)\n",
        "    df_list = []\n",
        "    pd_list = []\n",
        "    for item in X_i_list:\n",
        "        enc = OneHotEncoder(handle_unknown='ignore')\n",
        "        X_new = enc.fit(item)\n",
        "        X_new = enc.transform(item)\n",
        "        X_train, X_test, y_train, y_test = train_test_split(X_new,y,test_size=.3,random_state=5)\n",
        "        forest = RandomForestClassifier(random_state=44).fit(X_train, y_train) \n",
        "        y_pred = forest.predict(X_new)\n",
        "        y_prob = forest.predict_proba(X_new)\n",
        "        temp_df = delta_lps(item,y_pred,y_prob)\n",
        "        pd_list.append(temp_df)\n",
        "        df_list.append(temp_df[['label']])\n",
        "    \n",
        "    result = pd.concat(df_list,axis = 1)\n",
        "    result.loc[result.sum(axis=1)<=2,'new_label'] = 0\n",
        "    result.loc[result.sum(axis=1)>=3,'new_label'] = 1\n",
        "    X['new_label'] = result.new_label\n",
        "    return X"
      ]
    },
    {
      "cell_type": "code",
      "execution_count": 86,
      "metadata": {
        "id": "hK812oKR9jDu"
      },
      "outputs": [],
      "source": [
        "New_X = local_preferential_sampling(new_X, s, e, y)"
      ]
    },
    {
      "cell_type": "code",
      "execution_count": 87,
      "metadata": {
        "colab": {
          "base_uri": "https://localhost:8080/",
          "height": 0
        },
        "id": "EXtGOh8IoUbY",
        "outputId": "393e5422-cc9a-4b1d-a6ac-069c98d6ee42"
      },
      "outputs": [
        {
          "output_type": "execute_result",
          "data": {
            "text/plain": [
              "(0.52, 0.5)"
            ]
          },
          "metadata": {},
          "execution_count": 87
        }
      ],
      "source": [
        "af = New_X[New_X.race=='African-American']\n",
        "ca = New_X[New_X.race =='Caucasian']\n",
        "rate_af = round(af[af['new_label']==1].shape[0]/af.shape[0],2)\n",
        "rate_ca = round(ca[ca['new_label']==1].shape[0]/ca.shape[0],2)\n",
        "\n",
        "rate_af,rate_ca "
      ]
    },
    {
      "cell_type": "code",
      "execution_count": 88,
      "metadata": {
        "id": "Z-jAQzC89jAv"
      },
      "outputs": [],
      "source": [
        "enc = OneHotEncoder(handle_unknown='ignore')\n",
        "\n",
        "New_y = New_X.new_label\n",
        "New_X_copy = New_X.copy()\n",
        "New_X_copy.drop(['new_label'],axis=1,inplace=True)\n",
        "\n",
        "X_new = enc.fit_transform(New_X_copy)\n",
        "\n",
        "X_train, X_test, y_train, y_test = train_test_split(X_new, New_y, test_size=0.3,random_state=42)\n",
        "forest = RandomForestClassifier(random_state=44).fit(X_train, y_train)\n",
        "y_pred_test = forest.predict(X_test)"
      ]
    },
    {
      "cell_type": "code",
      "execution_count": 89,
      "metadata": {
        "colab": {
          "base_uri": "https://localhost:8080/",
          "height": 0
        },
        "id": "eag6sEwxzmfF",
        "outputId": "f16f301b-2cf0-43cc-dc35-649705ca3d67"
      },
      "outputs": [
        {
          "output_type": "execute_result",
          "data": {
            "text/plain": [
              "0.9669376693766938"
            ]
          },
          "metadata": {},
          "execution_count": 89
        }
      ],
      "source": [
        "accuracy_score(y_test, y_pred_test)"
      ]
    },
    {
      "cell_type": "code",
      "execution_count": null,
      "metadata": {
        "id": "hIKhNq7bzmb1"
      },
      "outputs": [],
      "source": [
        "# confusion_matrix(y_test, y_pred_test)"
      ]
    },
    {
      "cell_type": "code",
      "execution_count": 90,
      "metadata": {
        "id": "8ajCHyxsaxpg"
      },
      "outputs": [],
      "source": [
        "confusion_matrix = np.array([[881,  20],\n",
        "                             [ 41, 903]])"
      ]
    },
    {
      "cell_type": "code",
      "execution_count": 91,
      "metadata": {
        "colab": {
          "base_uri": "https://localhost:8080/",
          "height": 0
        },
        "id": "GXAfbuN6YjmK",
        "outputId": "fd0b27d0-b7e3-4bff-d2e8-c04570a2f227"
      },
      "outputs": [
        {
          "output_type": "execute_result",
          "data": {
            "text/plain": [
              "(0.967327262988752, 0.9565677966101694)"
            ]
          },
          "metadata": {},
          "execution_count": 91
        }
      ],
      "source": [
        "tp = confusion_matrix[1, 1]\n",
        "fp = confusion_matrix[0, 1]\n",
        "fn = confusion_matrix[1, 0]\n",
        "calculate_f1_recall(tp, fp, fn )"
      ]
    },
    {
      "cell_type": "code",
      "execution_count": 92,
      "metadata": {
        "colab": {
          "base_uri": "https://localhost:8080/",
          "height": 0
        },
        "id": "aH_mwRw4To7u",
        "outputId": "ddb46f12-8284-41fd-8553-fbc002f62321"
      },
      "outputs": [
        {
          "output_type": "stream",
          "name": "stdout",
          "text": [
            "Caliberation of African American and Caucasian: 0.03776429490715205\n"
          ]
        }
      ],
      "source": [
        "cali_X = New_X.loc[y_test.index]\n",
        "cali_X['label'] = y_test\n",
        "cali_X['pred'] = y_pred_test\n",
        "\n",
        "af_X = cali_X[cali_X.race=='African-American']\n",
        "ca_X =  cali_X[cali_X.race=='Caucasian']\n",
        "\n",
        "np.abs(accuracy_score(af_X.label, af_X.pred)-accuracy_score(ca_X.label, ca_X.pred))\n",
        "print(\"Caliberation of African American and Caucasian:\", np.abs(accuracy_score(af_X.label, af_X.pred)-accuracy_score(ca_X.label, ca_X.pred)))"
      ]
    },
    {
      "cell_type": "markdown",
      "metadata": {
        "id": "BtiacYOzzwy-"
      },
      "source": [
        "## Perform A4 (DM and DM-Sen)"
      ]
    },
    {
      "cell_type": "markdown",
      "metadata": {
        "id": "iiMfJFApaqpT"
      },
      "source": [
        "### A4-Disparate Mistreatment And Disparate Mistreatment (DM & DM-Sen)"
      ]
    },
    {
      "cell_type": "code",
      "execution_count": 93,
      "metadata": {
        "colab": {
          "base_uri": "https://localhost:8080/",
          "height": 0
        },
        "id": "sX1qhlDo1At7",
        "outputId": "ef8f9445-2a0f-4257-da10-50b30e04f107"
      },
      "outputs": [
        {
          "output_type": "stream",
          "name": "stdout",
          "text": [
            "--2023-04-12 21:14:10--  https://files.pythonhosted.org/packages/source/d/dccp/dccp-1.0.4.tar.gz\n",
            "Resolving files.pythonhosted.org (files.pythonhosted.org)... 151.101.1.63, 151.101.65.63, 151.101.129.63, ...\n",
            "Connecting to files.pythonhosted.org (files.pythonhosted.org)|151.101.1.63|:443... connected.\n",
            "HTTP request sent, awaiting response... 302 Found\n",
            "Location: https://files.pythonhosted.org/packages/b8/99/c0baff4de0ba858b2a2c8caab887afa123ddbd4cdec9187bbd4c1ae5d28e/dccp-1.0.4.tar.gz [following]\n",
            "--2023-04-12 21:14:10--  https://files.pythonhosted.org/packages/b8/99/c0baff4de0ba858b2a2c8caab887afa123ddbd4cdec9187bbd4c1ae5d28e/dccp-1.0.4.tar.gz\n",
            "Reusing existing connection to files.pythonhosted.org:443.\n",
            "HTTP request sent, awaiting response... 200 OK\n",
            "Length: 8025 (7.8K) [application/x-tar]\n",
            "Saving to: ‘dccp-1.0.4.tar.gz’\n",
            "\n",
            "\rdccp-1.0.4.tar.gz     0%[                    ]       0  --.-KB/s               \rdccp-1.0.4.tar.gz   100%[===================>]   7.84K  --.-KB/s    in 0s      \n",
            "\n",
            "2023-04-12 21:14:10 (62.5 MB/s) - ‘dccp-1.0.4.tar.gz’ saved [8025/8025]\n",
            "\n",
            "/content/dccp-1.0.4/dccp-1.0.4\n",
            "running install\n",
            "/usr/local/lib/python3.9/dist-packages/setuptools/command/install.py:34: SetuptoolsDeprecationWarning: setup.py install is deprecated. Use build and pip and other standards-based tools.\n",
            "  warnings.warn(\n",
            "/usr/local/lib/python3.9/dist-packages/setuptools/command/easy_install.py:144: EasyInstallDeprecationWarning: easy_install command is deprecated. Use build and pip and other standards-based tools.\n",
            "  warnings.warn(\n",
            "running bdist_egg\n",
            "running egg_info\n",
            "writing dccp.egg-info/PKG-INFO\n",
            "writing dependency_links to dccp.egg-info/dependency_links.txt\n",
            "writing requirements to dccp.egg-info/requires.txt\n",
            "writing top-level names to dccp.egg-info/top_level.txt\n",
            "reading manifest file 'dccp.egg-info/SOURCES.txt'\n",
            "writing manifest file 'dccp.egg-info/SOURCES.txt'\n",
            "installing library code to build/bdist.linux-x86_64/egg\n",
            "running install_lib\n",
            "running build_py\n",
            "creating build\n",
            "creating build/lib\n",
            "creating build/lib/dccp\n",
            "copying dccp/__init__.py -> build/lib/dccp\n",
            "copying dccp/problem.py -> build/lib/dccp\n",
            "copying dccp/linearize.py -> build/lib/dccp\n",
            "copying dccp/constraint.py -> build/lib/dccp\n",
            "copying dccp/objective.py -> build/lib/dccp\n",
            "creating build/bdist.linux-x86_64\n",
            "creating build/bdist.linux-x86_64/egg\n",
            "creating build/bdist.linux-x86_64/egg/dccp\n",
            "copying build/lib/dccp/__init__.py -> build/bdist.linux-x86_64/egg/dccp\n",
            "copying build/lib/dccp/problem.py -> build/bdist.linux-x86_64/egg/dccp\n",
            "copying build/lib/dccp/linearize.py -> build/bdist.linux-x86_64/egg/dccp\n",
            "copying build/lib/dccp/constraint.py -> build/bdist.linux-x86_64/egg/dccp\n",
            "copying build/lib/dccp/objective.py -> build/bdist.linux-x86_64/egg/dccp\n",
            "byte-compiling build/bdist.linux-x86_64/egg/dccp/__init__.py to __init__.cpython-39.pyc\n",
            "byte-compiling build/bdist.linux-x86_64/egg/dccp/problem.py to problem.cpython-39.pyc\n",
            "byte-compiling build/bdist.linux-x86_64/egg/dccp/linearize.py to linearize.cpython-39.pyc\n",
            "byte-compiling build/bdist.linux-x86_64/egg/dccp/constraint.py to constraint.cpython-39.pyc\n",
            "byte-compiling build/bdist.linux-x86_64/egg/dccp/objective.py to objective.cpython-39.pyc\n",
            "creating build/bdist.linux-x86_64/egg/EGG-INFO\n",
            "copying dccp.egg-info/PKG-INFO -> build/bdist.linux-x86_64/egg/EGG-INFO\n",
            "copying dccp.egg-info/SOURCES.txt -> build/bdist.linux-x86_64/egg/EGG-INFO\n",
            "copying dccp.egg-info/dependency_links.txt -> build/bdist.linux-x86_64/egg/EGG-INFO\n",
            "copying dccp.egg-info/not-zip-safe -> build/bdist.linux-x86_64/egg/EGG-INFO\n",
            "copying dccp.egg-info/pbr.json -> build/bdist.linux-x86_64/egg/EGG-INFO\n",
            "copying dccp.egg-info/requires.txt -> build/bdist.linux-x86_64/egg/EGG-INFO\n",
            "copying dccp.egg-info/top_level.txt -> build/bdist.linux-x86_64/egg/EGG-INFO\n",
            "creating dist\n",
            "creating 'dist/dccp-1.0.4-py3.9.egg' and adding 'build/bdist.linux-x86_64/egg' to it\n",
            "removing 'build/bdist.linux-x86_64/egg' (and everything under it)\n",
            "Processing dccp-1.0.4-py3.9.egg\n",
            "removing '/usr/local/lib/python3.9/dist-packages/dccp-1.0.4-py3.9.egg' (and everything under it)\n",
            "creating /usr/local/lib/python3.9/dist-packages/dccp-1.0.4-py3.9.egg\n",
            "Extracting dccp-1.0.4-py3.9.egg to /usr/local/lib/python3.9/dist-packages\n",
            "dccp 1.0.4 is already the active version in easy-install.pth\n",
            "\n",
            "Installed /usr/local/lib/python3.9/dist-packages/dccp-1.0.4-py3.9.egg\n",
            "Processing dependencies for dccp==1.0.4\n",
            "Searching for cvxpy==1.3.1\n",
            "Best match: cvxpy 1.3.1\n",
            "Adding cvxpy 1.3.1 to easy-install.pth file\n",
            "\n",
            "Using /usr/local/lib/python3.9/dist-packages\n",
            "Searching for setuptools==67.6.1\n",
            "Best match: setuptools 67.6.1\n",
            "Adding setuptools 67.6.1 to easy-install.pth file\n",
            "\n",
            "Using /usr/local/lib/python3.9/dist-packages\n",
            "Searching for scipy==1.10.1\n",
            "Best match: scipy 1.10.1\n",
            "Adding scipy 1.10.1 to easy-install.pth file\n",
            "\n",
            "Using /usr/local/lib/python3.9/dist-packages\n",
            "Searching for numpy==1.22.4\n",
            "Best match: numpy 1.22.4\n",
            "Adding numpy 1.22.4 to easy-install.pth file\n",
            "Installing f2py script to /usr/local/bin\n",
            "Installing f2py3 script to /usr/local/bin\n",
            "Installing f2py3.9 script to /usr/local/bin\n",
            "\n",
            "Using /usr/local/lib/python3.9/dist-packages\n",
            "Searching for scs==3.2.3\n",
            "Best match: scs 3.2.3\n",
            "Adding scs 3.2.3 to easy-install.pth file\n",
            "\n",
            "Using /usr/local/lib/python3.9/dist-packages\n",
            "Searching for ecos==2.0.12\n",
            "Best match: ecos 2.0.12\n",
            "Adding ecos 2.0.12 to easy-install.pth file\n",
            "\n",
            "Using /usr/local/lib/python3.9/dist-packages\n",
            "Searching for osqp==0.6.2.post0\n",
            "Best match: osqp 0.6.2.post0\n",
            "Adding osqp 0.6.2.post0 to easy-install.pth file\n",
            "\n",
            "Using /usr/local/lib/python3.9/dist-packages\n",
            "Searching for qdldl==0.1.7\n",
            "Best match: qdldl 0.1.7\n",
            "Adding qdldl 0.1.7 to easy-install.pth file\n",
            "\n",
            "Using /usr/local/lib/python3.9/dist-packages\n",
            "Finished processing dependencies for dccp==1.0.4\n",
            "Looking in indexes: https://pypi.org/simple, https://us-python.pkg.dev/colab-wheels/public/simple/\n",
            "Requirement already satisfied: utils in /usr/local/lib/python3.9/dist-packages (1.0.1)\n"
          ]
        }
      ],
      "source": [
        "#downloading dccp package\n",
        "\n",
        "!wget https://files.pythonhosted.org/packages/source/d/dccp/dccp-1.0.4.tar.gz\n",
        "!tar -xf dccp-1.0.4.tar.gz\n",
        "%cd dccp-1.0.4/\n",
        "!sed -i 's/use_2to3=True,//g' setup.py\n",
        "!python setup.py install\n",
        "!pip install utils"
      ]
    },
    {
      "cell_type": "code",
      "execution_count": 94,
      "metadata": {
        "id": "jlFQNIkt09Ue"
      },
      "outputs": [],
      "source": [
        "import numpy as np\n",
        "import pandas as pd\n",
        "import matplotlib.pyplot as plt\n",
        "import seaborn as sns\n",
        "import traceback\n",
        "import dccp\n",
        "from copy import deepcopy\n",
        "from sklearn.model_selection import train_test_split\n",
        "from sklearn.preprocessing import StandardScaler, MinMaxScaler, OrdinalEncoder, OneHotEncoder\n",
        "from sklearn.pipeline import make_pipeline\n",
        "import cvxpy\n",
        "import sys\n",
        "import os\n",
        "from sklearn import preprocessing\n",
        "from sklearn.compose import ColumnTransformer"
      ]
    },
    {
      "cell_type": "code",
      "execution_count": 95,
      "metadata": {
        "id": "uV381YqN0L_2"
      },
      "outputs": [],
      "source": [
        "def data_preprocessing(df, features, cate_features, cont_features, sensitive_feature, predicted_feature):\n",
        "    df = df.dropna(subset=cont_features)\n",
        "    df = df.loc[:, features + [predicted_feature]]\n",
        "    df = df.loc[(df.race==\"African-American\")|(df.race==\"Caucasian\")]\n",
        "    df.reset_index(drop=True,inplace=True)\n",
        "    \n",
        "    data = {}\n",
        "    for k in df.keys():\n",
        "      data[k] = np.array(df[k].tolist())\n",
        "    \n",
        "    y = data[predicted_feature]\n",
        "    y[y == 0] = -1\n",
        "    z=0\n",
        "    \n",
        "    X = np.array([]).reshape(len(y), 0)\n",
        "    X_cate = np.array([]).reshape(len(y), 0)\n",
        "\n",
        "    for feature in cate_features:\n",
        "      value = data[feature]\n",
        "      lb = LabelBinarizer()\n",
        "      value = lb.fit_transform(value)\n",
        "      X_cate = np.hstack((X_cate, value))\n",
        "    \n",
        "    X = np.hstack((X, X_cate))\n",
        "    X_cont = np.array([]).reshape(len(y), 0)\n",
        "    for feature in cont_features:\n",
        "      value = data[feature]\n",
        "      value = [float(v) for v in value]\n",
        "      value = scale(value)\n",
        "      value = np.reshape(value, (len(y), -1))\n",
        "      X_cont = np.hstack((X_cont, value))\n",
        "\n",
        "    X = np.hstack((X, X_cont))\n",
        "    X = np.concatenate((np.ones((X.shape[0], 1)), X), axis=1)\n",
        "\n",
        "    v = data[sensitive_feature]\n",
        "    lb.fit(v)\n",
        "    v = lb.transform(v)\n",
        "    z = np.array(v).flatten()\n",
        "\n",
        "\n",
        "    return X, y, z\n"
      ]
    },
    {
      "cell_type": "code",
      "source": [
        "from sklearn.preprocessing import StandardScaler, MinMaxScaler, OrdinalEncoder, OneHotEncoder, scale, LabelBinarizer"
      ],
      "metadata": {
        "id": "El9SnTBwNAoO"
      },
      "execution_count": 96,
      "outputs": []
    },
    {
      "cell_type": "code",
      "execution_count": 97,
      "metadata": {
        "colab": {
          "base_uri": "https://localhost:8080/",
          "height": 0
        },
        "id": "QDt1tszS0RPQ",
        "outputId": "cbc56045-8e1c-4a39-c24c-e1ac698f8ac1"
      },
      "outputs": [
        {
          "output_type": "stream",
          "name": "stdout",
          "text": [
            "(6150, 8) (6150,) (6150,)\n"
          ]
        }
      ],
      "source": [
        "url = \"https://raw.githubusercontent.com/propublica/compas-analysis/master/compas-scores-two-years.csv\"\n",
        "df = pd.read_csv(url)\n",
        "\n",
        "features = [\"age\", \"race\", \"sex\", \"priors_count\", \"c_charge_degree\",\"score_text\"]\n",
        "cate_features = [\"sex\", \"c_charge_degree\", \"score_text\"]\n",
        "cont_features = [\"age\", \"priors_count\"]\n",
        "predicted_feature = \"two_year_recid\"\n",
        "sensitive_feature = \"race\"\n",
        "\n",
        "X,y,x_race = data_preprocessing(df, features, cate_features, cont_features, sensitive_feature, predicted_feature)\n",
        "z          = np.array(x_race).reshape(-1, 1)\n",
        "X_sen      = np.append(X, z, axis=1)\n",
        "\n",
        "X_train,     X_test,     y_train,     y_test,     x_race_train,     x_race_test     = train_test_split(X,    y,x_race,test_size=0.2,random_state=5243)\n",
        "X_train_sen, X_test_sen, y_train_sen, y_test_sen, x_race_train_sen, x_race_test_sen = train_test_split(X_sen,y,x_race,test_size=0.2,random_state=5243)\n",
        "\n",
        "print(X.shape, y.shape, x_race.shape)"
      ]
    },
    {
      "cell_type": "code",
      "execution_count": 98,
      "metadata": {
        "id": "Oq0GIwUQ1KFH"
      },
      "outputs": [],
      "source": [
        "def get_constraint_list_cov(x_train, y_train, x_control_train, sensitive_attrs_to_cov_thresh, cons_type, w):\n",
        "\n",
        "    \"\"\"\n",
        "    get the list of constraints to be fed to the minimizer\n",
        "    cons_type == 0: means the whole combined misclassification constraint (without FNR or FPR)\n",
        "    cons_type == 1: FPR constraint\n",
        "    cons_type == 2: FNR constraint\n",
        "    cons_type == 4: both FPR as well as FNR constraints\n",
        "    sensitive_attrs_to_cov_thresh: is a dict like {s: {cov_type: val}}\n",
        "    s is the sensitive attr\n",
        "    cov_type is the covariance type. contains the covariance for all misclassifications, FPR and for FNR etc\n",
        "    \"\"\"\n",
        "\n",
        "    constraints = []\n",
        "\n",
        "    attr_arr = x_control_train\n",
        "    attr_arr_transformed, index_dict = get_one_hot_encoding(attr_arr)\n",
        "            \n",
        "    if index_dict is None: # binary attribute, in this case, the attr_arr_transformed is the same as the attr_arr\n",
        "\n",
        "        s_val_to_total = {ct:{} for ct in [0,1,2]} # constrain type -> sens_attr_val -> total number\n",
        "        s_val_to_avg = {ct:{} for ct in [0,1,2]}\n",
        "        cons_sum_dict = {ct:{} for ct in [0,1,2]} # sum of entities (females and males) in constraints are stored here\n",
        "\n",
        "        for v in set(attr_arr):\n",
        "            s_val_to_total[0][v] = sum(x_control_train == v)\n",
        "            s_val_to_total[1][v] = sum(np.logical_and(x_control_train == v, y_train == -1)) # FPR constraint so we only consider the ground truth negative dataset for computing the covariance\n",
        "            s_val_to_total[2][v] = sum(np.logical_and(x_control_train == v, y_train == +1))\n",
        "\n",
        "\n",
        "        for ct in [0,1,2]:\n",
        "            s_val_to_avg[ct][0] = s_val_to_total[ct][1] / float(s_val_to_total[ct][0] + s_val_to_total[ct][1]) # N1/N in our formulation, differs from one constraint type to another\n",
        "            s_val_to_avg[ct][1] = 1.0 - s_val_to_avg[ct][0] # N0/N\n",
        "\n",
        "        \n",
        "        for v in set(attr_arr):\n",
        "\n",
        "            idx = x_control_train == v                \n",
        "\n",
        "            dist_bound_prod = cvxpy.multiply(y_train[idx], x_train[idx] * w) # y.f(x)\n",
        "            \n",
        "            cons_sum_dict[0][v] = cvxpy.sum( cvxpy.minimum(0, dist_bound_prod) ) * (s_val_to_avg[0][v] / len(x_train)) # avg misclassification distance from boundary\n",
        "            cons_sum_dict[1][v] = cvxpy.sum( cvxpy.minimum(0, cvxpy.multiply( (1 - y_train[idx])/2.0, dist_bound_prod) ) ) * (s_val_to_avg[1][v] / sum(y_train == -1)) # avg false positive distance from boundary (only operates on the ground truth neg dataset)\n",
        "            cons_sum_dict[2][v] = cvxpy.sum( cvxpy.minimum(0, cvxpy.multiply( (1 + y_train[idx])/2.0, dist_bound_prod) ) ) * (s_val_to_avg[2][v] / sum(y_train == +1)) # avg false negative distance from boundary\n",
        "\n",
        "            \n",
        "        if cons_type == 4:\n",
        "            cts = [1,2]\n",
        "        elif cons_type in [0,1,2]:\n",
        "            cts = [cons_type]\n",
        "        \n",
        "        else:\n",
        "            raise Exception(\"Invalid constraint type\")\n",
        "\n",
        "\n",
        "        for ct in cts:\n",
        "            thresh = abs(sensitive_attrs_to_cov_thresh[ct][1] - sensitive_attrs_to_cov_thresh[ct][0])\n",
        "            constraints.append( cons_sum_dict[ct][1] <= cons_sum_dict[ct][0]  + thresh )\n",
        "            constraints.append( cons_sum_dict[ct][1] >= cons_sum_dict[ct][0]  - thresh )\n",
        "\n",
        "\n",
        "    return constraints"
      ]
    },
    {
      "cell_type": "code",
      "execution_count": 99,
      "metadata": {
        "id": "k-ak8bs01OcT"
      },
      "outputs": [],
      "source": [
        "def get_distance_boundary(w, x, s_attr_arr):\n",
        "\n",
        "    \"\"\"\n",
        "        if we have boundaries per group, then use those separate boundaries for each sensitive group\n",
        "        else, use the same weight vector for everything\n",
        "    \"\"\"\n",
        "\n",
        "    distances_boundary = np.zeros(x.shape[0])\n",
        "    if isinstance(w, dict): # if we have separate weight vectors per group\n",
        "        for k in w.keys():  # for each w corresponding to each sensitive group\n",
        "            d = np.dot(x, w[k])\n",
        "            distances_boundary[s_attr_arr == k] = d[s_attr_arr == k] # set this distance only for people with this sensitive attr val\n",
        "    else: # we just learn one w for everyone else\n",
        "        distances_boundary = np.dot(x, w)\n",
        "    return distances_boundary"
      ]
    },
    {
      "cell_type": "code",
      "execution_count": 102,
      "metadata": {
        "id": "QLyXJBrM1RFC"
      },
      "outputs": [],
      "source": [
        "#define a linear SVM and return corresponding loss function\n",
        "\n",
        "def linear_svm(X, y, C, w):\n",
        "    \"\"\"\n",
        "    Trains a linear SVM using CVXPY.\n",
        "    \n",
        "    Parameters:\n",
        "        X (ndarray): A numpy array of shape (num_examples, num_features) containing the training data.\n",
        "        y (ndarray): A numpy array of shape (num_examples,) containing the labels (+1 or -1) for the training data.\n",
        "        C (float): The regularization parameter for the SVM.\n",
        "        \n",
        "    Returns:\n",
        "        w (ndarray): A numpy array of shape (num_features,) containing the learned weight vector.\n",
        "        b (float): The learned intercept term.\n",
        "        svm_loss (float): The SVM loss on the training data.\n",
        "    \"\"\"\n",
        "    \n",
        "    # Define the variables\n",
        "    n = X.shape[1]\n",
        "    b = cvxpy.Variable()\n",
        "    \n",
        "    # Define the SVM objective and constraints\n",
        "    objective = cvxpy.Minimize(cvxpy.sum(cvxpy.pos(1 - cvxpy.multiply(y, X @ w + b))))\n",
        "    constraints = [cvxpy.norm(w, 2) <= C]\n",
        "    \n",
        "    # Define the problem and solve it\n",
        "    problem = cvxpy.Problem(objective, constraints)\n",
        "    problem.solve()\n",
        "    \n",
        "    # Retrieve the learned parameters\n",
        "    w_star = w.value\n",
        "    b_star = b.value\n",
        "    \n",
        "    # Compute the SVM loss on the training data\n",
        "    num_points = X.shape[0]\n",
        "    svm_loss = cvxpy.sum(cvxpy.pos(1 - cvxpy.multiply(y, X @ w_star + b_star))) / num_points\n",
        "    \n",
        "    return svm_loss"
      ]
    },
    {
      "cell_type": "code",
      "execution_count": 101,
      "metadata": {
        "id": "Mgs7sVaX1V-1"
      },
      "outputs": [],
      "source": [
        "#adding choices of loss_function\n",
        "\n",
        "def train_model(X,y,x_sensitive_feature,eps,loss_function,constraint_params=None):\n",
        "    max_iters = 200 \n",
        "    max_iter_dccp = 50 \n",
        "\n",
        "    \n",
        "    num_points, num_features = X.shape\n",
        "    w = cvxpy.Variable(num_features)\n",
        "\n",
        "    np.random.seed(5243)\n",
        "    w.value = np.random.rand(X.shape[1])\n",
        "\n",
        "    if loss_function == \"logreg\":\n",
        "      # constructing the logistic loss problem\n",
        "      loss = cvxpy.sum(cvxpy.logistic(cvxpy.multiply(-y, X*w) )  ) / num_points \n",
        "    if loss_function == \"svm\":\n",
        "      # giving user choice of logistic regreesion and svm as a baseline model\n",
        "      loss =linear_svm(X, y, 1.0, w)\n",
        "\n",
        "\n",
        "    if constraint_params is None: # just train a simple classifier, no fairness constraints\n",
        "        constraints = []\n",
        "    else:\n",
        "        constraints = get_constraint_list_cov(X, y, x_sensitive_feature, constraint_params[\"sensitive_attrs_to_cov_thresh\"], constraint_params[\"cons_type\"], w)\n",
        "    p = cvxpy.Problem(cvxpy.Minimize(loss), [])\n",
        "    p.solve()\n",
        "\n",
        "    prob = cvxpy.Problem(cvxpy.Minimize(loss), constraints)\n",
        "    try:\n",
        "        tau, mu = 0.005, 1.2 # default dccp parameters, need to be varied per dataset\n",
        "        if constraint_params is not None: # in case we passed these parameters as a part of dccp constraints\n",
        "            if constraint_params.get(\"tau\") is not None: tau = constraint_params[\"tau\"]\n",
        "            if constraint_params.get(\"mu\") is not None: mu = constraint_params[\"mu\"]\n",
        "\n",
        "        prob.solve(method='dccp', tau=tau, mu=mu, tau_max=1e10,\n",
        "            solver=cvxpy.ECOS, verbose=False, \n",
        "            feastol=eps, abstol=eps, reltol=eps,feastol_inacc=eps, abstol_inacc=eps, reltol_inacc=eps,\n",
        "            max_iters=max_iters, max_iter=max_iter_dccp)\n",
        "\n",
        "        \n",
        "        assert(prob.status == \"Converged\" or prob.status == \"optimal\")\n",
        "\n",
        "    except:\n",
        "        traceback.print_exc()\n",
        "        sys.stdout.flush()\n",
        "        sys.exit(1)\n",
        "    w = np.array(w.value).flatten() \n",
        "\n",
        "    return w"
      ]
    },
    {
      "cell_type": "code",
      "execution_count": 11,
      "metadata": {
        "id": "JdRLesCY1Ywt"
      },
      "outputs": [],
      "source": [
        "def get_clf_stats(w, x_train, y_train, x_control_train, x_test, y_test, x_control_test):\n",
        "\n",
        "\n",
        "    # compute distance from boundary\n",
        "    distances_boundary_train = get_distance_boundary(w, x_train, x_control_train)\n",
        "    distances_boundary_test = get_distance_boundary(w, x_test, x_control_test)\n",
        "\n",
        "    # compute the class labels\n",
        "    all_class_labels_assigned_train = np.sign(distances_boundary_train)\n",
        "    all_class_labels_assigned_test = np.sign(distances_boundary_test)\n",
        "\n",
        "\n",
        "    train_score, test_score, correct_answers_train, correct_answers_test = check_accuracy(None, x_train, y_train, x_test, y_test, all_class_labels_assigned_train, all_class_labels_assigned_test)\n",
        "\n",
        "  \n",
        "        \n",
        "    print_stats = False \n",
        "    s_attr_to_fp_fn_train = get_fpr_fnr_sensitive_features(y_train, all_class_labels_assigned_train, x_control_train, print_stats)\n",
        "    cov_all_train = get_sensitive_attr_constraint_fpr_fnr_cov(None, x_train, y_train, distances_boundary_train, x_control_train) \n",
        "    \n",
        "\n",
        "    print(\"\\n\")\n",
        "    print(f\"Accuracy:{test_score}\")\n",
        "    print_stats = True # only print stats for the test fold\n",
        "    s_attr_to_fp_fn_test = get_fpr_fnr_sensitive_features(y_test, all_class_labels_assigned_test, x_control_test, print_stats)\n",
        "    cov_all_test = get_sensitive_attr_constraint_fpr_fnr_cov(None, x_test, y_test, distances_boundary_test, x_control_test) \n",
        "    print(\"\\n\")\n",
        "\n",
        "    return train_score, test_score, cov_all_train, cov_all_test, s_attr_to_fp_fn_train, s_attr_to_fp_fn_test"
      ]
    },
    {
      "cell_type": "code",
      "execution_count": 103,
      "metadata": {
        "id": "qyaQsUxb1co2"
      },
      "outputs": [],
      "source": [
        "def get_fpr_fnr_sensitive_features(y_true, y_pred, x_control, verbose = False):\n",
        "\n",
        "    # we will make some changes to x_control in this function, so make a copy in order to preserve the origianl referenced object\n",
        "    x_control_internal = deepcopy(x_control)\n",
        "\n",
        "    s_attr_to_fp_fn = {}\n",
        "    \n",
        "    s_attr_vals = x_control_internal\n",
        "    for s_val in sorted(list(set(s_attr_vals))):\n",
        "        s_attr_to_fp_fn[s_val] = {}\n",
        "        y_true_local = y_true[s_attr_vals==s_val]\n",
        "        y_pred_local = y_pred[s_attr_vals==s_val]\n",
        "\n",
        "        \n",
        "\n",
        "        acc = float(sum(y_true_local==y_pred_local)) / len(y_true_local)\n",
        "\n",
        "        fp = sum(np.logical_and(y_true_local == -1.0, y_pred_local == +1.0)) # something which is -ve but is misclassified as +ve\n",
        "        fn = sum(np.logical_and(y_true_local == +1.0, y_pred_local == -1.0)) # something which is +ve but is misclassified as -ve\n",
        "        tp = sum(np.logical_and(y_true_local == +1.0, y_pred_local == +1.0)) # something which is +ve AND is correctly classified as +ve\n",
        "        tn = sum(np.logical_and(y_true_local == -1.0, y_pred_local == -1.0)) # something which is -ve AND is correctly classified as -ve\n",
        "\n",
        "        all_neg = sum(y_true_local == -1.0)\n",
        "        all_pos = sum(y_true_local == +1.0)\n",
        "\n",
        "        fpr = float(fp) / float(fp + tn)\n",
        "        fnr = float(fn) / float(fn + tp)\n",
        "        tpr = float(tp) / float(tp + fn)\n",
        "        tnr = float(tn) / float(tn + fp)\n",
        "\n",
        "\n",
        "        s_attr_to_fp_fn[s_val][\"fp\"] = fp\n",
        "        s_attr_to_fp_fn[s_val][\"fn\"] = fn\n",
        "        s_attr_to_fp_fn[s_val][\"fpr\"] = fpr\n",
        "        s_attr_to_fp_fn[s_val][\"fnr\"] = fnr\n",
        "\n",
        "        s_attr_to_fp_fn[s_val][\"acc\"] = (tp + tn) / (tp + tn + fp + fn)\n",
        "\n",
        "    return s_attr_to_fp_fn"
      ]
    },
    {
      "cell_type": "code",
      "execution_count": 104,
      "metadata": {
        "id": "sUdIMyro1ecP"
      },
      "outputs": [],
      "source": [
        "\n",
        "def get_sensitive_attr_constraint_fpr_fnr_cov(model, x_arr, y_arr_true, y_arr_dist_boundary, x_control_arr, verbose=False):\n",
        "       \n",
        "    assert(x_arr.shape[0] == x_control_arr.shape[0])\n",
        "    if len(x_control_arr.shape) > 1: # make sure we just have one column in the array\n",
        "        assert(x_control_arr.shape[1] == 1)\n",
        "    if len(set(x_control_arr)) != 2: # non binary attr\n",
        "        raise Exception(\"Non binary attr, fix to handle non bin attrs\")\n",
        "\n",
        "    \n",
        "    arr = []\n",
        "    if model is None:\n",
        "        arr = y_arr_dist_boundary * y_arr_true # simply the output labels\n",
        "    else:\n",
        "        arr = np.dot(model, x_arr.T) * y_arr_true # the product with the weight vector -- the sign of this is the output label\n",
        "    arr = np.array(arr)\n",
        "\n",
        "    s_val_to_total = {ct:{} for ct in [0,1,2]}\n",
        "    s_val_to_avg = {ct:{} for ct in [0,1,2]}\n",
        "    cons_sum_dict = {ct:{} for ct in [0,1,2]} # sum of entities (females and males) in constraints are stored here\n",
        "\n",
        "    for v in set(x_control_arr):\n",
        "        s_val_to_total[0][v] = sum(x_control_arr == v)\n",
        "        s_val_to_total[1][v] = sum(np.logical_and(x_control_arr == v, y_arr_true == -1))\n",
        "        s_val_to_total[2][v] = sum(np.logical_and(x_control_arr == v, y_arr_true == +1))\n",
        "\n",
        "\n",
        "    for ct in [0,1,2]:\n",
        "        s_val_to_avg[ct][0] = s_val_to_total[ct][1] / float(s_val_to_total[ct][0] + s_val_to_total[ct][1]) # N1 / N\n",
        "        s_val_to_avg[ct][1] = 1.0 - s_val_to_avg[ct][0] # N0 / N\n",
        "\n",
        "    \n",
        "    for v in set(x_control_arr):\n",
        "        idx = x_control_arr == v\n",
        "        dist_bound_prod = arr[idx]\n",
        "\n",
        "        cons_sum_dict[0][v] = sum( np.minimum(0, dist_bound_prod) ) * (s_val_to_avg[0][v] / len(x_arr))\n",
        "        cons_sum_dict[1][v] = sum( np.minimum(0, ( (1 - y_arr_true[idx]) / 2 ) * dist_bound_prod) ) * (s_val_to_avg[1][v] / sum(y_arr_true == -1))\n",
        "        cons_sum_dict[2][v] = sum( np.minimum(0, ( (1 + y_arr_true[idx]) / 2 ) * dist_bound_prod) ) * (s_val_to_avg[2][v] / sum(y_arr_true == +1))\n",
        "        \n",
        "\n",
        "    cons_type_to_name = {0:\"ALL\", 1:\"FPR\", 2:\"FNR\"}\n",
        "    for cons_type in [0,1,2]:\n",
        "        cov_type_name = cons_type_to_name[cons_type]    \n",
        "        cov = cons_sum_dict[cons_type][1] - cons_sum_dict[cons_type][0]\n",
        "        \n",
        "    return cons_sum_dict\n",
        "\n"
      ]
    },
    {
      "cell_type": "markdown",
      "source": [
        "This function calculates fairness constraints based on false positive rate (FPR), false negative rate (FNR), and overall accuracy (ALL).\n",
        "\n",
        "The inputs to the function are:\n",
        "\n",
        "model: A linear model that has been trained on the input data, or None if the predicted labels should be used directly.\n",
        "x_arr: A numpy array containing the input features.\n",
        "y_arr_true: A numpy array containing the ground truth labels.\n",
        "y_arr_dist_boundary: A numpy array containing the distances of each data point from the decision boundary.\n",
        "x_control_arr: A numpy array containing the binary sensitive attribute values.\n",
        "verbose: A boolean flag indicating whether to print intermediate outputs.\n",
        "The function starts by checking that x_arr and x_control_arr have the same length and x_control_arr is a binary attribute.\n",
        "\n",
        "Next, the function calculates the predicted labels or distances from the decision boundary based on the input model. If the model is None, it simply uses y_arr_dist_boundary * y_arr_true to obtain the predicted labels. Otherwise, it multiplies the weight vector of the model with the input features and the ground truth labels to obtain the predicted labels.\n",
        "\n",
        "The function then calculates the total number of data points and the number of data points with each label for each binary value of the sensitive attribute. It also calculates the average proportion of data points with a particular label for each binary value of the sensitive attribute.\n",
        "\n",
        "Finally, for each binary value of the sensitive attribute, the function calculates the sum of the constraints based on FPR, FNR, and ALL. The constraint sum for ALL is simply the difference between the proportion of true positives and false positives for that binary value of the sensitive attribute. The constraint sum for FPR is the sum of the product of the distances of the false positives from the decision boundary and the proportion of data points with the sensitive attribute value and the false positive label. The constraint sum for FNR is the sum of the product of the distances of the false negatives from the decision boundary and the proportion of data points with the sensitive attribute value and the false negative label.\n",
        "\n",
        "The function returns a dictionary containing the constraint sums for each binary value of the sensitive attribute and for each type of constraint."
      ],
      "metadata": {
        "id": "whT2zt9EUzHa"
      }
    },
    {
      "cell_type": "code",
      "execution_count": 105,
      "metadata": {
        "id": "bI0xZ9rF1e-E"
      },
      "outputs": [],
      "source": [
        "def get_one_hot_encoding(in_arr):\n",
        "    in_arr = np.array(in_arr, dtype=int)\n",
        "    unique_vals = np.unique(in_arr)\n",
        "    num_unique_vals = len(unique_vals)\n",
        "\n",
        "    if num_unique_vals == 2 and 0 in unique_vals and 1 in unique_vals:\n",
        "        # Binary case\n",
        "        return in_arr, None\n",
        "\n",
        "    index_dict = {val: i for i, val in enumerate(unique_vals)}\n",
        "    out_arr = np.zeros((len(in_arr), num_unique_vals), dtype=int)\n",
        "\n",
        "    for i, val in enumerate(in_arr):\n",
        "        out_arr[i, index_dict[val]] = 1\n",
        "\n",
        "    return out_arr, index_dict"
      ]
    },
    {
      "cell_type": "code",
      "execution_count": 107,
      "metadata": {
        "id": "-gZ14fuq1uke"
      },
      "outputs": [],
      "source": [
        "def check_accuracy(model, x_train, y_train, x_test, y_test, y_train_predicted, y_test_predicted):\n",
        "    if model is not None and y_test_predicted is not None:\n",
        "        raise Exception(\"Both of the model (w) and the predicted labels should be None\")\n",
        "\n",
        "    if model is not None:\n",
        "        y_test_predicted = np.sign(np.dot(x_test, model))\n",
        "        y_train_predicted = np.sign(np.dot(x_train, model))\n",
        "\n",
        "    train_correct_answers = (y_train_predicted == y_train).astype(int)\n",
        "    correct_answers_train = sum(train_correct_answers)\n",
        "    test_correct_answers  = (y_test_predicted == y_test).astype(int)\n",
        "    correct_answers_test  = sum(test_correct_answers)\n",
        "\n",
        "    train_accuracy = float(sum(train_correct_answers)) / float(len(train_correct_answers))\n",
        "    test_accuracy = float(sum(test_correct_answers)) / float(len(test_correct_answers))\n",
        "\n",
        "    return train_accuracy, test_accuracy, correct_answers_train, correct_answers_test\n",
        "\n"
      ]
    },
    {
      "cell_type": "markdown",
      "source": [
        "This code defines a function called check_accuracy which takes several input arguments: model (a weight vector), x_train and x_test (input training and testing data), y_train and y_test (true labels for training and testing data), y_train_predicted and y_test_predicted (predicted labels for training and testing data).\n",
        "\n",
        "The function first checks whether both the model and y_test_predicted are not None. If this is the case, it raises an exception.\n",
        "\n",
        "If the model is not None, then the predicted labels are computed using the dot product of the weight vector and the input data. The np.sign() function is applied to the computed values to obtain the predicted labels.\n",
        "\n",
        "The function then computes the number of correct answers for both the training and testing data, and the accuracy of the model on the training and testing data. The number of correct answers is computed by comparing the predicted labels with the true labels and converting the resulting boolean array to an array of integers using astype(int). The accuracy is then computed by dividing the number of correct answers by the total number of answers.\n",
        "\n",
        "The function returns the training and testing accuracies, as well as the number of correct answers for both the training and testing data."
      ],
      "metadata": {
        "id": "WFgdE66lU7ea"
      }
    },
    {
      "cell_type": "code",
      "execution_count": 108,
      "metadata": {
        "id": "Lsc0DfOp1xdH"
      },
      "outputs": [],
      "source": [
        "def run_experiments(loss_function, X_train, y_train, x_race_train, X_test, y_test, x_race_test, eps, tau, mu,sensitive_attrs_to_cov_thresh):\n",
        "    constraint_name = {-1:\"No Constraint\",0:\"Misclassification\",1:\"Only FPR\",2:\"Only FNR\",4:\"Both FPR and FNR\"}\n",
        "    summary = pd.DataFrame(columns=[\"Model\",\n",
        "                                    \"Constraint_type\",\n",
        "                                    \"Overall Accuracy\", \"Race 0 Accuracy\", \"Race 1 Accuracy\", \"Accuracy Diff\",\n",
        "                                                        \"Race 0 FPR\",      \"Race 1 FPR\", \"FPR Diff\",\n",
        "                                                        \"Race 0 FNR\",      \"Race 1 FNR\", \"FNR Diff\"])\n",
        "    # \"sensitive_attrs_to_cov_thresh\": sensitive_attrs_to_cov_thresh\n",
        "\n",
        "    for i in [-1, 0, 1, 2, 4]:\n",
        "        constraint_params = None if i == -1 else {\"cons_type\": i, \"tau\": tau, \"mu\": mu, \"sensitive_attrs_to_cov_thresh\": sensitive_attrs_to_cov_thresh}\n",
        "\n",
        "        w = train_model(X_train, y_train, x_race_train, eps, loss_function, constraint_params)\n",
        "\n",
        "        train_accuracy, test_accuracy, cov_all_train, cov_all_test, s_attr_to_fp_fn_train, s_attr_to_fp_fn_test = get_clf_stats(w, X_train, y_train, x_race_train, X_test, y_test, x_race_test)\n",
        "\n",
        "        summary = summary.append({\"Model\": loss_function,\n",
        "                                  \"Constraint_type\":constraint_name[i],\n",
        "                                  \n",
        "                                  \"Overall Accuracy\": test_accuracy,\n",
        "                                  \"Race 0 Accuracy\": s_attr_to_fp_fn_test[0]['acc'], \n",
        "                                  \"Race 1 Accuracy\": s_attr_to_fp_fn_test[1]['acc'], \n",
        "                                  \"Accuracy Diff\":   s_attr_to_fp_fn_test[0]['acc']-s_attr_to_fp_fn_test[1]['acc'],\n",
        "\n",
        "                                  \"Race 0 FPR\" :s_attr_to_fp_fn_test[0]['fpr'],\n",
        "                                  \"Race 1 FPR\" :s_attr_to_fp_fn_test[1]['fpr'],\n",
        "                                  \"FPR Diff\"   :s_attr_to_fp_fn_test[0]['fpr'] - s_attr_to_fp_fn_test[1]['fpr'],\n",
        "\n",
        "                                  \"Race 0 FNR\" :s_attr_to_fp_fn_test[0]['fnr'],\n",
        "                                  \"Race 1 FNR\" :s_attr_to_fp_fn_test[1]['fnr'],\n",
        "                                  \"FNR Diff\"   :s_attr_to_fp_fn_test[0]['fnr'] - s_attr_to_fp_fn_test[1]['fnr']\n",
        "                                  },\n",
        "                                     ignore_index=True)\n",
        "\n",
        "\n",
        "    return summary"
      ]
    },
    {
      "cell_type": "code",
      "execution_count": 109,
      "metadata": {
        "id": "CkfE5iIP4UA7"
      },
      "outputs": [],
      "source": [
        "eps = 1e-5\n",
        "tau = 5.0\n",
        "mu = 1.2\n",
        "sensitive_attrs_to_cov_thresh = {0:{0:0, 1:0}, 1:{0:0, 1:0}, 2:{0:0, 1:0}} # zero covariance threshold, means try to get the fairest solution"
      ]
    },
    {
      "cell_type": "markdown",
      "source": [
        "### A4-Disparate Mistreatment (DM)"
      ],
      "metadata": {
        "id": "AMS7q4OvPjY_"
      }
    },
    {
      "cell_type": "code",
      "execution_count": 110,
      "metadata": {
        "colab": {
          "base_uri": "https://localhost:8080/",
          "height": 640
        },
        "id": "sD4XM4NP6IBJ",
        "outputId": "836ae68e-52e0-4a9f-c46f-0fb9e5bb0445"
      },
      "outputs": [
        {
          "output_type": "stream",
          "name": "stdout",
          "text": [
            "\n",
            "\n",
            "Accuracy:0.6447154471544716\n",
            "\n",
            "\n",
            "\n",
            "\n",
            "Accuracy:0.6463414634146342\n",
            "\n",
            "\n",
            "\n",
            "\n",
            "Accuracy:0.6398373983739838\n",
            "\n",
            "\n",
            "\n",
            "\n",
            "Accuracy:0.6382113821138211\n",
            "\n",
            "\n",
            "\n",
            "\n",
            "Accuracy:0.6398373983739838\n",
            "\n",
            "\n"
          ]
        },
        {
          "output_type": "execute_result",
          "data": {
            "text/plain": [
              "  Model    Constraint_type  Overall Accuracy  Race 0 Accuracy  \\\n",
              "0   svm      No Constraint          0.644715         0.641587   \n",
              "1   svm  Misclassification          0.646341         0.642955   \n",
              "2   svm           Only FPR          0.639837         0.640219   \n",
              "3   svm           Only FNR          0.638211         0.637483   \n",
              "4   svm   Both FPR and FNR          0.639837         0.640219   \n",
              "\n",
              "   Race 1 Accuracy  Accuracy Diff  Race 0 FPR  Race 1 FPR  FPR Diff  \\\n",
              "0         0.649299      -0.007712    0.411917    0.258786  0.153131   \n",
              "1         0.651303      -0.008348    0.409326    0.255591  0.153735   \n",
              "2         0.639279       0.000940    0.417098    0.271565  0.145533   \n",
              "3         0.639279      -0.001796    0.430052    0.277955  0.152097   \n",
              "4         0.639279       0.000940    0.424870    0.274760  0.150110   \n",
              "\n",
              "   Race 0 FNR  Race 1 FNR  FNR Diff  \n",
              "0    0.298551    0.505376 -0.206826  \n",
              "1    0.298551    0.505376 -0.206826  \n",
              "2    0.295652    0.510753 -0.215101  \n",
              "3    0.286957    0.500000 -0.213043  \n",
              "4    0.286957    0.505376 -0.218420  "
            ],
            "text/html": [
              "\n",
              "  <div id=\"df-6451b947-b25a-41de-b02d-82e3146326cf\">\n",
              "    <div class=\"colab-df-container\">\n",
              "      <div>\n",
              "<style scoped>\n",
              "    .dataframe tbody tr th:only-of-type {\n",
              "        vertical-align: middle;\n",
              "    }\n",
              "\n",
              "    .dataframe tbody tr th {\n",
              "        vertical-align: top;\n",
              "    }\n",
              "\n",
              "    .dataframe thead th {\n",
              "        text-align: right;\n",
              "    }\n",
              "</style>\n",
              "<table border=\"1\" class=\"dataframe\">\n",
              "  <thead>\n",
              "    <tr style=\"text-align: right;\">\n",
              "      <th></th>\n",
              "      <th>Model</th>\n",
              "      <th>Constraint_type</th>\n",
              "      <th>Overall Accuracy</th>\n",
              "      <th>Race 0 Accuracy</th>\n",
              "      <th>Race 1 Accuracy</th>\n",
              "      <th>Accuracy Diff</th>\n",
              "      <th>Race 0 FPR</th>\n",
              "      <th>Race 1 FPR</th>\n",
              "      <th>FPR Diff</th>\n",
              "      <th>Race 0 FNR</th>\n",
              "      <th>Race 1 FNR</th>\n",
              "      <th>FNR Diff</th>\n",
              "    </tr>\n",
              "  </thead>\n",
              "  <tbody>\n",
              "    <tr>\n",
              "      <th>0</th>\n",
              "      <td>svm</td>\n",
              "      <td>No Constraint</td>\n",
              "      <td>0.644715</td>\n",
              "      <td>0.641587</td>\n",
              "      <td>0.649299</td>\n",
              "      <td>-0.007712</td>\n",
              "      <td>0.411917</td>\n",
              "      <td>0.258786</td>\n",
              "      <td>0.153131</td>\n",
              "      <td>0.298551</td>\n",
              "      <td>0.505376</td>\n",
              "      <td>-0.206826</td>\n",
              "    </tr>\n",
              "    <tr>\n",
              "      <th>1</th>\n",
              "      <td>svm</td>\n",
              "      <td>Misclassification</td>\n",
              "      <td>0.646341</td>\n",
              "      <td>0.642955</td>\n",
              "      <td>0.651303</td>\n",
              "      <td>-0.008348</td>\n",
              "      <td>0.409326</td>\n",
              "      <td>0.255591</td>\n",
              "      <td>0.153735</td>\n",
              "      <td>0.298551</td>\n",
              "      <td>0.505376</td>\n",
              "      <td>-0.206826</td>\n",
              "    </tr>\n",
              "    <tr>\n",
              "      <th>2</th>\n",
              "      <td>svm</td>\n",
              "      <td>Only FPR</td>\n",
              "      <td>0.639837</td>\n",
              "      <td>0.640219</td>\n",
              "      <td>0.639279</td>\n",
              "      <td>0.000940</td>\n",
              "      <td>0.417098</td>\n",
              "      <td>0.271565</td>\n",
              "      <td>0.145533</td>\n",
              "      <td>0.295652</td>\n",
              "      <td>0.510753</td>\n",
              "      <td>-0.215101</td>\n",
              "    </tr>\n",
              "    <tr>\n",
              "      <th>3</th>\n",
              "      <td>svm</td>\n",
              "      <td>Only FNR</td>\n",
              "      <td>0.638211</td>\n",
              "      <td>0.637483</td>\n",
              "      <td>0.639279</td>\n",
              "      <td>-0.001796</td>\n",
              "      <td>0.430052</td>\n",
              "      <td>0.277955</td>\n",
              "      <td>0.152097</td>\n",
              "      <td>0.286957</td>\n",
              "      <td>0.500000</td>\n",
              "      <td>-0.213043</td>\n",
              "    </tr>\n",
              "    <tr>\n",
              "      <th>4</th>\n",
              "      <td>svm</td>\n",
              "      <td>Both FPR and FNR</td>\n",
              "      <td>0.639837</td>\n",
              "      <td>0.640219</td>\n",
              "      <td>0.639279</td>\n",
              "      <td>0.000940</td>\n",
              "      <td>0.424870</td>\n",
              "      <td>0.274760</td>\n",
              "      <td>0.150110</td>\n",
              "      <td>0.286957</td>\n",
              "      <td>0.505376</td>\n",
              "      <td>-0.218420</td>\n",
              "    </tr>\n",
              "  </tbody>\n",
              "</table>\n",
              "</div>\n",
              "      <button class=\"colab-df-convert\" onclick=\"convertToInteractive('df-6451b947-b25a-41de-b02d-82e3146326cf')\"\n",
              "              title=\"Convert this dataframe to an interactive table.\"\n",
              "              style=\"display:none;\">\n",
              "        \n",
              "  <svg xmlns=\"http://www.w3.org/2000/svg\" height=\"24px\"viewBox=\"0 0 24 24\"\n",
              "       width=\"24px\">\n",
              "    <path d=\"M0 0h24v24H0V0z\" fill=\"none\"/>\n",
              "    <path d=\"M18.56 5.44l.94 2.06.94-2.06 2.06-.94-2.06-.94-.94-2.06-.94 2.06-2.06.94zm-11 1L8.5 8.5l.94-2.06 2.06-.94-2.06-.94L8.5 2.5l-.94 2.06-2.06.94zm10 10l.94 2.06.94-2.06 2.06-.94-2.06-.94-.94-2.06-.94 2.06-2.06.94z\"/><path d=\"M17.41 7.96l-1.37-1.37c-.4-.4-.92-.59-1.43-.59-.52 0-1.04.2-1.43.59L10.3 9.45l-7.72 7.72c-.78.78-.78 2.05 0 2.83L4 21.41c.39.39.9.59 1.41.59.51 0 1.02-.2 1.41-.59l7.78-7.78 2.81-2.81c.8-.78.8-2.07 0-2.86zM5.41 20L4 18.59l7.72-7.72 1.47 1.35L5.41 20z\"/>\n",
              "  </svg>\n",
              "      </button>\n",
              "      \n",
              "  <style>\n",
              "    .colab-df-container {\n",
              "      display:flex;\n",
              "      flex-wrap:wrap;\n",
              "      gap: 12px;\n",
              "    }\n",
              "\n",
              "    .colab-df-convert {\n",
              "      background-color: #E8F0FE;\n",
              "      border: none;\n",
              "      border-radius: 50%;\n",
              "      cursor: pointer;\n",
              "      display: none;\n",
              "      fill: #1967D2;\n",
              "      height: 32px;\n",
              "      padding: 0 0 0 0;\n",
              "      width: 32px;\n",
              "    }\n",
              "\n",
              "    .colab-df-convert:hover {\n",
              "      background-color: #E2EBFA;\n",
              "      box-shadow: 0px 1px 2px rgba(60, 64, 67, 0.3), 0px 1px 3px 1px rgba(60, 64, 67, 0.15);\n",
              "      fill: #174EA6;\n",
              "    }\n",
              "\n",
              "    [theme=dark] .colab-df-convert {\n",
              "      background-color: #3B4455;\n",
              "      fill: #D2E3FC;\n",
              "    }\n",
              "\n",
              "    [theme=dark] .colab-df-convert:hover {\n",
              "      background-color: #434B5C;\n",
              "      box-shadow: 0px 1px 3px 1px rgba(0, 0, 0, 0.15);\n",
              "      filter: drop-shadow(0px 1px 2px rgba(0, 0, 0, 0.3));\n",
              "      fill: #FFFFFF;\n",
              "    }\n",
              "  </style>\n",
              "\n",
              "      <script>\n",
              "        const buttonEl =\n",
              "          document.querySelector('#df-6451b947-b25a-41de-b02d-82e3146326cf button.colab-df-convert');\n",
              "        buttonEl.style.display =\n",
              "          google.colab.kernel.accessAllowed ? 'block' : 'none';\n",
              "\n",
              "        async function convertToInteractive(key) {\n",
              "          const element = document.querySelector('#df-6451b947-b25a-41de-b02d-82e3146326cf');\n",
              "          const dataTable =\n",
              "            await google.colab.kernel.invokeFunction('convertToInteractive',\n",
              "                                                     [key], {});\n",
              "          if (!dataTable) return;\n",
              "\n",
              "          const docLinkHtml = 'Like what you see? Visit the ' +\n",
              "            '<a target=\"_blank\" href=https://colab.research.google.com/notebooks/data_table.ipynb>data table notebook</a>'\n",
              "            + ' to learn more about interactive tables.';\n",
              "          element.innerHTML = '';\n",
              "          dataTable['output_type'] = 'display_data';\n",
              "          await google.colab.output.renderOutput(dataTable, element);\n",
              "          const docLink = document.createElement('div');\n",
              "          docLink.innerHTML = docLinkHtml;\n",
              "          element.appendChild(docLink);\n",
              "        }\n",
              "      </script>\n",
              "    </div>\n",
              "  </div>\n",
              "  "
            ]
          },
          "metadata": {},
          "execution_count": 110
        }
      ],
      "source": [
        "# Support Vector Machine w/sen\n",
        "run_experiments(\"svm\", X_train, y_train, x_race_train, X_test, y_test, x_race_test, eps, tau, mu, sensitive_attrs_to_cov_thresh)"
      ]
    },
    {
      "cell_type": "code",
      "execution_count": 111,
      "metadata": {
        "id": "xgXcSrp0629S"
      },
      "outputs": [],
      "source": [
        "FPR = 0.424870\t\n",
        "FNR = 0.286957\t"
      ]
    },
    {
      "cell_type": "code",
      "execution_count": 112,
      "metadata": {
        "id": "3aOJMeeY7uTd"
      },
      "outputs": [],
      "source": [
        "def compute_metrics(fpr, fnr):\n",
        "    tn = 1 - fpr\n",
        "    tp = 1 - fnr\n",
        "    recall = tp / (tp + fnr)\n",
        "    precision = tp / (tp + fpr * tn)\n",
        "    f1_score = 2 * precision * recall / (precision + recall)\n",
        "    return recall, f1_score\n"
      ]
    },
    {
      "cell_type": "code",
      "execution_count": 113,
      "metadata": {
        "colab": {
          "base_uri": "https://localhost:8080/",
          "height": 0
        },
        "id": "_7pPvo7y8bZH",
        "outputId": "7d6a5393-6d4d-4e61-bd79-34251e2d4eaf"
      },
      "outputs": [
        {
          "output_type": "execute_result",
          "data": {
            "text/plain": [
              "(0.713043, 0.7285619215058643)"
            ]
          },
          "metadata": {},
          "execution_count": 113
        }
      ],
      "source": [
        "compute_metrics(0.424870,0.286957\t )"
      ]
    },
    {
      "cell_type": "markdown",
      "source": [
        "### A4-Disparate Mistreatment Sensitive (DM-Sen)"
      ],
      "metadata": {
        "id": "Z7YiqU4gPsrf"
      }
    },
    {
      "cell_type": "code",
      "source": [
        "# Support Vector Machine with sen\n",
        "run_experiments(\"svm\", X_train_sen, y_train_sen, x_race_train_sen, X_test_sen, y_test_sen, x_race_test_sen, eps, tau, mu, sensitive_attrs_to_cov_thresh)"
      ],
      "metadata": {
        "colab": {
          "base_uri": "https://localhost:8080/",
          "height": 640
        },
        "id": "J7Wo3RilQB4_",
        "outputId": "9ae33cb2-a91c-4e8c-eb9c-626e55e55337"
      },
      "execution_count": 114,
      "outputs": [
        {
          "output_type": "stream",
          "name": "stdout",
          "text": [
            "\n",
            "\n",
            "Accuracy:0.6504065040650406\n",
            "\n",
            "\n",
            "\n",
            "\n",
            "Accuracy:0.6504065040650406\n",
            "\n",
            "\n",
            "\n",
            "\n",
            "Accuracy:0.6495934959349593\n",
            "\n",
            "\n",
            "\n",
            "\n",
            "Accuracy:0.6544715447154471\n",
            "\n",
            "\n",
            "\n",
            "\n",
            "Accuracy:0.6520325203252032\n",
            "\n",
            "\n"
          ]
        },
        {
          "output_type": "execute_result",
          "data": {
            "text/plain": [
              "  Model    Constraint_type  Overall Accuracy  Race 0 Accuracy  \\\n",
              "0   svm      No Constraint          0.650407         0.642955   \n",
              "1   svm  Misclassification          0.650407         0.641587   \n",
              "2   svm           Only FPR          0.649593         0.656635   \n",
              "3   svm           Only FNR          0.654472         0.663475   \n",
              "4   svm   Both FPR and FNR          0.652033         0.658003   \n",
              "\n",
              "   Race 1 Accuracy  Accuracy Diff  Race 0 FPR  Race 1 FPR  FPR Diff  \\\n",
              "0         0.661323      -0.018368    0.411917    0.233227  0.178690   \n",
              "1         0.663327      -0.021740    0.411917    0.230032  0.181885   \n",
              "2         0.639279       0.017356    0.365285    0.274760  0.090525   \n",
              "3         0.641283       0.022192    0.352332    0.281150  0.071181   \n",
              "4         0.643287       0.014716    0.362694    0.277955  0.084739   \n",
              "\n",
              "   Race 0 FNR  Race 1 FNR  FNR Diff  \n",
              "0    0.295652    0.516129 -0.220477  \n",
              "1    0.298551    0.516129 -0.217578  \n",
              "2    0.318841    0.505376 -0.186536  \n",
              "3    0.318841    0.489247 -0.170407  \n",
              "4    0.318841    0.489247 -0.170407  "
            ],
            "text/html": [
              "\n",
              "  <div id=\"df-1ed7bc35-0318-440e-92e5-fd92beb27749\">\n",
              "    <div class=\"colab-df-container\">\n",
              "      <div>\n",
              "<style scoped>\n",
              "    .dataframe tbody tr th:only-of-type {\n",
              "        vertical-align: middle;\n",
              "    }\n",
              "\n",
              "    .dataframe tbody tr th {\n",
              "        vertical-align: top;\n",
              "    }\n",
              "\n",
              "    .dataframe thead th {\n",
              "        text-align: right;\n",
              "    }\n",
              "</style>\n",
              "<table border=\"1\" class=\"dataframe\">\n",
              "  <thead>\n",
              "    <tr style=\"text-align: right;\">\n",
              "      <th></th>\n",
              "      <th>Model</th>\n",
              "      <th>Constraint_type</th>\n",
              "      <th>Overall Accuracy</th>\n",
              "      <th>Race 0 Accuracy</th>\n",
              "      <th>Race 1 Accuracy</th>\n",
              "      <th>Accuracy Diff</th>\n",
              "      <th>Race 0 FPR</th>\n",
              "      <th>Race 1 FPR</th>\n",
              "      <th>FPR Diff</th>\n",
              "      <th>Race 0 FNR</th>\n",
              "      <th>Race 1 FNR</th>\n",
              "      <th>FNR Diff</th>\n",
              "    </tr>\n",
              "  </thead>\n",
              "  <tbody>\n",
              "    <tr>\n",
              "      <th>0</th>\n",
              "      <td>svm</td>\n",
              "      <td>No Constraint</td>\n",
              "      <td>0.650407</td>\n",
              "      <td>0.642955</td>\n",
              "      <td>0.661323</td>\n",
              "      <td>-0.018368</td>\n",
              "      <td>0.411917</td>\n",
              "      <td>0.233227</td>\n",
              "      <td>0.178690</td>\n",
              "      <td>0.295652</td>\n",
              "      <td>0.516129</td>\n",
              "      <td>-0.220477</td>\n",
              "    </tr>\n",
              "    <tr>\n",
              "      <th>1</th>\n",
              "      <td>svm</td>\n",
              "      <td>Misclassification</td>\n",
              "      <td>0.650407</td>\n",
              "      <td>0.641587</td>\n",
              "      <td>0.663327</td>\n",
              "      <td>-0.021740</td>\n",
              "      <td>0.411917</td>\n",
              "      <td>0.230032</td>\n",
              "      <td>0.181885</td>\n",
              "      <td>0.298551</td>\n",
              "      <td>0.516129</td>\n",
              "      <td>-0.217578</td>\n",
              "    </tr>\n",
              "    <tr>\n",
              "      <th>2</th>\n",
              "      <td>svm</td>\n",
              "      <td>Only FPR</td>\n",
              "      <td>0.649593</td>\n",
              "      <td>0.656635</td>\n",
              "      <td>0.639279</td>\n",
              "      <td>0.017356</td>\n",
              "      <td>0.365285</td>\n",
              "      <td>0.274760</td>\n",
              "      <td>0.090525</td>\n",
              "      <td>0.318841</td>\n",
              "      <td>0.505376</td>\n",
              "      <td>-0.186536</td>\n",
              "    </tr>\n",
              "    <tr>\n",
              "      <th>3</th>\n",
              "      <td>svm</td>\n",
              "      <td>Only FNR</td>\n",
              "      <td>0.654472</td>\n",
              "      <td>0.663475</td>\n",
              "      <td>0.641283</td>\n",
              "      <td>0.022192</td>\n",
              "      <td>0.352332</td>\n",
              "      <td>0.281150</td>\n",
              "      <td>0.071181</td>\n",
              "      <td>0.318841</td>\n",
              "      <td>0.489247</td>\n",
              "      <td>-0.170407</td>\n",
              "    </tr>\n",
              "    <tr>\n",
              "      <th>4</th>\n",
              "      <td>svm</td>\n",
              "      <td>Both FPR and FNR</td>\n",
              "      <td>0.652033</td>\n",
              "      <td>0.658003</td>\n",
              "      <td>0.643287</td>\n",
              "      <td>0.014716</td>\n",
              "      <td>0.362694</td>\n",
              "      <td>0.277955</td>\n",
              "      <td>0.084739</td>\n",
              "      <td>0.318841</td>\n",
              "      <td>0.489247</td>\n",
              "      <td>-0.170407</td>\n",
              "    </tr>\n",
              "  </tbody>\n",
              "</table>\n",
              "</div>\n",
              "      <button class=\"colab-df-convert\" onclick=\"convertToInteractive('df-1ed7bc35-0318-440e-92e5-fd92beb27749')\"\n",
              "              title=\"Convert this dataframe to an interactive table.\"\n",
              "              style=\"display:none;\">\n",
              "        \n",
              "  <svg xmlns=\"http://www.w3.org/2000/svg\" height=\"24px\"viewBox=\"0 0 24 24\"\n",
              "       width=\"24px\">\n",
              "    <path d=\"M0 0h24v24H0V0z\" fill=\"none\"/>\n",
              "    <path d=\"M18.56 5.44l.94 2.06.94-2.06 2.06-.94-2.06-.94-.94-2.06-.94 2.06-2.06.94zm-11 1L8.5 8.5l.94-2.06 2.06-.94-2.06-.94L8.5 2.5l-.94 2.06-2.06.94zm10 10l.94 2.06.94-2.06 2.06-.94-2.06-.94-.94-2.06-.94 2.06-2.06.94z\"/><path d=\"M17.41 7.96l-1.37-1.37c-.4-.4-.92-.59-1.43-.59-.52 0-1.04.2-1.43.59L10.3 9.45l-7.72 7.72c-.78.78-.78 2.05 0 2.83L4 21.41c.39.39.9.59 1.41.59.51 0 1.02-.2 1.41-.59l7.78-7.78 2.81-2.81c.8-.78.8-2.07 0-2.86zM5.41 20L4 18.59l7.72-7.72 1.47 1.35L5.41 20z\"/>\n",
              "  </svg>\n",
              "      </button>\n",
              "      \n",
              "  <style>\n",
              "    .colab-df-container {\n",
              "      display:flex;\n",
              "      flex-wrap:wrap;\n",
              "      gap: 12px;\n",
              "    }\n",
              "\n",
              "    .colab-df-convert {\n",
              "      background-color: #E8F0FE;\n",
              "      border: none;\n",
              "      border-radius: 50%;\n",
              "      cursor: pointer;\n",
              "      display: none;\n",
              "      fill: #1967D2;\n",
              "      height: 32px;\n",
              "      padding: 0 0 0 0;\n",
              "      width: 32px;\n",
              "    }\n",
              "\n",
              "    .colab-df-convert:hover {\n",
              "      background-color: #E2EBFA;\n",
              "      box-shadow: 0px 1px 2px rgba(60, 64, 67, 0.3), 0px 1px 3px 1px rgba(60, 64, 67, 0.15);\n",
              "      fill: #174EA6;\n",
              "    }\n",
              "\n",
              "    [theme=dark] .colab-df-convert {\n",
              "      background-color: #3B4455;\n",
              "      fill: #D2E3FC;\n",
              "    }\n",
              "\n",
              "    [theme=dark] .colab-df-convert:hover {\n",
              "      background-color: #434B5C;\n",
              "      box-shadow: 0px 1px 3px 1px rgba(0, 0, 0, 0.15);\n",
              "      filter: drop-shadow(0px 1px 2px rgba(0, 0, 0, 0.3));\n",
              "      fill: #FFFFFF;\n",
              "    }\n",
              "  </style>\n",
              "\n",
              "      <script>\n",
              "        const buttonEl =\n",
              "          document.querySelector('#df-1ed7bc35-0318-440e-92e5-fd92beb27749 button.colab-df-convert');\n",
              "        buttonEl.style.display =\n",
              "          google.colab.kernel.accessAllowed ? 'block' : 'none';\n",
              "\n",
              "        async function convertToInteractive(key) {\n",
              "          const element = document.querySelector('#df-1ed7bc35-0318-440e-92e5-fd92beb27749');\n",
              "          const dataTable =\n",
              "            await google.colab.kernel.invokeFunction('convertToInteractive',\n",
              "                                                     [key], {});\n",
              "          if (!dataTable) return;\n",
              "\n",
              "          const docLinkHtml = 'Like what you see? Visit the ' +\n",
              "            '<a target=\"_blank\" href=https://colab.research.google.com/notebooks/data_table.ipynb>data table notebook</a>'\n",
              "            + ' to learn more about interactive tables.';\n",
              "          element.innerHTML = '';\n",
              "          dataTable['output_type'] = 'display_data';\n",
              "          await google.colab.output.renderOutput(dataTable, element);\n",
              "          const docLink = document.createElement('div');\n",
              "          docLink.innerHTML = docLinkHtml;\n",
              "          element.appendChild(docLink);\n",
              "        }\n",
              "      </script>\n",
              "    </div>\n",
              "  </div>\n",
              "  "
            ]
          },
          "metadata": {},
          "execution_count": 114
        }
      ]
    },
    {
      "cell_type": "code",
      "source": [
        "FPR = 0.362694\t\n",
        "FNR = 0.318841\t"
      ],
      "metadata": {
        "id": "K_lIzdzRR_ni"
      },
      "execution_count": 115,
      "outputs": []
    },
    {
      "cell_type": "code",
      "source": [
        "compute_metrics(FPR,FNR\t )"
      ],
      "metadata": {
        "colab": {
          "base_uri": "https://localhost:8080/",
          "height": 0
        },
        "id": "A4QcAVttRNti",
        "outputId": "403af39f-8081-4f99-b513-4bad4ea01ce1"
      },
      "execution_count": 116,
      "outputs": [
        {
          "output_type": "execute_result",
          "data": {
            "text/plain": [
              "(0.6811590000000001, 0.7123953779218256)"
            ]
          },
          "metadata": {},
          "execution_count": 116
        }
      ]
    },
    {
      "cell_type": "markdown",
      "metadata": {
        "id": "TCmtWrCqa_rL"
      },
      "source": [
        "#result"
      ]
    },
    {
      "cell_type": "code",
      "execution_count": 117,
      "metadata": {
        "id": "6YDB5lrwgeBU"
      },
      "outputs": [],
      "source": [
        "acc_cons_bas = 0.66612\n",
        "acc_cons_lm = 0.96098\n",
        "acc_cons_lps = 0.96531\n",
        "acc_cons_A41 = 0.639837\t\n",
        "acc_cons_A42 = 0.652033\t"
      ]
    },
    {
      "cell_type": "code",
      "execution_count": 118,
      "metadata": {
        "colab": {
          "base_uri": "https://localhost:8080/",
          "height": 469
        },
        "id": "Pv8nVBxobBmX",
        "outputId": "7cee4c56-15da-4e6c-ed32-973d305529e8"
      },
      "outputs": [
        {
          "output_type": "execute_result",
          "data": {
            "text/plain": [
              "Text(0.5, 1.0, 'Accuracy')"
            ]
          },
          "metadata": {},
          "execution_count": 118
        },
        {
          "output_type": "display_data",
          "data": {
            "text/plain": [
              "<Figure size 640x480 with 1 Axes>"
            ],
            "image/png": "[encoded data removed]"
          },
          "metadata": {}
        }
      ],
      "source": [
        "# Accuracy\n",
        "plt.bar(np.arange(5),[acc_cons_bas,acc_cons_lm,acc_cons_lps,acc_cons_A41, acc_cons_A42])\n",
        "plt.xticks(np.arange(5),['Baseline','A6-LM','A6-LPS','A4-DM','A4-DMSen'])\n",
        "plt.title(\"Accuracy\")"
      ]
    },
    {
      "cell_type": "code",
      "execution_count": 119,
      "metadata": {
        "id": "1FsTR0T8__98"
      },
      "outputs": [],
      "source": [
        "diff_base = 0.0199\n",
        "diff_lm = 0.01059\n",
        "diff_lps = 0.03958\n",
        "diff_A41 = 0.000940\t\n",
        "diff_A42 = 0.014716"
      ]
    },
    {
      "cell_type": "code",
      "execution_count": 120,
      "metadata": {
        "colab": {
          "base_uri": "https://localhost:8080/",
          "height": 469
        },
        "id": "7UjWOeRSbCYW",
        "outputId": "a24fd997-b904-41e4-e096-720e8c8a2a99"
      },
      "outputs": [
        {
          "output_type": "execute_result",
          "data": {
            "text/plain": [
              "Text(0.5, 1.0, 'Absolute Calibration')"
            ]
          },
          "metadata": {},
          "execution_count": 120
        },
        {
          "output_type": "display_data",
          "data": {
            "text/plain": [
              "<Figure size 640x480 with 1 Axes>"
            ],
            "image/png": "[encoded data removed]"
          },
          "metadata": {}
        }
      ],
      "source": [
        "#  Callibration\n",
        "plt.bar(np.arange(5),[diff_base, diff_lm, diff_lps, diff_A41, diff_A42])\n",
        "plt.xticks(np.arange(5),['Baseline','A6-LM','A6-LPS','A4-DM','A4-DMSen'])\n",
        "plt.title(\"Absolute Calibration\")  "
      ]
    },
    {
      "cell_type": "code",
      "execution_count": 121,
      "metadata": {
        "id": "fPyALuKPA3V7"
      },
      "outputs": [],
      "source": [
        "f1_base= 0.62446\n",
        "f1_lm = 0.96461\n",
        "f1_lps = 0.96733\n",
        "f1_A41 =  0.7285619215058643\n",
        "f1_A42 = 0.7123953779218256"
      ]
    },
    {
      "cell_type": "code",
      "execution_count": 122,
      "metadata": {
        "colab": {
          "base_uri": "https://localhost:8080/",
          "height": 469
        },
        "id": "Wqg64gr1bEbo",
        "outputId": "3b6b4155-dab3-48c0-a4b3-56c72943f4de"
      },
      "outputs": [
        {
          "output_type": "execute_result",
          "data": {
            "text/plain": [
              "Text(0.5, 1.0, 'F1-score')"
            ]
          },
          "metadata": {},
          "execution_count": 122
        },
        {
          "output_type": "display_data",
          "data": {
            "text/plain": [
              "<Figure size 640x480 with 1 Axes>"
            ],
            "image/png": "[encoded data removed]"
          },
          "metadata": {}
        }
      ],
      "source": [
        "#  F1\n",
        "plt.bar(np.arange(5),[f1_base, f1_lm, f1_lps, f1_A41,f1_A42 ])\n",
        "plt.xticks(np.arange(5),['Baseline','A6-LM','A6-LPS','A4-DM','A4-DMSen'])\n",
        "plt.title(\"F1-score\")"
      ]
    },
    {
      "cell_type": "code",
      "execution_count": 123,
      "metadata": {
        "id": "ChSLA7s5A41M"
      },
      "outputs": [],
      "source": [
        "recall_base= 0.57816\n",
        "recall_lm = 0.97363\n",
        "recall_lps = 0.95658\n",
        "recall_A41 = 0.713043\n",
        "recall_A42 = 0.6811590000000001 "
      ]
    },
    {
      "cell_type": "code",
      "execution_count": 124,
      "metadata": {
        "colab": {
          "base_uri": "https://localhost:8080/",
          "height": 469
        },
        "id": "5k7NcXVN9w3k",
        "outputId": "a5f982cd-a323-488e-f089-c4aed1497c2a"
      },
      "outputs": [
        {
          "output_type": "execute_result",
          "data": {
            "text/plain": [
              "Text(0.5, 1.0, 'Recall-score')"
            ]
          },
          "metadata": {},
          "execution_count": 124
        },
        {
          "output_type": "display_data",
          "data": {
            "text/plain": [
              "<Figure size 640x480 with 1 Axes>"
            ],
            "image/png": "[encoded data removed]"
          },
          "metadata": {}
        }
      ],
      "source": [
        "# Recall \n",
        "plt.bar(np.arange(5),[recall_base,recall_lm,recall_lps,recall_A41,recall_A42])\n",
        "plt.xticks(np.arange(5),['Baseline','A6-LM','A6-LPS','A4-DM','A4-DMSen'])\n",
        "plt.title(\"Recall-score\")"
      ]
    },
    {
      "cell_type": "markdown",
      "metadata": {
        "id": "9qxpWHgY8u0Q"
      },
      "source": [
        "###Conclusion"
      ]
    },
    {
      "cell_type": "markdown",
      "metadata": {
        "id": "vQlAo2nLcjUT"
      },
      "source": [
        "Recall measures the ability of the model to correctly identify positive instances, while F1 score is a summary metric that takes into account both precision and recall to provide an overall measure of the model's performance.\n",
        "\n",
        "We plotted accuracy, absolute calibration, F1, and recall for all five models as above.\n",
        "\n",
        "- 1) LM and LPS have the similar highest accuracy while baseline and DM-sen have the similar lowest accuracy;\n",
        "- 2) LM has the lowest caliberation while LPS has the highest caliberation;\n",
        "- 3) LM and LPS have the similar highest F1-score;\n",
        "- 4) LM has the highest recall-score.\n",
        "\n",
        "In summary, the overall performance of A6 is better than A4. For accuracy, F1, and recall, A6-LM and A6-LPS are almost equally competitive in removing bias of sensitive attribute like race. According to calibration, A6-LM performs better than A6-LPS because of relabel algorithm."
      ]
    }
  ],
  "metadata": {
    "colab": {
      "provenance": []
    },
    "kernelspec": {
      "display_name": "Python 3",
      "language": "python",
      "name": "python3"
    },
    "language_info": {
      "codemirror_mode": {
        "name": "ipython",
        "version": 3
      },
      "file_extension": ".py",
      "mimetype": "text/x-python",
      "name": "python",
      "nbconvert_exporter": "python",
      "pygments_lexer": "ipython3",
      "version": "3.6.13"
    }
  },
  "nbformat": 4,
  "nbformat_minor": 0
}