{
 "cells": [
  {
   "cell_type": "markdown",
   "metadata": {
    "id": "UFUug9k05Sxq"
   },
   "source": [
    "Algorithm A4 and A6:"
   ]
  },
  {
   "cell_type": "markdown",
   "metadata": {
    "id": "b-qOMrij5gl3"
   },
   "source": [
    "1.Fairness Beyond Disparate Treatment & Disparate Impact: Learning Classification without Disparate Mistreatment (DM and DM-sen)"
   ]
  },
  {
   "cell_type": "markdown",
   "metadata": {
    "id": "MSRBJUrHJx-J"
   },
   "source": [
    "2.Handling Conditional Discrimination (LM and LPS)"
   ]
  },
  {
   "cell_type": "markdown",
   "metadata": {
    "id": "VSvDf6alzT-V"
   },
   "source": [
    "Reference: https://ieeexplore.ieee.org/document/6137304"
   ]
  },
  {
   "cell_type": "markdown",
   "metadata": {},
   "source": [
    "Reference: https://arxiv.org/abs/1610.08452"
   ]
  },
  {
   "cell_type": "markdown",
   "metadata": {
    "id": "tiGFOdKPxtSG"
   },
   "source": [
    "## A6 (LPS and LM) Data Processing"
   ]
  },
  {
   "cell_type": "code",
   "execution_count": 1,
   "metadata": {
    "executionInfo": {
     "elapsed": 2086,
     "status": "ok",
     "timestamp": 1681308874063,
     "user": {
      "displayName": "Liang Hu",
      "userId": "05665141676566184070"
     },
     "user_tz": 240
    },
    "id": "oH4F4ViKvGbP"
   },
   "outputs": [],
   "source": [
    "import pandas as pd\n",
    "import numpy as np\n",
    "import random\n",
    "import matplotlib.pyplot as plt\n",
    "from tqdm import tqdm\n",
    "from sklearn.tree import DecisionTreeClassifier\n",
    "from sklearn.preprocessing import OneHotEncoder\n",
    "from sklearn.model_selection import cross_val_score\n",
    "from sklearn.model_selection import GridSearchCV\n",
    "from sklearn.linear_model import LogisticRegression\n",
    "from sklearn.model_selection import train_test_split\n",
    "from sklearn.metrics import recall_score"
   ]
  },
  {
   "cell_type": "code",
   "execution_count": 2,
   "metadata": {
    "executionInfo": {
     "elapsed": 138,
     "status": "ok",
     "timestamp": 1681311271937,
     "user": {
      "displayName": "Liang Hu",
      "userId": "05665141676566184070"
     },
     "user_tz": 240
    },
    "id": "Y5rgRW8FT2pa"
   },
   "outputs": [],
   "source": [
    "from sklearn.model_selection import train_test_split\n",
    "from sklearn.metrics import f1_score, accuracy_score, confusion_matrix\n",
    "from sklearn.ensemble import RandomForestClassifier\n",
    "from sklearn.preprocessing import OneHotEncoder\n",
    "from sklearn.calibration import CalibratedClassifierCV"
   ]
  },
  {
   "cell_type": "code",
   "execution_count": 3,
   "metadata": {
    "colab": {
     "base_uri": "https://localhost:8080/",
     "height": 0
    },
    "executionInfo": {
     "elapsed": 2581,
     "status": "ok",
     "timestamp": 1681311275100,
     "user": {
      "displayName": "Liang Hu",
      "userId": "05665141676566184070"
     },
     "user_tz": 240
    },
    "id": "njDNgTVwpe73",
    "outputId": "9ffeedd2-303c-46d6-ab2d-72a9d4d160bf"
   },
   "outputs": [],
   "source": [
    "# from google.colab import drive\n",
    "# drive.mount('/content/drive')"
   ]
  },
  {
   "cell_type": "code",
   "execution_count": 5,
   "metadata": {
    "executionInfo": {
     "elapsed": 144,
     "status": "ok",
     "timestamp": 1681311323949,
     "user": {
      "displayName": "Liang Hu",
      "userId": "05665141676566184070"
     },
     "user_tz": 240
    },
    "id": "WoCptThyEVfC"
   },
   "outputs": [],
   "source": [
    "import pandas as pd\n",
    "\n",
    "# Load the CSV file into a pandas DataFrame\n",
    "full_data = pd.read_csv('../data/compas-scores-two-years.csv')\n",
    "# full_data = pd.read_csv('/content/drive/MyDrive/ADS-hw4/data/compas-scores-two-years.csv')\n",
    "full_data = pd.DataFrame(full_data)"
   ]
  },
  {
   "cell_type": "markdown",
   "metadata": {
    "id": "1U9hLR8Rx2zI"
   },
   "source": [
    "### Prepare data"
   ]
  },
  {
   "cell_type": "code",
   "execution_count": 6,
   "metadata": {
    "colab": {
     "base_uri": "https://localhost:8080/",
     "height": 0
    },
    "executionInfo": {
     "elapsed": 134,
     "status": "ok",
     "timestamp": 1681311326487,
     "user": {
      "displayName": "Liang Hu",
      "userId": "05665141676566184070"
     },
     "user_tz": 240
    },
    "id": "WsrXu04csZG6",
    "outputId": "fe3aac39-4454-46d7-d54a-cd537fbe6509"
   },
   "outputs": [
    {
     "data": {
      "text/plain": [
       "violent_recid              6150\n",
       "vr_case_number             5433\n",
       "vr_charge_desc             5433\n",
       "vr_charge_degree           5433\n",
       "vr_offense_date            5433\n",
       "c_arrest_date              5165\n",
       "r_days_from_arrest         4087\n",
       "r_jail_in                  4087\n",
       "r_jail_out                 4087\n",
       "r_charge_desc              3141\n",
       "r_case_number              3089\n",
       "r_offense_date             3089\n",
       "r_charge_degree            3089\n",
       "c_offense_date              999\n",
       "c_jail_out                  235\n",
       "c_jail_in                   235\n",
       "days_b_screening_arrest     235\n",
       "in_custody                  180\n",
       "out_custody                 180\n",
       "c_charge_desc                21\n",
       "c_case_number                14\n",
       "c_days_from_compas           14\n",
       "juv_misd_count                0\n",
       "priors_count                  0\n",
       "race                          0\n",
       "name                          0\n",
       "age_cat                       0\n",
       "first                         0\n",
       "dob                           0\n",
       "juv_other_count               0\n",
       "last                          0\n",
       "decile_score                  0\n",
       "age                           0\n",
       "compas_screening_date         0\n",
       "sex                           0\n",
       "juv_fel_count                 0\n",
       "two_year_recid                0\n",
       "c_charge_degree               0\n",
       "is_recid                      0\n",
       "event                         0\n",
       "is_violent_recid              0\n",
       "type_of_assessment            0\n",
       "decile_score.1                0\n",
       "score_text                    0\n",
       "screening_date                0\n",
       "v_type_of_assessment          0\n",
       "v_decile_score                0\n",
       "v_score_text                  0\n",
       "v_screening_date              0\n",
       "priors_count.1                0\n",
       "start                         0\n",
       "end                           0\n",
       "id                            0\n",
       "dtype: int64"
      ]
     },
     "execution_count": 6,
     "metadata": {},
     "output_type": "execute_result"
    }
   ],
   "source": [
    "data = full_data.copy()\n",
    "# Include only required two races\n",
    "data = data[(data['race']=='African-American')|(data['race']=='Caucasian')]\n",
    "data.isna().sum().sort_values(ascending=False)"
   ]
  },
  {
   "cell_type": "code",
   "execution_count": 7,
   "metadata": {
    "executionInfo": {
     "elapsed": 1326,
     "status": "ok",
     "timestamp": 1681311330523,
     "user": {
      "displayName": "Liang Hu",
      "userId": "05665141676566184070"
     },
     "user_tz": 240
    },
    "id": "ZMLFshMNUtOX"
   },
   "outputs": [],
   "source": [
    "data.drop(['violent_recid','vr_charge_degree','vr_case_number','vr_offense_date','vr_charge_desc',\n",
    "         'c_arrest_date','r_jail_out','r_jail_in','r_days_from_arrest','r_charge_desc',\n",
    "         'r_offense_date','r_case_number','r_charge_degree'], axis=1,inplace=True)"
   ]
  },
  {
   "cell_type": "code",
   "execution_count": 8,
   "metadata": {
    "colab": {
     "base_uri": "https://localhost:8080/",
     "height": 0
    },
    "executionInfo": {
     "elapsed": 2,
     "status": "ok",
     "timestamp": 1681311331054,
     "user": {
      "displayName": "Liang Hu",
      "userId": "05665141676566184070"
     },
     "user_tz": 240
    },
    "id": "4_6zjsS-LzzS",
    "outputId": "6b90895a-0e36-4946-d76c-d24072600095"
   },
   "outputs": [
    {
     "data": {
      "text/plain": [
       "array(['African-American', 'Caucasian'], dtype=object)"
      ]
     },
     "execution_count": 8,
     "metadata": {},
     "output_type": "execute_result"
    }
   ],
   "source": [
    "data.race.unique()"
   ]
  },
  {
   "cell_type": "code",
   "execution_count": 9,
   "metadata": {
    "colab": {
     "base_uri": "https://localhost:8080/",
     "height": 386
    },
    "executionInfo": {
     "elapsed": 4,
     "status": "ok",
     "timestamp": 1681311333093,
     "user": {
      "displayName": "Liang Hu",
      "userId": "05665141676566184070"
     },
     "user_tz": 240
    },
    "id": "gSU68sgQLTT1",
    "outputId": "b662cfd8-d1cb-430f-d892-db72d4a4334f"
   },
   "outputs": [
    {
     "data": {
      "text/html": [
       "<div>\n",
       "<style scoped>\n",
       "    .dataframe tbody tr th:only-of-type {\n",
       "        vertical-align: middle;\n",
       "    }\n",
       "\n",
       "    .dataframe tbody tr th {\n",
       "        vertical-align: top;\n",
       "    }\n",
       "\n",
       "    .dataframe thead th {\n",
       "        text-align: right;\n",
       "    }\n",
       "</style>\n",
       "<table border=\"1\" class=\"dataframe\">\n",
       "  <thead>\n",
       "    <tr style=\"text-align: right;\">\n",
       "      <th></th>\n",
       "      <th>id</th>\n",
       "      <th>name</th>\n",
       "      <th>first</th>\n",
       "      <th>last</th>\n",
       "      <th>compas_screening_date</th>\n",
       "      <th>sex</th>\n",
       "      <th>dob</th>\n",
       "      <th>age</th>\n",
       "      <th>age_cat</th>\n",
       "      <th>race</th>\n",
       "      <th>...</th>\n",
       "      <th>v_decile_score</th>\n",
       "      <th>v_score_text</th>\n",
       "      <th>v_screening_date</th>\n",
       "      <th>in_custody</th>\n",
       "      <th>out_custody</th>\n",
       "      <th>priors_count.1</th>\n",
       "      <th>start</th>\n",
       "      <th>end</th>\n",
       "      <th>event</th>\n",
       "      <th>two_year_recid</th>\n",
       "    </tr>\n",
       "  </thead>\n",
       "  <tbody>\n",
       "    <tr>\n",
       "      <th>1</th>\n",
       "      <td>3</td>\n",
       "      <td>kevon dixon</td>\n",
       "      <td>kevon</td>\n",
       "      <td>dixon</td>\n",
       "      <td>2013-01-27</td>\n",
       "      <td>Male</td>\n",
       "      <td>1982-01-22</td>\n",
       "      <td>34</td>\n",
       "      <td>25 - 45</td>\n",
       "      <td>African-American</td>\n",
       "      <td>...</td>\n",
       "      <td>1</td>\n",
       "      <td>Low</td>\n",
       "      <td>2013-01-27</td>\n",
       "      <td>2013-01-26</td>\n",
       "      <td>2013-02-05</td>\n",
       "      <td>0</td>\n",
       "      <td>9</td>\n",
       "      <td>159</td>\n",
       "      <td>1</td>\n",
       "      <td>1</td>\n",
       "    </tr>\n",
       "    <tr>\n",
       "      <th>2</th>\n",
       "      <td>4</td>\n",
       "      <td>ed philo</td>\n",
       "      <td>ed</td>\n",
       "      <td>philo</td>\n",
       "      <td>2013-04-14</td>\n",
       "      <td>Male</td>\n",
       "      <td>1991-05-14</td>\n",
       "      <td>24</td>\n",
       "      <td>Less than 25</td>\n",
       "      <td>African-American</td>\n",
       "      <td>...</td>\n",
       "      <td>3</td>\n",
       "      <td>Low</td>\n",
       "      <td>2013-04-14</td>\n",
       "      <td>2013-06-16</td>\n",
       "      <td>2013-06-16</td>\n",
       "      <td>4</td>\n",
       "      <td>0</td>\n",
       "      <td>63</td>\n",
       "      <td>0</td>\n",
       "      <td>1</td>\n",
       "    </tr>\n",
       "    <tr>\n",
       "      <th>3</th>\n",
       "      <td>5</td>\n",
       "      <td>marcu brown</td>\n",
       "      <td>marcu</td>\n",
       "      <td>brown</td>\n",
       "      <td>2013-01-13</td>\n",
       "      <td>Male</td>\n",
       "      <td>1993-01-21</td>\n",
       "      <td>23</td>\n",
       "      <td>Less than 25</td>\n",
       "      <td>African-American</td>\n",
       "      <td>...</td>\n",
       "      <td>6</td>\n",
       "      <td>Medium</td>\n",
       "      <td>2013-01-13</td>\n",
       "      <td>NaN</td>\n",
       "      <td>NaN</td>\n",
       "      <td>1</td>\n",
       "      <td>0</td>\n",
       "      <td>1174</td>\n",
       "      <td>0</td>\n",
       "      <td>0</td>\n",
       "    </tr>\n",
       "    <tr>\n",
       "      <th>6</th>\n",
       "      <td>8</td>\n",
       "      <td>edward riddle</td>\n",
       "      <td>edward</td>\n",
       "      <td>riddle</td>\n",
       "      <td>2014-02-19</td>\n",
       "      <td>Male</td>\n",
       "      <td>1974-07-23</td>\n",
       "      <td>41</td>\n",
       "      <td>25 - 45</td>\n",
       "      <td>Caucasian</td>\n",
       "      <td>...</td>\n",
       "      <td>2</td>\n",
       "      <td>Low</td>\n",
       "      <td>2014-02-19</td>\n",
       "      <td>2014-03-31</td>\n",
       "      <td>2014-04-18</td>\n",
       "      <td>14</td>\n",
       "      <td>5</td>\n",
       "      <td>40</td>\n",
       "      <td>1</td>\n",
       "      <td>1</td>\n",
       "    </tr>\n",
       "    <tr>\n",
       "      <th>8</th>\n",
       "      <td>10</td>\n",
       "      <td>elizabeth thieme</td>\n",
       "      <td>elizabeth</td>\n",
       "      <td>thieme</td>\n",
       "      <td>2014-03-16</td>\n",
       "      <td>Female</td>\n",
       "      <td>1976-06-03</td>\n",
       "      <td>39</td>\n",
       "      <td>25 - 45</td>\n",
       "      <td>Caucasian</td>\n",
       "      <td>...</td>\n",
       "      <td>1</td>\n",
       "      <td>Low</td>\n",
       "      <td>2014-03-16</td>\n",
       "      <td>2014-03-15</td>\n",
       "      <td>2014-03-18</td>\n",
       "      <td>0</td>\n",
       "      <td>2</td>\n",
       "      <td>747</td>\n",
       "      <td>0</td>\n",
       "      <td>0</td>\n",
       "    </tr>\n",
       "  </tbody>\n",
       "</table>\n",
       "<p>5 rows × 40 columns</p>\n",
       "</div>"
      ],
      "text/plain": [
       "   id              name      first    last compas_screening_date     sex  \\\n",
       "1   3       kevon dixon      kevon   dixon            2013-01-27    Male   \n",
       "2   4          ed philo         ed   philo            2013-04-14    Male   \n",
       "3   5       marcu brown      marcu   brown            2013-01-13    Male   \n",
       "6   8     edward riddle     edward  riddle            2014-02-19    Male   \n",
       "8  10  elizabeth thieme  elizabeth  thieme            2014-03-16  Female   \n",
       "\n",
       "          dob  age       age_cat              race  ...  v_decile_score  \\\n",
       "1  1982-01-22   34       25 - 45  African-American  ...               1   \n",
       "2  1991-05-14   24  Less than 25  African-American  ...               3   \n",
       "3  1993-01-21   23  Less than 25  African-American  ...               6   \n",
       "6  1974-07-23   41       25 - 45         Caucasian  ...               2   \n",
       "8  1976-06-03   39       25 - 45         Caucasian  ...               1   \n",
       "\n",
       "   v_score_text  v_screening_date  in_custody  out_custody  priors_count.1  \\\n",
       "1           Low        2013-01-27  2013-01-26   2013-02-05               0   \n",
       "2           Low        2013-04-14  2013-06-16   2013-06-16               4   \n",
       "3        Medium        2013-01-13         NaN          NaN               1   \n",
       "6           Low        2014-02-19  2014-03-31   2014-04-18              14   \n",
       "8           Low        2014-03-16  2014-03-15   2014-03-18               0   \n",
       "\n",
       "  start   end event two_year_recid  \n",
       "1     9   159     1              1  \n",
       "2     0    63     0              1  \n",
       "3     0  1174     0              0  \n",
       "6     5    40     1              1  \n",
       "8     2   747     0              0  \n",
       "\n",
       "[5 rows x 40 columns]"
      ]
     },
     "execution_count": 9,
     "metadata": {},
     "output_type": "execute_result"
    }
   ],
   "source": [
    "data.head()"
   ]
  },
  {
   "cell_type": "code",
   "execution_count": 10,
   "metadata": {
    "colab": {
     "base_uri": "https://localhost:8080/",
     "height": 0
    },
    "executionInfo": {
     "elapsed": 241,
     "status": "ok",
     "timestamp": 1681311335906,
     "user": {
      "displayName": "Liang Hu",
      "userId": "05665141676566184070"
     },
     "user_tz": 240
    },
    "id": "l77hcdRxXwQ6",
    "outputId": "fdd3c549-44bb-4424-c9fe-508cb3ef0fbd"
   },
   "outputs": [
    {
     "name": "stdout",
     "output_type": "stream",
     "text": [
      "<class 'pandas.core.frame.DataFrame'>\n",
      "Int64Index: 6150 entries, 1 to 7212\n",
      "Data columns (total 40 columns):\n",
      " #   Column                   Non-Null Count  Dtype  \n",
      "---  ------                   --------------  -----  \n",
      " 0   id                       6150 non-null   int64  \n",
      " 1   name                     6150 non-null   object \n",
      " 2   first                    6150 non-null   object \n",
      " 3   last                     6150 non-null   object \n",
      " 4   compas_screening_date    6150 non-null   object \n",
      " 5   sex                      6150 non-null   object \n",
      " 6   dob                      6150 non-null   object \n",
      " 7   age                      6150 non-null   int64  \n",
      " 8   age_cat                  6150 non-null   object \n",
      " 9   race                     6150 non-null   object \n",
      " 10  juv_fel_count            6150 non-null   int64  \n",
      " 11  decile_score             6150 non-null   int64  \n",
      " 12  juv_misd_count           6150 non-null   int64  \n",
      " 13  juv_other_count          6150 non-null   int64  \n",
      " 14  priors_count             6150 non-null   int64  \n",
      " 15  days_b_screening_arrest  5915 non-null   float64\n",
      " 16  c_jail_in                5915 non-null   object \n",
      " 17  c_jail_out               5915 non-null   object \n",
      " 18  c_case_number            6136 non-null   object \n",
      " 19  c_offense_date           5151 non-null   object \n",
      " 20  c_days_from_compas       6136 non-null   float64\n",
      " 21  c_charge_degree          6150 non-null   object \n",
      " 22  c_charge_desc            6129 non-null   object \n",
      " 23  is_recid                 6150 non-null   int64  \n",
      " 24  is_violent_recid         6150 non-null   int64  \n",
      " 25  type_of_assessment       6150 non-null   object \n",
      " 26  decile_score.1           6150 non-null   int64  \n",
      " 27  score_text               6150 non-null   object \n",
      " 28  screening_date           6150 non-null   object \n",
      " 29  v_type_of_assessment     6150 non-null   object \n",
      " 30  v_decile_score           6150 non-null   int64  \n",
      " 31  v_score_text             6150 non-null   object \n",
      " 32  v_screening_date         6150 non-null   object \n",
      " 33  in_custody               5970 non-null   object \n",
      " 34  out_custody              5970 non-null   object \n",
      " 35  priors_count.1           6150 non-null   int64  \n",
      " 36  start                    6150 non-null   int64  \n",
      " 37  end                      6150 non-null   int64  \n",
      " 38  event                    6150 non-null   int64  \n",
      " 39  two_year_recid           6150 non-null   int64  \n",
      "dtypes: float64(2), int64(16), object(22)\n",
      "memory usage: 1.9+ MB\n"
     ]
    }
   ],
   "source": [
    "data.info()"
   ]
  },
  {
   "cell_type": "markdown",
   "metadata": {
    "id": "eCTFj0zPx84v"
   },
   "source": [
    "### Construct each variable"
   ]
  },
  {
   "cell_type": "code",
   "execution_count": 11,
   "metadata": {
    "executionInfo": {
     "elapsed": 138,
     "status": "ok",
     "timestamp": 1681311338101,
     "user": {
      "displayName": "Liang Hu",
      "userId": "05665141676566184070"
     },
     "user_tz": 240
    },
    "id": "S0wUoFNfbVCz"
   },
   "outputs": [],
   "source": [
    "categorical_features = ['id','first','last','age_cat','race','c_charge_degree','c_charge_desc','type_of_assessment',\n",
    "                        'score_text','v_type_of_assessment','v_score_text']"
   ]
  },
  {
   "cell_type": "code",
   "execution_count": 12,
   "metadata": {
    "executionInfo": {
     "elapsed": 233,
     "status": "ok",
     "timestamp": 1681311340444,
     "user": {
      "displayName": "Liang Hu",
      "userId": "05665141676566184070"
     },
     "user_tz": 240
    },
    "id": "33NkkHrvbXsB"
   },
   "outputs": [],
   "source": [
    "X = data.copy() # an instance in p dimensional space\n",
    "selected_column= X[categorical_features]\n",
    "categorical_df = selected_column.copy()"
   ]
  },
  {
   "cell_type": "code",
   "execution_count": 13,
   "metadata": {
    "colab": {
     "base_uri": "https://localhost:8080/",
     "height": 607
    },
    "executionInfo": {
     "elapsed": 4,
     "status": "ok",
     "timestamp": 1681311340445,
     "user": {
      "displayName": "Liang Hu",
      "userId": "05665141676566184070"
     },
     "user_tz": 240
    },
    "id": "qrkfYNOWdMZL",
    "outputId": "90adbd78-ed49-407d-f8e3-ce4e57e92375"
   },
   "outputs": [
    {
     "data": {
      "text/html": [
       "<div>\n",
       "<style scoped>\n",
       "    .dataframe tbody tr th:only-of-type {\n",
       "        vertical-align: middle;\n",
       "    }\n",
       "\n",
       "    .dataframe tbody tr th {\n",
       "        vertical-align: top;\n",
       "    }\n",
       "\n",
       "    .dataframe thead th {\n",
       "        text-align: right;\n",
       "    }\n",
       "</style>\n",
       "<table border=\"1\" class=\"dataframe\">\n",
       "  <thead>\n",
       "    <tr style=\"text-align: right;\">\n",
       "      <th></th>\n",
       "      <th>id</th>\n",
       "      <th>first</th>\n",
       "      <th>last</th>\n",
       "      <th>age_cat</th>\n",
       "      <th>race</th>\n",
       "      <th>c_charge_degree</th>\n",
       "      <th>c_charge_desc</th>\n",
       "      <th>type_of_assessment</th>\n",
       "      <th>score_text</th>\n",
       "      <th>v_type_of_assessment</th>\n",
       "      <th>v_score_text</th>\n",
       "    </tr>\n",
       "  </thead>\n",
       "  <tbody>\n",
       "    <tr>\n",
       "      <th>1</th>\n",
       "      <td>3</td>\n",
       "      <td>kevon</td>\n",
       "      <td>dixon</td>\n",
       "      <td>25 - 45</td>\n",
       "      <td>African-American</td>\n",
       "      <td>F</td>\n",
       "      <td>Felony Battery w/Prior Convict</td>\n",
       "      <td>Risk of Recidivism</td>\n",
       "      <td>Low</td>\n",
       "      <td>Risk of Violence</td>\n",
       "      <td>Low</td>\n",
       "    </tr>\n",
       "    <tr>\n",
       "      <th>2</th>\n",
       "      <td>4</td>\n",
       "      <td>ed</td>\n",
       "      <td>philo</td>\n",
       "      <td>Less than 25</td>\n",
       "      <td>African-American</td>\n",
       "      <td>F</td>\n",
       "      <td>Possession of Cocaine</td>\n",
       "      <td>Risk of Recidivism</td>\n",
       "      <td>Low</td>\n",
       "      <td>Risk of Violence</td>\n",
       "      <td>Low</td>\n",
       "    </tr>\n",
       "    <tr>\n",
       "      <th>3</th>\n",
       "      <td>5</td>\n",
       "      <td>marcu</td>\n",
       "      <td>brown</td>\n",
       "      <td>Less than 25</td>\n",
       "      <td>African-American</td>\n",
       "      <td>F</td>\n",
       "      <td>Possession of Cannabis</td>\n",
       "      <td>Risk of Recidivism</td>\n",
       "      <td>High</td>\n",
       "      <td>Risk of Violence</td>\n",
       "      <td>Medium</td>\n",
       "    </tr>\n",
       "    <tr>\n",
       "      <th>6</th>\n",
       "      <td>8</td>\n",
       "      <td>edward</td>\n",
       "      <td>riddle</td>\n",
       "      <td>25 - 45</td>\n",
       "      <td>Caucasian</td>\n",
       "      <td>F</td>\n",
       "      <td>Possession Burglary Tools</td>\n",
       "      <td>Risk of Recidivism</td>\n",
       "      <td>Medium</td>\n",
       "      <td>Risk of Violence</td>\n",
       "      <td>Low</td>\n",
       "    </tr>\n",
       "    <tr>\n",
       "      <th>8</th>\n",
       "      <td>10</td>\n",
       "      <td>elizabeth</td>\n",
       "      <td>thieme</td>\n",
       "      <td>25 - 45</td>\n",
       "      <td>Caucasian</td>\n",
       "      <td>M</td>\n",
       "      <td>Battery</td>\n",
       "      <td>Risk of Recidivism</td>\n",
       "      <td>Low</td>\n",
       "      <td>Risk of Violence</td>\n",
       "      <td>Low</td>\n",
       "    </tr>\n",
       "    <tr>\n",
       "      <th>...</th>\n",
       "      <td>...</td>\n",
       "      <td>...</td>\n",
       "      <td>...</td>\n",
       "      <td>...</td>\n",
       "      <td>...</td>\n",
       "      <td>...</td>\n",
       "      <td>...</td>\n",
       "      <td>...</td>\n",
       "      <td>...</td>\n",
       "      <td>...</td>\n",
       "      <td>...</td>\n",
       "    </tr>\n",
       "    <tr>\n",
       "      <th>7207</th>\n",
       "      <td>10994</td>\n",
       "      <td>jarred</td>\n",
       "      <td>payne</td>\n",
       "      <td>25 - 45</td>\n",
       "      <td>African-American</td>\n",
       "      <td>M</td>\n",
       "      <td>Possess Cannabis/20 Grams Or Less</td>\n",
       "      <td>Risk of Recidivism</td>\n",
       "      <td>Low</td>\n",
       "      <td>Risk of Violence</td>\n",
       "      <td>Low</td>\n",
       "    </tr>\n",
       "    <tr>\n",
       "      <th>7208</th>\n",
       "      <td>10995</td>\n",
       "      <td>raheem</td>\n",
       "      <td>smith</td>\n",
       "      <td>Less than 25</td>\n",
       "      <td>African-American</td>\n",
       "      <td>F</td>\n",
       "      <td>Possession of Cocaine</td>\n",
       "      <td>Risk of Recidivism</td>\n",
       "      <td>High</td>\n",
       "      <td>Risk of Violence</td>\n",
       "      <td>High</td>\n",
       "    </tr>\n",
       "    <tr>\n",
       "      <th>7209</th>\n",
       "      <td>10996</td>\n",
       "      <td>steven</td>\n",
       "      <td>butler</td>\n",
       "      <td>Less than 25</td>\n",
       "      <td>African-American</td>\n",
       "      <td>F</td>\n",
       "      <td>Deliver Cannabis</td>\n",
       "      <td>Risk of Recidivism</td>\n",
       "      <td>Medium</td>\n",
       "      <td>Risk of Violence</td>\n",
       "      <td>Medium</td>\n",
       "    </tr>\n",
       "    <tr>\n",
       "      <th>7210</th>\n",
       "      <td>10997</td>\n",
       "      <td>malcolm</td>\n",
       "      <td>simmons</td>\n",
       "      <td>Less than 25</td>\n",
       "      <td>African-American</td>\n",
       "      <td>F</td>\n",
       "      <td>Leaving the Scene of Accident</td>\n",
       "      <td>Risk of Recidivism</td>\n",
       "      <td>Low</td>\n",
       "      <td>Risk of Violence</td>\n",
       "      <td>Medium</td>\n",
       "    </tr>\n",
       "    <tr>\n",
       "      <th>7212</th>\n",
       "      <td>11000</td>\n",
       "      <td>farrah</td>\n",
       "      <td>jean</td>\n",
       "      <td>25 - 45</td>\n",
       "      <td>African-American</td>\n",
       "      <td>M</td>\n",
       "      <td>Battery on Law Enforc Officer</td>\n",
       "      <td>Risk of Recidivism</td>\n",
       "      <td>Low</td>\n",
       "      <td>Risk of Violence</td>\n",
       "      <td>Low</td>\n",
       "    </tr>\n",
       "  </tbody>\n",
       "</table>\n",
       "<p>6150 rows × 11 columns</p>\n",
       "</div>"
      ],
      "text/plain": [
       "         id      first     last       age_cat              race  \\\n",
       "1         3      kevon    dixon       25 - 45  African-American   \n",
       "2         4         ed    philo  Less than 25  African-American   \n",
       "3         5      marcu    brown  Less than 25  African-American   \n",
       "6         8     edward   riddle       25 - 45         Caucasian   \n",
       "8        10  elizabeth   thieme       25 - 45         Caucasian   \n",
       "...     ...        ...      ...           ...               ...   \n",
       "7207  10994     jarred    payne       25 - 45  African-American   \n",
       "7208  10995     raheem    smith  Less than 25  African-American   \n",
       "7209  10996     steven   butler  Less than 25  African-American   \n",
       "7210  10997    malcolm  simmons  Less than 25  African-American   \n",
       "7212  11000     farrah     jean       25 - 45  African-American   \n",
       "\n",
       "     c_charge_degree                      c_charge_desc  type_of_assessment  \\\n",
       "1                  F     Felony Battery w/Prior Convict  Risk of Recidivism   \n",
       "2                  F              Possession of Cocaine  Risk of Recidivism   \n",
       "3                  F             Possession of Cannabis  Risk of Recidivism   \n",
       "6                  F          Possession Burglary Tools  Risk of Recidivism   \n",
       "8                  M                            Battery  Risk of Recidivism   \n",
       "...              ...                                ...                 ...   \n",
       "7207               M  Possess Cannabis/20 Grams Or Less  Risk of Recidivism   \n",
       "7208               F              Possession of Cocaine  Risk of Recidivism   \n",
       "7209               F                   Deliver Cannabis  Risk of Recidivism   \n",
       "7210               F      Leaving the Scene of Accident  Risk of Recidivism   \n",
       "7212               M      Battery on Law Enforc Officer  Risk of Recidivism   \n",
       "\n",
       "     score_text v_type_of_assessment v_score_text  \n",
       "1           Low     Risk of Violence          Low  \n",
       "2           Low     Risk of Violence          Low  \n",
       "3          High     Risk of Violence       Medium  \n",
       "6        Medium     Risk of Violence          Low  \n",
       "8           Low     Risk of Violence          Low  \n",
       "...         ...                  ...          ...  \n",
       "7207        Low     Risk of Violence          Low  \n",
       "7208       High     Risk of Violence         High  \n",
       "7209     Medium     Risk of Violence       Medium  \n",
       "7210        Low     Risk of Violence       Medium  \n",
       "7212        Low     Risk of Violence          Low  \n",
       "\n",
       "[6150 rows x 11 columns]"
      ]
     },
     "execution_count": 13,
     "metadata": {},
     "output_type": "execute_result"
    }
   ],
   "source": [
    "categorical_df"
   ]
  },
  {
   "cell_type": "code",
   "execution_count": 14,
   "metadata": {
    "colab": {
     "base_uri": "https://localhost:8080/",
     "height": 0
    },
    "executionInfo": {
     "elapsed": 3,
     "status": "ok",
     "timestamp": 1681311342432,
     "user": {
      "displayName": "Liang Hu",
      "userId": "05665141676566184070"
     },
     "user_tz": 240
    },
    "id": "Yy7Cb200d5hr",
    "outputId": "575f070f-1dbd-454f-b23d-cb9b57ab03f6"
   },
   "outputs": [],
   "source": [
    "corr = categorical_df.corr()"
   ]
  },
  {
   "cell_type": "code",
   "execution_count": 15,
   "metadata": {
    "executionInfo": {
     "elapsed": 1,
     "status": "ok",
     "timestamp": 1681311342432,
     "user": {
      "displayName": "Liang Hu",
      "userId": "05665141676566184070"
     },
     "user_tz": 240
    },
    "id": "bB8weDaDfol8"
   },
   "outputs": [],
   "source": [
    "X = data.copy() # an instance in p dimensional space\n",
    "selected_column= X[categorical_features]"
   ]
  },
  {
   "cell_type": "code",
   "execution_count": 16,
   "metadata": {
    "colab": {
     "base_uri": "https://localhost:8080/",
     "height": 1000
    },
    "executionInfo": {
     "elapsed": 2243,
     "status": "ok",
     "timestamp": 1681311346976,
     "user": {
      "displayName": "Liang Hu",
      "userId": "05665141676566184070"
     },
     "user_tz": 240
    },
    "id": "Xtaknbc4bZoC",
    "outputId": "2401bc6c-369e-421e-8232-9c88739682ee"
   },
   "outputs": [
    {
     "data": {
      "image/png": "[encoded data removed]",
      "text/plain": [
       "<Figure size 1080x864 with 2 Axes>"
      ]
     },
     "metadata": {
      "needs_background": "light"
     },
     "output_type": "display_data"
    }
   ],
   "source": [
    "# categorical_correlation= associations(categorical_df, filename= 'categorical_correlation.png', figsize=(10,10))\n",
    "\n",
    "import seaborn as sns\n",
    "corr = X.corr()\n",
    "fig,ax = plt.subplots(figsize=(15,12))\n",
    "sns.heatmap(corr, annot=True)\n",
    "plt.show()"
   ]
  },
  {
   "cell_type": "code",
   "execution_count": 17,
   "metadata": {
    "executionInfo": {
     "elapsed": 1,
     "status": "ok",
     "timestamp": 1681311347115,
     "user": {
      "displayName": "Liang Hu",
      "userId": "05665141676566184070"
     },
     "user_tz": 240
    },
    "id": "Vf5xEDW4uecn"
   },
   "outputs": [],
   "source": [
    "e_list = ['first', 'last', 'sex','age','race','priors_count','juv_fel_count','decile_score']\n",
    "exclude_e_s = ['compas_screening_date',\n",
    "               'age',\n",
    "               'age_cat',\n",
    "               'juv_misd_count',\n",
    "               'juv_other_count',\n",
    "               'priors_count',\n",
    "               'days_b_screening_arrest',\n",
    "               'c_jail_in',\n",
    "               'c_jail_out',\n",
    "               'c_offense_date',\n",
    "               'c_days_from_compas',\n",
    "               'is_recid',\n",
    "               'is_violent_recid',\n",
    "               'type_of_assessment',\n",
    "               'decile_score.1',\n",
    "               'screening_date',\n",
    "               'v_type_of_assessment',\n",
    "               'v_decile_score',\n",
    "               'v_screening_date',\n",
    "               'in_custody',\n",
    "               'out_custody',\n",
    "               'priors_count.1',\n",
    "               'start',\n",
    "               'end',\n",
    "               'event']"
   ]
  },
  {
   "cell_type": "code",
   "execution_count": 18,
   "metadata": {
    "executionInfo": {
     "elapsed": 1,
     "status": "ok",
     "timestamp": 1681311348068,
     "user": {
      "displayName": "Liang Hu",
      "userId": "05665141676566184070"
     },
     "user_tz": 240
    },
    "id": "pMKXD3lbYL6N"
   },
   "outputs": [],
   "source": [
    "X = data # an instance in p dimensional space\n",
    "new_X = data[exclude_e_s]\n",
    "\n",
    "s = data[['race']] # sensitive attribute\n",
    "\n",
    "e = data[e_list] # explanatory attribute \n",
    "\n",
    "y = data[['two_year_recid']] # label: if a particular person will re-offend in the next two years"
   ]
  },
  {
   "cell_type": "code",
   "execution_count": 19,
   "metadata": {
    "colab": {
     "base_uri": "https://localhost:8080/",
     "height": 0
    },
    "executionInfo": {
     "elapsed": 2,
     "status": "ok",
     "timestamp": 1681311349779,
     "user": {
      "displayName": "Liang Hu",
      "userId": "05665141676566184070"
     },
     "user_tz": 240
    },
    "id": "Eycc51RXYk6X",
    "outputId": "c3cbf720-c8f1-45ca-e298-7e5514ad2110"
   },
   "outputs": [
    {
     "name": "stdout",
     "output_type": "stream",
     "text": [
      "(6150, 40)\n"
     ]
    }
   ],
   "source": [
    "print(X.shape)"
   ]
  },
  {
   "cell_type": "markdown",
   "metadata": {
    "id": "GvZuuO7AEWBY"
   },
   "source": [
    "### Prep - subroutine PARTITION (Algorithm 3)"
   ]
  },
  {
   "cell_type": "code",
   "execution_count": 20,
   "metadata": {
    "executionInfo": {
     "elapsed": 138,
     "status": "ok",
     "timestamp": 1681311352621,
     "user": {
      "displayName": "Liang Hu",
      "userId": "05665141676566184070"
     },
     "user_tz": 240
    },
    "id": "aDZhqIrcEesU"
   },
   "outputs": [],
   "source": [
    "def partition(X,e):\n",
    "    e_list = list(e.keys())\n",
    "    X_i = []\n",
    "    for i in range(len(e_list)):\n",
    "        X[e_list[i]] = e[e_list[i]]\n",
    "        X_i.append(X)\n",
    "    return X_i"
   ]
  },
  {
   "cell_type": "code",
   "execution_count": 21,
   "metadata": {
    "colab": {
     "base_uri": "https://localhost:8080/",
     "height": 0
    },
    "executionInfo": {
     "elapsed": 3,
     "status": "ok",
     "timestamp": 1681311354196,
     "user": {
      "displayName": "Liang Hu",
      "userId": "05665141676566184070"
     },
     "user_tz": 240
    },
    "id": "dupaTCkRGFbU",
    "outputId": "bb4d1279-ead6-4692-8ab7-451172c67189"
   },
   "outputs": [
    {
     "name": "stderr",
     "output_type": "stream",
     "text": [
      "/Users/larry_1/opt/anaconda3/envs/myenv/lib/python3.6/site-packages/ipykernel_launcher.py:5: SettingWithCopyWarning: \n",
      "A value is trying to be set on a copy of a slice from a DataFrame.\n",
      "Try using .loc[row_indexer,col_indexer] = value instead\n",
      "\n",
      "See the caveats in the documentation: https://pandas.pydata.org/pandas-docs/stable/user_guide/indexing.html#returning-a-view-versus-a-copy\n",
      "  \"\"\"\n"
     ]
    }
   ],
   "source": [
    "temp = partition(new_X,e)"
   ]
  },
  {
   "cell_type": "code",
   "execution_count": 22,
   "metadata": {
    "colab": {
     "base_uri": "https://localhost:8080/",
     "height": 0
    },
    "executionInfo": {
     "elapsed": 524,
     "status": "ok",
     "timestamp": 1681311382260,
     "user": {
      "displayName": "Liang Hu",
      "userId": "05665141676566184070"
     },
     "user_tz": 240
    },
    "id": "S-O2bgFgGHaI",
    "outputId": "8adaa34c-b25e-42d3-bc1e-c7018b2cfa33"
   },
   "outputs": [
    {
     "data": {
      "text/plain": [
       "(6150, 31)"
      ]
     },
     "execution_count": 22,
     "metadata": {},
     "output_type": "execute_result"
    }
   ],
   "source": [
    "temp[0].shape"
   ]
  },
  {
   "cell_type": "markdown",
   "metadata": {
    "id": "7TozMj-EQl5X"
   },
   "source": [
    "Local Massaging (LM) algorithm and Local Preferential Sampling (LPS) algorithm have different approaches for handling the sensitive attribute.\n",
    "\n",
    "LM considers the sensitive attribute as a binary classification problem; LPS divides the sensitive attribute into two groups."
   ]
  },
  {
   "cell_type": "code",
   "execution_count": 23,
   "metadata": {
    "executionInfo": {
     "elapsed": 286,
     "status": "ok",
     "timestamp": 1681311398328,
     "user": {
      "displayName": "Liang Hu",
      "userId": "05665141676566184070"
     },
     "user_tz": 240
    },
    "id": "rH2LMQQZDl2K"
   },
   "outputs": [],
   "source": [
    "from sklearn.model_selection import train_test_split\n",
    "from sklearn.metrics import f1_score, accuracy_score, confusion_matrix\n",
    "from sklearn.ensemble import RandomForestClassifier\n",
    "from sklearn.preprocessing import OneHotEncoder\n",
    "from sklearn.calibration import CalibratedClassifierCV"
   ]
  },
  {
   "cell_type": "markdown",
   "metadata": {
    "id": "X7V9iS_BeyQZ"
   },
   "source": [
    "### Baseline Model"
   ]
  },
  {
   "cell_type": "code",
   "execution_count": 24,
   "metadata": {
    "colab": {
     "base_uri": "https://localhost:8080/",
     "height": 0
    },
    "executionInfo": {
     "elapsed": 178,
     "status": "ok",
     "timestamp": 1681311401123,
     "user": {
      "displayName": "Liang Hu",
      "userId": "05665141676566184070"
     },
     "user_tz": 240
    },
    "id": "TyxKhrOe3guQ",
    "outputId": "e6d8308b-9015-4a59-b699-80bd9b1324d2"
   },
   "outputs": [
    {
     "data": {
      "text/plain": [
       "Index(['id', 'name', 'first', 'last', 'compas_screening_date', 'sex', 'dob',\n",
       "       'age', 'age_cat', 'race', 'juv_fel_count', 'decile_score',\n",
       "       'juv_misd_count', 'juv_other_count', 'priors_count', 'c_charge_degree',\n",
       "       'is_recid', 'is_violent_recid', 'type_of_assessment', 'decile_score.1',\n",
       "       'score_text', 'screening_date', 'v_type_of_assessment',\n",
       "       'v_decile_score', 'v_score_text', 'v_screening_date', 'priors_count.1',\n",
       "       'start', 'end', 'event', 'two_year_recid'],\n",
       "      dtype='object')"
      ]
     },
     "execution_count": 24,
     "metadata": {},
     "output_type": "execute_result"
    }
   ],
   "source": [
    "df = pd.read_csv('../data/compas-scores-two-years.csv')\n",
    "# df = pd.read_csv('/content/drive/MyDrive/ADS-hw4/data/compas-scores-two-years.csv')\n",
    "df.columns[df.isna().any()==False]"
   ]
  },
  {
   "cell_type": "code",
   "execution_count": 25,
   "metadata": {
    "executionInfo": {
     "elapsed": 4,
     "status": "ok",
     "timestamp": 1681311402813,
     "user": {
      "displayName": "Liang Hu",
      "userId": "05665141676566184070"
     },
     "user_tz": 240
    },
    "id": "-rwddAlC3jsv"
   },
   "outputs": [],
   "source": [
    "selected_features = ['first', 'last', 'sex','age','race','priors_count','juv_fel_count','decile_score','two_year_recid']"
   ]
  },
  {
   "cell_type": "code",
   "execution_count": 26,
   "metadata": {
    "colab": {
     "base_uri": "https://localhost:8080/",
     "height": 424
    },
    "executionInfo": {
     "elapsed": 329,
     "status": "ok",
     "timestamp": 1681311405666,
     "user": {
      "displayName": "Liang Hu",
      "userId": "05665141676566184070"
     },
     "user_tz": 240
    },
    "id": "jHLTF_1s3aM6",
    "outputId": "c429a636-1ec4-47ce-ce4e-f1b31191bce7"
   },
   "outputs": [
    {
     "data": {
      "text/html": [
       "<div>\n",
       "<style scoped>\n",
       "    .dataframe tbody tr th:only-of-type {\n",
       "        vertical-align: middle;\n",
       "    }\n",
       "\n",
       "    .dataframe tbody tr th {\n",
       "        vertical-align: top;\n",
       "    }\n",
       "\n",
       "    .dataframe thead th {\n",
       "        text-align: right;\n",
       "    }\n",
       "</style>\n",
       "<table border=\"1\" class=\"dataframe\">\n",
       "  <thead>\n",
       "    <tr style=\"text-align: right;\">\n",
       "      <th></th>\n",
       "      <th>first</th>\n",
       "      <th>last</th>\n",
       "      <th>sex</th>\n",
       "      <th>age</th>\n",
       "      <th>race</th>\n",
       "      <th>priors_count</th>\n",
       "      <th>juv_fel_count</th>\n",
       "      <th>decile_score</th>\n",
       "      <th>two_year_recid</th>\n",
       "    </tr>\n",
       "  </thead>\n",
       "  <tbody>\n",
       "    <tr>\n",
       "      <th>0</th>\n",
       "      <td>kevon</td>\n",
       "      <td>dixon</td>\n",
       "      <td>Male</td>\n",
       "      <td>34</td>\n",
       "      <td>African-American</td>\n",
       "      <td>0</td>\n",
       "      <td>0</td>\n",
       "      <td>3</td>\n",
       "      <td>1</td>\n",
       "    </tr>\n",
       "    <tr>\n",
       "      <th>1</th>\n",
       "      <td>ed</td>\n",
       "      <td>philo</td>\n",
       "      <td>Male</td>\n",
       "      <td>24</td>\n",
       "      <td>African-American</td>\n",
       "      <td>4</td>\n",
       "      <td>0</td>\n",
       "      <td>4</td>\n",
       "      <td>1</td>\n",
       "    </tr>\n",
       "    <tr>\n",
       "      <th>2</th>\n",
       "      <td>marcu</td>\n",
       "      <td>brown</td>\n",
       "      <td>Male</td>\n",
       "      <td>23</td>\n",
       "      <td>African-American</td>\n",
       "      <td>1</td>\n",
       "      <td>0</td>\n",
       "      <td>8</td>\n",
       "      <td>0</td>\n",
       "    </tr>\n",
       "    <tr>\n",
       "      <th>3</th>\n",
       "      <td>edward</td>\n",
       "      <td>riddle</td>\n",
       "      <td>Male</td>\n",
       "      <td>41</td>\n",
       "      <td>Caucasian</td>\n",
       "      <td>14</td>\n",
       "      <td>0</td>\n",
       "      <td>6</td>\n",
       "      <td>1</td>\n",
       "    </tr>\n",
       "    <tr>\n",
       "      <th>4</th>\n",
       "      <td>elizabeth</td>\n",
       "      <td>thieme</td>\n",
       "      <td>Female</td>\n",
       "      <td>39</td>\n",
       "      <td>Caucasian</td>\n",
       "      <td>0</td>\n",
       "      <td>0</td>\n",
       "      <td>1</td>\n",
       "      <td>0</td>\n",
       "    </tr>\n",
       "    <tr>\n",
       "      <th>...</th>\n",
       "      <td>...</td>\n",
       "      <td>...</td>\n",
       "      <td>...</td>\n",
       "      <td>...</td>\n",
       "      <td>...</td>\n",
       "      <td>...</td>\n",
       "      <td>...</td>\n",
       "      <td>...</td>\n",
       "      <td>...</td>\n",
       "    </tr>\n",
       "    <tr>\n",
       "      <th>6145</th>\n",
       "      <td>jarred</td>\n",
       "      <td>payne</td>\n",
       "      <td>Male</td>\n",
       "      <td>30</td>\n",
       "      <td>African-American</td>\n",
       "      <td>0</td>\n",
       "      <td>0</td>\n",
       "      <td>2</td>\n",
       "      <td>1</td>\n",
       "    </tr>\n",
       "    <tr>\n",
       "      <th>6146</th>\n",
       "      <td>raheem</td>\n",
       "      <td>smith</td>\n",
       "      <td>Male</td>\n",
       "      <td>20</td>\n",
       "      <td>African-American</td>\n",
       "      <td>0</td>\n",
       "      <td>0</td>\n",
       "      <td>9</td>\n",
       "      <td>0</td>\n",
       "    </tr>\n",
       "    <tr>\n",
       "      <th>6147</th>\n",
       "      <td>steven</td>\n",
       "      <td>butler</td>\n",
       "      <td>Male</td>\n",
       "      <td>23</td>\n",
       "      <td>African-American</td>\n",
       "      <td>0</td>\n",
       "      <td>0</td>\n",
       "      <td>7</td>\n",
       "      <td>0</td>\n",
       "    </tr>\n",
       "    <tr>\n",
       "      <th>6148</th>\n",
       "      <td>malcolm</td>\n",
       "      <td>simmons</td>\n",
       "      <td>Male</td>\n",
       "      <td>23</td>\n",
       "      <td>African-American</td>\n",
       "      <td>0</td>\n",
       "      <td>0</td>\n",
       "      <td>3</td>\n",
       "      <td>0</td>\n",
       "    </tr>\n",
       "    <tr>\n",
       "      <th>6149</th>\n",
       "      <td>farrah</td>\n",
       "      <td>jean</td>\n",
       "      <td>Female</td>\n",
       "      <td>33</td>\n",
       "      <td>African-American</td>\n",
       "      <td>3</td>\n",
       "      <td>0</td>\n",
       "      <td>2</td>\n",
       "      <td>0</td>\n",
       "    </tr>\n",
       "  </tbody>\n",
       "</table>\n",
       "<p>6150 rows × 9 columns</p>\n",
       "</div>"
      ],
      "text/plain": [
       "          first     last     sex  age              race  priors_count  \\\n",
       "0         kevon    dixon    Male   34  African-American             0   \n",
       "1            ed    philo    Male   24  African-American             4   \n",
       "2         marcu    brown    Male   23  African-American             1   \n",
       "3        edward   riddle    Male   41         Caucasian            14   \n",
       "4     elizabeth   thieme  Female   39         Caucasian             0   \n",
       "...         ...      ...     ...  ...               ...           ...   \n",
       "6145     jarred    payne    Male   30  African-American             0   \n",
       "6146     raheem    smith    Male   20  African-American             0   \n",
       "6147     steven   butler    Male   23  African-American             0   \n",
       "6148    malcolm  simmons    Male   23  African-American             0   \n",
       "6149     farrah     jean  Female   33  African-American             3   \n",
       "\n",
       "      juv_fel_count  decile_score  two_year_recid  \n",
       "0                 0             3               1  \n",
       "1                 0             4               1  \n",
       "2                 0             8               0  \n",
       "3                 0             6               1  \n",
       "4                 0             1               0  \n",
       "...             ...           ...             ...  \n",
       "6145              0             2               1  \n",
       "6146              0             9               0  \n",
       "6147              0             7               0  \n",
       "6148              0             3               0  \n",
       "6149              0             2               0  \n",
       "\n",
       "[6150 rows x 9 columns]"
      ]
     },
     "execution_count": 26,
     "metadata": {},
     "output_type": "execute_result"
    }
   ],
   "source": [
    "df_cleaned = df[selected_features][(df['race']=='Caucasian') | (df['race']=='African-American')].copy()\n",
    "df_cleaned.head()\n",
    "df_cleaned.index = np.arange(0,len(df_cleaned))\n",
    "df_cleaned"
   ]
  },
  {
   "cell_type": "code",
   "execution_count": 27,
   "metadata": {
    "colab": {
     "base_uri": "https://localhost:8080/",
     "height": 0
    },
    "executionInfo": {
     "elapsed": 2,
     "status": "ok",
     "timestamp": 1681311407500,
     "user": {
      "displayName": "Liang Hu",
      "userId": "05665141676566184070"
     },
     "user_tz": 240
    },
    "id": "wkWfm6Lr3YIZ",
    "outputId": "f4c31f3d-bb34-43d1-8252-a06920513ff6"
   },
   "outputs": [],
   "source": [
    "numerical = ['priors_count']\n",
    "enc = OneHotEncoder(drop='if_binary',sparse=False)\n",
    "X_1 = enc.fit_transform(df_cleaned.drop(['two_year_recid'],axis=1))\n",
    "X_1 = np.hstack((X_1,df_cleaned[numerical].to_numpy()))\n",
    "y_1 = df_cleaned['two_year_recid'].to_numpy()\n",
    "X_train, X_test, y_train, y_test = train_test_split(X_1, y_1, test_size=0.15, random_state=0)"
   ]
  },
  {
   "cell_type": "code",
   "execution_count": 28,
   "metadata": {
    "executionInfo": {
     "elapsed": 5195,
     "status": "ok",
     "timestamp": 1681311417828,
     "user": {
      "displayName": "Liang Hu",
      "userId": "05665141676566184070"
     },
     "user_tz": 240
    },
    "id": "PTRL3CpRlL01"
   },
   "outputs": [],
   "source": [
    "enc = OneHotEncoder(handle_unknown='ignore')\n",
    "X_new = enc.fit(X_1)\n",
    "X_new = enc.transform(X_1)\n",
    "X_train, X_test, y_train, y_test = train_test_split(X_new,y,test_size=0.3, random_state=44)"
   ]
  },
  {
   "cell_type": "code",
   "execution_count": 29,
   "metadata": {
    "colab": {
     "base_uri": "https://localhost:8080/",
     "height": 130
    },
    "executionInfo": {
     "elapsed": 96209,
     "status": "ok",
     "timestamp": 1681311514036,
     "user": {
      "displayName": "Liang Hu",
      "userId": "05665141676566184070"
     },
     "user_tz": 240
    },
    "id": "ZUdvlvHh3NYk",
    "outputId": "e7f4a9bf-e855-46f6-dbb8-b0faf3c364b9"
   },
   "outputs": [
    {
     "name": "stderr",
     "output_type": "stream",
     "text": [
      "/Users/larry_1/opt/anaconda3/envs/myenv/lib/python3.6/site-packages/ipykernel_launcher.py:2: DataConversionWarning: A column-vector y was passed when a 1d array was expected. Please change the shape of y to (n_samples,), for example using ravel().\n",
      "  \n"
     ]
    },
    {
     "data": {
      "text/plain": [
       "RandomForestClassifier(random_state=44)"
      ]
     },
     "execution_count": 29,
     "metadata": {},
     "output_type": "execute_result"
    }
   ],
   "source": [
    "clf = RandomForestClassifier(random_state=44)\n",
    "clf.fit(X_train, y_train)"
   ]
  },
  {
   "cell_type": "code",
   "execution_count": 30,
   "metadata": {
    "colab": {
     "base_uri": "https://localhost:8080/",
     "height": 0
    },
    "executionInfo": {
     "elapsed": 2694,
     "status": "ok",
     "timestamp": 1681311540399,
     "user": {
      "displayName": "Liang Hu",
      "userId": "05665141676566184070"
     },
     "user_tz": 240
    },
    "id": "dWSn0Px9hrNC",
    "outputId": "6726cb37-200b-45df-dd0d-e6950a4d0003"
   },
   "outputs": [
    {
     "name": "stdout",
     "output_type": "stream",
     "text": [
      "0.6720867208672087\n",
      "[[737 238]\n",
      " [367 503]]\n"
     ]
    }
   ],
   "source": [
    "y_pred_test = clf.predict(X_test)\n",
    "print(accuracy_score(y_test, y_pred_test))\n",
    "print(confusion_matrix(y_test, y_pred_test))"
   ]
  },
  {
   "cell_type": "code",
   "execution_count": 31,
   "metadata": {
    "executionInfo": {
     "elapsed": 180,
     "status": "ok",
     "timestamp": 1681311547165,
     "user": {
      "displayName": "Liang Hu",
      "userId": "05665141676566184070"
     },
     "user_tz": 240
    },
    "id": "MMoZEuIfXhO6"
   },
   "outputs": [],
   "source": [
    "confusion_matrix = confusion_matrix(y_test, y_pred_test)\n",
    "tp = confusion_matrix[1, 1]\n",
    "fp = confusion_matrix[0, 1]\n",
    "fn = confusion_matrix[1, 0]\n",
    "import numpy as np\n",
    "\n",
    "def calculate_f1_recall(tp, fp, fn ):\n",
    "    # Calculate the precision and recall\n",
    "    precision = tp / (tp + fp)\n",
    "    recall = tp / (tp + fn)\n",
    "    \n",
    "    # Calculate the F1 score\n",
    "    f1_score = 2 * (precision * recall) / (precision + recall)\n",
    "    \n",
    "    return f1_score, recall\n"
   ]
  },
  {
   "cell_type": "code",
   "execution_count": 32,
   "metadata": {
    "colab": {
     "base_uri": "https://localhost:8080/",
     "height": 0
    },
    "executionInfo": {
     "elapsed": 422,
     "status": "ok",
     "timestamp": 1681311549937,
     "user": {
      "displayName": "Liang Hu",
      "userId": "05665141676566184070"
     },
     "user_tz": 240
    },
    "id": "VWXp9Di2X9E2",
    "outputId": "2db403d0-a64f-40a7-ecbb-6583f36ec961"
   },
   "outputs": [
    {
     "data": {
      "text/plain": [
       "(0.6244568590937306, 0.5781609195402299)"
      ]
     },
     "execution_count": 32,
     "metadata": {},
     "output_type": "execute_result"
    }
   ],
   "source": [
    "calculate_f1_recall(tp, fp, fn )"
   ]
  },
  {
   "cell_type": "code",
   "execution_count": 33,
   "metadata": {
    "colab": {
     "base_uri": "https://localhost:8080/",
     "height": 0
    },
    "executionInfo": {
     "elapsed": 414,
     "status": "ok",
     "timestamp": 1681311552413,
     "user": {
      "displayName": "Liang Hu",
      "userId": "05665141676566184070"
     },
     "user_tz": 240
    },
    "id": "dCwdKKXdYMa1",
    "outputId": "4ba3177c-62ec-47e0-886b-6930a99d3982"
   },
   "outputs": [
    {
     "name": "stdout",
     "output_type": "stream",
     "text": [
      "Caliberation of African American and Caucasian: 0.029932885906040263\n"
     ]
    }
   ],
   "source": [
    "cali_X = X.loc[y_test.index]\n",
    "cali_X['label'] = y_test\n",
    "cali_X['pred'] = y_pred_test\n",
    "af_X = cali_X[cali_X.race=='African-American']\n",
    "ca_X =  cali_X[cali_X.race=='Caucasian']\n",
    "\n",
    "print(\"Caliberation of African American and Caucasian:\", np.abs(accuracy_score(af_X.label, af_X.pred)-accuracy_score(ca_X.label, ca_X.pred)))"
   ]
  },
  {
   "cell_type": "markdown",
   "metadata": {
    "id": "QPo13AjJ6pEJ"
   },
   "source": [
    "###A6-Algorithm 1: Local Massaging (LM)"
   ]
  },
  {
   "cell_type": "code",
   "execution_count": 34,
   "metadata": {
    "executionInfo": {
     "elapsed": 1469,
     "status": "ok",
     "timestamp": 1681311570383,
     "user": {
      "displayName": "Liang Hu",
      "userId": "05665141676566184070"
     },
     "user_tz": 240
    },
    "id": "bVnUmqpekgBp"
   },
   "outputs": [],
   "source": [
    "X = data # an instance in p dimensional space\n",
    "new_X = data[exclude_e_s]\n",
    "\n",
    "s = data[['race']] # sensitive attribute\n",
    "\n",
    "e = data[e_list] # explanatory attribute \n",
    "\n",
    "y = data[['two_year_recid']] # label: if a particular person will re-offend in the next two years"
   ]
  },
  {
   "cell_type": "markdown",
   "metadata": {
    "id": "YsoE5UvdffXX"
   },
   "source": [
    "#### DELTA for LM"
   ]
  },
  {
   "cell_type": "code",
   "execution_count": 35,
   "metadata": {
    "executionInfo": {
     "elapsed": 2,
     "status": "ok",
     "timestamp": 1681311570658,
     "user": {
      "displayName": "Liang Hu",
      "userId": "05665141676566184070"
     },
     "user_tz": 240
    },
    "id": "L8DY9Lw7udRu"
   },
   "outputs": [],
   "source": [
    "def delta(item, y_pred, y_prob):\n",
    "    \n",
    "    item_copy = item.copy()\n",
    "    item_copy['label'] = y_pred\n",
    "    af = item_copy[item_copy.race=='African-American']\n",
    "    ca = item_copy[item_copy.race =='Caucasian']\n",
    "    rate_af = round(af[af['label']==1].shape[0]/af.shape[0],2)\n",
    "    rate_ca = round(ca[ca['label']==1].shape[0]/ca.shape[0],2)\n",
    "    p_star = (rate_af+rate_ca)/2\n",
    "    threshold = np.abs(rate_af-p_star)\n",
    "    \n",
    "    test_df = pd.DataFrame(y_prob, columns=['No', 'Yes'], index=item.index)\n",
    "    test_df['race'] = item['race']\n",
    "    test_df['label'] = y_pred\n",
    "    race = 'African-American'\n",
    "    if (test_df['race'] == race).any():\n",
    "        G_i = (test_df['race'] == race).sum()\n",
    "        temp = test_df[(np.abs(test_df.Yes - test_df.No) <= G_i*threshold)].copy()\n",
    "        temp.loc[(temp.race == race) & (temp.Yes > temp.No), 'label'] = 0\n",
    "    race = 'Caucasian'\n",
    "    if (test_df['race'] == race).any():\n",
    "        G_i = 13\n",
    "        temp = test_df[(np.abs(test_df.Yes - test_df.No) <= G_i*threshold)].copy()\n",
    "        temp.loc[(temp.race == race) & (temp.Yes < temp.No), 'label'] = 1\n",
    "    \n",
    "    item_copy['label'].loc[temp.index] = temp.label\n",
    "    \n",
    "    return item_copy\n"
   ]
  },
  {
   "cell_type": "markdown",
   "metadata": {
    "id": "hf6zSogNgP2E"
   },
   "source": [
    "#### Local Massaging"
   ]
  },
  {
   "cell_type": "code",
   "execution_count": 36,
   "metadata": {
    "executionInfo": {
     "elapsed": 123,
     "status": "ok",
     "timestamp": 1681311577761,
     "user": {
      "displayName": "Liang Hu",
      "userId": "05665141676566184070"
     },
     "user_tz": 240
    },
    "id": "Mb2SNZqhcCgS"
   },
   "outputs": [],
   "source": [
    "def local_massaging(X,s,e,y):\n",
    "    X['race'] = s\n",
    "    X_i_list =partition(X,e)\n",
    "    df_list = []\n",
    "    pd_list = []\n",
    "    for item in X_i_list:\n",
    "        enc = OneHotEncoder(handle_unknown='ignore')\n",
    "        X_new = enc.fit(item)\n",
    "        X_new = enc.transform(item)\n",
    "        X_train, X_test, y_train, y_test = train_test_split(X_new,y,test_size=.3,random_state=5)\n",
    "        logreg = RandomForestClassifier(random_state=44).fit(X_train, y_train)\n",
    "        y_pred = logreg.predict(X_new)\n",
    "        y_prob = logreg.predict_proba(X_new)\n",
    "        temp_df = delta(item,y_pred,y_prob)\n",
    "        pd_list.append(temp_df)\n",
    "        df_list.append(temp_df[['label']])\n",
    "    result = pd.concat(df_list,axis = 1)\n",
    "    result.loc[result.sum(axis=1)<=2,'new_label'] = 0\n",
    "    result.loc[result.sum(axis=1)>=3,'new_label'] = 1\n",
    "    X['new_label'] = result.new_label\n",
    "    return X\n"
   ]
  },
  {
   "cell_type": "code",
   "execution_count": 37,
   "metadata": {
    "colab": {
     "base_uri": "https://localhost:8080/",
     "height": 0
    },
    "executionInfo": {
     "elapsed": 52993,
     "status": "ok",
     "timestamp": 1681311632838,
     "user": {
      "displayName": "Liang Hu",
      "userId": "05665141676566184070"
     },
     "user_tz": 240
    },
    "id": "xq5KX_NXGfxb",
    "outputId": "50b9d847-477d-4775-bbcc-571992cef4ff"
   },
   "outputs": [
    {
     "name": "stderr",
     "output_type": "stream",
     "text": [
      "/Users/larry_1/opt/anaconda3/envs/myenv/lib/python3.6/site-packages/ipykernel_launcher.py:2: SettingWithCopyWarning: \n",
      "A value is trying to be set on a copy of a slice from a DataFrame.\n",
      "Try using .loc[row_indexer,col_indexer] = value instead\n",
      "\n",
      "See the caveats in the documentation: https://pandas.pydata.org/pandas-docs/stable/user_guide/indexing.html#returning-a-view-versus-a-copy\n",
      "  \n",
      "/Users/larry_1/opt/anaconda3/envs/myenv/lib/python3.6/site-packages/ipykernel_launcher.py:5: SettingWithCopyWarning: \n",
      "A value is trying to be set on a copy of a slice from a DataFrame.\n",
      "Try using .loc[row_indexer,col_indexer] = value instead\n",
      "\n",
      "See the caveats in the documentation: https://pandas.pydata.org/pandas-docs/stable/user_guide/indexing.html#returning-a-view-versus-a-copy\n",
      "  \"\"\"\n",
      "/Users/larry_1/opt/anaconda3/envs/myenv/lib/python3.6/site-packages/ipykernel_launcher.py:11: DataConversionWarning: A column-vector y was passed when a 1d array was expected. Please change the shape of y to (n_samples,), for example using ravel().\n",
      "  # This is added back by InteractiveShellApp.init_path()\n",
      "/Users/larry_1/opt/anaconda3/envs/myenv/lib/python3.6/site-packages/pandas/core/indexing.py:670: SettingWithCopyWarning: \n",
      "A value is trying to be set on a copy of a slice from a DataFrame\n",
      "\n",
      "See the caveats in the documentation: https://pandas.pydata.org/pandas-docs/stable/user_guide/indexing.html#returning-a-view-versus-a-copy\n",
      "  iloc._setitem_with_indexer(indexer, value)\n",
      "/Users/larry_1/opt/anaconda3/envs/myenv/lib/python3.6/site-packages/ipykernel_launcher.py:11: DataConversionWarning: A column-vector y was passed when a 1d array was expected. Please change the shape of y to (n_samples,), for example using ravel().\n",
      "  # This is added back by InteractiveShellApp.init_path()\n",
      "/Users/larry_1/opt/anaconda3/envs/myenv/lib/python3.6/site-packages/pandas/core/indexing.py:670: SettingWithCopyWarning: \n",
      "A value is trying to be set on a copy of a slice from a DataFrame\n",
      "\n",
      "See the caveats in the documentation: https://pandas.pydata.org/pandas-docs/stable/user_guide/indexing.html#returning-a-view-versus-a-copy\n",
      "  iloc._setitem_with_indexer(indexer, value)\n",
      "/Users/larry_1/opt/anaconda3/envs/myenv/lib/python3.6/site-packages/ipykernel_launcher.py:11: DataConversionWarning: A column-vector y was passed when a 1d array was expected. Please change the shape of y to (n_samples,), for example using ravel().\n",
      "  # This is added back by InteractiveShellApp.init_path()\n",
      "/Users/larry_1/opt/anaconda3/envs/myenv/lib/python3.6/site-packages/pandas/core/indexing.py:670: SettingWithCopyWarning: \n",
      "A value is trying to be set on a copy of a slice from a DataFrame\n",
      "\n",
      "See the caveats in the documentation: https://pandas.pydata.org/pandas-docs/stable/user_guide/indexing.html#returning-a-view-versus-a-copy\n",
      "  iloc._setitem_with_indexer(indexer, value)\n",
      "/Users/larry_1/opt/anaconda3/envs/myenv/lib/python3.6/site-packages/ipykernel_launcher.py:11: DataConversionWarning: A column-vector y was passed when a 1d array was expected. Please change the shape of y to (n_samples,), for example using ravel().\n",
      "  # This is added back by InteractiveShellApp.init_path()\n",
      "/Users/larry_1/opt/anaconda3/envs/myenv/lib/python3.6/site-packages/pandas/core/indexing.py:670: SettingWithCopyWarning: \n",
      "A value is trying to be set on a copy of a slice from a DataFrame\n",
      "\n",
      "See the caveats in the documentation: https://pandas.pydata.org/pandas-docs/stable/user_guide/indexing.html#returning-a-view-versus-a-copy\n",
      "  iloc._setitem_with_indexer(indexer, value)\n",
      "/Users/larry_1/opt/anaconda3/envs/myenv/lib/python3.6/site-packages/ipykernel_launcher.py:11: DataConversionWarning: A column-vector y was passed when a 1d array was expected. Please change the shape of y to (n_samples,), for example using ravel().\n",
      "  # This is added back by InteractiveShellApp.init_path()\n",
      "/Users/larry_1/opt/anaconda3/envs/myenv/lib/python3.6/site-packages/pandas/core/indexing.py:670: SettingWithCopyWarning: \n",
      "A value is trying to be set on a copy of a slice from a DataFrame\n",
      "\n",
      "See the caveats in the documentation: https://pandas.pydata.org/pandas-docs/stable/user_guide/indexing.html#returning-a-view-versus-a-copy\n",
      "  iloc._setitem_with_indexer(indexer, value)\n",
      "/Users/larry_1/opt/anaconda3/envs/myenv/lib/python3.6/site-packages/ipykernel_launcher.py:11: DataConversionWarning: A column-vector y was passed when a 1d array was expected. Please change the shape of y to (n_samples,), for example using ravel().\n",
      "  # This is added back by InteractiveShellApp.init_path()\n",
      "/Users/larry_1/opt/anaconda3/envs/myenv/lib/python3.6/site-packages/pandas/core/indexing.py:670: SettingWithCopyWarning: \n",
      "A value is trying to be set on a copy of a slice from a DataFrame\n",
      "\n",
      "See the caveats in the documentation: https://pandas.pydata.org/pandas-docs/stable/user_guide/indexing.html#returning-a-view-versus-a-copy\n",
      "  iloc._setitem_with_indexer(indexer, value)\n",
      "/Users/larry_1/opt/anaconda3/envs/myenv/lib/python3.6/site-packages/ipykernel_launcher.py:11: DataConversionWarning: A column-vector y was passed when a 1d array was expected. Please change the shape of y to (n_samples,), for example using ravel().\n",
      "  # This is added back by InteractiveShellApp.init_path()\n",
      "/Users/larry_1/opt/anaconda3/envs/myenv/lib/python3.6/site-packages/pandas/core/indexing.py:670: SettingWithCopyWarning: \n",
      "A value is trying to be set on a copy of a slice from a DataFrame\n",
      "\n",
      "See the caveats in the documentation: https://pandas.pydata.org/pandas-docs/stable/user_guide/indexing.html#returning-a-view-versus-a-copy\n",
      "  iloc._setitem_with_indexer(indexer, value)\n",
      "/Users/larry_1/opt/anaconda3/envs/myenv/lib/python3.6/site-packages/ipykernel_launcher.py:11: DataConversionWarning: A column-vector y was passed when a 1d array was expected. Please change the shape of y to (n_samples,), for example using ravel().\n",
      "  # This is added back by InteractiveShellApp.init_path()\n",
      "/Users/larry_1/opt/anaconda3/envs/myenv/lib/python3.6/site-packages/pandas/core/indexing.py:670: SettingWithCopyWarning: \n",
      "A value is trying to be set on a copy of a slice from a DataFrame\n",
      "\n",
      "See the caveats in the documentation: https://pandas.pydata.org/pandas-docs/stable/user_guide/indexing.html#returning-a-view-versus-a-copy\n",
      "  iloc._setitem_with_indexer(indexer, value)\n",
      "/Users/larry_1/opt/anaconda3/envs/myenv/lib/python3.6/site-packages/ipykernel_launcher.py:20: SettingWithCopyWarning: \n",
      "A value is trying to be set on a copy of a slice from a DataFrame.\n",
      "Try using .loc[row_indexer,col_indexer] = value instead\n",
      "\n",
      "See the caveats in the documentation: https://pandas.pydata.org/pandas-docs/stable/user_guide/indexing.html#returning-a-view-versus-a-copy\n"
     ]
    }
   ],
   "source": [
    "New_X = local_massaging(new_X,s,e,y)"
   ]
  },
  {
   "cell_type": "code",
   "execution_count": 38,
   "metadata": {
    "executionInfo": {
     "elapsed": 19,
     "status": "ok",
     "timestamp": 1681311632839,
     "user": {
      "displayName": "Liang Hu",
      "userId": "05665141676566184070"
     },
     "user_tz": 240
    },
    "id": "1NWQV3hCY-6E"
   },
   "outputs": [],
   "source": [
    "af = New_X[New_X.race=='African-American']\n",
    "ca = New_X[New_X.race =='Caucasian']\n",
    "rate_af = round(af[af['new_label']==1].shape[0]/af.shape[0],2)\n",
    "rate_ca = round(ca[ca['new_label']==1].shape[0]/ca.shape[0],2)"
   ]
  },
  {
   "cell_type": "code",
   "execution_count": 39,
   "metadata": {
    "colab": {
     "base_uri": "https://localhost:8080/",
     "height": 0
    },
    "executionInfo": {
     "elapsed": 18,
     "status": "ok",
     "timestamp": 1681311632840,
     "user": {
      "displayName": "Liang Hu",
      "userId": "05665141676566184070"
     },
     "user_tz": 240
    },
    "id": "ZIbC-qTpZBX0",
    "outputId": "267b2c65-5fc2-4b4b-e4bd-019a2a3d9786"
   },
   "outputs": [
    {
     "data": {
      "text/plain": [
       "(0.52, 0.44)"
      ]
     },
     "execution_count": 39,
     "metadata": {},
     "output_type": "execute_result"
    }
   ],
   "source": [
    "rate_af,rate_ca "
   ]
  },
  {
   "cell_type": "code",
   "execution_count": 40,
   "metadata": {
    "executionInfo": {
     "elapsed": 14,
     "status": "ok",
     "timestamp": 1681311632840,
     "user": {
      "displayName": "Liang Hu",
      "userId": "05665141676566184070"
     },
     "user_tz": 240
    },
    "id": "XZlw9EX9ZJda"
   },
   "outputs": [],
   "source": [
    "New_y = New_X.new_label\n",
    "New_X_copy = New_X.copy()\n",
    "New_X_copy.drop(['new_label'],axis=1,inplace=True)"
   ]
  },
  {
   "cell_type": "code",
   "execution_count": 41,
   "metadata": {
    "executionInfo": {
     "elapsed": 13,
     "status": "ok",
     "timestamp": 1681311632840,
     "user": {
      "displayName": "Liang Hu",
      "userId": "05665141676566184070"
     },
     "user_tz": 240
    },
    "id": "xF6RSHkCZRDP"
   },
   "outputs": [],
   "source": [
    "# enc = OneHotEncoder(handle_unknown='ignore')\n",
    "\n",
    "enc =OneHotEncoder(drop='if_binary',sparse=False)"
   ]
  },
  {
   "cell_type": "code",
   "execution_count": 42,
   "metadata": {
    "colab": {
     "base_uri": "https://localhost:8080/",
     "height": 0
    },
    "executionInfo": {
     "elapsed": 356,
     "status": "ok",
     "timestamp": 1681311633183,
     "user": {
      "displayName": "Liang Hu",
      "userId": "05665141676566184070"
     },
     "user_tz": 240
    },
    "id": "VRyvX-k0ZYiJ",
    "outputId": "08346b1c-2912-447e-cd9f-4f2e5b155b19"
   },
   "outputs": [],
   "source": [
    "X_new = enc.fit(New_X_copy)\n",
    "X_new = enc.transform(New_X_copy)"
   ]
  },
  {
   "cell_type": "code",
   "execution_count": 43,
   "metadata": {
    "executionInfo": {
     "elapsed": 1639,
     "status": "ok",
     "timestamp": 1681311637441,
     "user": {
      "displayName": "Liang Hu",
      "userId": "05665141676566184070"
     },
     "user_tz": 240
    },
    "id": "WF0J1GpLZatN"
   },
   "outputs": [],
   "source": [
    "X_train, X_test, y_train, y_test = train_test_split(X_new,New_y,test_size=.3,random_state=42)"
   ]
  },
  {
   "cell_type": "code",
   "execution_count": 44,
   "metadata": {
    "executionInfo": {
     "elapsed": 31138,
     "status": "ok",
     "timestamp": 1681311668954,
     "user": {
      "displayName": "Liang Hu",
      "userId": "05665141676566184070"
     },
     "user_tz": 240
    },
    "id": "af6_oXzNZcyz"
   },
   "outputs": [],
   "source": [
    "forest = RandomForestClassifier(random_state=42).fit(X_train, y_train) "
   ]
  },
  {
   "cell_type": "code",
   "execution_count": 45,
   "metadata": {
    "executionInfo": {
     "elapsed": 9,
     "status": "ok",
     "timestamp": 1681311668954,
     "user": {
      "displayName": "Liang Hu",
      "userId": "05665141676566184070"
     },
     "user_tz": 240
    },
    "id": "uISRF0wKa2lR"
   },
   "outputs": [],
   "source": [
    "y_pred_test = forest.predict(X_test)"
   ]
  },
  {
   "cell_type": "code",
   "execution_count": 46,
   "metadata": {
    "colab": {
     "base_uri": "https://localhost:8080/",
     "height": 0
    },
    "executionInfo": {
     "elapsed": 9,
     "status": "ok",
     "timestamp": 1681311668955,
     "user": {
      "displayName": "Liang Hu",
      "userId": "05665141676566184070"
     },
     "user_tz": 240
    },
    "id": "neexgPrsa5Dn",
    "outputId": "5f1876ae-42e8-42cb-ab69-add391e31646"
   },
   "outputs": [
    {
     "data": {
      "text/plain": [
       "0.964769647696477"
      ]
     },
     "execution_count": 46,
     "metadata": {},
     "output_type": "execute_result"
    }
   ],
   "source": [
    "accuracy_score(y_test, y_pred_test)"
   ]
  },
  {
   "cell_type": "code",
   "execution_count": 47,
   "metadata": {
    "id": "F5owVKrDa-zL"
   },
   "outputs": [],
   "source": [
    "# confusion_matrix(y_test, y_pred_test)"
   ]
  },
  {
   "cell_type": "code",
   "execution_count": 48,
   "metadata": {
    "executionInfo": {
     "elapsed": 137,
     "status": "ok",
     "timestamp": 1681311720726,
     "user": {
      "displayName": "Liang Hu",
      "userId": "05665141676566184070"
     },
     "user_tz": 240
    },
    "id": "yZgvqsp8aYRB"
   },
   "outputs": [],
   "source": [
    "confusion_matrix =np.array([[894,  41],\n",
    "                            [ 24, 886]])"
   ]
  },
  {
   "cell_type": "code",
   "execution_count": 49,
   "metadata": {
    "colab": {
     "base_uri": "https://localhost:8080/",
     "height": 0
    },
    "executionInfo": {
     "elapsed": 135,
     "status": "ok",
     "timestamp": 1681311723098,
     "user": {
      "displayName": "Liang Hu",
      "userId": "05665141676566184070"
     },
     "user_tz": 240
    },
    "id": "ES5j74u4YcZg",
    "outputId": "2376ebc6-92a6-4572-d0b8-8d3c02aa4a71"
   },
   "outputs": [
    {
     "data": {
      "text/plain": [
       "(0.9646162221012521, 0.9736263736263736)"
      ]
     },
     "execution_count": 49,
     "metadata": {},
     "output_type": "execute_result"
    }
   ],
   "source": [
    "tp = confusion_matrix[1, 1]\n",
    "fp = confusion_matrix[0, 1]\n",
    "fn = confusion_matrix[1, 0]\n",
    "calculate_f1_recall(tp, fp, fn )"
   ]
  },
  {
   "cell_type": "markdown",
   "metadata": {
    "id": "0mnzcRKNeKIa"
   },
   "source": [
    "Caliberation of African American and Caucasian"
   ]
  },
  {
   "cell_type": "code",
   "execution_count": 50,
   "metadata": {
    "colab": {
     "base_uri": "https://localhost:8080/",
     "height": 0
    },
    "executionInfo": {
     "elapsed": 3,
     "status": "ok",
     "timestamp": 1681311727191,
     "user": {
      "displayName": "Liang Hu",
      "userId": "05665141676566184070"
     },
     "user_tz": 240
    },
    "id": "Se8cjkrYd5E0",
    "outputId": "201dd5ac-b8f2-4b89-e93c-508c27b0fd9c"
   },
   "outputs": [
    {
     "name": "stdout",
     "output_type": "stream",
     "text": [
      "Caliberation of African American and Caucasian: 0.01559110130538699\n"
     ]
    }
   ],
   "source": [
    "cali_X = New_X.loc[y_test.index]\n",
    "cali_X['label'] = y_test\n",
    "cali_X['pred'] = y_pred_test\n",
    "\n",
    "af_X = cali_X[cali_X.race=='African-American']\n",
    "ca_X =  cali_X[cali_X.race=='Caucasian']\n",
    "\n",
    "print(\"Caliberation of African American and Caucasian:\", np.abs(accuracy_score(af_X.label, af_X.pred)-accuracy_score(ca_X.label, ca_X.pred)))"
   ]
  },
  {
   "cell_type": "markdown",
   "metadata": {
    "id": "gFtkscPd9ho3"
   },
   "source": [
    "### A6-Algorithm 2: Local Preferential Sampling (LPS)"
   ]
  },
  {
   "cell_type": "markdown",
   "metadata": {
    "id": "XDVdwJ75fizO"
   },
   "source": [
    "#### DELTA for LPS"
   ]
  },
  {
   "cell_type": "code",
   "execution_count": 51,
   "metadata": {
    "executionInfo": {
     "elapsed": 252,
     "status": "ok",
     "timestamp": 1681311737166,
     "user": {
      "displayName": "Liang Hu",
      "userId": "05665141676566184070"
     },
     "user_tz": 240
    },
    "id": "hSvUL8d2zHw-"
   },
   "outputs": [],
   "source": [
    "def delta_lps(item, y_pred, y_prob):\n",
    "    item_copy = item.copy()\n",
    "    item_copy['label'] = y_pred\n",
    "    af = item_copy[item_copy.race == 'African-American']\n",
    "    ca = item_copy[item_copy.race == 'Caucasian']\n",
    "    rate_af = round(af[af['label'] == 1].shape[0]/af.shape[0], 2) # two-year recid rate of African-American\n",
    "    rate_ca = round(ca[ca['label'] == 1].shape[0]/ca.shape[0], 2) # two-year recid rate of Caucasian\n",
    "    p_star = (rate_af + rate_ca)/2 # Equation 4\n",
    "    threshold = np.abs(rate_af - p_star)\n",
    "    \n",
    "    test_df = pd.DataFrame(y_prob, columns=['No', 'Yes'], index=item.index)\n",
    "    test_df['race'] = item['race']\n",
    "    test_df['label'] = y_pred\n",
    "    \n",
    "    race = 'African-American'\n",
    "    if (test_df['race'] == race).any():\n",
    "        G_i = (test_df['race'] == race).sum()\n",
    "        temp = test_df.copy()\n",
    "        temp = temp[temp['race'] == race]\n",
    "\n",
    "        # Delete 1/2 African-American + that are the closest to the threshold\n",
    "        temp_del = temp.copy()\n",
    "        temp_del['distance'] = np.abs(temp_del['Yes'] - temp_del['No'] - threshold)\n",
    "        temp_del = temp_del.sort_values('distance', ascending=True)\n",
    "        temp_del = temp_del.iloc[G_i // 2:]\n",
    "        temp_del.loc[(temp_del.race == race) & (temp_del.Yes < temp_del.No), 'label'] = 0\n",
    "        item_copy['label'].loc[temp_del.index] = temp_del.label\n",
    "\n",
    "        # Duplicate 1/2 African-American − that are the closest to the threshold\n",
    "        temp_dup = temp.copy()\n",
    "        temp_dup['distance'] = np.abs(temp_dup['Yes'] - temp_dup['No'] + threshold)\n",
    "        temp_dup = temp_dup.sort_values('distance', ascending=True)\n",
    "        temp_dup = temp_dup.iloc[:G_i // 2]\n",
    "        temp_dup.loc[(temp_dup.race == race) & (temp_dup.Yes > temp_dup.No), 'label'] = 1\n",
    "        item_copy['label'].loc[temp_dup.index] = temp_dup.label\n",
    "    \n",
    "    race = 'Caucasian'\n",
    "    if (test_df['race'] == race).any():\n",
    "        G_i = (test_df['race'] == race).sum()\n",
    "        temp = test_df.copy()\n",
    "        temp = temp[temp['race'] == race]\n",
    "\n",
    "        # Delete 1/2 Caucasian + that are the closest to the threshold\n",
    "        temp_del = temp.copy()\n",
    "        temp_del['distance'] = np.abs(temp_del['Yes'] - temp_del['No'] + threshold)\n",
    "        temp_del = temp_del.sort_values('distance', ascending=True)\n",
    "        temp_del = temp_del.iloc[G_i // 2:]\n",
    "        temp_del.loc[(temp_del.race == race) & (temp_del.Yes > temp_del.No), 'label'] = 0\n",
    "        item_copy['label'].loc[temp_del.index] = temp_del.label\n",
    "\n",
    "        # Duplicate 1/2 Caucasian − that are the closest to the threshold\n",
    "        temp_dup = temp.copy()\n",
    "        temp_dup['distance'] = np.abs(temp_dup['Yes'] - temp_dup['No'] - threshold)\n",
    "        temp_dup = temp_dup.sort_values('distance', ascending=True)\n",
    "        temp_dup = temp_dup.iloc[:G_i // 2]\n",
    "        temp_dup.loc[(temp_dup.race == race) & (temp_dup.Yes < temp_dup.No), 'label'] = 1\n",
    "        item_copy['label'].loc[temp_dup.index] = temp_dup.label\n",
    "    \n",
    "    return item_copy\n"
   ]
  },
  {
   "cell_type": "markdown",
   "metadata": {
    "id": "rrcGY84EgWCa"
   },
   "source": [
    "#### Local Preferential Sampling"
   ]
  },
  {
   "cell_type": "code",
   "execution_count": 52,
   "metadata": {
    "executionInfo": {
     "elapsed": 2,
     "status": "ok",
     "timestamp": 1681311744464,
     "user": {
      "displayName": "Liang Hu",
      "userId": "05665141676566184070"
     },
     "user_tz": 240
    },
    "id": "rYyfStsElK36"
   },
   "outputs": [],
   "source": [
    "def local_preferential_sampling(X,s,e,y):\n",
    "    X['race'] = s\n",
    "    X_i_list = partition(X,e)\n",
    "    df_list = []\n",
    "    pd_list = []\n",
    "    for item in X_i_list:\n",
    "        enc = OneHotEncoder(handle_unknown='ignore')\n",
    "        X_new = enc.fit(item)\n",
    "        X_new = enc.transform(item)\n",
    "        X_train, X_test, y_train, y_test = train_test_split(X_new,y,test_size=.3,random_state=5)\n",
    "        forest = RandomForestClassifier(random_state=44).fit(X_train, y_train) \n",
    "        y_pred = forest.predict(X_new)\n",
    "        y_prob = forest.predict_proba(X_new)\n",
    "        temp_df = delta_lps(item,y_pred,y_prob)\n",
    "        pd_list.append(temp_df)\n",
    "        df_list.append(temp_df[['label']])\n",
    "    \n",
    "    result = pd.concat(df_list,axis = 1)\n",
    "    result.loc[result.sum(axis=1)<=2,'new_label'] = 0\n",
    "    result.loc[result.sum(axis=1)>=3,'new_label'] = 1\n",
    "    X['new_label'] = result.new_label\n",
    "    return X"
   ]
  },
  {
   "cell_type": "code",
   "execution_count": 53,
   "metadata": {
    "colab": {
     "base_uri": "https://localhost:8080/",
     "height": 0
    },
    "executionInfo": {
     "elapsed": 39904,
     "status": "ok",
     "timestamp": 1681311786176,
     "user": {
      "displayName": "Liang Hu",
      "userId": "05665141676566184070"
     },
     "user_tz": 240
    },
    "id": "hK812oKR9jDu",
    "outputId": "eefbb2eb-5d3c-4776-f81a-678ffb666750"
   },
   "outputs": [
    {
     "name": "stderr",
     "output_type": "stream",
     "text": [
      "/Users/larry_1/opt/anaconda3/envs/myenv/lib/python3.6/site-packages/ipykernel_launcher.py:2: SettingWithCopyWarning: \n",
      "A value is trying to be set on a copy of a slice from a DataFrame.\n",
      "Try using .loc[row_indexer,col_indexer] = value instead\n",
      "\n",
      "See the caveats in the documentation: https://pandas.pydata.org/pandas-docs/stable/user_guide/indexing.html#returning-a-view-versus-a-copy\n",
      "  \n",
      "/Users/larry_1/opt/anaconda3/envs/myenv/lib/python3.6/site-packages/ipykernel_launcher.py:5: SettingWithCopyWarning: \n",
      "A value is trying to be set on a copy of a slice from a DataFrame.\n",
      "Try using .loc[row_indexer,col_indexer] = value instead\n",
      "\n",
      "See the caveats in the documentation: https://pandas.pydata.org/pandas-docs/stable/user_guide/indexing.html#returning-a-view-versus-a-copy\n",
      "  \"\"\"\n",
      "/Users/larry_1/opt/anaconda3/envs/myenv/lib/python3.6/site-packages/ipykernel_launcher.py:11: DataConversionWarning: A column-vector y was passed when a 1d array was expected. Please change the shape of y to (n_samples,), for example using ravel().\n",
      "  # This is added back by InteractiveShellApp.init_path()\n",
      "/Users/larry_1/opt/anaconda3/envs/myenv/lib/python3.6/site-packages/pandas/core/indexing.py:670: SettingWithCopyWarning: \n",
      "A value is trying to be set on a copy of a slice from a DataFrame\n",
      "\n",
      "See the caveats in the documentation: https://pandas.pydata.org/pandas-docs/stable/user_guide/indexing.html#returning-a-view-versus-a-copy\n",
      "  iloc._setitem_with_indexer(indexer, value)\n",
      "/Users/larry_1/opt/anaconda3/envs/myenv/lib/python3.6/site-packages/pandas/core/indexing.py:670: SettingWithCopyWarning: \n",
      "A value is trying to be set on a copy of a slice from a DataFrame\n",
      "\n",
      "See the caveats in the documentation: https://pandas.pydata.org/pandas-docs/stable/user_guide/indexing.html#returning-a-view-versus-a-copy\n",
      "  iloc._setitem_with_indexer(indexer, value)\n",
      "/Users/larry_1/opt/anaconda3/envs/myenv/lib/python3.6/site-packages/pandas/core/indexing.py:670: SettingWithCopyWarning: \n",
      "A value is trying to be set on a copy of a slice from a DataFrame\n",
      "\n",
      "See the caveats in the documentation: https://pandas.pydata.org/pandas-docs/stable/user_guide/indexing.html#returning-a-view-versus-a-copy\n",
      "  iloc._setitem_with_indexer(indexer, value)\n",
      "/Users/larry_1/opt/anaconda3/envs/myenv/lib/python3.6/site-packages/pandas/core/indexing.py:670: SettingWithCopyWarning: \n",
      "A value is trying to be set on a copy of a slice from a DataFrame\n",
      "\n",
      "See the caveats in the documentation: https://pandas.pydata.org/pandas-docs/stable/user_guide/indexing.html#returning-a-view-versus-a-copy\n",
      "  iloc._setitem_with_indexer(indexer, value)\n",
      "/Users/larry_1/opt/anaconda3/envs/myenv/lib/python3.6/site-packages/ipykernel_launcher.py:11: DataConversionWarning: A column-vector y was passed when a 1d array was expected. Please change the shape of y to (n_samples,), for example using ravel().\n",
      "  # This is added back by InteractiveShellApp.init_path()\n",
      "/Users/larry_1/opt/anaconda3/envs/myenv/lib/python3.6/site-packages/pandas/core/indexing.py:670: SettingWithCopyWarning: \n",
      "A value is trying to be set on a copy of a slice from a DataFrame\n",
      "\n",
      "See the caveats in the documentation: https://pandas.pydata.org/pandas-docs/stable/user_guide/indexing.html#returning-a-view-versus-a-copy\n",
      "  iloc._setitem_with_indexer(indexer, value)\n",
      "/Users/larry_1/opt/anaconda3/envs/myenv/lib/python3.6/site-packages/pandas/core/indexing.py:670: SettingWithCopyWarning: \n",
      "A value is trying to be set on a copy of a slice from a DataFrame\n",
      "\n",
      "See the caveats in the documentation: https://pandas.pydata.org/pandas-docs/stable/user_guide/indexing.html#returning-a-view-versus-a-copy\n",
      "  iloc._setitem_with_indexer(indexer, value)\n",
      "/Users/larry_1/opt/anaconda3/envs/myenv/lib/python3.6/site-packages/pandas/core/indexing.py:670: SettingWithCopyWarning: \n",
      "A value is trying to be set on a copy of a slice from a DataFrame\n",
      "\n",
      "See the caveats in the documentation: https://pandas.pydata.org/pandas-docs/stable/user_guide/indexing.html#returning-a-view-versus-a-copy\n",
      "  iloc._setitem_with_indexer(indexer, value)\n",
      "/Users/larry_1/opt/anaconda3/envs/myenv/lib/python3.6/site-packages/pandas/core/indexing.py:670: SettingWithCopyWarning: \n",
      "A value is trying to be set on a copy of a slice from a DataFrame\n",
      "\n",
      "See the caveats in the documentation: https://pandas.pydata.org/pandas-docs/stable/user_guide/indexing.html#returning-a-view-versus-a-copy\n",
      "  iloc._setitem_with_indexer(indexer, value)\n",
      "/Users/larry_1/opt/anaconda3/envs/myenv/lib/python3.6/site-packages/ipykernel_launcher.py:11: DataConversionWarning: A column-vector y was passed when a 1d array was expected. Please change the shape of y to (n_samples,), for example using ravel().\n",
      "  # This is added back by InteractiveShellApp.init_path()\n",
      "/Users/larry_1/opt/anaconda3/envs/myenv/lib/python3.6/site-packages/pandas/core/indexing.py:670: SettingWithCopyWarning: \n",
      "A value is trying to be set on a copy of a slice from a DataFrame\n",
      "\n",
      "See the caveats in the documentation: https://pandas.pydata.org/pandas-docs/stable/user_guide/indexing.html#returning-a-view-versus-a-copy\n",
      "  iloc._setitem_with_indexer(indexer, value)\n",
      "/Users/larry_1/opt/anaconda3/envs/myenv/lib/python3.6/site-packages/pandas/core/indexing.py:670: SettingWithCopyWarning: \n",
      "A value is trying to be set on a copy of a slice from a DataFrame\n",
      "\n",
      "See the caveats in the documentation: https://pandas.pydata.org/pandas-docs/stable/user_guide/indexing.html#returning-a-view-versus-a-copy\n",
      "  iloc._setitem_with_indexer(indexer, value)\n",
      "/Users/larry_1/opt/anaconda3/envs/myenv/lib/python3.6/site-packages/pandas/core/indexing.py:670: SettingWithCopyWarning: \n",
      "A value is trying to be set on a copy of a slice from a DataFrame\n",
      "\n",
      "See the caveats in the documentation: https://pandas.pydata.org/pandas-docs/stable/user_guide/indexing.html#returning-a-view-versus-a-copy\n",
      "  iloc._setitem_with_indexer(indexer, value)\n",
      "/Users/larry_1/opt/anaconda3/envs/myenv/lib/python3.6/site-packages/pandas/core/indexing.py:670: SettingWithCopyWarning: \n",
      "A value is trying to be set on a copy of a slice from a DataFrame\n",
      "\n",
      "See the caveats in the documentation: https://pandas.pydata.org/pandas-docs/stable/user_guide/indexing.html#returning-a-view-versus-a-copy\n",
      "  iloc._setitem_with_indexer(indexer, value)\n",
      "/Users/larry_1/opt/anaconda3/envs/myenv/lib/python3.6/site-packages/ipykernel_launcher.py:11: DataConversionWarning: A column-vector y was passed when a 1d array was expected. Please change the shape of y to (n_samples,), for example using ravel().\n",
      "  # This is added back by InteractiveShellApp.init_path()\n",
      "/Users/larry_1/opt/anaconda3/envs/myenv/lib/python3.6/site-packages/pandas/core/indexing.py:670: SettingWithCopyWarning: \n",
      "A value is trying to be set on a copy of a slice from a DataFrame\n",
      "\n",
      "See the caveats in the documentation: https://pandas.pydata.org/pandas-docs/stable/user_guide/indexing.html#returning-a-view-versus-a-copy\n",
      "  iloc._setitem_with_indexer(indexer, value)\n",
      "/Users/larry_1/opt/anaconda3/envs/myenv/lib/python3.6/site-packages/pandas/core/indexing.py:670: SettingWithCopyWarning: \n",
      "A value is trying to be set on a copy of a slice from a DataFrame\n",
      "\n",
      "See the caveats in the documentation: https://pandas.pydata.org/pandas-docs/stable/user_guide/indexing.html#returning-a-view-versus-a-copy\n",
      "  iloc._setitem_with_indexer(indexer, value)\n",
      "/Users/larry_1/opt/anaconda3/envs/myenv/lib/python3.6/site-packages/pandas/core/indexing.py:670: SettingWithCopyWarning: \n",
      "A value is trying to be set on a copy of a slice from a DataFrame\n",
      "\n",
      "See the caveats in the documentation: https://pandas.pydata.org/pandas-docs/stable/user_guide/indexing.html#returning-a-view-versus-a-copy\n",
      "  iloc._setitem_with_indexer(indexer, value)\n",
      "/Users/larry_1/opt/anaconda3/envs/myenv/lib/python3.6/site-packages/pandas/core/indexing.py:670: SettingWithCopyWarning: \n",
      "A value is trying to be set on a copy of a slice from a DataFrame\n",
      "\n",
      "See the caveats in the documentation: https://pandas.pydata.org/pandas-docs/stable/user_guide/indexing.html#returning-a-view-versus-a-copy\n",
      "  iloc._setitem_with_indexer(indexer, value)\n",
      "/Users/larry_1/opt/anaconda3/envs/myenv/lib/python3.6/site-packages/ipykernel_launcher.py:11: DataConversionWarning: A column-vector y was passed when a 1d array was expected. Please change the shape of y to (n_samples,), for example using ravel().\n",
      "  # This is added back by InteractiveShellApp.init_path()\n"
     ]
    },
    {
     "name": "stderr",
     "output_type": "stream",
     "text": [
      "/Users/larry_1/opt/anaconda3/envs/myenv/lib/python3.6/site-packages/pandas/core/indexing.py:670: SettingWithCopyWarning: \n",
      "A value is trying to be set on a copy of a slice from a DataFrame\n",
      "\n",
      "See the caveats in the documentation: https://pandas.pydata.org/pandas-docs/stable/user_guide/indexing.html#returning-a-view-versus-a-copy\n",
      "  iloc._setitem_with_indexer(indexer, value)\n",
      "/Users/larry_1/opt/anaconda3/envs/myenv/lib/python3.6/site-packages/pandas/core/indexing.py:670: SettingWithCopyWarning: \n",
      "A value is trying to be set on a copy of a slice from a DataFrame\n",
      "\n",
      "See the caveats in the documentation: https://pandas.pydata.org/pandas-docs/stable/user_guide/indexing.html#returning-a-view-versus-a-copy\n",
      "  iloc._setitem_with_indexer(indexer, value)\n",
      "/Users/larry_1/opt/anaconda3/envs/myenv/lib/python3.6/site-packages/pandas/core/indexing.py:670: SettingWithCopyWarning: \n",
      "A value is trying to be set on a copy of a slice from a DataFrame\n",
      "\n",
      "See the caveats in the documentation: https://pandas.pydata.org/pandas-docs/stable/user_guide/indexing.html#returning-a-view-versus-a-copy\n",
      "  iloc._setitem_with_indexer(indexer, value)\n",
      "/Users/larry_1/opt/anaconda3/envs/myenv/lib/python3.6/site-packages/pandas/core/indexing.py:670: SettingWithCopyWarning: \n",
      "A value is trying to be set on a copy of a slice from a DataFrame\n",
      "\n",
      "See the caveats in the documentation: https://pandas.pydata.org/pandas-docs/stable/user_guide/indexing.html#returning-a-view-versus-a-copy\n",
      "  iloc._setitem_with_indexer(indexer, value)\n",
      "/Users/larry_1/opt/anaconda3/envs/myenv/lib/python3.6/site-packages/ipykernel_launcher.py:11: DataConversionWarning: A column-vector y was passed when a 1d array was expected. Please change the shape of y to (n_samples,), for example using ravel().\n",
      "  # This is added back by InteractiveShellApp.init_path()\n",
      "/Users/larry_1/opt/anaconda3/envs/myenv/lib/python3.6/site-packages/pandas/core/indexing.py:670: SettingWithCopyWarning: \n",
      "A value is trying to be set on a copy of a slice from a DataFrame\n",
      "\n",
      "See the caveats in the documentation: https://pandas.pydata.org/pandas-docs/stable/user_guide/indexing.html#returning-a-view-versus-a-copy\n",
      "  iloc._setitem_with_indexer(indexer, value)\n",
      "/Users/larry_1/opt/anaconda3/envs/myenv/lib/python3.6/site-packages/pandas/core/indexing.py:670: SettingWithCopyWarning: \n",
      "A value is trying to be set on a copy of a slice from a DataFrame\n",
      "\n",
      "See the caveats in the documentation: https://pandas.pydata.org/pandas-docs/stable/user_guide/indexing.html#returning-a-view-versus-a-copy\n",
      "  iloc._setitem_with_indexer(indexer, value)\n",
      "/Users/larry_1/opt/anaconda3/envs/myenv/lib/python3.6/site-packages/pandas/core/indexing.py:670: SettingWithCopyWarning: \n",
      "A value is trying to be set on a copy of a slice from a DataFrame\n",
      "\n",
      "See the caveats in the documentation: https://pandas.pydata.org/pandas-docs/stable/user_guide/indexing.html#returning-a-view-versus-a-copy\n",
      "  iloc._setitem_with_indexer(indexer, value)\n",
      "/Users/larry_1/opt/anaconda3/envs/myenv/lib/python3.6/site-packages/pandas/core/indexing.py:670: SettingWithCopyWarning: \n",
      "A value is trying to be set on a copy of a slice from a DataFrame\n",
      "\n",
      "See the caveats in the documentation: https://pandas.pydata.org/pandas-docs/stable/user_guide/indexing.html#returning-a-view-versus-a-copy\n",
      "  iloc._setitem_with_indexer(indexer, value)\n",
      "/Users/larry_1/opt/anaconda3/envs/myenv/lib/python3.6/site-packages/ipykernel_launcher.py:11: DataConversionWarning: A column-vector y was passed when a 1d array was expected. Please change the shape of y to (n_samples,), for example using ravel().\n",
      "  # This is added back by InteractiveShellApp.init_path()\n",
      "/Users/larry_1/opt/anaconda3/envs/myenv/lib/python3.6/site-packages/pandas/core/indexing.py:670: SettingWithCopyWarning: \n",
      "A value is trying to be set on a copy of a slice from a DataFrame\n",
      "\n",
      "See the caveats in the documentation: https://pandas.pydata.org/pandas-docs/stable/user_guide/indexing.html#returning-a-view-versus-a-copy\n",
      "  iloc._setitem_with_indexer(indexer, value)\n",
      "/Users/larry_1/opt/anaconda3/envs/myenv/lib/python3.6/site-packages/pandas/core/indexing.py:670: SettingWithCopyWarning: \n",
      "A value is trying to be set on a copy of a slice from a DataFrame\n",
      "\n",
      "See the caveats in the documentation: https://pandas.pydata.org/pandas-docs/stable/user_guide/indexing.html#returning-a-view-versus-a-copy\n",
      "  iloc._setitem_with_indexer(indexer, value)\n",
      "/Users/larry_1/opt/anaconda3/envs/myenv/lib/python3.6/site-packages/pandas/core/indexing.py:670: SettingWithCopyWarning: \n",
      "A value is trying to be set on a copy of a slice from a DataFrame\n",
      "\n",
      "See the caveats in the documentation: https://pandas.pydata.org/pandas-docs/stable/user_guide/indexing.html#returning-a-view-versus-a-copy\n",
      "  iloc._setitem_with_indexer(indexer, value)\n",
      "/Users/larry_1/opt/anaconda3/envs/myenv/lib/python3.6/site-packages/pandas/core/indexing.py:670: SettingWithCopyWarning: \n",
      "A value is trying to be set on a copy of a slice from a DataFrame\n",
      "\n",
      "See the caveats in the documentation: https://pandas.pydata.org/pandas-docs/stable/user_guide/indexing.html#returning-a-view-versus-a-copy\n",
      "  iloc._setitem_with_indexer(indexer, value)\n",
      "/Users/larry_1/opt/anaconda3/envs/myenv/lib/python3.6/site-packages/ipykernel_launcher.py:11: DataConversionWarning: A column-vector y was passed when a 1d array was expected. Please change the shape of y to (n_samples,), for example using ravel().\n",
      "  # This is added back by InteractiveShellApp.init_path()\n",
      "/Users/larry_1/opt/anaconda3/envs/myenv/lib/python3.6/site-packages/pandas/core/indexing.py:670: SettingWithCopyWarning: \n",
      "A value is trying to be set on a copy of a slice from a DataFrame\n",
      "\n",
      "See the caveats in the documentation: https://pandas.pydata.org/pandas-docs/stable/user_guide/indexing.html#returning-a-view-versus-a-copy\n",
      "  iloc._setitem_with_indexer(indexer, value)\n",
      "/Users/larry_1/opt/anaconda3/envs/myenv/lib/python3.6/site-packages/pandas/core/indexing.py:670: SettingWithCopyWarning: \n",
      "A value is trying to be set on a copy of a slice from a DataFrame\n",
      "\n",
      "See the caveats in the documentation: https://pandas.pydata.org/pandas-docs/stable/user_guide/indexing.html#returning-a-view-versus-a-copy\n",
      "  iloc._setitem_with_indexer(indexer, value)\n",
      "/Users/larry_1/opt/anaconda3/envs/myenv/lib/python3.6/site-packages/pandas/core/indexing.py:670: SettingWithCopyWarning: \n",
      "A value is trying to be set on a copy of a slice from a DataFrame\n",
      "\n",
      "See the caveats in the documentation: https://pandas.pydata.org/pandas-docs/stable/user_guide/indexing.html#returning-a-view-versus-a-copy\n",
      "  iloc._setitem_with_indexer(indexer, value)\n",
      "/Users/larry_1/opt/anaconda3/envs/myenv/lib/python3.6/site-packages/pandas/core/indexing.py:670: SettingWithCopyWarning: \n",
      "A value is trying to be set on a copy of a slice from a DataFrame\n",
      "\n",
      "See the caveats in the documentation: https://pandas.pydata.org/pandas-docs/stable/user_guide/indexing.html#returning-a-view-versus-a-copy\n",
      "  iloc._setitem_with_indexer(indexer, value)\n",
      "/Users/larry_1/opt/anaconda3/envs/myenv/lib/python3.6/site-packages/ipykernel_launcher.py:21: SettingWithCopyWarning: \n",
      "A value is trying to be set on a copy of a slice from a DataFrame.\n",
      "Try using .loc[row_indexer,col_indexer] = value instead\n",
      "\n",
      "See the caveats in the documentation: https://pandas.pydata.org/pandas-docs/stable/user_guide/indexing.html#returning-a-view-versus-a-copy\n"
     ]
    }
   ],
   "source": [
    "New_X = local_preferential_sampling(new_X, s, e, y)"
   ]
  },
  {
   "cell_type": "code",
   "execution_count": 54,
   "metadata": {
    "colab": {
     "base_uri": "https://localhost:8080/",
     "height": 0
    },
    "executionInfo": {
     "elapsed": 19,
     "status": "ok",
     "timestamp": 1681311786176,
     "user": {
      "displayName": "Liang Hu",
      "userId": "05665141676566184070"
     },
     "user_tz": 240
    },
    "id": "EXtGOh8IoUbY",
    "outputId": "3b20b26a-5d43-4074-b843-5e3a41f169d2"
   },
   "outputs": [
    {
     "data": {
      "text/plain": [
       "(0.52, 0.5)"
      ]
     },
     "execution_count": 54,
     "metadata": {},
     "output_type": "execute_result"
    }
   ],
   "source": [
    "af = New_X[New_X.race=='African-American']\n",
    "ca = New_X[New_X.race =='Caucasian']\n",
    "rate_af = round(af[af['new_label']==1].shape[0]/af.shape[0],2)\n",
    "rate_ca = round(ca[ca['new_label']==1].shape[0]/ca.shape[0],2)\n",
    "\n",
    "rate_af,rate_ca "
   ]
  },
  {
   "cell_type": "code",
   "execution_count": 55,
   "metadata": {
    "executionInfo": {
     "elapsed": 5409,
     "status": "ok",
     "timestamp": 1681311791569,
     "user": {
      "displayName": "Liang Hu",
      "userId": "05665141676566184070"
     },
     "user_tz": 240
    },
    "id": "Z-jAQzC89jAv"
   },
   "outputs": [],
   "source": [
    "enc = OneHotEncoder(handle_unknown='ignore')\n",
    "\n",
    "New_y = New_X.new_label\n",
    "New_X_copy = New_X.copy()\n",
    "New_X_copy.drop(['new_label'],axis=1,inplace=True)\n",
    "\n",
    "X_new = enc.fit_transform(New_X_copy)\n",
    "\n",
    "X_train, X_test, y_train, y_test = train_test_split(X_new, New_y, test_size=0.3,random_state=42)\n",
    "forest = RandomForestClassifier(random_state=44).fit(X_train, y_train)\n",
    "y_pred_test = forest.predict(X_test)"
   ]
  },
  {
   "cell_type": "code",
   "execution_count": 56,
   "metadata": {
    "colab": {
     "base_uri": "https://localhost:8080/",
     "height": 0
    },
    "executionInfo": {
     "elapsed": 33,
     "status": "ok",
     "timestamp": 1681311791569,
     "user": {
      "displayName": "Liang Hu",
      "userId": "05665141676566184070"
     },
     "user_tz": 240
    },
    "id": "eag6sEwxzmfF",
    "outputId": "03afa660-c27f-4363-faad-8123760b1f3c"
   },
   "outputs": [
    {
     "data": {
      "text/plain": [
       "0.9669376693766938"
      ]
     },
     "execution_count": 56,
     "metadata": {},
     "output_type": "execute_result"
    }
   ],
   "source": [
    "accuracy_score(y_test, y_pred_test)"
   ]
  },
  {
   "cell_type": "code",
   "execution_count": 57,
   "metadata": {
    "id": "hIKhNq7bzmb1"
   },
   "outputs": [],
   "source": [
    "# confusion_matrix(y_test, y_pred_test)"
   ]
  },
  {
   "cell_type": "code",
   "execution_count": 58,
   "metadata": {
    "executionInfo": {
     "elapsed": 30,
     "status": "ok",
     "timestamp": 1681311791570,
     "user": {
      "displayName": "Liang Hu",
      "userId": "05665141676566184070"
     },
     "user_tz": 240
    },
    "id": "8ajCHyxsaxpg"
   },
   "outputs": [],
   "source": [
    "confusion_matrix = np.array([[881,  20],\n",
    "                             [ 41, 903]])"
   ]
  },
  {
   "cell_type": "code",
   "execution_count": 59,
   "metadata": {
    "colab": {
     "base_uri": "https://localhost:8080/",
     "height": 0
    },
    "executionInfo": {
     "elapsed": 30,
     "status": "ok",
     "timestamp": 1681311791570,
     "user": {
      "displayName": "Liang Hu",
      "userId": "05665141676566184070"
     },
     "user_tz": 240
    },
    "id": "GXAfbuN6YjmK",
    "outputId": "6a6fe841-488b-4b51-d7de-b660f28e48a6"
   },
   "outputs": [
    {
     "data": {
      "text/plain": [
       "(0.967327262988752, 0.9565677966101694)"
      ]
     },
     "execution_count": 59,
     "metadata": {},
     "output_type": "execute_result"
    }
   ],
   "source": [
    "tp = confusion_matrix[1, 1]\n",
    "fp = confusion_matrix[0, 1]\n",
    "fn = confusion_matrix[1, 0]\n",
    "calculate_f1_recall(tp, fp, fn )"
   ]
  },
  {
   "cell_type": "code",
   "execution_count": 60,
   "metadata": {
    "colab": {
     "base_uri": "https://localhost:8080/",
     "height": 0
    },
    "executionInfo": {
     "elapsed": 21,
     "status": "ok",
     "timestamp": 1681311791570,
     "user": {
      "displayName": "Liang Hu",
      "userId": "05665141676566184070"
     },
     "user_tz": 240
    },
    "id": "aH_mwRw4To7u",
    "outputId": "5ffd2624-0558-4552-d849-6b7825e8f9ea"
   },
   "outputs": [
    {
     "name": "stdout",
     "output_type": "stream",
     "text": [
      "Caliberation of African American and Caucasian: 0.03776429490715205\n"
     ]
    }
   ],
   "source": [
    "cali_X = New_X.loc[y_test.index]\n",
    "cali_X['label'] = y_test\n",
    "cali_X['pred'] = y_pred_test\n",
    "\n",
    "af_X = cali_X[cali_X.race=='African-American']\n",
    "ca_X =  cali_X[cali_X.race=='Caucasian']\n",
    "\n",
    "np.abs(accuracy_score(af_X.label, af_X.pred)-accuracy_score(ca_X.label, ca_X.pred))\n",
    "print(\"Caliberation of African American and Caucasian:\", np.abs(accuracy_score(af_X.label, af_X.pred)-accuracy_score(ca_X.label, ca_X.pred)))"
   ]
  },
  {
   "cell_type": "markdown",
   "metadata": {
    "id": "BtiacYOzzwy-"
   },
   "source": [
    "## Perform A4 (DM and DM-Sen)"
   ]
  },
  {
   "cell_type": "markdown",
   "metadata": {
    "id": "PziopwWaV8yB"
   },
   "source": [
    "###A4-Disparate Mistreatment (DM)"
   ]
  },
  {
   "cell_type": "code",
   "execution_count": 61,
   "metadata": {
    "colab": {
     "base_uri": "https://localhost:8080/",
     "height": 0
    },
    "executionInfo": {
     "elapsed": 5334,
     "status": "ok",
     "timestamp": 1681311815074,
     "user": {
      "displayName": "Liang Hu",
      "userId": "05665141676566184070"
     },
     "user_tz": 240
    },
    "id": "qQje7d39WrQI",
    "outputId": "a99766aa-23e9-453b-b81c-a045ba2fd8cc"
   },
   "outputs": [
    {
     "name": "stdout",
     "output_type": "stream",
     "text": [
      "zsh:1: command not found: wget\n",
      "tar: Error opening archive: Failed to open 'dccp-1.0.4.tar.gz'\n",
      "[Errno 2] No such file or directory: 'dccp-1.0.4/'\n",
      "/Users/larry_1/Documents/R/ads-spring2023-project4-group_8/doc\n",
      "sed: 1: \"setup.py\": unterminated substitute pattern\n",
      "zsh:1: command not found: python\n",
      "Defaulting to user installation because normal site-packages is not writeable\n",
      "Collecting utils\n",
      "  Downloading utils-1.0.1-py2.py3-none-any.whl (21 kB)\n",
      "Installing collected packages: utils\n",
      "Successfully installed utils-1.0.1\n",
      "\n",
      "\u001b[1m[\u001b[0m\u001b[34;49mnotice\u001b[0m\u001b[1;39;49m]\u001b[0m\u001b[39;49m A new release of pip available: \u001b[0m\u001b[31;49m22.3.1\u001b[0m\u001b[39;49m -> \u001b[0m\u001b[32;49m23.0.1\u001b[0m\n",
      "\u001b[1m[\u001b[0m\u001b[34;49mnotice\u001b[0m\u001b[1;39;49m]\u001b[0m\u001b[39;49m To update, run: \u001b[0m\u001b[32;49mpip install --upgrade pip\u001b[0m\n"
     ]
    }
   ],
   "source": [
    "!wget https://files.pythonhosted.org/packages/source/d/dccp/dccp-1.0.4.tar.gz\n",
    "!tar -xf dccp-1.0.4.tar.gz\n",
    "%cd dccp-1.0.4/\n",
    "!sed -i 's/use_2to3=True,//g' setup.py\n",
    "!python setup.py install\n",
    "!pip install utils"
   ]
  },
  {
   "cell_type": "code",
   "execution_count": null,
   "metadata": {},
   "outputs": [],
   "source": [
    "import numpy as np\n",
    "import pandas as pd\n",
    "import matplotlib.pyplot as plt\n",
    "import seaborn as sns\n",
    "import traceback\n",
    "import dccp\n",
    "from copy import deepcopy\n",
    "from sklearn.model_selection import train_test_split\n",
    "from sklearn.preprocessing import StandardScaler, MinMaxScaler, OrdinalEncoder, OneHotEncoder\n",
    "from sklearn.pipeline import make_pipeline\n",
    "import cvxpy\n",
    "import sys\n",
    "import os\n",
    "\n",
    "from sklearn.compose import ColumnTransformer"
   ]
  },
  {
   "cell_type": "code",
   "execution_count": 137,
   "metadata": {
    "colab": {
     "base_uri": "https://localhost:8080/",
     "height": 0
    },
    "executionInfo": {
     "elapsed": 751,
     "status": "ok",
     "timestamp": 1681311816034,
     "user": {
      "displayName": "Liang Hu",
      "userId": "05665141676566184070"
     },
     "user_tz": 240
    },
    "id": "Ltzs0lahWg97",
    "outputId": "d0e09f2f-0a66-47ba-ce74-c7a0d9b0df72"
   },
   "outputs": [
    {
     "name": "stdout",
     "output_type": "stream",
     "text": [
      "         sex  age race  decile_score  juv_misd_count  juv_other_count  \\\n",
      "0       Male   34    0             3               0                0   \n",
      "1       Male   24    0             4               0                1   \n",
      "2       Male   23    0             8               1                0   \n",
      "3       Male   41    1             6               0                0   \n",
      "4     Female   39    1             1               0                0   \n",
      "...      ...  ...  ...           ...             ...              ...   \n",
      "6145    Male   30    0             2               0                0   \n",
      "6146    Male   20    0             9               0                0   \n",
      "6147    Male   23    0             7               0                0   \n",
      "6148    Male   23    0             3               0                0   \n",
      "6149  Female   33    0             2               0                0   \n",
      "\n",
      "      priors_count c_charge_degree  is_recid  is_violent_recid score_text  \\\n",
      "0                0               F         1                 1        Low   \n",
      "1                4               F         1                 0        Low   \n",
      "2                1               F         0                 0       High   \n",
      "3               14               F         1                 0     Medium   \n",
      "4                0               M         0                 0        Low   \n",
      "...            ...             ...       ...               ...        ...   \n",
      "6145             0               M         1                 0        Low   \n",
      "6146             0               F         0                 0       High   \n",
      "6147             0               F         0                 0     Medium   \n",
      "6148             0               F         0                 0        Low   \n",
      "6149             3               M         0                 0        Low   \n",
      "\n",
      "      start   end  event  two_year_recid  \n",
      "0         9   159      1               1  \n",
      "1         0    63      0               1  \n",
      "2         0  1174      0              -1  \n",
      "3         5    40      1               1  \n",
      "4         2   747      0              -1  \n",
      "...     ...   ...    ...             ...  \n",
      "6145      0   529      1               1  \n",
      "6146      0   169      0              -1  \n",
      "6147      1   860      0              -1  \n",
      "6148      1   790      0              -1  \n",
      "6149      0   754      0              -1  \n",
      "\n",
      "[6150 rows x 15 columns]\n",
      "Index(['sex', 'age', 'race', 'decile_score', 'juv_misd_count',\n",
      "       'juv_other_count', 'priors_count', 'c_charge_degree', 'is_recid',\n",
      "       'is_violent_recid', 'score_text', 'start', 'end', 'event',\n",
      "       'two_year_recid'],\n",
      "      dtype='object')\n"
     ]
    }
   ],
   "source": [
    "df = pd.read_csv('../data/compas-scores-two-years.csv')\n",
    "# df = pd.read_csv('/content/drive/MyDrive/ADS-hw4/data/compas-scores-two-years.csv')\n",
    "df = df.loc[(df.race==\"African-American\")|(df.race==\"Caucasian\")]\n",
    "df.reset_index(drop=True,inplace=True)\n",
    "# Find the columns which have the largest number of null value and clean them \n",
    "df.drop(['violent_recid','vr_charge_degree','vr_case_number','vr_offense_date','vr_charge_desc',\n",
    "         'c_arrest_date','r_jail_out','r_jail_in','r_days_from_arrest','r_charge_desc',\n",
    "         'r_offense_date','r_case_number','r_charge_degree'], axis=1,inplace=True)\n",
    "\n",
    "df.drop(['id', 'name', 'first', 'last', 'compas_screening_date','dob', 'age_cat',\n",
    "       'days_b_screening_arrest', 'c_jail_in', 'c_jail_out', 'c_case_number',\n",
    "       'c_offense_date', 'c_days_from_compas', \n",
    "       'c_charge_desc', 'type_of_assessment',\n",
    "       'decile_score.1', 'screening_date',\n",
    "       'v_type_of_assessment', 'v_decile_score', 'v_score_text',\n",
    "       'v_screening_date', 'in_custody', 'out_custody', 'priors_count.1', \"juv_fel_count\"], axis=1,inplace=True)\n",
    "\n",
    "df.loc[df['two_year_recid'] == 0, 'two_year_recid'] = -1\n",
    "df.loc[df['two_year_recid'] == 1, 'two_year_recid'] =  1\n",
    "\n",
    "# As the requirement from project, we encode \"race\" with 0 if the defendant's race is African American and with 1 if the defendant's race is Caucasian.\n",
    "df.loc[df['race'] == 'African-American', 'race'] = 0\n",
    "df.loc[df['race'] == 'Caucasian',        'race'] = 1\n",
    "\n",
    "print(df)\n",
    "print(df.columns)\n",
    "categoricial_feature=['sex', 'c_charge_degree', 'score_text']\n",
    "\n",
    "\n",
    "enc = OrdinalEncoder()\n",
    "df[categoricial_feature]=enc.fit_transform(df[categoricial_feature])\n"
   ]
  },
  {
   "cell_type": "code",
   "execution_count": 138,
   "metadata": {
    "executionInfo": {
     "elapsed": 1,
     "status": "ok",
     "timestamp": 1681311819452,
     "user": {
      "displayName": "Liang Hu",
      "userId": "05665141676566184070"
     },
     "user_tz": 240
    },
    "id": "VHjt5-FNanqL"
   },
   "outputs": [],
   "source": [
    "def XYZ(df, label_col_name, sensitive_col_name):\n",
    "    # Create a copy of the original dataframe\n",
    "    df_copy = df.copy()\n",
    "    \n",
    "    # Extract the feature matrix X\n",
    "    X = df_copy.drop([label_col_name, sensitive_col_name], axis=1)\n",
    "    \n",
    "    # Extract the label vector Y\n",
    "    Y = df_copy[label_col_name]\n",
    "    \n",
    "    # Extract the sensitive factor vector Z\n",
    "    Z = df_copy[sensitive_col_name]\n",
    "    \n",
    "    return X, Y, Z"
   ]
  },
  {
   "cell_type": "code",
   "execution_count": 139,
   "metadata": {
    "colab": {
     "base_uri": "https://localhost:8080/",
     "height": 0
    },
    "executionInfo": {
     "elapsed": 2,
     "status": "ok",
     "timestamp": 1681311821863,
     "user": {
      "displayName": "Liang Hu",
      "userId": "05665141676566184070"
     },
     "user_tz": 240
    },
    "id": "DUNVRNC7bCVf",
    "outputId": "15780e9e-f2bf-4a49-c402-1bd5349be7c7"
   },
   "outputs": [
    {
     "name": "stdout",
     "output_type": "stream",
     "text": [
      "(6150, 14) (6150,) (6150,)\n",
      "(4920, 14) (1230, 14)\n"
     ]
    }
   ],
   "source": [
    "X, y, z = XYZ(df, 'two_year_recid', 'race')\n",
    "imputer = make_pipeline(StandardScaler())\n",
    "X   = imputer.fit_transform(X)\n",
    "train_new = np.ones((X.shape[0], 1))\n",
    "X   = np.hstack((X, train_new))\n",
    "\n",
    "y   = np.array(y)\n",
    "z   = np.array(z)\n",
    "\n",
    "X_train,X_test,y_train,y_test,x_race_train,x_race_test = train_test_split(X,y,z,test_size=0.2,random_state=5243)\n",
    "\n",
    "print(X.shape,y.shape, z.shape)\n",
    "print(X_train.shape,X_test.shape)"
   ]
  },
  {
   "cell_type": "code",
   "execution_count": 140,
   "metadata": {
    "colab": {
     "base_uri": "https://localhost:8080/",
     "height": 0
    },
    "executionInfo": {
     "elapsed": 1702,
     "status": "ok",
     "timestamp": 1681311823987,
     "user": {
      "displayName": "Liang Hu",
      "userId": "05665141676566184070"
     },
     "user_tz": 240
    },
    "id": "uo0RLqBGbGVt",
    "outputId": "2ccd77f5-5cab-4472-d55d-a6c02b5c4dd7"
   },
   "outputs": [
    {
     "name": "stdout",
     "output_type": "stream",
     "text": [
      "<class 'pandas.core.frame.DataFrame'>\n",
      "RangeIndex: 6150 entries, 0 to 6149\n",
      "Data columns (total 9 columns):\n",
      " #   Column           Non-Null Count  Dtype \n",
      "---  ------           --------------  ----- \n",
      " 0   age              6150 non-null   int64 \n",
      " 1   sex              6150 non-null   object\n",
      " 2   race             6150 non-null   object\n",
      " 3   priors_count     6150 non-null   int64 \n",
      " 4   c_charge_degree  6150 non-null   object\n",
      " 5   decile_score     6150 non-null   int64 \n",
      " 6   score_text       6150 non-null   object\n",
      " 7   event            6150 non-null   int64 \n",
      " 8   two_year_recid   6150 non-null   int64 \n",
      "dtypes: int64(5), object(4)\n",
      "memory usage: 432.5+ KB\n",
      "Features we will be using for classification are: ['intercept', 'age', 'race', 'sex', 'decile_score', 'priors_count', 'score_text_High', 'score_text_Low', 'score_text_Medium', 'event', 'c_charge_degree']\n",
      "[[ 1.         -0.06133356  0.         ...  0.          1.\n",
      "   0.        ]\n",
      " [ 1.         -0.90123873  0.         ...  0.          0.\n",
      "   0.        ]\n",
      " [ 1.         -0.98522925  0.         ...  0.          0.\n",
      "   0.        ]\n",
      " ...\n",
      " [ 1.         -0.98522925  0.         ...  1.          0.\n",
      "   0.        ]\n",
      " [ 1.         -0.98522925  0.         ...  0.          0.\n",
      "   0.        ]\n",
      " [ 1.         -0.14532408  0.         ...  0.          0.\n",
      "   1.        ]] [ 1  1 -1 ... -1 -1 -1] [0 0 0 ... 0 0 0]\n",
      "(4920, 11) (1230, 11) (6150, 11)\n"
     ]
    }
   ],
   "source": [
    "from sklearn import preprocessing\n",
    "origin_df  = pd.read_csv('../data/compas-scores-two-years.csv')\n",
    "# origin_df = pd.read_csv('/content/drive/MyDrive/ADS-hw4/data/compas-scores-two-years.csv')\n",
    "df = origin_df.loc[:,[\"age\",\"sex\",\"race\",\"priors_count\",\"c_charge_degree\", \"decile_score\", \"score_text\", \"event\",\"two_year_recid\"]].query('race in [\"African-American\",\"Caucasian\"]')\n",
    "df.reset_index(drop=True,inplace=True)\n",
    "df.info()\n",
    "\n",
    "features = [\"age\", \"race\", \"sex\", \"decile_score\",\"priors_count\", \"score_text\", \"event\", \"c_charge_degree\"]\n",
    "cont_features = [\"age\",\"decile_score\",\"priors_count\"]\n",
    "predicted_feature = \"two_year_recid\"\n",
    "sensitive_feature = \"race\"\n",
    "\n",
    "def data_preprocessing(df):\n",
    "\n",
    "    data = df.to_dict('list')\n",
    "    for k in data.keys():\n",
    "        data[k] = np.array(data[k])\n",
    "\n",
    "    y = data[predicted_feature]\n",
    "    y[y==0] = -1\n",
    "\n",
    "\n",
    "    X = np.array([]).reshape(len(y), 0) # empty array with num rows same as num examples, will hstack the features to it\n",
    "    x_sensitive_feature = None\n",
    "\n",
    "    feature_names = []\n",
    "    for feature in features:\n",
    "        vals = data[feature]\n",
    "        if feature in cont_features:\n",
    "            vals = [float(v) for v in vals]\n",
    "            vals = preprocessing.scale(vals) \n",
    "            vals = np.reshape(vals, (len(y), -1)) \n",
    "\n",
    "        else: \n",
    "            lb = preprocessing.LabelBinarizer()\n",
    "            lb.fit(vals)\n",
    "            vals = lb.transform(vals)\n",
    "\n",
    "        if feature == sensitive_feature:\n",
    "            x_sensitive_feature = vals\n",
    "\n",
    "\n",
    "        X = np.hstack((X, vals))\n",
    "\n",
    "        if feature in cont_features: \n",
    "            feature_names.append(feature)\n",
    "        else: \n",
    "            if vals.shape[1] == 1: \n",
    "                feature_names.append(feature)\n",
    "            else:\n",
    "                for k in lb.classes_: \n",
    "                    feature_names.append(feature + \"_\" + str(k))\n",
    "\n",
    "    x_sensitive_feature = np.array(x_sensitive_feature).flatten()\n",
    "    X = np.concatenate((np.ones(X.shape[0]).reshape(X.shape[0], 1), X), axis = 1)\n",
    "\n",
    "    feature_names = [\"intercept\"] + feature_names\n",
    "    print(f\"Features we will be using for classification are: {feature_names}\")\n",
    "\n",
    "\n",
    "    return X, y, x_sensitive_feature\n",
    "\n",
    "X,y,x_race = data_preprocessing(df)\n",
    "print(X,y,x_race)\n",
    "\n",
    "X_train,X_test,y_train,y_test,x_race_train,x_race_test = train_test_split(X,y,x_race,test_size=0.2,random_state=5243)\n",
    "print(X_train.shape,X_test.shape,X.shape)"
   ]
  },
  {
   "cell_type": "code",
   "execution_count": 141,
   "metadata": {
    "executionInfo": {
     "elapsed": 132,
     "status": "ok",
     "timestamp": 1681311826911,
     "user": {
      "displayName": "Liang Hu",
      "userId": "05665141676566184070"
     },
     "user_tz": 240
    },
    "id": "tJScM6XAbS-R"
   },
   "outputs": [],
   "source": [
    "def get_one_hot_encoding(in_arr):\n",
    "    in_arr = np.array(in_arr, dtype=int)\n",
    "    attr_vals_uniq_sorted = sorted(list(set(in_arr)))\n",
    "    num_uniq_vals = len(attr_vals_uniq_sorted)\n",
    "    if (num_uniq_vals == 2) and (attr_vals_uniq_sorted[0] == 0 and attr_vals_uniq_sorted[1] == 1):\n",
    "        return in_arr, None\n",
    "\n",
    "    \n",
    "    index_dict = {}\n",
    "    for i in range(0,len(attr_vals_uniq_sorted)):\n",
    "        val = attr_vals_uniq_sorted[i]\n",
    "        index_dict[val] = i\n",
    "\n",
    "    out_arr = []    \n",
    "    for i in range(0,len(in_arr)):\n",
    "        tup = np.zeros(num_uniq_vals)\n",
    "        val = in_arr[i]\n",
    "        ind = index_dict[val]\n",
    "        tup[ind] = 1 # set that value of tuple to 1\n",
    "        out_arr.append(tup)\n",
    "\n",
    "    return np.array(out_arr), index_dict"
   ]
  },
  {
   "cell_type": "code",
   "execution_count": 142,
   "metadata": {
    "executionInfo": {
     "elapsed": 131,
     "status": "ok",
     "timestamp": 1681311828981,
     "user": {
      "displayName": "Liang Hu",
      "userId": "05665141676566184070"
     },
     "user_tz": 240
    },
    "id": "-9rktJosbWXc"
   },
   "outputs": [],
   "source": [
    "def get_distance_boundary(w, x, s_attr_arr):\n",
    "\n",
    "    \"\"\"\n",
    "        if we have boundaries per group, then use those separate boundaries for each sensitive group\n",
    "        else, use the same weight vector for everything\n",
    "    \"\"\"\n",
    "\n",
    "    distances_boundary = np.zeros(x.shape[0])\n",
    "    if isinstance(w, dict): # if we have separate weight vectors per group\n",
    "        for k in w.keys():  # for each w corresponding to each sensitive group\n",
    "            d = np.dot(x, w[k])\n",
    "            distances_boundary[s_attr_arr == k] = d[s_attr_arr == k] # set this distance only for people with this sensitive attr val\n",
    "    else: # we just learn one w for everyone else\n",
    "        distances_boundary = np.dot(x, w)\n",
    "    return distances_boundary"
   ]
  },
  {
   "cell_type": "code",
   "execution_count": 143,
   "metadata": {
    "executionInfo": {
     "elapsed": 1,
     "status": "ok",
     "timestamp": 1681311833391,
     "user": {
      "displayName": "Liang Hu",
      "userId": "05665141676566184070"
     },
     "user_tz": 240
    },
    "id": "Nm_mLdsEbYI_"
   },
   "outputs": [],
   "source": [
    "def get_constraint_list_cov(x_train, y_train, x_control_train, sensitive_attrs_to_cov_thresh, cons_type, w):\n",
    "\n",
    "    \"\"\"\n",
    "    get the list of constraints to be fed to the minimizer\n",
    "    cons_type == 0: means the whole combined misclassification constraint (without FNR or FPR)\n",
    "    cons_type == 1: FPR constraint\n",
    "    cons_type == 2: FNR constraint\n",
    "    cons_type == 4: both FPR as well as FNR constraints\n",
    "    sensitive_attrs_to_cov_thresh: is a dict like {s: {cov_type: val}}\n",
    "    s is the sensitive attr\n",
    "    cov_type is the covariance type. contains the covariance for all misclassifications, FPR and for FNR etc\n",
    "    \"\"\"\n",
    "\n",
    "    constraints = []\n",
    "\n",
    "    attr_arr = x_control_train\n",
    "    attr_arr_transformed, index_dict = get_one_hot_encoding(attr_arr)\n",
    "            \n",
    "    if index_dict is None: # binary attribute, in this case, the attr_arr_transformed is the same as the attr_arr\n",
    "\n",
    "        s_val_to_total = {ct:{} for ct in [0,1,2]} # constrain type -> sens_attr_val -> total number\n",
    "        s_val_to_avg = {ct:{} for ct in [0,1,2]}\n",
    "        cons_sum_dict = {ct:{} for ct in [0,1,2]} # sum of entities (females and males) in constraints are stored here\n",
    "\n",
    "        for v in set(attr_arr):\n",
    "            s_val_to_total[0][v] = sum(x_control_train == v)\n",
    "            s_val_to_total[1][v] = sum(np.logical_and(x_control_train == v, y_train == -1)) # FPR constraint so we only consider the ground truth negative dataset for computing the covariance\n",
    "            s_val_to_total[2][v] = sum(np.logical_and(x_control_train == v, y_train == +1))\n",
    "\n",
    "\n",
    "        for ct in [0,1,2]:\n",
    "            s_val_to_avg[ct][0] = s_val_to_total[ct][1] / float(s_val_to_total[ct][0] + s_val_to_total[ct][1]) # N1/N in our formulation, differs from one constraint type to another\n",
    "            s_val_to_avg[ct][1] = 1.0 - s_val_to_avg[ct][0] # N0/N\n",
    "\n",
    "        \n",
    "        for v in set(attr_arr):\n",
    "\n",
    "            idx = x_control_train == v                \n",
    "\n",
    "            dist_bound_prod = cvxpy.multiply(y_train[idx], x_train[idx] * w) # y.f(x)\n",
    "            \n",
    "            cons_sum_dict[0][v] = cvxpy.sum( cvxpy.minimum(0, dist_bound_prod) ) * (s_val_to_avg[0][v] / len(x_train)) # avg misclassification distance from boundary\n",
    "            cons_sum_dict[1][v] = cvxpy.sum( cvxpy.minimum(0, cvxpy.multiply( (1 - y_train[idx])/2.0, dist_bound_prod) ) ) * (s_val_to_avg[1][v] / sum(y_train == -1)) # avg false positive distance from boundary (only operates on the ground truth neg dataset)\n",
    "            cons_sum_dict[2][v] = cvxpy.sum( cvxpy.minimum(0, cvxpy.multiply( (1 + y_train[idx])/2.0, dist_bound_prod) ) ) * (s_val_to_avg[2][v] / sum(y_train == +1)) # avg false negative distance from boundary\n",
    "\n",
    "            \n",
    "        if cons_type == 4:\n",
    "            cts = [1,2]\n",
    "        elif cons_type in [0,1,2]:\n",
    "            cts = [cons_type]\n",
    "        \n",
    "        else:\n",
    "            raise Exception(\"Invalid constraint type\")\n",
    "\n",
    "\n",
    "        for ct in cts:\n",
    "            thresh = abs(sensitive_attrs_to_cov_thresh[ct][1] - sensitive_attrs_to_cov_thresh[ct][0])\n",
    "            constraints.append( cons_sum_dict[ct][1] <= cons_sum_dict[ct][0]  + thresh )\n",
    "            constraints.append( cons_sum_dict[ct][1] >= cons_sum_dict[ct][0]  - thresh )\n",
    "\n",
    "\n",
    "    return constraints"
   ]
  },
  {
   "cell_type": "code",
   "execution_count": 1,
   "metadata": {
    "executionInfo": {
     "elapsed": 2,
     "status": "ok",
     "timestamp": 1681321843162,
     "user": {
      "displayName": "Liang Hu",
      "userId": "05665141676566184070"
     },
     "user_tz": 240
    },
    "id": "k4U8Hl6ubdYJ"
   },
   "outputs": [],
   "source": [
    "def train_model(X,y,x_sensitive_feature,eps,constraint_params=None):\n",
    "    max_iters = 200 \n",
    "    max_iter_dccp = 50 \n",
    "\n",
    "    \n",
    "    num_points, num_features = X.shape\n",
    "    w = cvxpy.Variable(num_features)\n",
    "\n",
    "    np.random.seed(5243)\n",
    "    w.value = np.random.rand(X.shape[1])\n",
    "\n",
    "    loss = cvxpy.sum(cvxpy.logistic(cvxpy.multiply(-y, X*w) )  ) / num_points \n",
    "\n",
    "    if constraint_params is None: # just train a simple classifier, no fairness constraints\n",
    "        constraints = []\n",
    "    else:\n",
    "        constraints = get_constraint_list_cov(X, y, x_sensitive_feature, constraint_params[\"sensitive_attrs_to_cov_thresh\"], constraint_params[\"cons_type\"], w)\n",
    "    p = cvxpy.Problem(cvxpy.Minimize(loss), [])\n",
    "    p.solve()\n",
    "\n",
    "    prob = cvxpy.Problem(cvxpy.Minimize(loss), constraints)\n",
    "    try:\n",
    "        tau, mu = 0.005, 1.2 # default dccp parameters, need to be varied per dataset\n",
    "        if constraint_params is not None: # in case we passed these parameters as a part of dccp constraints\n",
    "            if constraint_params.get(\"tau\") is not None: tau = constraint_params[\"tau\"]\n",
    "            if constraint_params.get(\"mu\") is not None: mu = constraint_params[\"mu\"]\n",
    "\n",
    "        prob.solve(method='dccp', tau=tau, mu=mu, tau_max=1e10,\n",
    "            solver=cvxpy.ECOS, verbose=False, \n",
    "            feastol=eps, abstol=eps, reltol=eps,feastol_inacc=eps, abstol_inacc=eps, reltol_inacc=eps,\n",
    "            max_iters=max_iters, max_iter=max_iter_dccp)\n",
    "\n",
    "        \n",
    "        assert(prob.status == \"Converged\" or prob.status == \"optimal\")\n",
    "\n",
    "    except:\n",
    "        traceback.print_exc()\n",
    "        sys.stdout.flush()\n",
    "        sys.exit(1)\n",
    "    w = np.array(w.value).flatten() \n",
    "\n",
    "    return w"
   ]
  },
  {
   "cell_type": "code",
   "execution_count": 2,
   "metadata": {
    "executionInfo": {
     "elapsed": 1,
     "status": "ok",
     "timestamp": 1681321843162,
     "user": {
      "displayName": "Liang Hu",
      "userId": "05665141676566184070"
     },
     "user_tz": 240
    },
    "id": "FdUk4kqJbd5_"
   },
   "outputs": [],
   "source": [
    "def get_clf_stats(w, x_train, y_train, x_control_train, x_test, y_test, x_control_test):\n",
    "\n",
    "\n",
    "    # compute distance from boundary\n",
    "    distances_boundary_train = get_distance_boundary(w, x_train, x_control_train)\n",
    "    distances_boundary_test = get_distance_boundary(w, x_test, x_control_test)\n",
    "\n",
    "    # compute the class labels\n",
    "    all_class_labels_assigned_train = np.sign(distances_boundary_train)\n",
    "    all_class_labels_assigned_test = np.sign(distances_boundary_test)\n",
    "\n",
    "\n",
    "    train_score, test_score, correct_answers_train, correct_answers_test = check_accuracy(None, x_train, y_train, x_test, y_test, all_class_labels_assigned_train, all_class_labels_assigned_test)\n",
    "\n",
    "  \n",
    "        \n",
    "    print_stats = False \n",
    "    s_attr_to_fp_fn_train = get_fpr_fnr_sensitive_features(y_train, all_class_labels_assigned_train, x_control_train, print_stats)\n",
    "    cov_all_train = get_sensitive_attr_constraint_fpr_fnr_cov(None, x_train, y_train, distances_boundary_train, x_control_train) \n",
    "    \n",
    "\n",
    "    print(\"\\n\")\n",
    "    print(f\"Accuracy: %0.3f {test_score}\")\n",
    "    print_stats = True # only print stats for the test fold\n",
    "    s_attr_to_fp_fn_test = get_fpr_fnr_sensitive_features(y_test, all_class_labels_assigned_test, x_control_test, print_stats)\n",
    "    cov_all_test = get_sensitive_attr_constraint_fpr_fnr_cov(None, x_test, y_test, distances_boundary_test, x_control_test) \n",
    "    print(\"\\n\")\n",
    "\n",
    "    return train_score, test_score, cov_all_train, cov_all_test, s_attr_to_fp_fn_train, s_attr_to_fp_fn_test"
   ]
  },
  {
   "cell_type": "code",
   "execution_count": 146,
   "metadata": {
    "executionInfo": {
     "elapsed": 2,
     "status": "ok",
     "timestamp": 1681311847601,
     "user": {
      "displayName": "Liang Hu",
      "userId": "05665141676566184070"
     },
     "user_tz": 240
    },
    "id": "YdGIbJ3ibovR"
   },
   "outputs": [],
   "source": [
    "def get_fpr_fnr_sensitive_features(y_true, y_pred, x_control, verbose = False):\n",
    "\n",
    "    # we will make some changes to x_control in this function, so make a copy in order to preserve the origianl referenced object\n",
    "    x_control_internal = deepcopy(x_control)\n",
    "\n",
    "    s_attr_to_fp_fn = {}\n",
    "    \n",
    "    s_attr_vals = x_control_internal\n",
    "    for s_val in sorted(list(set(s_attr_vals))):\n",
    "        s_attr_to_fp_fn[s_val] = {}\n",
    "        y_true_local = y_true[s_attr_vals==s_val]\n",
    "        y_pred_local = y_pred[s_attr_vals==s_val]\n",
    "\n",
    "        \n",
    "\n",
    "        acc = float(sum(y_true_local==y_pred_local)) / len(y_true_local)\n",
    "\n",
    "        fp = sum(np.logical_and(y_true_local == -1.0, y_pred_local == +1.0)) # something which is -ve but is misclassified as +ve\n",
    "        fn = sum(np.logical_and(y_true_local == +1.0, y_pred_local == -1.0)) # something which is +ve but is misclassified as -ve\n",
    "        tp = sum(np.logical_and(y_true_local == +1.0, y_pred_local == +1.0)) # something which is +ve AND is correctly classified as +ve\n",
    "        tn = sum(np.logical_and(y_true_local == -1.0, y_pred_local == -1.0)) # something which is -ve AND is correctly classified as -ve\n",
    "\n",
    "        all_neg = sum(y_true_local == -1.0)\n",
    "        all_pos = sum(y_true_local == +1.0)\n",
    "\n",
    "        fpr = float(fp) / float(fp + tn)\n",
    "        fnr = float(fn) / float(fn + tp)\n",
    "        tpr = float(tp) / float(tp + fn)\n",
    "        tnr = float(tn) / float(tn + fp)\n",
    "\n",
    "\n",
    "        s_attr_to_fp_fn[s_val][\"fp\"] = fp\n",
    "        s_attr_to_fp_fn[s_val][\"fn\"] = fn\n",
    "        s_attr_to_fp_fn[s_val][\"fpr\"] = fpr\n",
    "        s_attr_to_fp_fn[s_val][\"fnr\"] = fnr\n",
    "\n",
    "        s_attr_to_fp_fn[s_val][\"acc\"] = (tp + tn) / (tp + tn + fp + fn)\n",
    "\n",
    "    return s_attr_to_fp_fn"
   ]
  },
  {
   "cell_type": "code",
   "execution_count": 3,
   "metadata": {
    "executionInfo": {
     "elapsed": 191,
     "status": "ok",
     "timestamp": 1681321846728,
     "user": {
      "displayName": "Liang Hu",
      "userId": "05665141676566184070"
     },
     "user_tz": 240
    },
    "id": "8X9pzoUgbsWR"
   },
   "outputs": [],
   "source": [
    "def get_sensitive_attr_constraint_fpr_fnr_cov(model, x_arr, y_arr_true, y_arr_dist_boundary, x_control_arr, verbose=False):\n",
    "\n",
    "    \"\"\"\n",
    "    Here we compute the covariance between sensitive attr val and ONLY misclassification distances from boundary for False-positives\n",
    "    (-N_1 / N) sum_0(min(0, y.f(x))) + (N_0 / N) sum_1(min(0, y.f(x))) for all misclassifications\n",
    "    (-N_1 / N) sum_0(min(0, (1-y)/2 . y.f(x))) + (N_0 / N) sum_1(min(0,  (1-y)/2. y.f(x))) for FPR\n",
    "    y_arr_true are the true class labels\n",
    "    y_arr_dist_boundary are the predicted distances from the decision boundary\n",
    "    If the model is None, we assume that the y_arr_dist_boundary contains the distace from the decision boundary\n",
    "    If the model is not None, we just compute a dot product or model and x_arr\n",
    "    for the case of SVM, we pass the distace from bounday becase the intercept in internalized for the class\n",
    "    and we have compute the distance using the project function\n",
    "    this function will return -1 if the constraint specified by thresh parameter is not satifsified\n",
    "    otherwise it will reutrn +1\n",
    "    if the return value is >=0, then the constraint is satisfied\n",
    "    \"\"\"        \n",
    "    assert(x_arr.shape[0] == x_control_arr.shape[0])\n",
    "    if len(x_control_arr.shape) > 1: # make sure we just have one column in the array\n",
    "        assert(x_control_arr.shape[1] == 1)\n",
    "    if len(set(x_control_arr)) != 2: # non binary attr\n",
    "        raise Exception(\"Non binary attr, fix to handle non bin attrs\")\n",
    "\n",
    "    \n",
    "    arr = []\n",
    "    if model is None:\n",
    "        arr = y_arr_dist_boundary * y_arr_true # simply the output labels\n",
    "    else:\n",
    "        arr = np.dot(model, x_arr.T) * y_arr_true # the product with the weight vector -- the sign of this is the output label\n",
    "    arr = np.array(arr)\n",
    "\n",
    "    s_val_to_total = {ct:{} for ct in [0,1,2]}\n",
    "    s_val_to_avg = {ct:{} for ct in [0,1,2]}\n",
    "    cons_sum_dict = {ct:{} for ct in [0,1,2]} # sum of entities (females and males) in constraints are stored here\n",
    "\n",
    "    for v in set(x_control_arr):\n",
    "        s_val_to_total[0][v] = sum(x_control_arr == v)\n",
    "        s_val_to_total[1][v] = sum(np.logical_and(x_control_arr == v, y_arr_true == -1))\n",
    "        s_val_to_total[2][v] = sum(np.logical_and(x_control_arr == v, y_arr_true == +1))\n",
    "\n",
    "\n",
    "    for ct in [0,1,2]:\n",
    "        s_val_to_avg[ct][0] = s_val_to_total[ct][1] / float(s_val_to_total[ct][0] + s_val_to_total[ct][1]) # N1 / N\n",
    "        s_val_to_avg[ct][1] = 1.0 - s_val_to_avg[ct][0] # N0 / N\n",
    "\n",
    "    \n",
    "    for v in set(x_control_arr):\n",
    "        idx = x_control_arr == v\n",
    "        dist_bound_prod = arr[idx]\n",
    "\n",
    "        cons_sum_dict[0][v] = sum( np.minimum(0, dist_bound_prod) ) * (s_val_to_avg[0][v] / len(x_arr))\n",
    "        cons_sum_dict[1][v] = sum( np.minimum(0, ( (1 - y_arr_true[idx]) / 2 ) * dist_bound_prod) ) * (s_val_to_avg[1][v] / sum(y_arr_true == -1))\n",
    "        cons_sum_dict[2][v] = sum( np.minimum(0, ( (1 + y_arr_true[idx]) / 2 ) * dist_bound_prod) ) * (s_val_to_avg[2][v] / sum(y_arr_true == +1))\n",
    "        \n",
    "\n",
    "    cons_type_to_name = {0:\"ALL\", 1:\"FPR\", 2:\"FNR\"}\n",
    "    for cons_type in [0,1,2]:\n",
    "        cov_type_name = cons_type_to_name[cons_type]    \n",
    "        cov = cons_sum_dict[cons_type][1] - cons_sum_dict[cons_type][0]\n",
    "        \n",
    "    return cons_sum_dict"
   ]
  },
  {
   "cell_type": "code",
   "execution_count": 148,
   "metadata": {
    "executionInfo": {
     "elapsed": 2,
     "status": "ok",
     "timestamp": 1681311852100,
     "user": {
      "displayName": "Liang Hu",
      "userId": "05665141676566184070"
     },
     "user_tz": 240
    },
    "id": "rEXzfZnEbuRJ"
   },
   "outputs": [],
   "source": [
    "def get_accuracy(y, Y_predicted):\n",
    "        correct_answers = (Y_predicted == y).astype(int) # will have 1 when the prediction and the actual label match\n",
    "        accuracy = float(sum(correct_answers)) / float(len(correct_answers))\n",
    "        return accuracy, sum(correct_answers)\n",
    "        \n",
    "def check_accuracy(model, x_train, y_train, x_test, y_test, y_train_predicted, y_test_predicted):\n",
    "    if model is not None and y_test_predicted is not None:\n",
    "        print(\"Either the model (w) or the predicted labels should be None\")\n",
    "        raise Exception(\"Either the model (w) or the predicted labels should be None\")\n",
    "\n",
    "    if model is not None:\n",
    "        y_test_predicted = np.sign(np.dot(x_test, model))\n",
    "        y_train_predicted = np.sign(np.dot(x_train, model))\n",
    "\n",
    "    train_score, correct_answers_train = get_accuracy(y_train, y_train_predicted)\n",
    "    test_score, correct_answers_test = get_accuracy(y_test, y_test_predicted)\n",
    "\n",
    "    return train_score, test_score, correct_answers_train, correct_answers_test"
   ]
  },
  {
   "cell_type": "code",
   "execution_count": 149,
   "metadata": {
    "executionInfo": {
     "elapsed": 143,
     "status": "ok",
     "timestamp": 1681311884543,
     "user": {
      "displayName": "Liang Hu",
      "userId": "05665141676566184070"
     },
     "user_tz": 240
    },
    "id": "8fkF5QqXb0WP"
   },
   "outputs": [],
   "source": [
    "eps = 1e-5\n",
    "sensitive_attrs_to_cov_thresh = {0:{0:0, 1:0}, 1:{0:0, 1:0}, 2:{0:0, 1:0}} # zero covariance threshold, means try to get the fairest solution\n",
    "tau = 5.0\n",
    "mu = 1.2\n",
    "idx_to_constraint = {-1:\"No Constraint\",0:\"Misclassification\",1:\"Only FPR\",2:\"Only FNR\",4:\"Both FPR and FNR\"}\n",
    "summary_W = pd.DataFrame(columns=[\"Constraint_type\",\"Accuracy\",\"FPR\",\"FNR\"])\n",
    "summary_B = pd.DataFrame(columns=[\"Constraint_type\",\"Accuracy\",\"FPR\",\"FNR\"])\n",
    "summary_diff = pd.DataFrame(columns=[\"Constraint_type\",\"Overall Accuracy\",\"Diff_Accuracy\",\"Diff_FPR\",\"Diff_FNR\"])"
   ]
  },
  {
   "cell_type": "code",
   "execution_count": 150,
   "metadata": {
    "colab": {
     "base_uri": "https://localhost:8080/",
     "height": 0
    },
    "executionInfo": {
     "elapsed": 55560,
     "status": "ok",
     "timestamp": 1681311942416,
     "user": {
      "displayName": "Liang Hu",
      "userId": "05665141676566184070"
     },
     "user_tz": 240
    },
    "id": "ut3mIRuBb2Ai",
    "outputId": "58cd2205-e6a3-4e43-e241-c7bbbabafa94"
   },
   "outputs": [
    {
     "name": "stderr",
     "output_type": "stream",
     "text": [
      "/usr/local/lib/python3.9/dist-packages/cvxpy/expressions/expression.py:612: UserWarning: \n",
      "This use of ``*`` has resulted in matrix multiplication.\n",
      "Using ``*`` for matrix multiplication has been deprecated since CVXPY 1.1.\n",
      "    Use ``*`` for matrix-scalar and vector-scalar multiplication.\n",
      "    Use ``@`` for matrix-matrix and matrix-vector multiplication.\n",
      "    Use ``multiply`` for elementwise multiplication.\n",
      "This code path has been hit 30 times so far.\n",
      "\n",
      "  warnings.warn(msg, UserWarning)\n"
     ]
    },
    {
     "name": "stdout",
     "output_type": "stream",
     "text": [
      "\n",
      "\n",
      "Accuracy: %0.3f 0.9040650406504065\n",
      "\n",
      "\n"
     ]
    },
    {
     "name": "stderr",
     "output_type": "stream",
     "text": [
      "<ipython-input-150-f107219ec030>:11: FutureWarning: The frame.append method is deprecated and will be removed from pandas in a future version. Use pandas.concat instead.\n",
      "  summary_W = summary_W.append({\"Constraint_type\":idx_to_constraint[i],\"Accuracy\":s_attr_to_fp_fn_test[0]['acc'],\"FPR\":s_attr_to_fp_fn_test[0]['fpr'],\"FNR\":s_attr_to_fp_fn_test[0]['fnr']},ignore_index=True)\n",
      "<ipython-input-150-f107219ec030>:12: FutureWarning: The frame.append method is deprecated and will be removed from pandas in a future version. Use pandas.concat instead.\n",
      "  summary_B = summary_B.append({\"Constraint_type\":idx_to_constraint[i],\"Accuracy\":s_attr_to_fp_fn_test[1]['acc'],\"FPR\":s_attr_to_fp_fn_test[1]['fpr'],\"FNR\":s_attr_to_fp_fn_test[1]['fnr']},ignore_index=True)\n",
      "<ipython-input-150-f107219ec030>:13: FutureWarning: The frame.append method is deprecated and will be removed from pandas in a future version. Use pandas.concat instead.\n",
      "  summary_diff = summary_diff.append({\"Constraint_type\":idx_to_constraint[i],\"Overall Accuracy\":test_score,\"Diff_Accuracy\":s_attr_to_fp_fn_test[0]['acc']-s_attr_to_fp_fn_test[1]['acc'],\"Diff_FPR\":s_attr_to_fp_fn_test[0]['fpr']-s_attr_to_fp_fn_test[1]['fpr'],\"Diff_FNR\":s_attr_to_fp_fn_test[0]['fnr']-s_attr_to_fp_fn_test[1]['fnr']},ignore_index=True)\n",
      "/usr/local/lib/python3.9/dist-packages/cvxpy/expressions/expression.py:612: UserWarning: \n",
      "This use of ``*`` has resulted in matrix multiplication.\n",
      "Using ``*`` for matrix multiplication has been deprecated since CVXPY 1.1.\n",
      "    Use ``*`` for matrix-scalar and vector-scalar multiplication.\n",
      "    Use ``@`` for matrix-matrix and matrix-vector multiplication.\n",
      "    Use ``multiply`` for elementwise multiplication.\n",
      "This code path has been hit 31 times so far.\n",
      "\n",
      "  warnings.warn(msg, UserWarning)\n",
      "/usr/local/lib/python3.9/dist-packages/cvxpy/expressions/expression.py:612: UserWarning: \n",
      "This use of ``*`` has resulted in matrix multiplication.\n",
      "Using ``*`` for matrix multiplication has been deprecated since CVXPY 1.1.\n",
      "    Use ``*`` for matrix-scalar and vector-scalar multiplication.\n",
      "    Use ``@`` for matrix-matrix and matrix-vector multiplication.\n",
      "    Use ``multiply`` for elementwise multiplication.\n",
      "This code path has been hit 32 times so far.\n",
      "\n",
      "  warnings.warn(msg, UserWarning)\n",
      "/usr/local/lib/python3.9/dist-packages/cvxpy/expressions/expression.py:612: UserWarning: \n",
      "This use of ``*`` has resulted in matrix multiplication.\n",
      "Using ``*`` for matrix multiplication has been deprecated since CVXPY 1.1.\n",
      "    Use ``*`` for matrix-scalar and vector-scalar multiplication.\n",
      "    Use ``@`` for matrix-matrix and matrix-vector multiplication.\n",
      "    Use ``multiply`` for elementwise multiplication.\n",
      "This code path has been hit 33 times so far.\n",
      "\n",
      "  warnings.warn(msg, UserWarning)\n"
     ]
    },
    {
     "name": "stdout",
     "output_type": "stream",
     "text": [
      "\n",
      "\n",
      "Accuracy: %0.3f 0.9056910569105691\n",
      "\n",
      "\n"
     ]
    },
    {
     "name": "stderr",
     "output_type": "stream",
     "text": [
      "<ipython-input-150-f107219ec030>:11: FutureWarning: The frame.append method is deprecated and will be removed from pandas in a future version. Use pandas.concat instead.\n",
      "  summary_W = summary_W.append({\"Constraint_type\":idx_to_constraint[i],\"Accuracy\":s_attr_to_fp_fn_test[0]['acc'],\"FPR\":s_attr_to_fp_fn_test[0]['fpr'],\"FNR\":s_attr_to_fp_fn_test[0]['fnr']},ignore_index=True)\n",
      "<ipython-input-150-f107219ec030>:12: FutureWarning: The frame.append method is deprecated and will be removed from pandas in a future version. Use pandas.concat instead.\n",
      "  summary_B = summary_B.append({\"Constraint_type\":idx_to_constraint[i],\"Accuracy\":s_attr_to_fp_fn_test[1]['acc'],\"FPR\":s_attr_to_fp_fn_test[1]['fpr'],\"FNR\":s_attr_to_fp_fn_test[1]['fnr']},ignore_index=True)\n",
      "<ipython-input-150-f107219ec030>:13: FutureWarning: The frame.append method is deprecated and will be removed from pandas in a future version. Use pandas.concat instead.\n",
      "  summary_diff = summary_diff.append({\"Constraint_type\":idx_to_constraint[i],\"Overall Accuracy\":test_score,\"Diff_Accuracy\":s_attr_to_fp_fn_test[0]['acc']-s_attr_to_fp_fn_test[1]['acc'],\"Diff_FPR\":s_attr_to_fp_fn_test[0]['fpr']-s_attr_to_fp_fn_test[1]['fpr'],\"Diff_FNR\":s_attr_to_fp_fn_test[0]['fnr']-s_attr_to_fp_fn_test[1]['fnr']},ignore_index=True)\n",
      "/usr/local/lib/python3.9/dist-packages/cvxpy/expressions/expression.py:612: UserWarning: \n",
      "This use of ``*`` has resulted in matrix multiplication.\n",
      "Using ``*`` for matrix multiplication has been deprecated since CVXPY 1.1.\n",
      "    Use ``*`` for matrix-scalar and vector-scalar multiplication.\n",
      "    Use ``@`` for matrix-matrix and matrix-vector multiplication.\n",
      "    Use ``multiply`` for elementwise multiplication.\n",
      "This code path has been hit 34 times so far.\n",
      "\n",
      "  warnings.warn(msg, UserWarning)\n",
      "/usr/local/lib/python3.9/dist-packages/cvxpy/expressions/expression.py:612: UserWarning: \n",
      "This use of ``*`` has resulted in matrix multiplication.\n",
      "Using ``*`` for matrix multiplication has been deprecated since CVXPY 1.1.\n",
      "    Use ``*`` for matrix-scalar and vector-scalar multiplication.\n",
      "    Use ``@`` for matrix-matrix and matrix-vector multiplication.\n",
      "    Use ``multiply`` for elementwise multiplication.\n",
      "This code path has been hit 35 times so far.\n",
      "\n",
      "  warnings.warn(msg, UserWarning)\n",
      "/usr/local/lib/python3.9/dist-packages/cvxpy/expressions/expression.py:612: UserWarning: \n",
      "This use of ``*`` has resulted in matrix multiplication.\n",
      "Using ``*`` for matrix multiplication has been deprecated since CVXPY 1.1.\n",
      "    Use ``*`` for matrix-scalar and vector-scalar multiplication.\n",
      "    Use ``@`` for matrix-matrix and matrix-vector multiplication.\n",
      "    Use ``multiply`` for elementwise multiplication.\n",
      "This code path has been hit 36 times so far.\n",
      "\n",
      "  warnings.warn(msg, UserWarning)\n"
     ]
    },
    {
     "name": "stdout",
     "output_type": "stream",
     "text": [
      "\n",
      "\n",
      "Accuracy: %0.3f 0.8926829268292683\n",
      "\n",
      "\n"
     ]
    },
    {
     "name": "stderr",
     "output_type": "stream",
     "text": [
      "<ipython-input-150-f107219ec030>:11: FutureWarning: The frame.append method is deprecated and will be removed from pandas in a future version. Use pandas.concat instead.\n",
      "  summary_W = summary_W.append({\"Constraint_type\":idx_to_constraint[i],\"Accuracy\":s_attr_to_fp_fn_test[0]['acc'],\"FPR\":s_attr_to_fp_fn_test[0]['fpr'],\"FNR\":s_attr_to_fp_fn_test[0]['fnr']},ignore_index=True)\n",
      "<ipython-input-150-f107219ec030>:12: FutureWarning: The frame.append method is deprecated and will be removed from pandas in a future version. Use pandas.concat instead.\n",
      "  summary_B = summary_B.append({\"Constraint_type\":idx_to_constraint[i],\"Accuracy\":s_attr_to_fp_fn_test[1]['acc'],\"FPR\":s_attr_to_fp_fn_test[1]['fpr'],\"FNR\":s_attr_to_fp_fn_test[1]['fnr']},ignore_index=True)\n",
      "<ipython-input-150-f107219ec030>:13: FutureWarning: The frame.append method is deprecated and will be removed from pandas in a future version. Use pandas.concat instead.\n",
      "  summary_diff = summary_diff.append({\"Constraint_type\":idx_to_constraint[i],\"Overall Accuracy\":test_score,\"Diff_Accuracy\":s_attr_to_fp_fn_test[0]['acc']-s_attr_to_fp_fn_test[1]['acc'],\"Diff_FPR\":s_attr_to_fp_fn_test[0]['fpr']-s_attr_to_fp_fn_test[1]['fpr'],\"Diff_FNR\":s_attr_to_fp_fn_test[0]['fnr']-s_attr_to_fp_fn_test[1]['fnr']},ignore_index=True)\n",
      "/usr/local/lib/python3.9/dist-packages/cvxpy/expressions/expression.py:612: UserWarning: \n",
      "This use of ``*`` has resulted in matrix multiplication.\n",
      "Using ``*`` for matrix multiplication has been deprecated since CVXPY 1.1.\n",
      "    Use ``*`` for matrix-scalar and vector-scalar multiplication.\n",
      "    Use ``@`` for matrix-matrix and matrix-vector multiplication.\n",
      "    Use ``multiply`` for elementwise multiplication.\n",
      "This code path has been hit 37 times so far.\n",
      "\n",
      "  warnings.warn(msg, UserWarning)\n",
      "/usr/local/lib/python3.9/dist-packages/cvxpy/expressions/expression.py:612: UserWarning: \n",
      "This use of ``*`` has resulted in matrix multiplication.\n",
      "Using ``*`` for matrix multiplication has been deprecated since CVXPY 1.1.\n",
      "    Use ``*`` for matrix-scalar and vector-scalar multiplication.\n",
      "    Use ``@`` for matrix-matrix and matrix-vector multiplication.\n",
      "    Use ``multiply`` for elementwise multiplication.\n",
      "This code path has been hit 38 times so far.\n",
      "\n",
      "  warnings.warn(msg, UserWarning)\n",
      "/usr/local/lib/python3.9/dist-packages/cvxpy/expressions/expression.py:612: UserWarning: \n",
      "This use of ``*`` has resulted in matrix multiplication.\n",
      "Using ``*`` for matrix multiplication has been deprecated since CVXPY 1.1.\n",
      "    Use ``*`` for matrix-scalar and vector-scalar multiplication.\n",
      "    Use ``@`` for matrix-matrix and matrix-vector multiplication.\n",
      "    Use ``multiply`` for elementwise multiplication.\n",
      "This code path has been hit 39 times so far.\n",
      "\n",
      "  warnings.warn(msg, UserWarning)\n"
     ]
    },
    {
     "name": "stdout",
     "output_type": "stream",
     "text": [
      "\n",
      "\n",
      "Accuracy: %0.3f 0.8967479674796748\n",
      "\n",
      "\n"
     ]
    },
    {
     "name": "stderr",
     "output_type": "stream",
     "text": [
      "<ipython-input-150-f107219ec030>:11: FutureWarning: The frame.append method is deprecated and will be removed from pandas in a future version. Use pandas.concat instead.\n",
      "  summary_W = summary_W.append({\"Constraint_type\":idx_to_constraint[i],\"Accuracy\":s_attr_to_fp_fn_test[0]['acc'],\"FPR\":s_attr_to_fp_fn_test[0]['fpr'],\"FNR\":s_attr_to_fp_fn_test[0]['fnr']},ignore_index=True)\n",
      "<ipython-input-150-f107219ec030>:12: FutureWarning: The frame.append method is deprecated and will be removed from pandas in a future version. Use pandas.concat instead.\n",
      "  summary_B = summary_B.append({\"Constraint_type\":idx_to_constraint[i],\"Accuracy\":s_attr_to_fp_fn_test[1]['acc'],\"FPR\":s_attr_to_fp_fn_test[1]['fpr'],\"FNR\":s_attr_to_fp_fn_test[1]['fnr']},ignore_index=True)\n",
      "<ipython-input-150-f107219ec030>:13: FutureWarning: The frame.append method is deprecated and will be removed from pandas in a future version. Use pandas.concat instead.\n",
      "  summary_diff = summary_diff.append({\"Constraint_type\":idx_to_constraint[i],\"Overall Accuracy\":test_score,\"Diff_Accuracy\":s_attr_to_fp_fn_test[0]['acc']-s_attr_to_fp_fn_test[1]['acc'],\"Diff_FPR\":s_attr_to_fp_fn_test[0]['fpr']-s_attr_to_fp_fn_test[1]['fpr'],\"Diff_FNR\":s_attr_to_fp_fn_test[0]['fnr']-s_attr_to_fp_fn_test[1]['fnr']},ignore_index=True)\n",
      "/usr/local/lib/python3.9/dist-packages/cvxpy/expressions/expression.py:612: UserWarning: \n",
      "This use of ``*`` has resulted in matrix multiplication.\n",
      "Using ``*`` for matrix multiplication has been deprecated since CVXPY 1.1.\n",
      "    Use ``*`` for matrix-scalar and vector-scalar multiplication.\n",
      "    Use ``@`` for matrix-matrix and matrix-vector multiplication.\n",
      "    Use ``multiply`` for elementwise multiplication.\n",
      "This code path has been hit 40 times so far.\n",
      "\n",
      "  warnings.warn(msg, UserWarning)\n",
      "/usr/local/lib/python3.9/dist-packages/cvxpy/expressions/expression.py:612: UserWarning: \n",
      "This use of ``*`` has resulted in matrix multiplication.\n",
      "Using ``*`` for matrix multiplication has been deprecated since CVXPY 1.1.\n",
      "    Use ``*`` for matrix-scalar and vector-scalar multiplication.\n",
      "    Use ``@`` for matrix-matrix and matrix-vector multiplication.\n",
      "    Use ``multiply`` for elementwise multiplication.\n",
      "This code path has been hit 41 times so far.\n",
      "\n",
      "  warnings.warn(msg, UserWarning)\n",
      "/usr/local/lib/python3.9/dist-packages/cvxpy/expressions/expression.py:612: UserWarning: \n",
      "This use of ``*`` has resulted in matrix multiplication.\n",
      "Using ``*`` for matrix multiplication has been deprecated since CVXPY 1.1.\n",
      "    Use ``*`` for matrix-scalar and vector-scalar multiplication.\n",
      "    Use ``@`` for matrix-matrix and matrix-vector multiplication.\n",
      "    Use ``multiply`` for elementwise multiplication.\n",
      "This code path has been hit 42 times so far.\n",
      "\n",
      "  warnings.warn(msg, UserWarning)\n"
     ]
    },
    {
     "name": "stdout",
     "output_type": "stream",
     "text": [
      "\n",
      "\n",
      "Accuracy: %0.3f 0.8910569105691057\n",
      "\n",
      "\n"
     ]
    },
    {
     "name": "stderr",
     "output_type": "stream",
     "text": [
      "<ipython-input-150-f107219ec030>:11: FutureWarning: The frame.append method is deprecated and will be removed from pandas in a future version. Use pandas.concat instead.\n",
      "  summary_W = summary_W.append({\"Constraint_type\":idx_to_constraint[i],\"Accuracy\":s_attr_to_fp_fn_test[0]['acc'],\"FPR\":s_attr_to_fp_fn_test[0]['fpr'],\"FNR\":s_attr_to_fp_fn_test[0]['fnr']},ignore_index=True)\n",
      "<ipython-input-150-f107219ec030>:12: FutureWarning: The frame.append method is deprecated and will be removed from pandas in a future version. Use pandas.concat instead.\n",
      "  summary_B = summary_B.append({\"Constraint_type\":idx_to_constraint[i],\"Accuracy\":s_attr_to_fp_fn_test[1]['acc'],\"FPR\":s_attr_to_fp_fn_test[1]['fpr'],\"FNR\":s_attr_to_fp_fn_test[1]['fnr']},ignore_index=True)\n",
      "<ipython-input-150-f107219ec030>:13: FutureWarning: The frame.append method is deprecated and will be removed from pandas in a future version. Use pandas.concat instead.\n",
      "  summary_diff = summary_diff.append({\"Constraint_type\":idx_to_constraint[i],\"Overall Accuracy\":test_score,\"Diff_Accuracy\":s_attr_to_fp_fn_test[0]['acc']-s_attr_to_fp_fn_test[1]['acc'],\"Diff_FPR\":s_attr_to_fp_fn_test[0]['fpr']-s_attr_to_fp_fn_test[1]['fpr'],\"Diff_FNR\":s_attr_to_fp_fn_test[0]['fnr']-s_attr_to_fp_fn_test[1]['fnr']},ignore_index=True)\n"
     ]
    }
   ],
   "source": [
    "for i in [-1,0,1,2,4]:\n",
    "    if i == -1:\n",
    "      constraint_params = None\n",
    "    else:\n",
    "      constraint_params = {\"cons_type\": i, \n",
    "              \"tau\": tau, \n",
    "              \"mu\": mu, \n",
    "              \"sensitive_attrs_to_cov_thresh\": sensitive_attrs_to_cov_thresh}\n",
    "    w = train_model(X_train,y_train,x_race_train,eps,constraint_params)\n",
    "    train_score, test_score, cov_all_train, cov_all_test, s_attr_to_fp_fn_train, s_attr_to_fp_fn_test = get_clf_stats(w, X_train, y_train, x_race_train, X_test, y_test, x_race_test)\n",
    "    summary_W = summary_W.append({\"Constraint_type\":idx_to_constraint[i],\"Accuracy\":s_attr_to_fp_fn_test[0]['acc'],\"FPR\":s_attr_to_fp_fn_test[0]['fpr'],\"FNR\":s_attr_to_fp_fn_test[0]['fnr']},ignore_index=True)\n",
    "    summary_B = summary_B.append({\"Constraint_type\":idx_to_constraint[i],\"Accuracy\":s_attr_to_fp_fn_test[1]['acc'],\"FPR\":s_attr_to_fp_fn_test[1]['fpr'],\"FNR\":s_attr_to_fp_fn_test[1]['fnr']},ignore_index=True)\n",
    "    summary_diff = summary_diff.append({\"Constraint_type\":idx_to_constraint[i],\"Overall Accuracy\":test_score,\"Diff_Accuracy\":s_attr_to_fp_fn_test[0]['acc']-s_attr_to_fp_fn_test[1]['acc'],\"Diff_FPR\":s_attr_to_fp_fn_test[0]['fpr']-s_attr_to_fp_fn_test[1]['fpr'],\"Diff_FNR\":s_attr_to_fp_fn_test[0]['fnr']-s_attr_to_fp_fn_test[1]['fnr']},ignore_index=True)"
   ]
  },
  {
   "cell_type": "code",
   "execution_count": 151,
   "metadata": {
    "colab": {
     "base_uri": "https://localhost:8080/",
     "height": 206
    },
    "executionInfo": {
     "elapsed": 888,
     "status": "ok",
     "timestamp": 1681311944132,
     "user": {
      "displayName": "Liang Hu",
      "userId": "05665141676566184070"
     },
     "user_tz": 240
    },
    "id": "U3H_ZjM1dOFT",
    "outputId": "56eef28b-e683-4081-8204-b5c430c6b01e"
   },
   "outputs": [
    {
     "data": {
      "text/html": [
       "\n",
       "  <div id=\"df-7224f7f1-0d68-4792-ad4c-e2d20f5d7767\">\n",
       "    <div class=\"colab-df-container\">\n",
       "      <div>\n",
       "<style scoped>\n",
       "    .dataframe tbody tr th:only-of-type {\n",
       "        vertical-align: middle;\n",
       "    }\n",
       "\n",
       "    .dataframe tbody tr th {\n",
       "        vertical-align: top;\n",
       "    }\n",
       "\n",
       "    .dataframe thead th {\n",
       "        text-align: right;\n",
       "    }\n",
       "</style>\n",
       "<table border=\"1\" class=\"dataframe\">\n",
       "  <thead>\n",
       "    <tr style=\"text-align: right;\">\n",
       "      <th></th>\n",
       "      <th>Constraint_type</th>\n",
       "      <th>Accuracy</th>\n",
       "      <th>FPR</th>\n",
       "      <th>FNR</th>\n",
       "    </tr>\n",
       "  </thead>\n",
       "  <tbody>\n",
       "    <tr>\n",
       "      <th>0</th>\n",
       "      <td>No Constraint</td>\n",
       "      <td>0.890561</td>\n",
       "      <td>0.064767</td>\n",
       "      <td>0.159420</td>\n",
       "    </tr>\n",
       "    <tr>\n",
       "      <th>1</th>\n",
       "      <td>Misclassification</td>\n",
       "      <td>0.891929</td>\n",
       "      <td>0.067358</td>\n",
       "      <td>0.153623</td>\n",
       "    </tr>\n",
       "    <tr>\n",
       "      <th>2</th>\n",
       "      <td>Only FPR</td>\n",
       "      <td>0.882353</td>\n",
       "      <td>0.059585</td>\n",
       "      <td>0.182609</td>\n",
       "    </tr>\n",
       "    <tr>\n",
       "      <th>3</th>\n",
       "      <td>Only FNR</td>\n",
       "      <td>0.880985</td>\n",
       "      <td>0.059585</td>\n",
       "      <td>0.185507</td>\n",
       "    </tr>\n",
       "    <tr>\n",
       "      <th>4</th>\n",
       "      <td>Both FPR and FNR</td>\n",
       "      <td>0.885089</td>\n",
       "      <td>0.075130</td>\n",
       "      <td>0.159420</td>\n",
       "    </tr>\n",
       "  </tbody>\n",
       "</table>\n",
       "</div>\n",
       "      <button class=\"colab-df-convert\" onclick=\"convertToInteractive('df-7224f7f1-0d68-4792-ad4c-e2d20f5d7767')\"\n",
       "              title=\"Convert this dataframe to an interactive table.\"\n",
       "              style=\"display:none;\">\n",
       "        \n",
       "  <svg xmlns=\"http://www.w3.org/2000/svg\" height=\"24px\"viewBox=\"0 0 24 24\"\n",
       "       width=\"24px\">\n",
       "    <path d=\"M0 0h24v24H0V0z\" fill=\"none\"/>\n",
       "    <path d=\"M18.56 5.44l.94 2.06.94-2.06 2.06-.94-2.06-.94-.94-2.06-.94 2.06-2.06.94zm-11 1L8.5 8.5l.94-2.06 2.06-.94-2.06-.94L8.5 2.5l-.94 2.06-2.06.94zm10 10l.94 2.06.94-2.06 2.06-.94-2.06-.94-.94-2.06-.94 2.06-2.06.94z\"/><path d=\"M17.41 7.96l-1.37-1.37c-.4-.4-.92-.59-1.43-.59-.52 0-1.04.2-1.43.59L10.3 9.45l-7.72 7.72c-.78.78-.78 2.05 0 2.83L4 21.41c.39.39.9.59 1.41.59.51 0 1.02-.2 1.41-.59l7.78-7.78 2.81-2.81c.8-.78.8-2.07 0-2.86zM5.41 20L4 18.59l7.72-7.72 1.47 1.35L5.41 20z\"/>\n",
       "  </svg>\n",
       "      </button>\n",
       "      \n",
       "  <style>\n",
       "    .colab-df-container {\n",
       "      display:flex;\n",
       "      flex-wrap:wrap;\n",
       "      gap: 12px;\n",
       "    }\n",
       "\n",
       "    .colab-df-convert {\n",
       "      background-color: #E8F0FE;\n",
       "      border: none;\n",
       "      border-radius: 50%;\n",
       "      cursor: pointer;\n",
       "      display: none;\n",
       "      fill: #1967D2;\n",
       "      height: 32px;\n",
       "      padding: 0 0 0 0;\n",
       "      width: 32px;\n",
       "    }\n",
       "\n",
       "    .colab-df-convert:hover {\n",
       "      background-color: #E2EBFA;\n",
       "      box-shadow: 0px 1px 2px rgba(60, 64, 67, 0.3), 0px 1px 3px 1px rgba(60, 64, 67, 0.15);\n",
       "      fill: #174EA6;\n",
       "    }\n",
       "\n",
       "    [theme=dark] .colab-df-convert {\n",
       "      background-color: #3B4455;\n",
       "      fill: #D2E3FC;\n",
       "    }\n",
       "\n",
       "    [theme=dark] .colab-df-convert:hover {\n",
       "      background-color: #434B5C;\n",
       "      box-shadow: 0px 1px 3px 1px rgba(0, 0, 0, 0.15);\n",
       "      filter: drop-shadow(0px 1px 2px rgba(0, 0, 0, 0.3));\n",
       "      fill: #FFFFFF;\n",
       "    }\n",
       "  </style>\n",
       "\n",
       "      <script>\n",
       "        const buttonEl =\n",
       "          document.querySelector('#df-7224f7f1-0d68-4792-ad4c-e2d20f5d7767 button.colab-df-convert');\n",
       "        buttonEl.style.display =\n",
       "          google.colab.kernel.accessAllowed ? 'block' : 'none';\n",
       "\n",
       "        async function convertToInteractive(key) {\n",
       "          const element = document.querySelector('#df-7224f7f1-0d68-4792-ad4c-e2d20f5d7767');\n",
       "          const dataTable =\n",
       "            await google.colab.kernel.invokeFunction('convertToInteractive',\n",
       "                                                     [key], {});\n",
       "          if (!dataTable) return;\n",
       "\n",
       "          const docLinkHtml = 'Like what you see? Visit the ' +\n",
       "            '<a target=\"_blank\" href=https://colab.research.google.com/notebooks/data_table.ipynb>data table notebook</a>'\n",
       "            + ' to learn more about interactive tables.';\n",
       "          element.innerHTML = '';\n",
       "          dataTable['output_type'] = 'display_data';\n",
       "          await google.colab.output.renderOutput(dataTable, element);\n",
       "          const docLink = document.createElement('div');\n",
       "          docLink.innerHTML = docLinkHtml;\n",
       "          element.appendChild(docLink);\n",
       "        }\n",
       "      </script>\n",
       "    </div>\n",
       "  </div>\n",
       "  "
      ],
      "text/plain": [
       "     Constraint_type  Accuracy       FPR       FNR\n",
       "0      No Constraint  0.890561  0.064767  0.159420\n",
       "1  Misclassification  0.891929  0.067358  0.153623\n",
       "2           Only FPR  0.882353  0.059585  0.182609\n",
       "3           Only FNR  0.880985  0.059585  0.185507\n",
       "4   Both FPR and FNR  0.885089  0.075130  0.159420"
      ]
     },
     "execution_count": 151,
     "metadata": {},
     "output_type": "execute_result"
    }
   ],
   "source": [
    "summary_W"
   ]
  },
  {
   "cell_type": "code",
   "execution_count": 152,
   "metadata": {
    "colab": {
     "base_uri": "https://localhost:8080/",
     "height": 206
    },
    "executionInfo": {
     "elapsed": 7,
     "status": "ok",
     "timestamp": 1681311944132,
     "user": {
      "displayName": "Liang Hu",
      "userId": "05665141676566184070"
     },
     "user_tz": 240
    },
    "id": "TQ_hVvbpdVyV",
    "outputId": "5456f69f-48c4-4123-a6d7-88d172582b89"
   },
   "outputs": [
    {
     "data": {
      "text/html": [
       "\n",
       "  <div id=\"df-de6b7c0e-2e4e-4620-b69d-a98ace68f9f4\">\n",
       "    <div class=\"colab-df-container\">\n",
       "      <div>\n",
       "<style scoped>\n",
       "    .dataframe tbody tr th:only-of-type {\n",
       "        vertical-align: middle;\n",
       "    }\n",
       "\n",
       "    .dataframe tbody tr th {\n",
       "        vertical-align: top;\n",
       "    }\n",
       "\n",
       "    .dataframe thead th {\n",
       "        text-align: right;\n",
       "    }\n",
       "</style>\n",
       "<table border=\"1\" class=\"dataframe\">\n",
       "  <thead>\n",
       "    <tr style=\"text-align: right;\">\n",
       "      <th></th>\n",
       "      <th>Constraint_type</th>\n",
       "      <th>Accuracy</th>\n",
       "      <th>FPR</th>\n",
       "      <th>FNR</th>\n",
       "    </tr>\n",
       "  </thead>\n",
       "  <tbody>\n",
       "    <tr>\n",
       "      <th>0</th>\n",
       "      <td>No Constraint</td>\n",
       "      <td>0.923848</td>\n",
       "      <td>0.035144</td>\n",
       "      <td>0.145161</td>\n",
       "    </tr>\n",
       "    <tr>\n",
       "      <th>1</th>\n",
       "      <td>Misclassification</td>\n",
       "      <td>0.925852</td>\n",
       "      <td>0.028754</td>\n",
       "      <td>0.150538</td>\n",
       "    </tr>\n",
       "    <tr>\n",
       "      <th>2</th>\n",
       "      <td>Only FPR</td>\n",
       "      <td>0.907816</td>\n",
       "      <td>0.083067</td>\n",
       "      <td>0.107527</td>\n",
       "    </tr>\n",
       "    <tr>\n",
       "      <th>3</th>\n",
       "      <td>Only FNR</td>\n",
       "      <td>0.919840</td>\n",
       "      <td>0.041534</td>\n",
       "      <td>0.145161</td>\n",
       "    </tr>\n",
       "    <tr>\n",
       "      <th>4</th>\n",
       "      <td>Both FPR and FNR</td>\n",
       "      <td>0.899800</td>\n",
       "      <td>0.086262</td>\n",
       "      <td>0.123656</td>\n",
       "    </tr>\n",
       "  </tbody>\n",
       "</table>\n",
       "</div>\n",
       "      <button class=\"colab-df-convert\" onclick=\"convertToInteractive('df-de6b7c0e-2e4e-4620-b69d-a98ace68f9f4')\"\n",
       "              title=\"Convert this dataframe to an interactive table.\"\n",
       "              style=\"display:none;\">\n",
       "        \n",
       "  <svg xmlns=\"http://www.w3.org/2000/svg\" height=\"24px\"viewBox=\"0 0 24 24\"\n",
       "       width=\"24px\">\n",
       "    <path d=\"M0 0h24v24H0V0z\" fill=\"none\"/>\n",
       "    <path d=\"M18.56 5.44l.94 2.06.94-2.06 2.06-.94-2.06-.94-.94-2.06-.94 2.06-2.06.94zm-11 1L8.5 8.5l.94-2.06 2.06-.94-2.06-.94L8.5 2.5l-.94 2.06-2.06.94zm10 10l.94 2.06.94-2.06 2.06-.94-2.06-.94-.94-2.06-.94 2.06-2.06.94z\"/><path d=\"M17.41 7.96l-1.37-1.37c-.4-.4-.92-.59-1.43-.59-.52 0-1.04.2-1.43.59L10.3 9.45l-7.72 7.72c-.78.78-.78 2.05 0 2.83L4 21.41c.39.39.9.59 1.41.59.51 0 1.02-.2 1.41-.59l7.78-7.78 2.81-2.81c.8-.78.8-2.07 0-2.86zM5.41 20L4 18.59l7.72-7.72 1.47 1.35L5.41 20z\"/>\n",
       "  </svg>\n",
       "      </button>\n",
       "      \n",
       "  <style>\n",
       "    .colab-df-container {\n",
       "      display:flex;\n",
       "      flex-wrap:wrap;\n",
       "      gap: 12px;\n",
       "    }\n",
       "\n",
       "    .colab-df-convert {\n",
       "      background-color: #E8F0FE;\n",
       "      border: none;\n",
       "      border-radius: 50%;\n",
       "      cursor: pointer;\n",
       "      display: none;\n",
       "      fill: #1967D2;\n",
       "      height: 32px;\n",
       "      padding: 0 0 0 0;\n",
       "      width: 32px;\n",
       "    }\n",
       "\n",
       "    .colab-df-convert:hover {\n",
       "      background-color: #E2EBFA;\n",
       "      box-shadow: 0px 1px 2px rgba(60, 64, 67, 0.3), 0px 1px 3px 1px rgba(60, 64, 67, 0.15);\n",
       "      fill: #174EA6;\n",
       "    }\n",
       "\n",
       "    [theme=dark] .colab-df-convert {\n",
       "      background-color: #3B4455;\n",
       "      fill: #D2E3FC;\n",
       "    }\n",
       "\n",
       "    [theme=dark] .colab-df-convert:hover {\n",
       "      background-color: #434B5C;\n",
       "      box-shadow: 0px 1px 3px 1px rgba(0, 0, 0, 0.15);\n",
       "      filter: drop-shadow(0px 1px 2px rgba(0, 0, 0, 0.3));\n",
       "      fill: #FFFFFF;\n",
       "    }\n",
       "  </style>\n",
       "\n",
       "      <script>\n",
       "        const buttonEl =\n",
       "          document.querySelector('#df-de6b7c0e-2e4e-4620-b69d-a98ace68f9f4 button.colab-df-convert');\n",
       "        buttonEl.style.display =\n",
       "          google.colab.kernel.accessAllowed ? 'block' : 'none';\n",
       "\n",
       "        async function convertToInteractive(key) {\n",
       "          const element = document.querySelector('#df-de6b7c0e-2e4e-4620-b69d-a98ace68f9f4');\n",
       "          const dataTable =\n",
       "            await google.colab.kernel.invokeFunction('convertToInteractive',\n",
       "                                                     [key], {});\n",
       "          if (!dataTable) return;\n",
       "\n",
       "          const docLinkHtml = 'Like what you see? Visit the ' +\n",
       "            '<a target=\"_blank\" href=https://colab.research.google.com/notebooks/data_table.ipynb>data table notebook</a>'\n",
       "            + ' to learn more about interactive tables.';\n",
       "          element.innerHTML = '';\n",
       "          dataTable['output_type'] = 'display_data';\n",
       "          await google.colab.output.renderOutput(dataTable, element);\n",
       "          const docLink = document.createElement('div');\n",
       "          docLink.innerHTML = docLinkHtml;\n",
       "          element.appendChild(docLink);\n",
       "        }\n",
       "      </script>\n",
       "    </div>\n",
       "  </div>\n",
       "  "
      ],
      "text/plain": [
       "     Constraint_type  Accuracy       FPR       FNR\n",
       "0      No Constraint  0.923848  0.035144  0.145161\n",
       "1  Misclassification  0.925852  0.028754  0.150538\n",
       "2           Only FPR  0.907816  0.083067  0.107527\n",
       "3           Only FNR  0.919840  0.041534  0.145161\n",
       "4   Both FPR and FNR  0.899800  0.086262  0.123656"
      ]
     },
     "execution_count": 152,
     "metadata": {},
     "output_type": "execute_result"
    }
   ],
   "source": [
    "summary_B"
   ]
  },
  {
   "cell_type": "code",
   "execution_count": 153,
   "metadata": {
    "executionInfo": {
     "elapsed": 5,
     "status": "ok",
     "timestamp": 1681311944132,
     "user": {
      "displayName": "Liang Hu",
      "userId": "05665141676566184070"
     },
     "user_tz": 240
    },
    "id": "E_aNr5V4dDiR"
   },
   "outputs": [],
   "source": [
    "def compute_metrics(fpr, fnr):\n",
    "    tn = 1 - fpr\n",
    "    tp = 1 - fnr\n",
    "    recall = tp / (tp + fnr)\n",
    "    precision = tp / (tp + fpr * tn)\n",
    "    f1_score = 2 * precision * recall / (precision + recall)\n",
    "    return recall, f1_score\n"
   ]
  },
  {
   "cell_type": "code",
   "execution_count": 154,
   "metadata": {
    "colab": {
     "base_uri": "https://localhost:8080/",
     "height": 0
    },
    "executionInfo": {
     "elapsed": 5,
     "status": "ok",
     "timestamp": 1681311944132,
     "user": {
      "displayName": "Liang Hu",
      "userId": "05665141676566184070"
     },
     "user_tz": 240
    },
    "id": "xPFBO7bmdH_h",
    "outputId": "7575297d-92e0-4f0b-d0dd-6521f3885c7d"
   },
   "outputs": [
    {
     "name": "stdout",
     "output_type": "stream",
     "text": [
      "Recall: 0.84, F1 Score: 0.88\n"
     ]
    }
   ],
   "source": [
    "fpr = 0.064767\n",
    "fnr = 0.159420\n",
    "# 0.064767\t0.159420\n",
    "recall, f1_score = compute_metrics(fpr, fnr)\n",
    "print(\"Recall: {:.2f}, F1 Score: {:.2f}\".format(recall, f1_score))"
   ]
  },
  {
   "cell_type": "markdown",
   "metadata": {
    "id": "iiMfJFApaqpT"
   },
   "source": [
    "### A4-Disparate Mistreatment Sensitive (DM-Sen)"
   ]
  },
  {
   "cell_type": "code",
   "execution_count": 17,
   "metadata": {
    "colab": {
     "base_uri": "https://localhost:8080/",
     "height": 0
    },
    "executionInfo": {
     "elapsed": 9925,
     "status": "ok",
     "timestamp": 1681309056128,
     "user": {
      "displayName": "Liang Hu",
      "userId": "05665141676566184070"
     },
     "user_tz": 240
    },
    "id": "sX1qhlDo1At7",
    "outputId": "ad49fb0e-d9aa-403e-f030-b3fda3875a18"
   },
   "outputs": [
    {
     "name": "stdout",
     "output_type": "stream",
     "text": [
      "--2023-04-12 14:17:26--  https://files.pythonhosted.org/packages/source/d/dccp/dccp-1.0.4.tar.gz\n",
      "Resolving files.pythonhosted.org (files.pythonhosted.org)... 151.101.1.63, 151.101.65.63, 151.101.129.63, ...\n",
      "Connecting to files.pythonhosted.org (files.pythonhosted.org)|151.101.1.63|:443... connected.\n",
      "HTTP request sent, awaiting response... 302 Found\n",
      "Location: https://files.pythonhosted.org/packages/b8/99/c0baff4de0ba858b2a2c8caab887afa123ddbd4cdec9187bbd4c1ae5d28e/dccp-1.0.4.tar.gz [following]\n",
      "--2023-04-12 14:17:26--  https://files.pythonhosted.org/packages/b8/99/c0baff4de0ba858b2a2c8caab887afa123ddbd4cdec9187bbd4c1ae5d28e/dccp-1.0.4.tar.gz\n",
      "Reusing existing connection to files.pythonhosted.org:443.\n",
      "HTTP request sent, awaiting response... 200 OK\n",
      "Length: 8025 (7.8K) [application/x-tar]\n",
      "Saving to: ‘dccp-1.0.4.tar.gz’\n",
      "\n",
      "\r",
      "dccp-1.0.4.tar.gz     0%[                    ]       0  --.-KB/s               \r",
      "dccp-1.0.4.tar.gz   100%[===================>]   7.84K  --.-KB/s    in 0s      \n",
      "\n",
      "2023-04-12 14:17:26 (54.8 MB/s) - ‘dccp-1.0.4.tar.gz’ saved [8025/8025]\n",
      "\n",
      "/content/dccp-1.0.4\n",
      "running install\n",
      "/usr/local/lib/python3.9/dist-packages/setuptools/command/install.py:34: SetuptoolsDeprecationWarning: setup.py install is deprecated. Use build and pip and other standards-based tools.\n",
      "  warnings.warn(\n",
      "/usr/local/lib/python3.9/dist-packages/setuptools/command/easy_install.py:144: EasyInstallDeprecationWarning: easy_install command is deprecated. Use build and pip and other standards-based tools.\n",
      "  warnings.warn(\n",
      "running bdist_egg\n",
      "running egg_info\n",
      "writing dccp.egg-info/PKG-INFO\n",
      "writing dependency_links to dccp.egg-info/dependency_links.txt\n",
      "writing requirements to dccp.egg-info/requires.txt\n",
      "writing top-level names to dccp.egg-info/top_level.txt\n",
      "reading manifest file 'dccp.egg-info/SOURCES.txt'\n",
      "writing manifest file 'dccp.egg-info/SOURCES.txt'\n",
      "installing library code to build/bdist.linux-x86_64/egg\n",
      "running install_lib\n",
      "running build_py\n",
      "creating build\n",
      "creating build/lib\n",
      "creating build/lib/dccp\n",
      "copying dccp/__init__.py -> build/lib/dccp\n",
      "copying dccp/constraint.py -> build/lib/dccp\n",
      "copying dccp/problem.py -> build/lib/dccp\n",
      "copying dccp/linearize.py -> build/lib/dccp\n",
      "copying dccp/objective.py -> build/lib/dccp\n",
      "creating build/bdist.linux-x86_64\n",
      "creating build/bdist.linux-x86_64/egg\n",
      "creating build/bdist.linux-x86_64/egg/dccp\n",
      "copying build/lib/dccp/__init__.py -> build/bdist.linux-x86_64/egg/dccp\n",
      "copying build/lib/dccp/constraint.py -> build/bdist.linux-x86_64/egg/dccp\n",
      "copying build/lib/dccp/problem.py -> build/bdist.linux-x86_64/egg/dccp\n",
      "copying build/lib/dccp/linearize.py -> build/bdist.linux-x86_64/egg/dccp\n",
      "copying build/lib/dccp/objective.py -> build/bdist.linux-x86_64/egg/dccp\n",
      "byte-compiling build/bdist.linux-x86_64/egg/dccp/__init__.py to __init__.cpython-39.pyc\n",
      "byte-compiling build/bdist.linux-x86_64/egg/dccp/constraint.py to constraint.cpython-39.pyc\n",
      "byte-compiling build/bdist.linux-x86_64/egg/dccp/problem.py to problem.cpython-39.pyc\n",
      "byte-compiling build/bdist.linux-x86_64/egg/dccp/linearize.py to linearize.cpython-39.pyc\n",
      "byte-compiling build/bdist.linux-x86_64/egg/dccp/objective.py to objective.cpython-39.pyc\n",
      "creating build/bdist.linux-x86_64/egg/EGG-INFO\n",
      "copying dccp.egg-info/PKG-INFO -> build/bdist.linux-x86_64/egg/EGG-INFO\n",
      "copying dccp.egg-info/SOURCES.txt -> build/bdist.linux-x86_64/egg/EGG-INFO\n",
      "copying dccp.egg-info/dependency_links.txt -> build/bdist.linux-x86_64/egg/EGG-INFO\n",
      "copying dccp.egg-info/not-zip-safe -> build/bdist.linux-x86_64/egg/EGG-INFO\n",
      "copying dccp.egg-info/pbr.json -> build/bdist.linux-x86_64/egg/EGG-INFO\n",
      "copying dccp.egg-info/requires.txt -> build/bdist.linux-x86_64/egg/EGG-INFO\n",
      "copying dccp.egg-info/top_level.txt -> build/bdist.linux-x86_64/egg/EGG-INFO\n",
      "creating dist\n",
      "creating 'dist/dccp-1.0.4-py3.9.egg' and adding 'build/bdist.linux-x86_64/egg' to it\n",
      "removing 'build/bdist.linux-x86_64/egg' (and everything under it)\n",
      "Processing dccp-1.0.4-py3.9.egg\n",
      "creating /usr/local/lib/python3.9/dist-packages/dccp-1.0.4-py3.9.egg\n",
      "Extracting dccp-1.0.4-py3.9.egg to /usr/local/lib/python3.9/dist-packages\n",
      "Adding dccp 1.0.4 to easy-install.pth file\n",
      "\n",
      "Installed /usr/local/lib/python3.9/dist-packages/dccp-1.0.4-py3.9.egg\n",
      "Processing dependencies for dccp==1.0.4\n",
      "Searching for cvxpy==1.3.1\n",
      "Best match: cvxpy 1.3.1\n",
      "Adding cvxpy 1.3.1 to easy-install.pth file\n",
      "\n",
      "Using /usr/local/lib/python3.9/dist-packages\n",
      "Searching for setuptools==67.6.1\n",
      "Best match: setuptools 67.6.1\n",
      "Adding setuptools 67.6.1 to easy-install.pth file\n",
      "\n",
      "Using /usr/local/lib/python3.9/dist-packages\n",
      "Searching for scipy==1.10.1\n",
      "Best match: scipy 1.10.1\n",
      "Adding scipy 1.10.1 to easy-install.pth file\n",
      "\n",
      "Using /usr/local/lib/python3.9/dist-packages\n",
      "Searching for numpy==1.22.4\n",
      "Best match: numpy 1.22.4\n",
      "Adding numpy 1.22.4 to easy-install.pth file\n",
      "Installing f2py script to /usr/local/bin\n",
      "Installing f2py3 script to /usr/local/bin\n",
      "Installing f2py3.9 script to /usr/local/bin\n",
      "\n",
      "Using /usr/local/lib/python3.9/dist-packages\n",
      "Searching for scs==3.2.3\n",
      "Best match: scs 3.2.3\n",
      "Adding scs 3.2.3 to easy-install.pth file\n",
      "\n",
      "Using /usr/local/lib/python3.9/dist-packages\n",
      "Searching for ecos==2.0.12\n",
      "Best match: ecos 2.0.12\n",
      "Adding ecos 2.0.12 to easy-install.pth file\n",
      "\n",
      "Using /usr/local/lib/python3.9/dist-packages\n",
      "Searching for osqp==0.6.2.post0\n",
      "Best match: osqp 0.6.2.post0\n",
      "Adding osqp 0.6.2.post0 to easy-install.pth file\n",
      "\n",
      "Using /usr/local/lib/python3.9/dist-packages\n",
      "Searching for qdldl==0.1.7\n",
      "Best match: qdldl 0.1.7\n",
      "Adding qdldl 0.1.7 to easy-install.pth file\n",
      "\n",
      "Using /usr/local/lib/python3.9/dist-packages\n",
      "Finished processing dependencies for dccp==1.0.4\n",
      "Looking in indexes: https://pypi.org/simple, https://us-python.pkg.dev/colab-wheels/public/simple/\n",
      "Collecting utils\n",
      "  Downloading utils-1.0.1-py2.py3-none-any.whl (21 kB)\n",
      "Installing collected packages: utils\n",
      "Successfully installed utils-1.0.1\n"
     ]
    }
   ],
   "source": [
    "#downloading dccp package\n",
    "\n",
    "!wget https://files.pythonhosted.org/packages/source/d/dccp/dccp-1.0.4.tar.gz\n",
    "!tar -xf dccp-1.0.4.tar.gz\n",
    "%cd dccp-1.0.4/\n",
    "!sed -i 's/use_2to3=True,//g' setup.py\n",
    "!python setup.py install\n",
    "!pip install utils"
   ]
  },
  {
   "cell_type": "code",
   "execution_count": 18,
   "metadata": {
    "executionInfo": {
     "elapsed": 1947,
     "status": "ok",
     "timestamp": 1681309067786,
     "user": {
      "displayName": "Liang Hu",
      "userId": "05665141676566184070"
     },
     "user_tz": 240
    },
    "id": "jlFQNIkt09Ue"
   },
   "outputs": [],
   "source": [
    "import numpy as np\n",
    "import pandas as pd\n",
    "import matplotlib.pyplot as plt\n",
    "import seaborn as sns\n",
    "import traceback\n",
    "import dccp\n",
    "from copy import deepcopy\n",
    "from sklearn.model_selection import train_test_split\n",
    "from sklearn.preprocessing import StandardScaler, MinMaxScaler, OrdinalEncoder, OneHotEncoder\n",
    "from sklearn.pipeline import make_pipeline\n",
    "import cvxpy\n",
    "import sys\n",
    "import os\n",
    "from sklearn import preprocessing\n",
    "from sklearn.compose import ColumnTransformer"
   ]
  },
  {
   "cell_type": "code",
   "execution_count": 19,
   "metadata": {
    "colab": {
     "base_uri": "https://localhost:8080/",
     "height": 143
    },
    "executionInfo": {
     "elapsed": 3,
     "status": "ok",
     "timestamp": 1681309068059,
     "user": {
      "displayName": "Liang Hu",
      "userId": "05665141676566184070"
     },
     "user_tz": 240
    },
    "id": "rvDiGYk1a23I",
    "outputId": "07f87153-4830-4bde-8047-ed965a9dd06e"
   },
   "outputs": [
    {
     "data": {
      "application/vnd.google.colaboratory.intrinsic+json": {
       "type": "string"
      },
      "text/plain": [
       "'\\nurl=\"https://github.com/propublica/compas-analysis/raw/master/compas-scores-two-years.csv\"\\nodf = pd.read_csv(url)\\nodf = odf.loc[(odf.race==\"African-American\")|(odf.race==\"Caucasian\")]\\nodf.reset_index(drop=True,inplace=True)\\n\\n\\nfeature = [\\'sex\\', \\'age\\', \\'race\\', \\'decile_score\\', \\'priors_count\\', \\'c_charge_degree\\', \\'score_text\\',\\'two_year_recid\\']\\n\\ncat_feature = [\\'sex\\', \\'c_charge_degree\\', \\'score_text\\']\\ncon_feature = [\\'age\\', \\'decile_score\\', \\'priors_count\\']\\nlabel = \\'two_year_recid\\'\\nsensitive_feature = \\'race\\'\\n\\ndf=odf.loc[:, feature]\\n\\ndf.loc[df[\\'two_year_recid\\'] == 0, \\'two_year_recid\\'] = -1\\ndf.loc[df[\\'two_year_recid\\'] == 1, \\'two_year_recid\\'] =  1\\n\\n# As the requirement from project, we encode \"race\" with 0 if the defendant\\'s race is African American and with 1 if the defendant\\'s race is Caucasian.\\ndf.loc[df[\\'race\\'] == \\'African-American\\', \\'race\\'] = 0\\ndf.loc[df[\\'race\\'] == \\'Caucasian\\',        \\'race\\'] = 1\\n\\n\\nimputer = make_pipeline(StandardScaler())\\n\\nx_encoded = pd.get_dummies(df, columns=cat_feature)\\nx_con   = df.loc[:, con_feature]\\nmean_values = x_con.mean()\\nx_con = x_con.fillna(mean_values)\\n\\nX = pd.concat([x_con, x_encoded], axis=1)\\nX_sen=pd.concat([X, df[sensitive_feature]], axis=1)\\n\\nX_sen = imputer.fit_transform(X_sen)\\nIN_S = np.ones((X_sen.shape[0], 1))\\nX_sen = np.hstack((X_sen, IN_S))\\n\\nX = imputer.fit_transform(X)\\nIN = np.ones((X.shape[0], 1))\\nX = np.hstack((X, IN))\\n\\nY = np.array(df[label])\\nZ = np.array(df[sensitive_feature])\\n\\nprint(X.shape, X_sen.shape, Y.shape, Z.shape)\\n\\nX_train,     X_test,     y_train,     y_test,     x_race_train,     x_race_test = train_test_split(X,Y,Z,test_size=0.2,random_state=5243)\\nX_train_sen, X_test_sen, y_train_sen, y_test_sen, x_race_train_sen, x_race_test_sen = train_test_split(X_sen,Y,Z,test_size=0.2,random_state=5243)\\n\\n'"
      ]
     },
     "execution_count": 19,
     "metadata": {},
     "output_type": "execute_result"
    }
   ],
   "source": [
    "#Jason's Data\n",
    "'''\n",
    "url=\"https://github.com/propublica/compas-analysis/raw/master/compas-scores-two-years.csv\"\n",
    "odf = pd.read_csv(url)\n",
    "odf = odf.loc[(odf.race==\"African-American\")|(odf.race==\"Caucasian\")]\n",
    "odf.reset_index(drop=True,inplace=True)\n",
    "\n",
    "\n",
    "feature = ['sex', 'age', 'race', 'decile_score', 'priors_count', 'c_charge_degree', 'score_text','two_year_recid']\n",
    "\n",
    "cat_feature = ['sex', 'c_charge_degree', 'score_text']\n",
    "con_feature = ['age', 'decile_score', 'priors_count']\n",
    "label = 'two_year_recid'\n",
    "sensitive_feature = 'race'\n",
    "\n",
    "df=odf.loc[:, feature]\n",
    "\n",
    "df.loc[df['two_year_recid'] == 0, 'two_year_recid'] = -1\n",
    "df.loc[df['two_year_recid'] == 1, 'two_year_recid'] =  1\n",
    "\n",
    "# As the requirement from project, we encode \"race\" with 0 if the defendant's race is African American and with 1 if the defendant's race is Caucasian.\n",
    "df.loc[df['race'] == 'African-American', 'race'] = 0\n",
    "df.loc[df['race'] == 'Caucasian',        'race'] = 1\n",
    "\n",
    "\n",
    "imputer = make_pipeline(StandardScaler())\n",
    "\n",
    "x_encoded = pd.get_dummies(df, columns=cat_feature)\n",
    "x_con   = df.loc[:, con_feature]\n",
    "mean_values = x_con.mean()\n",
    "x_con = x_con.fillna(mean_values)\n",
    "\n",
    "X = pd.concat([x_con, x_encoded], axis=1)\n",
    "X_sen=pd.concat([X, df[sensitive_feature]], axis=1)\n",
    "\n",
    "X_sen = imputer.fit_transform(X_sen)\n",
    "IN_S = np.ones((X_sen.shape[0], 1))\n",
    "X_sen = np.hstack((X_sen, IN_S))\n",
    "\n",
    "X = imputer.fit_transform(X)\n",
    "IN = np.ones((X.shape[0], 1))\n",
    "X = np.hstack((X, IN))\n",
    "\n",
    "Y = np.array(df[label])\n",
    "Z = np.array(df[sensitive_feature])\n",
    "\n",
    "print(X.shape, X_sen.shape, Y.shape, Z.shape)\n",
    "\n",
    "X_train,     X_test,     y_train,     y_test,     x_race_train,     x_race_test = train_test_split(X,Y,Z,test_size=0.2,random_state=5243)\n",
    "X_train_sen, X_test_sen, y_train_sen, y_test_sen, x_race_train_sen, x_race_test_sen = train_test_split(X_sen,Y,Z,test_size=0.2,random_state=5243)\n",
    "\n",
    "'''"
   ]
  },
  {
   "cell_type": "code",
   "execution_count": 21,
   "metadata": {
    "executionInfo": {
     "elapsed": 1374,
     "status": "ok",
     "timestamp": 1681309074310,
     "user": {
      "displayName": "Liang Hu",
      "userId": "05665141676566184070"
     },
     "user_tz": 240
    },
    "id": "uV381YqN0L_2"
   },
   "outputs": [],
   "source": [
    "def data_preprocessing(df):\n",
    "    df = df.dropna(subset=[\"days_b_screening_arrest\"]).loc[:,features + [predicted_feature]].query('race in [\"African-American\",\"Caucasian\"]')\n",
    "\n",
    "    data = df.to_dict('list')\n",
    "    for k in data.keys():\n",
    "        data[k] = np.array(data[k])\n",
    "\n",
    "    y = data[predicted_feature]\n",
    "    y[y==0] = -1\n",
    "\n",
    "\n",
    "    X = np.array([]).reshape(len(y), 0) # empty array with num rows same as num examples, will hstack the features to it\n",
    "    x_sensitive_feature = None\n",
    "\n",
    "    feature_names = []\n",
    "    for feature in features:\n",
    "        vals = data[feature]\n",
    "        if feature in cont_features:\n",
    "            vals = [float(v) for v in vals]\n",
    "            vals = preprocessing.scale(vals) \n",
    "            vals = np.reshape(vals, (len(y), -1)) \n",
    "\n",
    "        else: \n",
    "            lb = preprocessing.LabelBinarizer()\n",
    "            lb.fit(vals)\n",
    "            vals = lb.transform(vals)\n",
    "\n",
    "        if feature == sensitive_feature:\n",
    "            x_sensitive_feature = vals\n",
    "\n",
    "\n",
    "        X = np.hstack((X, vals))\n",
    "\n",
    "        if feature in cont_features: \n",
    "            feature_names.append(feature)\n",
    "        else: \n",
    "            if vals.shape[1] == 1: \n",
    "                feature_names.append(feature)\n",
    "            else:\n",
    "                for k in lb.classes_: \n",
    "                    feature_names.append(feature + \"_\" + str(k))\n",
    "\n",
    "    x_sensitive_feature = np.array(x_sensitive_feature).flatten()\n",
    "    X = np.concatenate((np.ones(X.shape[0]).reshape(X.shape[0], 1), X), axis = 1)\n",
    "\n",
    "    feature_names = [\"intercept\"] + feature_names\n",
    "    print(f\"Features we will be using for classification are: {feature_names}\")\n",
    "\n",
    "\n",
    "    return X, y, x_sensitive_feature"
   ]
  },
  {
   "cell_type": "code",
   "execution_count": 22,
   "metadata": {
    "colab": {
     "base_uri": "https://localhost:8080/",
     "height": 0
    },
    "executionInfo": {
     "elapsed": 672,
     "status": "ok",
     "timestamp": 1681309081355,
     "user": {
      "displayName": "Liang Hu",
      "userId": "05665141676566184070"
     },
     "user_tz": 240
    },
    "id": "QDt1tszS0RPQ",
    "outputId": "b90a066a-1c03-48c7-8242-8a8f9aa2b6c4"
   },
   "outputs": [
    {
     "name": "stdout",
     "output_type": "stream",
     "text": [
      "Features we will be using for classification are: ['intercept', 'age_cat_25 - 45', 'age_cat_Greater than 45', 'age_cat_Less than 25', 'race', 'sex', 'priors_count', 'c_charge_degree', 'score_text_High', 'score_text_Low', 'score_text_Medium']\n",
      "[[1. 1. 0. ... 0. 1. 0.]\n",
      " [1. 0. 0. ... 0. 1. 0.]\n",
      " [1. 1. 0. ... 0. 0. 1.]\n",
      " ...\n",
      " [1. 0. 0. ... 0. 0. 1.]\n",
      " [1. 0. 0. ... 0. 1. 0.]\n",
      " [1. 1. 0. ... 0. 1. 0.]] [ 1  1  1 ... -1 -1 -1] [0 0 1 ... 0 0 0]\n",
      "(4732, 11) (1183, 11) (5915, 11) (5915, 12)\n"
     ]
    }
   ],
   "source": [
    "url = \"https://raw.githubusercontent.com/propublica/compas-analysis/master/compas-scores-two-years.csv\"\n",
    "origin_df = pd.read_csv(url)\n",
    "df = origin_df.loc[:,['sex', 'age_cat', 'race', 'decile_score', 'priors_count', \"score_text\", 'c_charge_degree', 'two_year_recid']].query('race in [\"African-American\",\"Caucasian\"]')\n",
    "df.reset_index(drop=True,inplace=True)\n",
    "\n",
    "\n",
    "features = [\"age_cat\", \"race\", \"sex\", \"priors_count\", \"c_charge_degree\", \"score_text\"]\n",
    "cont_features = [\"priors_count\"]\n",
    "predicted_feature = \"two_year_recid\"\n",
    "sensitive_feature = \"race\"\n",
    "\n",
    "X,y,x_race = data_preprocessing(origin_df)\n",
    "z=np.array(x_race).reshape(-1, 1)\n",
    "X_sen=np.append(X, z, axis=1)\n",
    "print(X,y,x_race)\n",
    "\n",
    "X_train,X_test,y_train,y_test,x_race_train,x_race_test = train_test_split(X,y,x_race,test_size=0.2,random_state=5243)\n",
    "X_train_sen,X_test_sen,y_train_sen,y_test_sen,x_race_train_sen,x_race_test_sen = train_test_split(X_sen,y,x_race,test_size=0.2,random_state=5243)\n",
    "print(X_train.shape,X_test.shape,X.shape, X_sen.shape)"
   ]
  },
  {
   "cell_type": "code",
   "execution_count": 23,
   "metadata": {
    "executionInfo": {
     "elapsed": 169,
     "status": "ok",
     "timestamp": 1681309097121,
     "user": {
      "displayName": "Liang Hu",
      "userId": "05665141676566184070"
     },
     "user_tz": 240
    },
    "id": "Oq0GIwUQ1KFH"
   },
   "outputs": [],
   "source": [
    "def get_constraint_list_cov(x_train, y_train, x_control_train, sensitive_attrs_to_cov_thresh, cons_type, w):\n",
    "\n",
    "    \"\"\"\n",
    "    get the list of constraints to be fed to the minimizer\n",
    "    cons_type == 0: means the whole combined misclassification constraint (without FNR or FPR)\n",
    "    cons_type == 1: FPR constraint\n",
    "    cons_type == 2: FNR constraint\n",
    "    cons_type == 4: both FPR as well as FNR constraints\n",
    "    sensitive_attrs_to_cov_thresh: is a dict like {s: {cov_type: val}}\n",
    "    s is the sensitive attr\n",
    "    cov_type is the covariance type. contains the covariance for all misclassifications, FPR and for FNR etc\n",
    "    \"\"\"\n",
    "\n",
    "    constraints = []\n",
    "\n",
    "    attr_arr = x_control_train\n",
    "    attr_arr_transformed, index_dict = get_one_hot_encoding(attr_arr)\n",
    "            \n",
    "    if index_dict is None: # binary attribute, in this case, the attr_arr_transformed is the same as the attr_arr\n",
    "\n",
    "        s_val_to_total = {ct:{} for ct in [0,1,2]} # constrain type -> sens_attr_val -> total number\n",
    "        s_val_to_avg = {ct:{} for ct in [0,1,2]}\n",
    "        cons_sum_dict = {ct:{} for ct in [0,1,2]} # sum of entities (females and males) in constraints are stored here\n",
    "\n",
    "        for v in set(attr_arr):\n",
    "            s_val_to_total[0][v] = sum(x_control_train == v)\n",
    "            s_val_to_total[1][v] = sum(np.logical_and(x_control_train == v, y_train == -1)) # FPR constraint so we only consider the ground truth negative dataset for computing the covariance\n",
    "            s_val_to_total[2][v] = sum(np.logical_and(x_control_train == v, y_train == +1))\n",
    "\n",
    "\n",
    "        for ct in [0,1,2]:\n",
    "            s_val_to_avg[ct][0] = s_val_to_total[ct][1] / float(s_val_to_total[ct][0] + s_val_to_total[ct][1]) # N1/N in our formulation, differs from one constraint type to another\n",
    "            s_val_to_avg[ct][1] = 1.0 - s_val_to_avg[ct][0] # N0/N\n",
    "\n",
    "        \n",
    "        for v in set(attr_arr):\n",
    "\n",
    "            idx = x_control_train == v                \n",
    "\n",
    "            dist_bound_prod = cvxpy.multiply(y_train[idx], x_train[idx] * w) # y.f(x)\n",
    "            \n",
    "            cons_sum_dict[0][v] = cvxpy.sum( cvxpy.minimum(0, dist_bound_prod) ) * (s_val_to_avg[0][v] / len(x_train)) # avg misclassification distance from boundary\n",
    "            cons_sum_dict[1][v] = cvxpy.sum( cvxpy.minimum(0, cvxpy.multiply( (1 - y_train[idx])/2.0, dist_bound_prod) ) ) * (s_val_to_avg[1][v] / sum(y_train == -1)) # avg false positive distance from boundary (only operates on the ground truth neg dataset)\n",
    "            cons_sum_dict[2][v] = cvxpy.sum( cvxpy.minimum(0, cvxpy.multiply( (1 + y_train[idx])/2.0, dist_bound_prod) ) ) * (s_val_to_avg[2][v] / sum(y_train == +1)) # avg false negative distance from boundary\n",
    "\n",
    "            \n",
    "        if cons_type == 4:\n",
    "            cts = [1,2]\n",
    "        elif cons_type in [0,1,2]:\n",
    "            cts = [cons_type]\n",
    "        \n",
    "        else:\n",
    "            raise Exception(\"Invalid constraint type\")\n",
    "\n",
    "\n",
    "        for ct in cts:\n",
    "            thresh = abs(sensitive_attrs_to_cov_thresh[ct][1] - sensitive_attrs_to_cov_thresh[ct][0])\n",
    "            constraints.append( cons_sum_dict[ct][1] <= cons_sum_dict[ct][0]  + thresh )\n",
    "            constraints.append( cons_sum_dict[ct][1] >= cons_sum_dict[ct][0]  - thresh )\n",
    "\n",
    "\n",
    "    return constraints"
   ]
  },
  {
   "cell_type": "code",
   "execution_count": 24,
   "metadata": {
    "executionInfo": {
     "elapsed": 1723,
     "status": "ok",
     "timestamp": 1681309107823,
     "user": {
      "displayName": "Liang Hu",
      "userId": "05665141676566184070"
     },
     "user_tz": 240
    },
    "id": "k-ak8bs01OcT"
   },
   "outputs": [],
   "source": [
    "def get_distance_boundary(w, x, s_attr_arr):\n",
    "\n",
    "    \"\"\"\n",
    "        if we have boundaries per group, then use those separate boundaries for each sensitive group\n",
    "        else, use the same weight vector for everything\n",
    "    \"\"\"\n",
    "\n",
    "    distances_boundary = np.zeros(x.shape[0])\n",
    "    if isinstance(w, dict): # if we have separate weight vectors per group\n",
    "        for k in w.keys():  # for each w corresponding to each sensitive group\n",
    "            d = np.dot(x, w[k])\n",
    "            distances_boundary[s_attr_arr == k] = d[s_attr_arr == k] # set this distance only for people with this sensitive attr val\n",
    "    else: # we just learn one w for everyone else\n",
    "        distances_boundary = np.dot(x, w)\n",
    "    return distances_boundary"
   ]
  },
  {
   "cell_type": "code",
   "execution_count": 25,
   "metadata": {
    "colab": {
     "base_uri": "https://localhost:8080/",
     "height": 143
    },
    "executionInfo": {
     "elapsed": 766,
     "status": "ok",
     "timestamp": 1681309129579,
     "user": {
      "displayName": "Liang Hu",
      "userId": "05665141676566184070"
     },
     "user_tz": 240
    },
    "id": "QLyXJBrM1RFC",
    "outputId": "cd7945b6-778e-4a51-b270-e58c13b7b5cf"
   },
   "outputs": [
    {
     "data": {
      "application/vnd.google.colaboratory.intrinsic+json": {
       "type": "string"
      },
      "text/plain": [
       "'\\nThe input parameters are:\\n\\nX: a numpy array of shape (num_examples, num_features) containing the training data, where num_examples is the number of examples and num_features is the number of features.\\ny: a numpy array of shape (num_examples,) containing the labels (+1 or -1) for the training data.\\nC: the regularization parameter for the SVM.\\nThe function returns:\\n\\nw: a numpy array of shape (num_features,) containing the learned weight vector.\\nb: the learned intercept term.\\nsvm_loss: the SVM loss on the training data.\\nThe function first defines the variables n and b using CVXPY. It then defines the SVM objective and constraints using CVXPY. The objective is to minimize the sum of the positive parts of the expression 1 - y * (X @ w + b). The constraints require the L2-norm of w to be less than or equal to C.\\n\\nThe function then defines the optimization problem using CVXPY and solves it using the problem.solve() method. The learned parameters w_star and b_star are retrieved using the value attribute of the CVXPY variables w and b, respectively.\\n\\nFinally, the function computes the SVM loss on the training data by evaluating the objective function with the learned parameters w_star and b_star. The SVM loss is then returned, along with the learned weight vector w and the intercept term b.\\n'"
      ]
     },
     "execution_count": 25,
     "metadata": {},
     "output_type": "execute_result"
    }
   ],
   "source": [
    "#define a linear SVM and return corresponding loss function\n",
    "\n",
    "def linear_svm(X, y, C, w):\n",
    "    \"\"\"\n",
    "    Trains a linear SVM using CVXPY.\n",
    "    \n",
    "    Parameters:\n",
    "        X (ndarray): A numpy array of shape (num_examples, num_features) containing the training data.\n",
    "        y (ndarray): A numpy array of shape (num_examples,) containing the labels (+1 or -1) for the training data.\n",
    "        C (float): The regularization parameter for the SVM.\n",
    "        \n",
    "    Returns:\n",
    "        w (ndarray): A numpy array of shape (num_features,) containing the learned weight vector.\n",
    "        b (float): The learned intercept term.\n",
    "        svm_loss (float): The SVM loss on the training data.\n",
    "    \"\"\"\n",
    "    \n",
    "    # Define the variables\n",
    "    n = X.shape[1]\n",
    "    b = cvxpy.Variable()\n",
    "    \n",
    "    # Define the SVM objective and constraints\n",
    "    objective = cvxpy.Minimize(cvxpy.sum(cvxpy.pos(1 - cvxpy.multiply(y, X @ w + b))))\n",
    "    constraints = [cvxpy.norm(w, 2) <= C]\n",
    "    \n",
    "    # Define the problem and solve it\n",
    "    problem = cvxpy.Problem(objective, constraints)\n",
    "    problem.solve()\n",
    "    \n",
    "    # Retrieve the learned parameters\n",
    "    w_star = w.value\n",
    "    b_star = b.value\n",
    "    \n",
    "    # Compute the SVM loss on the training data\n",
    "    num_points = X.shape[0]\n",
    "    svm_loss = cvxpy.sum(cvxpy.pos(1 - cvxpy.multiply(y, X @ w_star + b_star))) / num_points\n",
    "    \n",
    "    return svm_loss\n",
    "\n",
    "'''\n",
    "The input parameters are:\n",
    "\n",
    "X: a numpy array of shape (num_examples, num_features) containing the training data, where num_examples is the number of examples and num_features is the number of features.\n",
    "y: a numpy array of shape (num_examples,) containing the labels (+1 or -1) for the training data.\n",
    "C: the regularization parameter for the SVM.\n",
    "The function returns:\n",
    "\n",
    "w: a numpy array of shape (num_features,) containing the learned weight vector.\n",
    "b: the learned intercept term.\n",
    "svm_loss: the SVM loss on the training data.\n",
    "The function first defines the variables n and b using CVXPY. It then defines the SVM objective and constraints using CVXPY. The objective is to minimize the sum of the positive parts of the expression 1 - y * (X @ w + b). The constraints require the L2-norm of w to be less than or equal to C.\n",
    "\n",
    "The function then defines the optimization problem using CVXPY and solves it using the problem.solve() method. The learned parameters w_star and b_star are retrieved using the value attribute of the CVXPY variables w and b, respectively.\n",
    "\n",
    "Finally, the function computes the SVM loss on the training data by evaluating the objective function with the learned parameters w_star and b_star. The SVM loss is then returned, along with the learned weight vector w and the intercept term b.\n",
    "'''"
   ]
  },
  {
   "cell_type": "code",
   "execution_count": 26,
   "metadata": {
    "executionInfo": {
     "elapsed": 247,
     "status": "ok",
     "timestamp": 1681309139567,
     "user": {
      "displayName": "Liang Hu",
      "userId": "05665141676566184070"
     },
     "user_tz": 240
    },
    "id": "Mgs7sVaX1V-1"
   },
   "outputs": [],
   "source": [
    "#adding choices of loss_function\n",
    "\n",
    "def train_model(X,y,x_sensitive_feature,eps,loss_function,constraint_params=None):\n",
    "    max_iters = 200 \n",
    "    max_iter_dccp = 50 \n",
    "\n",
    "    \n",
    "    num_points, num_features = X.shape\n",
    "    w = cvxpy.Variable(num_features)\n",
    "\n",
    "    np.random.seed(5243)\n",
    "    w.value = np.random.rand(X.shape[1])\n",
    "\n",
    "    if loss_function == \"logreg\":\n",
    "      # constructing the logistic loss problem\n",
    "      loss = cvxpy.sum(cvxpy.logistic(cvxpy.multiply(-y, X*w) )  ) / num_points \n",
    "    if loss_function == \"svm\":\n",
    "      # giving user choice of logistic regreesion and svm as a baseline model\n",
    "      loss =linear_svm(X, y, 1.0, w)\n",
    "\n",
    "\n",
    "    if constraint_params is None: # just train a simple classifier, no fairness constraints\n",
    "        constraints = []\n",
    "    else:\n",
    "        constraints = get_constraint_list_cov(X, y, x_sensitive_feature, constraint_params[\"sensitive_attrs_to_cov_thresh\"], constraint_params[\"cons_type\"], w)\n",
    "    p = cvxpy.Problem(cvxpy.Minimize(loss), [])\n",
    "    p.solve()\n",
    "\n",
    "    prob = cvxpy.Problem(cvxpy.Minimize(loss), constraints)\n",
    "    try:\n",
    "        tau, mu = 0.005, 1.2 # default dccp parameters, need to be varied per dataset\n",
    "        if constraint_params is not None: # in case we passed these parameters as a part of dccp constraints\n",
    "            if constraint_params.get(\"tau\") is not None: tau = constraint_params[\"tau\"]\n",
    "            if constraint_params.get(\"mu\") is not None: mu = constraint_params[\"mu\"]\n",
    "\n",
    "        prob.solve(method='dccp', tau=tau, mu=mu, tau_max=1e10,\n",
    "            solver=cvxpy.ECOS, verbose=False, \n",
    "            feastol=eps, abstol=eps, reltol=eps,feastol_inacc=eps, abstol_inacc=eps, reltol_inacc=eps,\n",
    "            max_iters=max_iters, max_iter=max_iter_dccp)\n",
    "\n",
    "        \n",
    "        assert(prob.status == \"Converged\" or prob.status == \"optimal\")\n",
    "\n",
    "    except:\n",
    "        traceback.print_exc()\n",
    "        sys.stdout.flush()\n",
    "        sys.exit(1)\n",
    "    w = np.array(w.value).flatten() \n",
    "\n",
    "    return w"
   ]
  },
  {
   "cell_type": "code",
   "execution_count": 27,
   "metadata": {
    "executionInfo": {
     "elapsed": 193,
     "status": "ok",
     "timestamp": 1681309152394,
     "user": {
      "displayName": "Liang Hu",
      "userId": "05665141676566184070"
     },
     "user_tz": 240
    },
    "id": "JdRLesCY1Ywt"
   },
   "outputs": [],
   "source": [
    "#与paper作者相同\n",
    "def get_clf_stats(w, x_train, y_train, x_control_train, x_test, y_test, x_control_test):\n",
    "\n",
    "\n",
    "    # compute distance from boundary\n",
    "    distances_boundary_train = get_distance_boundary(w, x_train, x_control_train)\n",
    "    distances_boundary_test = get_distance_boundary(w, x_test, x_control_test)\n",
    "\n",
    "    # compute the class labels\n",
    "    all_class_labels_assigned_train = np.sign(distances_boundary_train)\n",
    "    all_class_labels_assigned_test = np.sign(distances_boundary_test)\n",
    "\n",
    "\n",
    "    train_score, test_score, correct_answers_train, correct_answers_test = check_accuracy(None, x_train, y_train, x_test, y_test, all_class_labels_assigned_train, all_class_labels_assigned_test)\n",
    "\n",
    "  \n",
    "        \n",
    "    print_stats = False \n",
    "    s_attr_to_fp_fn_train = get_fpr_fnr_sensitive_features(y_train, all_class_labels_assigned_train, x_control_train, print_stats)\n",
    "    cov_all_train = get_sensitive_attr_constraint_fpr_fnr_cov(None, x_train, y_train, distances_boundary_train, x_control_train) \n",
    "    \n",
    "\n",
    "    print(\"\\n\")\n",
    "    print(f\"Accuracy:{test_score}\")\n",
    "    print_stats = True # only print stats for the test fold\n",
    "    s_attr_to_fp_fn_test = get_fpr_fnr_sensitive_features(y_test, all_class_labels_assigned_test, x_control_test, print_stats)\n",
    "    cov_all_test = get_sensitive_attr_constraint_fpr_fnr_cov(None, x_test, y_test, distances_boundary_test, x_control_test) \n",
    "    print(\"\\n\")\n",
    "\n",
    "    return train_score, test_score, cov_all_train, cov_all_test, s_attr_to_fp_fn_train, s_attr_to_fp_fn_test"
   ]
  },
  {
   "cell_type": "code",
   "execution_count": 28,
   "metadata": {
    "colab": {
     "base_uri": "https://localhost:8080/",
     "height": 178
    },
    "executionInfo": {
     "elapsed": 5,
     "status": "ok",
     "timestamp": 1681309161237,
     "user": {
      "displayName": "Liang Hu",
      "userId": "05665141676566184070"
     },
     "user_tz": 240
    },
    "id": "qyaQsUxb1co2",
    "outputId": "2a3a9147-7eea-4e70-e3dc-bc94a7c719a9"
   },
   "outputs": [
    {
     "data": {
      "application/vnd.google.colaboratory.intrinsic+json": {
       "type": "string"
      },
      "text/plain": [
       "'\\nThe code defines a function named get_fpr_fnr_sensitive_features that takes four arguments y_true, y_pred, x_control, and verbose (with a default value of False). The function calculates the false positive rate (FPR) and false negative rate (FNR) for each sensitive feature value in x_control given the true labels y_true and the predicted labels y_pred.\\n\\nFirst, a copy of x_control is created to ensure the original referenced object is preserved. Next, a dictionary named s_attr_to_fp_fn is initialized to store the FPR, FNR, false positive count, false negative count, and accuracy for each sensitive feature value.\\n\\nThen, for each unique value of the sensitive feature s_val, the function selects the corresponding true labels and predicted labels and calculates the accuracy, false positive count, false negative count, true positive count, and true negative count. The FPR, FNR, true positive rate (TPR), and true negative rate (TNR) are calculated using these counts. Finally, the calculated values are added to the s_attr_to_fp_fn dictionary for the current sensitive feature value.\\n\\nThe function then returns the s_attr_to_fp_fn dictionary containing the calculated FPR, FNR, false positive count, false negative count, and accuracy for each sensitive feature value.\\n'"
      ]
     },
     "execution_count": 28,
     "metadata": {},
     "output_type": "execute_result"
    }
   ],
   "source": [
    "def get_fpr_fnr_sensitive_features(y_true, y_pred, x_control, verbose = False):\n",
    "\n",
    "    # we will make some changes to x_control in this function, so make a copy in order to preserve the origianl referenced object\n",
    "    x_control_internal = deepcopy(x_control)\n",
    "\n",
    "    s_attr_to_fp_fn = {}\n",
    "    \n",
    "    s_attr_vals = x_control_internal\n",
    "    for s_val in sorted(list(set(s_attr_vals))):\n",
    "        s_attr_to_fp_fn[s_val] = {}\n",
    "        y_true_local = y_true[s_attr_vals==s_val]\n",
    "        y_pred_local = y_pred[s_attr_vals==s_val]\n",
    "\n",
    "        \n",
    "\n",
    "        acc = float(sum(y_true_local==y_pred_local)) / len(y_true_local)\n",
    "\n",
    "        fp = sum(np.logical_and(y_true_local == -1.0, y_pred_local == +1.0)) # something which is -ve but is misclassified as +ve\n",
    "        fn = sum(np.logical_and(y_true_local == +1.0, y_pred_local == -1.0)) # something which is +ve but is misclassified as -ve\n",
    "        tp = sum(np.logical_and(y_true_local == +1.0, y_pred_local == +1.0)) # something which is +ve AND is correctly classified as +ve\n",
    "        tn = sum(np.logical_and(y_true_local == -1.0, y_pred_local == -1.0)) # something which is -ve AND is correctly classified as -ve\n",
    "\n",
    "        all_neg = sum(y_true_local == -1.0)\n",
    "        all_pos = sum(y_true_local == +1.0)\n",
    "\n",
    "        fpr = float(fp) / float(fp + tn)\n",
    "        fnr = float(fn) / float(fn + tp)\n",
    "        tpr = float(tp) / float(tp + fn)\n",
    "        tnr = float(tn) / float(tn + fp)\n",
    "\n",
    "\n",
    "        s_attr_to_fp_fn[s_val][\"fp\"] = fp\n",
    "        s_attr_to_fp_fn[s_val][\"fn\"] = fn\n",
    "        s_attr_to_fp_fn[s_val][\"fpr\"] = fpr\n",
    "        s_attr_to_fp_fn[s_val][\"fnr\"] = fnr\n",
    "\n",
    "        s_attr_to_fp_fn[s_val][\"acc\"] = (tp + tn) / (tp + tn + fp + fn)\n",
    "\n",
    "    return s_attr_to_fp_fn\n",
    "'''\n",
    "The code defines a function named get_fpr_fnr_sensitive_features that takes four arguments y_true, y_pred, x_control, and verbose (with a default value of False). The function calculates the false positive rate (FPR) and false negative rate (FNR) for each sensitive feature value in x_control given the true labels y_true and the predicted labels y_pred.\n",
    "\n",
    "First, a copy of x_control is created to ensure the original referenced object is preserved. Next, a dictionary named s_attr_to_fp_fn is initialized to store the FPR, FNR, false positive count, false negative count, and accuracy for each sensitive feature value.\n",
    "\n",
    "Then, for each unique value of the sensitive feature s_val, the function selects the corresponding true labels and predicted labels and calculates the accuracy, false positive count, false negative count, true positive count, and true negative count. The FPR, FNR, true positive rate (TPR), and true negative rate (TNR) are calculated using these counts. Finally, the calculated values are added to the s_attr_to_fp_fn dictionary for the current sensitive feature value.\n",
    "\n",
    "The function then returns the s_attr_to_fp_fn dictionary containing the calculated FPR, FNR, false positive count, false negative count, and accuracy for each sensitive feature value.\n",
    "'''"
   ]
  },
  {
   "cell_type": "code",
   "execution_count": 29,
   "metadata": {
    "colab": {
     "base_uri": "https://localhost:8080/",
     "height": 143
    },
    "executionInfo": {
     "elapsed": 132,
     "status": "ok",
     "timestamp": 1681309188850,
     "user": {
      "displayName": "Liang Hu",
      "userId": "05665141676566184070"
     },
     "user_tz": 240
    },
    "id": "sUdIMyro1ecP",
    "outputId": "b5bf3a17-c59f-4c3a-fbb8-288ef4166264"
   },
   "outputs": [
    {
     "data": {
      "application/vnd.google.colaboratory.intrinsic+json": {
       "type": "string"
      },
      "text/plain": [
       "'\\nThis function calculates fairness constraints based on false positive rate (FPR), false negative rate (FNR), and overall accuracy (ALL).\\n\\nThe inputs to the function are:\\n\\nmodel: A linear model that has been trained on the input data, or None if the predicted labels should be used directly.\\nx_arr: A numpy array containing the input features.\\ny_arr_true: A numpy array containing the ground truth labels.\\ny_arr_dist_boundary: A numpy array containing the distances of each data point from the decision boundary.\\nx_control_arr: A numpy array containing the binary sensitive attribute values.\\nverbose: A boolean flag indicating whether to print intermediate outputs.\\nThe function starts by checking that x_arr and x_control_arr have the same length and x_control_arr is a binary attribute.\\n\\nNext, the function calculates the predicted labels or distances from the decision boundary based on the input model. If the model is None, it simply uses y_arr_dist_boundary * y_arr_true to obtain the predicted labels. Otherwise, it multiplies the weight vector of the model with the input features and the ground truth labels to obtain the predicted labels.\\n\\nThe function then calculates the total number of data points and the number of data points with each label for each binary value of the sensitive attribute. It also calculates the average proportion of data points with a particular label for each binary value of the sensitive attribute.\\n\\nFinally, for each binary value of the sensitive attribute, the function calculates the sum of the constraints based on FPR, FNR, and ALL. The constraint sum for ALL is simply the difference between the proportion of true positives and false positives for that binary value of the sensitive attribute. The constraint sum for FPR is the sum of the product of the distances of the false positives from the decision boundary and the proportion of data points with the sensitive attribute value and the false positive label. The constraint sum for FNR is the sum of the product of the distances of the false negatives from the decision boundary and the proportion of data points with the sensitive attribute value and the false negative label.\\n\\nThe function returns a dictionary containing the constraint sums for each binary value of the sensitive attribute and for each type of constraint.\\n'"
      ]
     },
     "execution_count": 29,
     "metadata": {},
     "output_type": "execute_result"
    }
   ],
   "source": [
    "# 与paper作者相同\n",
    "def get_sensitive_attr_constraint_fpr_fnr_cov(model, x_arr, y_arr_true, y_arr_dist_boundary, x_control_arr, verbose=False):\n",
    "       \n",
    "    assert(x_arr.shape[0] == x_control_arr.shape[0])\n",
    "    if len(x_control_arr.shape) > 1: # make sure we just have one column in the array\n",
    "        assert(x_control_arr.shape[1] == 1)\n",
    "    if len(set(x_control_arr)) != 2: # non binary attr\n",
    "        raise Exception(\"Non binary attr, fix to handle non bin attrs\")\n",
    "\n",
    "    \n",
    "    arr = []\n",
    "    if model is None:\n",
    "        arr = y_arr_dist_boundary * y_arr_true # simply the output labels\n",
    "    else:\n",
    "        arr = np.dot(model, x_arr.T) * y_arr_true # the product with the weight vector -- the sign of this is the output label\n",
    "    arr = np.array(arr)\n",
    "\n",
    "    s_val_to_total = {ct:{} for ct in [0,1,2]}\n",
    "    s_val_to_avg = {ct:{} for ct in [0,1,2]}\n",
    "    cons_sum_dict = {ct:{} for ct in [0,1,2]} # sum of entities (females and males) in constraints are stored here\n",
    "\n",
    "    for v in set(x_control_arr):\n",
    "        s_val_to_total[0][v] = sum(x_control_arr == v)\n",
    "        s_val_to_total[1][v] = sum(np.logical_and(x_control_arr == v, y_arr_true == -1))\n",
    "        s_val_to_total[2][v] = sum(np.logical_and(x_control_arr == v, y_arr_true == +1))\n",
    "\n",
    "\n",
    "    for ct in [0,1,2]:\n",
    "        s_val_to_avg[ct][0] = s_val_to_total[ct][1] / float(s_val_to_total[ct][0] + s_val_to_total[ct][1]) # N1 / N\n",
    "        s_val_to_avg[ct][1] = 1.0 - s_val_to_avg[ct][0] # N0 / N\n",
    "\n",
    "    \n",
    "    for v in set(x_control_arr):\n",
    "        idx = x_control_arr == v\n",
    "        dist_bound_prod = arr[idx]\n",
    "\n",
    "        cons_sum_dict[0][v] = sum( np.minimum(0, dist_bound_prod) ) * (s_val_to_avg[0][v] / len(x_arr))\n",
    "        cons_sum_dict[1][v] = sum( np.minimum(0, ( (1 - y_arr_true[idx]) / 2 ) * dist_bound_prod) ) * (s_val_to_avg[1][v] / sum(y_arr_true == -1))\n",
    "        cons_sum_dict[2][v] = sum( np.minimum(0, ( (1 + y_arr_true[idx]) / 2 ) * dist_bound_prod) ) * (s_val_to_avg[2][v] / sum(y_arr_true == +1))\n",
    "        \n",
    "\n",
    "    cons_type_to_name = {0:\"ALL\", 1:\"FPR\", 2:\"FNR\"}\n",
    "    for cons_type in [0,1,2]:\n",
    "        cov_type_name = cons_type_to_name[cons_type]    \n",
    "        cov = cons_sum_dict[cons_type][1] - cons_sum_dict[cons_type][0]\n",
    "        \n",
    "    return cons_sum_dict\n",
    "\n",
    "'''\n",
    "This function calculates fairness constraints based on false positive rate (FPR), false negative rate (FNR), and overall accuracy (ALL).\n",
    "\n",
    "The inputs to the function are:\n",
    "\n",
    "model: A linear model that has been trained on the input data, or None if the predicted labels should be used directly.\n",
    "x_arr: A numpy array containing the input features.\n",
    "y_arr_true: A numpy array containing the ground truth labels.\n",
    "y_arr_dist_boundary: A numpy array containing the distances of each data point from the decision boundary.\n",
    "x_control_arr: A numpy array containing the binary sensitive attribute values.\n",
    "verbose: A boolean flag indicating whether to print intermediate outputs.\n",
    "The function starts by checking that x_arr and x_control_arr have the same length and x_control_arr is a binary attribute.\n",
    "\n",
    "Next, the function calculates the predicted labels or distances from the decision boundary based on the input model. If the model is None, it simply uses y_arr_dist_boundary * y_arr_true to obtain the predicted labels. Otherwise, it multiplies the weight vector of the model with the input features and the ground truth labels to obtain the predicted labels.\n",
    "\n",
    "The function then calculates the total number of data points and the number of data points with each label for each binary value of the sensitive attribute. It also calculates the average proportion of data points with a particular label for each binary value of the sensitive attribute.\n",
    "\n",
    "Finally, for each binary value of the sensitive attribute, the function calculates the sum of the constraints based on FPR, FNR, and ALL. The constraint sum for ALL is simply the difference between the proportion of true positives and false positives for that binary value of the sensitive attribute. The constraint sum for FPR is the sum of the product of the distances of the false positives from the decision boundary and the proportion of data points with the sensitive attribute value and the false positive label. The constraint sum for FNR is the sum of the product of the distances of the false negatives from the decision boundary and the proportion of data points with the sensitive attribute value and the false negative label.\n",
    "\n",
    "The function returns a dictionary containing the constraint sums for each binary value of the sensitive attribute and for each type of constraint.\n",
    "'''"
   ]
  },
  {
   "cell_type": "code",
   "execution_count": 30,
   "metadata": {
    "executionInfo": {
     "elapsed": 2,
     "status": "ok",
     "timestamp": 1681309225619,
     "user": {
      "displayName": "Liang Hu",
      "userId": "05665141676566184070"
     },
     "user_tz": 240
    },
    "id": "bI0xZ9rF1e-E"
   },
   "outputs": [],
   "source": [
    "def get_one_hot_encoding(in_arr):\n",
    "    in_arr = np.array(in_arr, dtype=int)\n",
    "    unique_vals = np.unique(in_arr)\n",
    "    num_unique_vals = len(unique_vals)\n",
    "\n",
    "    if num_unique_vals == 2 and 0 in unique_vals and 1 in unique_vals:\n",
    "        # Binary case\n",
    "        return in_arr, None\n",
    "\n",
    "    index_dict = {val: i for i, val in enumerate(unique_vals)}\n",
    "    out_arr = np.zeros((len(in_arr), num_unique_vals), dtype=int)\n",
    "\n",
    "    for i, val in enumerate(in_arr):\n",
    "        out_arr[i, index_dict[val]] = 1\n",
    "\n",
    "    return out_arr, index_dict"
   ]
  },
  {
   "cell_type": "code",
   "execution_count": 31,
   "metadata": {
    "colab": {
     "base_uri": "https://localhost:8080/",
     "height": 143
    },
    "executionInfo": {
     "elapsed": 1422,
     "status": "ok",
     "timestamp": 1681309236746,
     "user": {
      "displayName": "Liang Hu",
      "userId": "05665141676566184070"
     },
     "user_tz": 240
    },
    "id": "-gZ14fuq1uke",
    "outputId": "f75a47a5-3676-4d96-aa89-b6b206222910"
   },
   "outputs": [
    {
     "data": {
      "application/vnd.google.colaboratory.intrinsic+json": {
       "type": "string"
      },
      "text/plain": [
       "'\\nThis code defines a function called check_accuracy which takes several input arguments: model (a weight vector), x_train and x_test (input training and testing data), y_train and y_test (true labels for training and testing data), y_train_predicted and y_test_predicted (predicted labels for training and testing data).\\n\\nThe function first checks whether both the model and y_test_predicted are not None. If this is the case, it raises an exception.\\n\\nIf the model is not None, then the predicted labels are computed using the dot product of the weight vector and the input data. The np.sign() function is applied to the computed values to obtain the predicted labels.\\n\\nThe function then computes the number of correct answers for both the training and testing data, and the accuracy of the model on the training and testing data. The number of correct answers is computed by comparing the predicted labels with the true labels and converting the resulting boolean array to an array of integers using astype(int). The accuracy is then computed by dividing the number of correct answers by the total number of answers.\\n\\nThe function returns the training and testing accuracies, as well as the number of correct answers for both the training and testing data.\\n'"
      ]
     },
     "execution_count": 31,
     "metadata": {},
     "output_type": "execute_result"
    }
   ],
   "source": [
    "def check_accuracy(model, x_train, y_train, x_test, y_test, y_train_predicted, y_test_predicted):\n",
    "    if model is not None and y_test_predicted is not None:\n",
    "        raise Exception(\"Both of the model (w) and the predicted labels should be None\")\n",
    "\n",
    "    if model is not None:\n",
    "        y_test_predicted = np.sign(np.dot(x_test, model))\n",
    "        y_train_predicted = np.sign(np.dot(x_train, model))\n",
    "\n",
    "    train_correct_answers = (y_train_predicted == y_train).astype(int)\n",
    "    correct_answers_train = sum(train_correct_answers)\n",
    "    test_correct_answers  = (y_test_predicted == y_test).astype(int)\n",
    "    correct_answers_test  = sum(test_correct_answers)\n",
    "\n",
    "    train_accuracy = float(sum(train_correct_answers)) / float(len(train_correct_answers))\n",
    "    test_accuracy = float(sum(test_correct_answers)) / float(len(test_correct_answers))\n",
    "\n",
    "    return train_accuracy, test_accuracy, correct_answers_train, correct_answers_test\n",
    "\n",
    "'''\n",
    "This code defines a function called check_accuracy which takes several input arguments: model (a weight vector), x_train and x_test (input training and testing data), y_train and y_test (true labels for training and testing data), y_train_predicted and y_test_predicted (predicted labels for training and testing data).\n",
    "\n",
    "The function first checks whether both the model and y_test_predicted are not None. If this is the case, it raises an exception.\n",
    "\n",
    "If the model is not None, then the predicted labels are computed using the dot product of the weight vector and the input data. The np.sign() function is applied to the computed values to obtain the predicted labels.\n",
    "\n",
    "The function then computes the number of correct answers for both the training and testing data, and the accuracy of the model on the training and testing data. The number of correct answers is computed by comparing the predicted labels with the true labels and converting the resulting boolean array to an array of integers using astype(int). The accuracy is then computed by dividing the number of correct answers by the total number of answers.\n",
    "\n",
    "The function returns the training and testing accuracies, as well as the number of correct answers for both the training and testing data.\n",
    "'''"
   ]
  },
  {
   "cell_type": "code",
   "execution_count": 64,
   "metadata": {
    "executionInfo": {
     "elapsed": 236,
     "status": "ok",
     "timestamp": 1681310858006,
     "user": {
      "displayName": "Liang Hu",
      "userId": "05665141676566184070"
     },
     "user_tz": 240
    },
    "id": "Lsc0DfOp1xdH"
   },
   "outputs": [],
   "source": [
    "def run_experiments(loss_function, X_train, y_train, x_race_train, X_test, y_test, x_race_test, eps, tau, mu,sensitive_attrs_to_cov_thresh):\n",
    "    constraint_name = {-1:\"No Constraint\",0:\"Misclassification\",1:\"Only FPR\",2:\"Only FNR\",4:\"Both FPR and FNR\"}\n",
    "    summary = pd.DataFrame(columns=[\"Model\",\n",
    "                                    \"Constraint_type\",\n",
    "                                    \"Overall Accuracy\", \"Race 0 Accuracy\", \"Race 1 Accuracy\", \"Accuracy Diff\",\n",
    "                                                        \"Race 0 FPR\",      \"Race 1 FPR\", \"FPR Diff\",\n",
    "                                                        \"Race 0 FNR\",      \"Race 1 FNR\", \"FNR Diff\"])\n",
    "    # \"sensitive_attrs_to_cov_thresh\": sensitive_attrs_to_cov_thresh\n",
    "\n",
    "    for i in [-1, 0, 1, 2, 4]:\n",
    "        constraint_params = None if i == -1 else {\"cons_type\": i, \"tau\": tau, \"mu\": mu, \"sensitive_attrs_to_cov_thresh\": sensitive_attrs_to_cov_thresh}\n",
    "\n",
    "        w = train_model(X_train, y_train, x_race_train, eps, loss_function, constraint_params)\n",
    "\n",
    "        train_accuracy, test_accuracy, cov_all_train, cov_all_test, s_attr_to_fp_fn_train, s_attr_to_fp_fn_test = get_clf_stats(w, X_train, y_train, x_race_train, X_test, y_test, x_race_test)\n",
    "\n",
    "        summary = summary.append({\"Model\": loss_function,\n",
    "                                  \"Constraint_type\":constraint_name[i],\n",
    "                                  \n",
    "                                  \"Overall Accuracy\": test_accuracy,\n",
    "                                  \"Race 0 Accuracy\": s_attr_to_fp_fn_test[0]['acc'], \n",
    "                                  \"Race 1 Accuracy\": s_attr_to_fp_fn_test[1]['acc'], \n",
    "                                  \"Accuracy Diff\":   s_attr_to_fp_fn_test[0]['acc']-s_attr_to_fp_fn_test[1]['acc'],\n",
    "\n",
    "                                  \"Race 0 FPR\" :s_attr_to_fp_fn_test[0]['fpr'],\n",
    "                                  \"Race 1 FPR\" :s_attr_to_fp_fn_test[1]['fpr'],\n",
    "                                  \"FPR Diff\"   :s_attr_to_fp_fn_test[0]['fpr'] - s_attr_to_fp_fn_test[1]['fpr'],\n",
    "\n",
    "                                  \"Race 0 FNR\" :s_attr_to_fp_fn_test[0]['fnr'],\n",
    "                                  \"Race 1 FNR\" :s_attr_to_fp_fn_test[1]['fnr'],\n",
    "                                  \"FNR Diff\"   :s_attr_to_fp_fn_test[0]['fnr'] - s_attr_to_fp_fn_test[1]['fnr']\n",
    "                                  },\n",
    "                                     ignore_index=True)\n",
    "\n",
    "\n",
    "    return summary"
   ]
  },
  {
   "cell_type": "code",
   "execution_count": 67,
   "metadata": {
    "executionInfo": {
     "elapsed": 1,
     "status": "ok",
     "timestamp": 1681310976555,
     "user": {
      "displayName": "Liang Hu",
      "userId": "05665141676566184070"
     },
     "user_tz": 240
    },
    "id": "CkfE5iIP4UA7"
   },
   "outputs": [],
   "source": [
    "eps = 1e-5\n",
    "tau = 5.0\n",
    "mu = 1.2\n",
    "sensitive_attrs_to_cov_thresh = {0:{0:0, 1:0}, 1:{0:0, 1:0}, 2:{0:0, 1:0}} # zero covariance threshold, means try to get the fairest solution"
   ]
  },
  {
   "cell_type": "code",
   "execution_count": 65,
   "metadata": {
    "colab": {
     "base_uri": "https://localhost:8080/",
     "height": 2845
    },
    "executionInfo": {
     "elapsed": 25509,
     "status": "ok",
     "timestamp": 1681310888663,
     "user": {
      "displayName": "Liang Hu",
      "userId": "05665141676566184070"
     },
     "user_tz": 240
    },
    "id": "sD4XM4NP6IBJ",
    "outputId": "3bf33e50-9b91-4875-e229-26ce75db6ec6"
   },
   "outputs": [
    {
     "name": "stderr",
     "output_type": "stream",
     "text": [
      "/usr/local/lib/python3.9/dist-packages/cvxpy/expressions/expression.py:612: UserWarning: \n",
      "This use of ``*`` has resulted in matrix multiplication.\n",
      "Using ``*`` for matrix multiplication has been deprecated since CVXPY 1.1.\n",
      "    Use ``*`` for matrix-scalar and vector-scalar multiplication.\n",
      "    Use ``@`` for matrix-matrix and matrix-vector multiplication.\n",
      "    Use ``multiply`` for elementwise multiplication.\n",
      "This code path has been hit 17 times so far.\n",
      "\n",
      "  warnings.warn(msg, UserWarning)\n"
     ]
    },
    {
     "name": "stdout",
     "output_type": "stream",
     "text": [
      "\n",
      "\n",
      "Accuracy:0.6610312764158918\n",
      "\n",
      "\n"
     ]
    },
    {
     "name": "stderr",
     "output_type": "stream",
     "text": [
      "<ipython-input-64-92aa1ec6fcd1>:17: FutureWarning: The frame.append method is deprecated and will be removed from pandas in a future version. Use pandas.concat instead.\n",
      "  summary = summary.append({\"Model\": loss_function,\n",
      "/usr/local/lib/python3.9/dist-packages/cvxpy/expressions/expression.py:612: UserWarning: \n",
      "This use of ``*`` has resulted in matrix multiplication.\n",
      "Using ``*`` for matrix multiplication has been deprecated since CVXPY 1.1.\n",
      "    Use ``*`` for matrix-scalar and vector-scalar multiplication.\n",
      "    Use ``@`` for matrix-matrix and matrix-vector multiplication.\n",
      "    Use ``multiply`` for elementwise multiplication.\n",
      "This code path has been hit 18 times so far.\n",
      "\n",
      "  warnings.warn(msg, UserWarning)\n",
      "/usr/local/lib/python3.9/dist-packages/cvxpy/expressions/expression.py:612: UserWarning: \n",
      "This use of ``*`` has resulted in matrix multiplication.\n",
      "Using ``*`` for matrix multiplication has been deprecated since CVXPY 1.1.\n",
      "    Use ``*`` for matrix-scalar and vector-scalar multiplication.\n",
      "    Use ``@`` for matrix-matrix and matrix-vector multiplication.\n",
      "    Use ``multiply`` for elementwise multiplication.\n",
      "This code path has been hit 19 times so far.\n",
      "\n",
      "  warnings.warn(msg, UserWarning)\n",
      "/usr/local/lib/python3.9/dist-packages/cvxpy/expressions/expression.py:612: UserWarning: \n",
      "This use of ``*`` has resulted in matrix multiplication.\n",
      "Using ``*`` for matrix multiplication has been deprecated since CVXPY 1.1.\n",
      "    Use ``*`` for matrix-scalar and vector-scalar multiplication.\n",
      "    Use ``@`` for matrix-matrix and matrix-vector multiplication.\n",
      "    Use ``multiply`` for elementwise multiplication.\n",
      "This code path has been hit 20 times so far.\n",
      "\n",
      "  warnings.warn(msg, UserWarning)\n"
     ]
    },
    {
     "name": "stdout",
     "output_type": "stream",
     "text": [
      "\n",
      "\n",
      "Accuracy:0.6627218934911243\n",
      "\n",
      "\n"
     ]
    },
    {
     "name": "stderr",
     "output_type": "stream",
     "text": [
      "<ipython-input-64-92aa1ec6fcd1>:17: FutureWarning: The frame.append method is deprecated and will be removed from pandas in a future version. Use pandas.concat instead.\n",
      "  summary = summary.append({\"Model\": loss_function,\n",
      "/usr/local/lib/python3.9/dist-packages/cvxpy/expressions/expression.py:612: UserWarning: \n",
      "This use of ``*`` has resulted in matrix multiplication.\n",
      "Using ``*`` for matrix multiplication has been deprecated since CVXPY 1.1.\n",
      "    Use ``*`` for matrix-scalar and vector-scalar multiplication.\n",
      "    Use ``@`` for matrix-matrix and matrix-vector multiplication.\n",
      "    Use ``multiply`` for elementwise multiplication.\n",
      "This code path has been hit 21 times so far.\n",
      "\n",
      "  warnings.warn(msg, UserWarning)\n",
      "/usr/local/lib/python3.9/dist-packages/cvxpy/expressions/expression.py:612: UserWarning: \n",
      "This use of ``*`` has resulted in matrix multiplication.\n",
      "Using ``*`` for matrix multiplication has been deprecated since CVXPY 1.1.\n",
      "    Use ``*`` for matrix-scalar and vector-scalar multiplication.\n",
      "    Use ``@`` for matrix-matrix and matrix-vector multiplication.\n",
      "    Use ``multiply`` for elementwise multiplication.\n",
      "This code path has been hit 22 times so far.\n",
      "\n",
      "  warnings.warn(msg, UserWarning)\n",
      "/usr/local/lib/python3.9/dist-packages/cvxpy/expressions/expression.py:612: UserWarning: \n",
      "This use of ``*`` has resulted in matrix multiplication.\n",
      "Using ``*`` for matrix multiplication has been deprecated since CVXPY 1.1.\n",
      "    Use ``*`` for matrix-scalar and vector-scalar multiplication.\n",
      "    Use ``@`` for matrix-matrix and matrix-vector multiplication.\n",
      "    Use ``multiply`` for elementwise multiplication.\n",
      "This code path has been hit 23 times so far.\n",
      "\n",
      "  warnings.warn(msg, UserWarning)\n"
     ]
    },
    {
     "name": "stdout",
     "output_type": "stream",
     "text": [
      "\n",
      "\n",
      "Accuracy:0.665257819103973\n",
      "\n",
      "\n"
     ]
    },
    {
     "name": "stderr",
     "output_type": "stream",
     "text": [
      "<ipython-input-64-92aa1ec6fcd1>:17: FutureWarning: The frame.append method is deprecated and will be removed from pandas in a future version. Use pandas.concat instead.\n",
      "  summary = summary.append({\"Model\": loss_function,\n",
      "/usr/local/lib/python3.9/dist-packages/cvxpy/expressions/expression.py:612: UserWarning: \n",
      "This use of ``*`` has resulted in matrix multiplication.\n",
      "Using ``*`` for matrix multiplication has been deprecated since CVXPY 1.1.\n",
      "    Use ``*`` for matrix-scalar and vector-scalar multiplication.\n",
      "    Use ``@`` for matrix-matrix and matrix-vector multiplication.\n",
      "    Use ``multiply`` for elementwise multiplication.\n",
      "This code path has been hit 24 times so far.\n",
      "\n",
      "  warnings.warn(msg, UserWarning)\n",
      "/usr/local/lib/python3.9/dist-packages/cvxpy/expressions/expression.py:612: UserWarning: \n",
      "This use of ``*`` has resulted in matrix multiplication.\n",
      "Using ``*`` for matrix multiplication has been deprecated since CVXPY 1.1.\n",
      "    Use ``*`` for matrix-scalar and vector-scalar multiplication.\n",
      "    Use ``@`` for matrix-matrix and matrix-vector multiplication.\n",
      "    Use ``multiply`` for elementwise multiplication.\n",
      "This code path has been hit 25 times so far.\n",
      "\n",
      "  warnings.warn(msg, UserWarning)\n",
      "/usr/local/lib/python3.9/dist-packages/cvxpy/expressions/expression.py:612: UserWarning: \n",
      "This use of ``*`` has resulted in matrix multiplication.\n",
      "Using ``*`` for matrix multiplication has been deprecated since CVXPY 1.1.\n",
      "    Use ``*`` for matrix-scalar and vector-scalar multiplication.\n",
      "    Use ``@`` for matrix-matrix and matrix-vector multiplication.\n",
      "    Use ``multiply`` for elementwise multiplication.\n",
      "This code path has been hit 26 times so far.\n",
      "\n",
      "  warnings.warn(msg, UserWarning)\n"
     ]
    },
    {
     "name": "stdout",
     "output_type": "stream",
     "text": [
      "\n",
      "\n",
      "Accuracy:0.661876584953508\n",
      "\n",
      "\n"
     ]
    },
    {
     "name": "stderr",
     "output_type": "stream",
     "text": [
      "<ipython-input-64-92aa1ec6fcd1>:17: FutureWarning: The frame.append method is deprecated and will be removed from pandas in a future version. Use pandas.concat instead.\n",
      "  summary = summary.append({\"Model\": loss_function,\n",
      "/usr/local/lib/python3.9/dist-packages/cvxpy/expressions/expression.py:612: UserWarning: \n",
      "This use of ``*`` has resulted in matrix multiplication.\n",
      "Using ``*`` for matrix multiplication has been deprecated since CVXPY 1.1.\n",
      "    Use ``*`` for matrix-scalar and vector-scalar multiplication.\n",
      "    Use ``@`` for matrix-matrix and matrix-vector multiplication.\n",
      "    Use ``multiply`` for elementwise multiplication.\n",
      "This code path has been hit 27 times so far.\n",
      "\n",
      "  warnings.warn(msg, UserWarning)\n",
      "/usr/local/lib/python3.9/dist-packages/cvxpy/expressions/expression.py:612: UserWarning: \n",
      "This use of ``*`` has resulted in matrix multiplication.\n",
      "Using ``*`` for matrix multiplication has been deprecated since CVXPY 1.1.\n",
      "    Use ``*`` for matrix-scalar and vector-scalar multiplication.\n",
      "    Use ``@`` for matrix-matrix and matrix-vector multiplication.\n",
      "    Use ``multiply`` for elementwise multiplication.\n",
      "This code path has been hit 28 times so far.\n",
      "\n",
      "  warnings.warn(msg, UserWarning)\n",
      "/usr/local/lib/python3.9/dist-packages/cvxpy/expressions/expression.py:612: UserWarning: \n",
      "This use of ``*`` has resulted in matrix multiplication.\n",
      "Using ``*`` for matrix multiplication has been deprecated since CVXPY 1.1.\n",
      "    Use ``*`` for matrix-scalar and vector-scalar multiplication.\n",
      "    Use ``@`` for matrix-matrix and matrix-vector multiplication.\n",
      "    Use ``multiply`` for elementwise multiplication.\n",
      "This code path has been hit 29 times so far.\n",
      "\n",
      "  warnings.warn(msg, UserWarning)\n"
     ]
    },
    {
     "name": "stdout",
     "output_type": "stream",
     "text": [
      "\n",
      "\n",
      "Accuracy:0.661876584953508\n",
      "\n",
      "\n"
     ]
    },
    {
     "name": "stderr",
     "output_type": "stream",
     "text": [
      "<ipython-input-64-92aa1ec6fcd1>:17: FutureWarning: The frame.append method is deprecated and will be removed from pandas in a future version. Use pandas.concat instead.\n",
      "  summary = summary.append({\"Model\": loss_function,\n"
     ]
    },
    {
     "data": {
      "text/html": [
       "\n",
       "  <div id=\"df-a0ed98fb-dd1e-4fd0-9dc6-f5a82f08fe79\">\n",
       "    <div class=\"colab-df-container\">\n",
       "      <div>\n",
       "<style scoped>\n",
       "    .dataframe tbody tr th:only-of-type {\n",
       "        vertical-align: middle;\n",
       "    }\n",
       "\n",
       "    .dataframe tbody tr th {\n",
       "        vertical-align: top;\n",
       "    }\n",
       "\n",
       "    .dataframe thead th {\n",
       "        text-align: right;\n",
       "    }\n",
       "</style>\n",
       "<table border=\"1\" class=\"dataframe\">\n",
       "  <thead>\n",
       "    <tr style=\"text-align: right;\">\n",
       "      <th></th>\n",
       "      <th>Model</th>\n",
       "      <th>Constraint_type</th>\n",
       "      <th>Overall Accuracy</th>\n",
       "      <th>Race 0 Accuracy</th>\n",
       "      <th>Race 1 Accuracy</th>\n",
       "      <th>Accuracy Diff</th>\n",
       "      <th>Race 0 FPR</th>\n",
       "      <th>Race 1 FPR</th>\n",
       "      <th>FPR Diff</th>\n",
       "      <th>Race 0 FNR</th>\n",
       "      <th>Race 1 FNR</th>\n",
       "      <th>FNR Diff</th>\n",
       "    </tr>\n",
       "  </thead>\n",
       "  <tbody>\n",
       "    <tr>\n",
       "      <th>0</th>\n",
       "      <td>logreg</td>\n",
       "      <td>No Constraint</td>\n",
       "      <td>0.661031</td>\n",
       "      <td>0.648611</td>\n",
       "      <td>0.680346</td>\n",
       "      <td>-0.031734</td>\n",
       "      <td>0.353125</td>\n",
       "      <td>0.098039</td>\n",
       "      <td>0.255086</td>\n",
       "      <td>0.3500</td>\n",
       "      <td>0.591346</td>\n",
       "      <td>-0.241346</td>\n",
       "    </tr>\n",
       "    <tr>\n",
       "      <th>1</th>\n",
       "      <td>logreg</td>\n",
       "      <td>Misclassification</td>\n",
       "      <td>0.662722</td>\n",
       "      <td>0.648611</td>\n",
       "      <td>0.684665</td>\n",
       "      <td>-0.036054</td>\n",
       "      <td>0.353125</td>\n",
       "      <td>0.109804</td>\n",
       "      <td>0.243321</td>\n",
       "      <td>0.3500</td>\n",
       "      <td>0.567308</td>\n",
       "      <td>-0.217308</td>\n",
       "    </tr>\n",
       "    <tr>\n",
       "      <th>2</th>\n",
       "      <td>logreg</td>\n",
       "      <td>Only FPR</td>\n",
       "      <td>0.665258</td>\n",
       "      <td>0.648611</td>\n",
       "      <td>0.691145</td>\n",
       "      <td>-0.042534</td>\n",
       "      <td>0.262500</td>\n",
       "      <td>0.188235</td>\n",
       "      <td>0.074265</td>\n",
       "      <td>0.4225</td>\n",
       "      <td>0.456731</td>\n",
       "      <td>-0.034231</td>\n",
       "    </tr>\n",
       "    <tr>\n",
       "      <th>3</th>\n",
       "      <td>logreg</td>\n",
       "      <td>Only FNR</td>\n",
       "      <td>0.661877</td>\n",
       "      <td>0.651389</td>\n",
       "      <td>0.678186</td>\n",
       "      <td>-0.026797</td>\n",
       "      <td>0.290625</td>\n",
       "      <td>0.196078</td>\n",
       "      <td>0.094547</td>\n",
       "      <td>0.3950</td>\n",
       "      <td>0.475962</td>\n",
       "      <td>-0.080962</td>\n",
       "    </tr>\n",
       "    <tr>\n",
       "      <th>4</th>\n",
       "      <td>logreg</td>\n",
       "      <td>Both FPR and FNR</td>\n",
       "      <td>0.661877</td>\n",
       "      <td>0.650000</td>\n",
       "      <td>0.680346</td>\n",
       "      <td>-0.030346</td>\n",
       "      <td>0.271875</td>\n",
       "      <td>0.172549</td>\n",
       "      <td>0.099326</td>\n",
       "      <td>0.4125</td>\n",
       "      <td>0.500000</td>\n",
       "      <td>-0.087500</td>\n",
       "    </tr>\n",
       "  </tbody>\n",
       "</table>\n",
       "</div>\n",
       "      <button class=\"colab-df-convert\" onclick=\"convertToInteractive('df-a0ed98fb-dd1e-4fd0-9dc6-f5a82f08fe79')\"\n",
       "              title=\"Convert this dataframe to an interactive table.\"\n",
       "              style=\"display:none;\">\n",
       "        \n",
       "  <svg xmlns=\"http://www.w3.org/2000/svg\" height=\"24px\"viewBox=\"0 0 24 24\"\n",
       "       width=\"24px\">\n",
       "    <path d=\"M0 0h24v24H0V0z\" fill=\"none\"/>\n",
       "    <path d=\"M18.56 5.44l.94 2.06.94-2.06 2.06-.94-2.06-.94-.94-2.06-.94 2.06-2.06.94zm-11 1L8.5 8.5l.94-2.06 2.06-.94-2.06-.94L8.5 2.5l-.94 2.06-2.06.94zm10 10l.94 2.06.94-2.06 2.06-.94-2.06-.94-.94-2.06-.94 2.06-2.06.94z\"/><path d=\"M17.41 7.96l-1.37-1.37c-.4-.4-.92-.59-1.43-.59-.52 0-1.04.2-1.43.59L10.3 9.45l-7.72 7.72c-.78.78-.78 2.05 0 2.83L4 21.41c.39.39.9.59 1.41.59.51 0 1.02-.2 1.41-.59l7.78-7.78 2.81-2.81c.8-.78.8-2.07 0-2.86zM5.41 20L4 18.59l7.72-7.72 1.47 1.35L5.41 20z\"/>\n",
       "  </svg>\n",
       "      </button>\n",
       "      \n",
       "  <style>\n",
       "    .colab-df-container {\n",
       "      display:flex;\n",
       "      flex-wrap:wrap;\n",
       "      gap: 12px;\n",
       "    }\n",
       "\n",
       "    .colab-df-convert {\n",
       "      background-color: #E8F0FE;\n",
       "      border: none;\n",
       "      border-radius: 50%;\n",
       "      cursor: pointer;\n",
       "      display: none;\n",
       "      fill: #1967D2;\n",
       "      height: 32px;\n",
       "      padding: 0 0 0 0;\n",
       "      width: 32px;\n",
       "    }\n",
       "\n",
       "    .colab-df-convert:hover {\n",
       "      background-color: #E2EBFA;\n",
       "      box-shadow: 0px 1px 2px rgba(60, 64, 67, 0.3), 0px 1px 3px 1px rgba(60, 64, 67, 0.15);\n",
       "      fill: #174EA6;\n",
       "    }\n",
       "\n",
       "    [theme=dark] .colab-df-convert {\n",
       "      background-color: #3B4455;\n",
       "      fill: #D2E3FC;\n",
       "    }\n",
       "\n",
       "    [theme=dark] .colab-df-convert:hover {\n",
       "      background-color: #434B5C;\n",
       "      box-shadow: 0px 1px 3px 1px rgba(0, 0, 0, 0.15);\n",
       "      filter: drop-shadow(0px 1px 2px rgba(0, 0, 0, 0.3));\n",
       "      fill: #FFFFFF;\n",
       "    }\n",
       "  </style>\n",
       "\n",
       "      <script>\n",
       "        const buttonEl =\n",
       "          document.querySelector('#df-a0ed98fb-dd1e-4fd0-9dc6-f5a82f08fe79 button.colab-df-convert');\n",
       "        buttonEl.style.display =\n",
       "          google.colab.kernel.accessAllowed ? 'block' : 'none';\n",
       "\n",
       "        async function convertToInteractive(key) {\n",
       "          const element = document.querySelector('#df-a0ed98fb-dd1e-4fd0-9dc6-f5a82f08fe79');\n",
       "          const dataTable =\n",
       "            await google.colab.kernel.invokeFunction('convertToInteractive',\n",
       "                                                     [key], {});\n",
       "          if (!dataTable) return;\n",
       "\n",
       "          const docLinkHtml = 'Like what you see? Visit the ' +\n",
       "            '<a target=\"_blank\" href=https://colab.research.google.com/notebooks/data_table.ipynb>data table notebook</a>'\n",
       "            + ' to learn more about interactive tables.';\n",
       "          element.innerHTML = '';\n",
       "          dataTable['output_type'] = 'display_data';\n",
       "          await google.colab.output.renderOutput(dataTable, element);\n",
       "          const docLink = document.createElement('div');\n",
       "          docLink.innerHTML = docLinkHtml;\n",
       "          element.appendChild(docLink);\n",
       "        }\n",
       "      </script>\n",
       "    </div>\n",
       "  </div>\n",
       "  "
      ],
      "text/plain": [
       "    Model    Constraint_type  Overall Accuracy  Race 0 Accuracy  \\\n",
       "0  logreg      No Constraint          0.661031         0.648611   \n",
       "1  logreg  Misclassification          0.662722         0.648611   \n",
       "2  logreg           Only FPR          0.665258         0.648611   \n",
       "3  logreg           Only FNR          0.661877         0.651389   \n",
       "4  logreg   Both FPR and FNR          0.661877         0.650000   \n",
       "\n",
       "   Race 1 Accuracy  Accuracy Diff  Race 0 FPR  Race 1 FPR  FPR Diff  \\\n",
       "0         0.680346      -0.031734    0.353125    0.098039  0.255086   \n",
       "1         0.684665      -0.036054    0.353125    0.109804  0.243321   \n",
       "2         0.691145      -0.042534    0.262500    0.188235  0.074265   \n",
       "3         0.678186      -0.026797    0.290625    0.196078  0.094547   \n",
       "4         0.680346      -0.030346    0.271875    0.172549  0.099326   \n",
       "\n",
       "   Race 0 FNR  Race 1 FNR  FNR Diff  \n",
       "0      0.3500    0.591346 -0.241346  \n",
       "1      0.3500    0.567308 -0.217308  \n",
       "2      0.4225    0.456731 -0.034231  \n",
       "3      0.3950    0.475962 -0.080962  \n",
       "4      0.4125    0.500000 -0.087500  "
      ]
     },
     "execution_count": 65,
     "metadata": {},
     "output_type": "execute_result"
    }
   ],
   "source": [
    "# Logistic Regression w/sen\n",
    "run_experiments(\"logreg\", X_train, y_train, x_race_train, X_test, y_test, x_race_test, eps, tau, mu, sensitive_attrs_to_cov_thresh)"
   ]
  },
  {
   "cell_type": "code",
   "execution_count": 62,
   "metadata": {
    "executionInfo": {
     "elapsed": 3,
     "status": "ok",
     "timestamp": 1681310800361,
     "user": {
      "displayName": "Liang Hu",
      "userId": "05665141676566184070"
     },
     "user_tz": 240
    },
    "id": "xgXcSrp0629S"
   },
   "outputs": [],
   "source": [
    "FPR = 0.353125\n",
    "FNR = 0.3500\t"
   ]
  },
  {
   "cell_type": "code",
   "execution_count": 66,
   "metadata": {
    "executionInfo": {
     "elapsed": 2,
     "status": "ok",
     "timestamp": 1681310962785,
     "user": {
      "displayName": "Liang Hu",
      "userId": "05665141676566184070"
     },
     "user_tz": 240
    },
    "id": "3aOJMeeY7uTd"
   },
   "outputs": [],
   "source": [
    "def compute_metrics(fpr, fnr):\n",
    "    tn = 1 - fpr\n",
    "    tp = 1 - fnr\n",
    "    recall = tp / (tp + fnr)\n",
    "    precision = tp / (tp + fpr * tn)\n",
    "    f1_score = 2 * precision * recall / (precision + recall)\n",
    "    return recall, f1_score\n"
   ]
  },
  {
   "cell_type": "code",
   "execution_count": 68,
   "metadata": {
    "colab": {
     "base_uri": "https://localhost:8080/",
     "height": 0
    },
    "executionInfo": {
     "elapsed": 164,
     "status": "ok",
     "timestamp": 1681311009625,
     "user": {
      "displayName": "Liang Hu",
      "userId": "05665141676566184070"
     },
     "user_tz": 240
    },
    "id": "_7pPvo7y8bZH",
    "outputId": "30ee9c41-3de9-4fe3-8c30-1f66f6fbfbac"
   },
   "outputs": [
    {
     "data": {
      "text/plain": [
       "(0.65, 0.6920681462534638)"
      ]
     },
     "execution_count": 68,
     "metadata": {},
     "output_type": "execute_result"
    }
   ],
   "source": [
    "compute_metrics(0.353125,0.3500\t )"
   ]
  },
  {
   "cell_type": "markdown",
   "metadata": {
    "id": "TCmtWrCqa_rL"
   },
   "source": [
    "#result"
   ]
  },
  {
   "cell_type": "code",
   "execution_count": 57,
   "metadata": {
    "executionInfo": {
     "elapsed": 228,
     "status": "ok",
     "timestamp": 1681310355684,
     "user": {
      "displayName": "Liang Hu",
      "userId": "05665141676566184070"
     },
     "user_tz": 240
    },
    "id": "6YDB5lrwgeBU"
   },
   "outputs": [],
   "source": [
    "acc_cons_bas = 0.66612\n",
    "acc_cons_lm = 0.96098\n",
    "acc_cons_lps = 0.96531\n",
    "acc_cons_A41 = 0.9040\n",
    "acc_cons_A42 = 0.6627"
   ]
  },
  {
   "cell_type": "code",
   "execution_count": 58,
   "metadata": {
    "colab": {
     "base_uri": "https://localhost:8080/",
     "height": 470
    },
    "executionInfo": {
     "elapsed": 1921,
     "status": "ok",
     "timestamp": 1681310357603,
     "user": {
      "displayName": "Liang Hu",
      "userId": "05665141676566184070"
     },
     "user_tz": 240
    },
    "id": "Pv8nVBxobBmX",
    "outputId": "b771e8c8-ed36-43fc-87eb-e0bcc368d954"
   },
   "outputs": [
    {
     "data": {
      "text/plain": [
       "Text(0.5, 1.0, 'Accuracy')"
      ]
     },
     "execution_count": 58,
     "metadata": {},
     "output_type": "execute_result"
    },
    {
     "data": {
      "image/png": "[encoded data removed]",
      "text/plain": [
       "<Figure size 640x480 with 1 Axes>"
      ]
     },
     "metadata": {},
     "output_type": "display_data"
    }
   ],
   "source": [
    "# Accuracy\n",
    "plt.bar(np.arange(5),[acc_cons_bas,acc_cons_lm,acc_cons_lps,acc_cons_A41, acc_cons_A42])\n",
    "plt.xticks(np.arange(5),['Baseline','A6-LM','A6-LPS','A4-DM','A4-DMSen'])\n",
    "plt.title(\"Accuracy\")"
   ]
  },
  {
   "cell_type": "code",
   "execution_count": 60,
   "metadata": {
    "executionInfo": {
     "elapsed": 1,
     "status": "ok",
     "timestamp": 1681310483408,
     "user": {
      "displayName": "Liang Hu",
      "userId": "05665141676566184070"
     },
     "user_tz": 240
    },
    "id": "1FsTR0T8__98"
   },
   "outputs": [],
   "source": [
    "diff_base = 0.0199\n",
    "diff_lm = 0.01059\n",
    "diff_lps = 0.03958\n",
    "diff_A41 = 0.014240\n",
    "diff_A42 = 0.031734\t"
   ]
  },
  {
   "cell_type": "code",
   "execution_count": 61,
   "metadata": {
    "colab": {
     "base_uri": "https://localhost:8080/",
     "height": 470
    },
    "executionInfo": {
     "elapsed": 623,
     "status": "ok",
     "timestamp": 1681310486021,
     "user": {
      "displayName": "Liang Hu",
      "userId": "05665141676566184070"
     },
     "user_tz": 240
    },
    "id": "7UjWOeRSbCYW",
    "outputId": "9ea13858-bccf-4be4-d22c-e558178b7e20"
   },
   "outputs": [
    {
     "data": {
      "text/plain": [
       "Text(0.5, 1.0, 'Absolute Calibration')"
      ]
     },
     "execution_count": 61,
     "metadata": {},
     "output_type": "execute_result"
    },
    {
     "data": {
      "image/png": "[encoded data removed]",
      "text/plain": [
       "<Figure size 640x480 with 1 Axes>"
      ]
     },
     "metadata": {},
     "output_type": "display_data"
    }
   ],
   "source": [
    "#  Callibration\n",
    "plt.bar(np.arange(5),[diff_base, diff_lm, diff_lps, diff_A41, diff_A42])\n",
    "plt.xticks(np.arange(5),['Baseline','A6-LM','A6-LPS','A4-DM','A4-DMSen'])\n",
    "plt.title(\"Absolute Calibration\")  "
   ]
  },
  {
   "cell_type": "code",
   "execution_count": 69,
   "metadata": {
    "executionInfo": {
     "elapsed": 1567,
     "status": "ok",
     "timestamp": 1681311048530,
     "user": {
      "displayName": "Liang Hu",
      "userId": "05665141676566184070"
     },
     "user_tz": 240
    },
    "id": "fPyALuKPA3V7"
   },
   "outputs": [],
   "source": [
    "f1_base= 0.62446\n",
    "f1_lm = 0.96461\n",
    "f1_lps = 0.96733\n",
    "f1_A41 = 0.88\n",
    "f1_A42 = 0.6920681462534638"
   ]
  },
  {
   "cell_type": "code",
   "execution_count": 70,
   "metadata": {
    "colab": {
     "base_uri": "https://localhost:8080/",
     "height": 470
    },
    "executionInfo": {
     "elapsed": 172,
     "status": "ok",
     "timestamp": 1681311049034,
     "user": {
      "displayName": "Liang Hu",
      "userId": "05665141676566184070"
     },
     "user_tz": 240
    },
    "id": "Wqg64gr1bEbo",
    "outputId": "96c92f8f-993c-4e0e-f7ec-5888a2955aaf"
   },
   "outputs": [
    {
     "data": {
      "text/plain": [
       "Text(0.5, 1.0, 'F1-score')"
      ]
     },
     "execution_count": 70,
     "metadata": {},
     "output_type": "execute_result"
    },
    {
     "data": {
      "image/png": "[encoded data removed]",
      "text/plain": [
       "<Figure size 640x480 with 1 Axes>"
      ]
     },
     "metadata": {},
     "output_type": "display_data"
    }
   ],
   "source": [
    "#  F1\n",
    "plt.bar(np.arange(5),[f1_base, f1_lm, f1_lps, f1_A41,f1_A42 ])\n",
    "plt.xticks(np.arange(5),['Baseline','A6-LM','A6-LPS','A4-DM','A4-DMSen'])\n",
    "plt.title(\"F1-score\")"
   ]
  },
  {
   "cell_type": "code",
   "execution_count": 71,
   "metadata": {
    "executionInfo": {
     "elapsed": 144,
     "status": "ok",
     "timestamp": 1681311058598,
     "user": {
      "displayName": "Liang Hu",
      "userId": "05665141676566184070"
     },
     "user_tz": 240
    },
    "id": "ChSLA7s5A41M"
   },
   "outputs": [],
   "source": [
    "recall_base= 0.57816\n",
    "recall_lm = 0.97363\n",
    "recall_lps = 0.95658\n",
    "recall_A41 = 0.84\n",
    "recall_A42 = 0.65"
   ]
  },
  {
   "cell_type": "code",
   "execution_count": 72,
   "metadata": {
    "colab": {
     "base_uri": "https://localhost:8080/",
     "height": 470
    },
    "executionInfo": {
     "elapsed": 480,
     "status": "ok",
     "timestamp": 1681311063066,
     "user": {
      "displayName": "Liang Hu",
      "userId": "05665141676566184070"
     },
     "user_tz": 240
    },
    "id": "5k7NcXVN9w3k",
    "outputId": "4ab447da-b965-430e-c097-6905efe6200d"
   },
   "outputs": [
    {
     "data": {
      "text/plain": [
       "Text(0.5, 1.0, 'Recall-score')"
      ]
     },
     "execution_count": 72,
     "metadata": {},
     "output_type": "execute_result"
    },
    {
     "data": {
      "image/png": "[encoded data removed]",
      "text/plain": [
       "<Figure size 640x480 with 1 Axes>"
      ]
     },
     "metadata": {},
     "output_type": "display_data"
    }
   ],
   "source": [
    "# Recall \n",
    "plt.bar(np.arange(5),[recall_base,recall_lm,recall_lps,recall_A41,recall_A42])\n",
    "plt.xticks(np.arange(5),['Baseline','A6-LM','A6-LPS','A4-DM','A4-DMSen'])\n",
    "plt.title(\"Recall-score\")"
   ]
  },
  {
   "cell_type": "markdown",
   "metadata": {
    "id": "9qxpWHgY8u0Q"
   },
   "source": [
    "###Conclusion"
   ]
  },
  {
   "cell_type": "markdown",
   "metadata": {
    "id": "vQlAo2nLcjUT"
   },
   "source": [
    "Recall measures the ability of the model to correctly identify positive instances, while F1 score is a summary metric that takes into account both precision and recall to provide an overall measure of the model's performance.\n",
    "\n",
    "We plotted accuracy, absolute calibration, F1, and recall for all five models as above.\n",
    "\n",
    "- 1) LM and LPS have the similar highest accuracy while baseline and DM-sen have the similar lowest accuracy;\n",
    "- 2) LM has the lowest caliberation while LPS has the highest caliberation;\n",
    "- 3) LM and LPS have the similar highest F1-score;\n",
    "- 4) LM has the highest recall-score.\n",
    "\n",
    "In summary, the overall performance of A6 is better than A4. For accuracy, F1, and recall, A6-LM and A6-LPS are almost equally competitive in removing bias of sensitive attribute like race. According to calibration, A6-LM performs better than A6-LPS because of relabel algorithm."
   ]
  }
 ],
 "metadata": {
  "colab": {
   "provenance": [
    {
     "file_id": "1v6FefrXLZpOdx-5Go1ETGuUcTRi4Stks",
     "timestamp": 1680741120142
    },
    {
     "file_id": "1f8qC4iepRCVOyQ_2RJNJWAPi75Cc4khk",
     "timestamp": 1680206533863
    }
   ]
  },
  "kernelspec": {
   "display_name": "Python 3",
   "language": "python",
   "name": "python3"
  },
  "language_info": {
   "codemirror_mode": {
    "name": "ipython",
    "version": 3
   },
   "file_extension": ".py",
   "mimetype": "text/x-python",
   "name": "python",
   "nbconvert_exporter": "python",
   "pygments_lexer": "ipython3",
   "version": "3.6.13"
  }
 },
 "nbformat": 4,
 "nbformat_minor": 1
}
